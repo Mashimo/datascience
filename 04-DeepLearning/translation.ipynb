{
 "cells": [
  {
   "cell_type": "markdown",
   "id": "5c691dcc",
   "metadata": {},
   "source": [
    "# Translation\n",
    "\n",
    "In this project we will be teaching a neural network to translate from a language to English or viceversa.  \n",
    "  \n",
    "This is made possible by the simple but powerful idea of the **sequence to sequence network**, in which two recurrent neural networks work together to transform one sequence to another. An **encoder network** condenses an input sequence into a vector and a **decoder network** unfolds that vector into a new sequence.  \n",
    "  \n",
    "A good probabilistic translation model requires a large dataset (to cover as many cases as possible) and extensive training, so I will just show how it works with limited examples and the translation accuracy is not in focus (no real validation / test).  \n",
    "  \n",
    "## The dataset\n",
    "\n",
    "The dataset used in the example involves short sentence pairs used in the flash card software Anki.  \n",
    "  \n",
    "The dataset is called “Tab-delimited Bilingual Sentence Pairs” and is part of the [Tatoeba Project](https://tatoeba.org/) and listed on the [ManyThings.org site](https://www.manythings.org/anki/) for helping English as a Second Language students.\n",
    "\n",
    "\n",
    "The files have an attribution column so we need to strip it away before reading the input files.  \n",
    "This has to be done only once.  \n",
    "  \n",
    "### Prepare input files (one-off)"
   ]
  },
  {
   "cell_type": "code",
   "execution_count": 6,
   "id": "7b3fb7b2",
   "metadata": {},
   "outputs": [],
   "source": [
    "\"\"\"\n",
    "Script to strip attribution information from tab-separated translation files.\n",
    "\n",
    "Input format: English_text \\t Other_language_text \\t CC-BY_attribution\n",
    "Output format: English_text \\t Other_language_text\n",
    "\"\"\"\n",
    "\n",
    "import sys\n",
    "import os\n",
    "\n",
    "def strip_attribution(input_file, output_file=None):\n",
    "    \"\"\"\n",
    "    Strip attribution column from tab-separated translation file.\n",
    "    \n",
    "    Args:\n",
    "        input_file (str): Path to input file\n",
    "        output_file (str): Path to output file (optional, defaults to input_clean.txt)\n",
    "    \"\"\"\n",
    "    \n",
    "    # Set default output filename if not provided\n",
    "    if output_file is None:\n",
    "        base_name = os.path.splitext(input_file)[0]\n",
    "        output_file = f\"{base_name}_clean.txt\"  # create a file with suffix clean\n",
    "    \n",
    "    try:\n",
    "        with open(input_file, 'r', encoding='utf-8') as infile:\n",
    "            with open(output_file, 'w', encoding='utf-8') as outfile:\n",
    "                line_count = 0\n",
    "                processed_count = 0\n",
    "                \n",
    "                for line in infile:\n",
    "                    line_count += 1\n",
    "                    line = line.rstrip('\\n\\r')\n",
    "                    \n",
    "                    # Skip empty lines\n",
    "                    if not line.strip():\n",
    "                        continue\n",
    "                    \n",
    "                    # Split by tab\n",
    "                    parts = line.split('\\t')\n",
    "                    \n",
    "                    # Check if we have at least 3 parts (English, Other, Attribution)\n",
    "                    if len(parts) >= 3:\n",
    "                        english_text = parts[0]\n",
    "                        other_text = parts[1]\n",
    "                        \n",
    "                        # Write only the first two columns\n",
    "                        outfile.write(f\"{english_text}\\t{other_text}\\n\")\n",
    "                        processed_count += 1\n",
    "                    else:\n",
    "                        print(f\"Warning: Line {line_count} doesn't have expected format: {line}\")\n",
    "                \n",
    "                print(f\"Processing complete!\")\n",
    "                print(f\"Total lines read: {line_count}\")\n",
    "                print(f\"Lines processed: {processed_count}\")\n",
    "                print(f\"Output written to: {output_file}\")\n",
    "                \n",
    "    except FileNotFoundError:\n",
    "        print(f\"Error: Input file '{input_file}' not found.\")\n",
    "        return False\n",
    "    except Exception as e:\n",
    "        print(f\"Error processing file: {e}\")\n",
    "        return False\n",
    "    \n",
    "    return True\n",
    "\n"
   ]
  },
  {
   "cell_type": "markdown",
   "id": "5a44d8e3",
   "metadata": {},
   "source": [
    "I did it for a couple of languages:"
   ]
  },
  {
   "cell_type": "code",
   "execution_count": null,
   "id": "57f5a1ca",
   "metadata": {},
   "outputs": [],
   "source": [
    "strip_attribution(\"../datasets/translations/ita.txt\")\n"
   ]
  },
  {
   "cell_type": "code",
   "execution_count": null,
   "id": "a03624c1",
   "metadata": {},
   "outputs": [],
   "source": [
    "strip_attribution(\"../datasets/translations/jpn.txt\")\n"
   ]
  },
  {
   "cell_type": "code",
   "execution_count": null,
   "id": "3c2ee7b0",
   "metadata": {},
   "outputs": [],
   "source": [
    "strip_attribution(\"../datasets/translations/cmn.txt\")\n"
   ]
  },
  {
   "cell_type": "code",
   "execution_count": 7,
   "id": "32a6d209",
   "metadata": {},
   "outputs": [
    {
     "name": "stdout",
     "output_type": "stream",
     "text": [
      "total 381352\r\n",
      "-rw-r--r--@ 1 Massimo  staff   4.2M Jun  4 01:29 cmn.txt\r\n",
      "-rw-r--r--  1 Massimo  staff   1.8M Jun  7 17:16 cmn_clean.txt\r\n",
      "-rw-r--r--@ 1 Massimo  staff    48M Jun  4 01:29 deu.txt\r\n",
      "-rw-r--r--  1 Massimo  staff    22M Jun  6 16:31 deu_clean.txt\r\n",
      "-rw-r--r--@ 1 Massimo  staff   9.1M Mar 12  2017 fra_clean.txt\r\n",
      "-rw-r--r--@ 1 Massimo  staff    53M Jun  4 01:29 ita.txt\r\n",
      "-rw-r--r--  1 Massimo  staff    22M Jun  7 17:15 ita_clean.txt\r\n",
      "-rw-r--r--@ 1 Massimo  staff    18M Jun  4 01:29 jpn.txt\r\n",
      "-rw-r--r--@ 1 Massimo  staff   8.7M Jun  7 17:15 jpn_clean.txt\r\n"
     ]
    }
   ],
   "source": [
    "# Have a look at the available datasets\n",
    "\n",
    "! ls -lh \"../datasets/translations/\""
   ]
  },
  {
   "cell_type": "markdown",
   "id": "c3efffc3",
   "metadata": {},
   "source": [
    "## Prepare data structures\n",
    "\n",
    "We will now prepare the data structures to store the input data and a couple of helper functions.\n",
    "### Unicode to ASCII\n",
    "The files are all in Unicode, to simplify we will turn Unicode characters to ASCII, make everything lowercase, and trim most punctuation.\n"
   ]
  },
  {
   "cell_type": "code",
   "execution_count": 3,
   "id": "7b9c8404",
   "metadata": {},
   "outputs": [],
   "source": [
    "import unicodedata\n",
    "import re"
   ]
  },
  {
   "cell_type": "code",
   "execution_count": 4,
   "id": "cf078988",
   "metadata": {},
   "outputs": [],
   "source": [
    "# Turn a Unicode string to plain ASCII, thanks to\n",
    "# https://stackoverflow.com/a/518232/2809427\n",
    "def _unicodeToAscii(s):\n",
    "    return ''.join(\n",
    "        c for c in unicodedata.normalize('NFD', s)\n",
    "        if unicodedata.category(c) != 'Mn'\n",
    "    )\n"
   ]
  },
  {
   "cell_type": "markdown",
   "id": "428c6459",
   "metadata": {},
   "source": [
    "We can see how this works for a japanese sentence:"
   ]
  },
  {
   "cell_type": "code",
   "execution_count": 8,
   "id": "3fa1e37e",
   "metadata": {},
   "outputs": [
    {
     "name": "stdout",
     "output_type": "stream",
     "text": [
      "なさい。\n"
     ]
    }
   ],
   "source": [
    "japString = \"なさい。\"\n",
    "print(japString)"
   ]
  },
  {
   "cell_type": "code",
   "execution_count": 10,
   "id": "600c62c6",
   "metadata": {},
   "outputs": [
    {
     "name": "stdout",
     "output_type": "stream",
     "text": [
      "なさい。\n"
     ]
    }
   ],
   "source": [
    "print(_unicodeToAscii(japString))"
   ]
  },
  {
   "cell_type": "markdown",
   "id": "53078955",
   "metadata": {},
   "source": [
    "### Normalise strings\n",
    "Lowercase, trim and remove non-letter characters helper.\n"
   ]
  },
  {
   "cell_type": "code",
   "execution_count": 13,
   "id": "b82b66e2",
   "metadata": {},
   "outputs": [],
   "source": [
    "def _normaliseString(s):\n",
    "    s = _unicodeToAscii(s.lower().strip())\n",
    "    s = re.sub(r\"([.!?])\", r\" \\1\", s)\n",
    "    return s.strip()"
   ]
  },
  {
   "cell_type": "code",
   "execution_count": 14,
   "id": "10bba4bd",
   "metadata": {},
   "outputs": [
    {
     "name": "stdout",
     "output_type": "stream",
     "text": [
      "なさい。\n"
     ]
    }
   ],
   "source": [
    "print(_normaliseString(japString))"
   ]
  },
  {
   "cell_type": "code",
   "execution_count": 300,
   "id": "ba865e78",
   "metadata": {},
   "outputs": [
    {
     "name": "stdout",
     "output_type": "stream",
     "text": [
      "this is a strange sentence\n"
     ]
    }
   ],
   "source": [
    "print(_normaliseString(\" this is a STRANGE sentence \"))"
   ]
  },
  {
   "cell_type": "markdown",
   "id": "3c7dd169",
   "metadata": {},
   "source": [
    "### Filter only short sentences\n",
    "Since there are a lot of example sentences and we want to train something quickly, we’ll trim the data set to only relatively short and simple sentences. Here the maximum length is used as threshold.\n"
   ]
  },
  {
   "cell_type": "code",
   "execution_count": 22,
   "id": "658a7cf1",
   "metadata": {},
   "outputs": [],
   "source": [
    "MAX_LENGTH = 10  # keep only sentences up to 10 words\n",
    "\n",
    "def _filterSentence(s):\n",
    "    # s: input string\n",
    "    # returns True if s is shorter than threshold MAX_LENGTH\n",
    "    \n",
    "    return len(s.split(' ')) < MAX_LENGTH\n",
    "\n",
    "def _filterPair(p):\n",
    "    # p: input pair of strings\n",
    "    # returns True if s is shorter than threshold MAX_LENGTH\n",
    "    return _filterSentence(p[0]) and _filterSentence(p[1])\n",
    " \n",
    "\n",
    "\n",
    "def _filterPairs(pairs):\n",
    "    return [pair for pair in pairs if _filterPair(pair)]"
   ]
  },
  {
   "cell_type": "code",
   "execution_count": 20,
   "id": "8d4f63aa",
   "metadata": {},
   "outputs": [
    {
     "data": {
      "text/plain": [
       "True"
      ]
     },
     "execution_count": 20,
     "metadata": {},
     "output_type": "execute_result"
    }
   ],
   "source": [
    "_filterSentence(japString)"
   ]
  },
  {
   "cell_type": "code",
   "execution_count": 21,
   "id": "9a5de4eb",
   "metadata": {},
   "outputs": [
    {
     "data": {
      "text/plain": [
       "False"
      ]
     },
     "execution_count": 21,
     "metadata": {},
     "output_type": "execute_result"
    }
   ],
   "source": [
    "_filterSentence(\"this is a sentence too long, note that punctuation is included in the count!\")"
   ]
  },
  {
   "cell_type": "code",
   "execution_count": 24,
   "id": "307f6eca",
   "metadata": {},
   "outputs": [
    {
     "data": {
      "text/plain": [
       "True"
      ]
     },
     "execution_count": 24,
     "metadata": {},
     "output_type": "execute_result"
    }
   ],
   "source": [
    "japPair = ['please.', japString]\n",
    "_filterPair(japPair)"
   ]
  },
  {
   "cell_type": "markdown",
   "id": "d1b45878",
   "metadata": {},
   "source": [
    "## Read the files and prepare the data\n",
    "\n",
    "To read the data file we will split the file into lines and then split lines into pairs. The files are all English → Other Language, so if we want to translate from Other Language → English we can use the reverse flag to reverse the pairs.  \n",
    "Read lines and words are stored in two variables of **class Lang**: one for English and one for input language. \n",
    "The class Lang (language) contains the language name (a string), the found list of words and methods to index a word into a number and viceversa (used for training the network).  \n",
    "  \n",
    "  The full process for preparing the data is:\n",
    "\n",
    "- Read text file and split into lines, split lines into pairs\n",
    "\n",
    "- Normalize text, filter by length and content\n",
    "\n",
    "- Make word lists from sentences in pairs"
   ]
  },
  {
   "cell_type": "code",
   "execution_count": 27,
   "id": "88ea9791",
   "metadata": {},
   "outputs": [],
   "source": [
    "SOS_token = 0  # Note the use of start and end sentence marks.  \n",
    "EOS_token = 1\n",
    "\n",
    "# The Language class, contains the words\n",
    "\n",
    "class Lang:\n",
    "    def __init__(self, name):\n",
    "        self.name = name\n",
    "        self.word2index = {}\n",
    "        self.word2count = {}\n",
    "        self.index2word = {SOS_token: \"SOS\", EOS_token: \"EOS\"}\n",
    "        self.n_words = 2  # Count SOS and EOS\n",
    "\n",
    "    def addSentence(self, sentence):\n",
    "        for word in sentence.split(' '):\n",
    "            self.addWord(word)\n",
    "\n",
    "    def addWord(self, word):\n",
    "        if word not in self.word2index:\n",
    "            self.word2index[word] = self.n_words\n",
    "            self.word2count[word] = 1\n",
    "            self.index2word[self.n_words] = word\n",
    "            self.n_words += 1\n",
    "        else:\n",
    "            self.word2count[word] += 1\n"
   ]
  },
  {
   "cell_type": "code",
   "execution_count": 28,
   "id": "b77b28be",
   "metadata": {},
   "outputs": [],
   "source": [
    "def prepareData(lang, reverse=False):\n",
    "\n",
    "    # read the data from the given file and instantiate the proper Language class\n",
    "    # lang: string representing the language; used to access the file\n",
    "    # reverse: boolean; true if translation is from language to English; false if viceversa\n",
    "    # return: \n",
    "    # - Input Lang class\n",
    "    # - Output Lang class\n",
    "    # - Pairs of sentences\n",
    "    \n",
    "    print(\"Reading lines...\")\n",
    "\n",
    "        # Read the file and split into lines\n",
    "    lines = open('../datasets/translations/%s_clean.txt' % (lang), encoding='utf-8').\\\n",
    "        read().strip().split('\\n')\n",
    "\n",
    "        # Split every line into pairs and normalize\n",
    "    pairs = [[_normalizeString(s) for s in l.split('\\t')] for l in lines]\n",
    "    print(\"Read %s sentence pairs\" % len(pairs))\n",
    "\n",
    "        # Reverse pairs, make Lang instances\n",
    "    if reverse:\n",
    "        pairs = [list(reversed(p)) for p in pairs]\n",
    "        input_lang = Lang(lang)\n",
    "        output_lang = Lang(\"eng\")\n",
    "    else:\n",
    "        input_lang = Lang(\"eng\")\n",
    "        output_lang = Lang(lang)\n",
    "\n",
    "        \n",
    "    #input_lang, output_lang, pairs = readLangs(lang, reverse)\n",
    "    pairs = _filterPairs(pairs)\n",
    "    print(\"Trimmed to %s sentence pairs\" % len(pairs))\n",
    "    \n",
    "    print(\"Counting words...\")\n",
    "    for pair in pairs:\n",
    "        input_lang.addSentence(pair[0])\n",
    "        output_lang.addSentence(pair[1])\n",
    "    print(\"Counted words:\")\n",
    "    print(input_lang.name, input_lang.n_words)\n",
    "    print(output_lang.name, output_lang.n_words)\n",
    "    \n",
    "    return input_lang, output_lang, pairs"
   ]
  },
  {
   "cell_type": "markdown",
   "id": "dce05356",
   "metadata": {},
   "source": [
    "# First example: English -> Italian"
   ]
  },
  {
   "cell_type": "code",
   "execution_count": 80,
   "id": "938a6d6b",
   "metadata": {},
   "outputs": [
    {
     "name": "stdout",
     "output_type": "stream",
     "text": [
      "Reading lines...\n",
      "Read 390190 sentence pairs\n",
      "Trimmed to 351325 sentence pairs\n",
      "Counting words...\n",
      "Counted words:\n",
      "eng 15028\n",
      "ita 29382\n"
     ]
    }
   ],
   "source": [
    "input_lang, output_lang, pairs = prepareData('ita', False)   # eng -> Italian\n"
   ]
  },
  {
   "cell_type": "markdown",
   "id": "f9583145",
   "metadata": {},
   "source": [
    "The input and output languages contain several attributes (name, number of words, ...) and methods (convert a word into its index and viceversa):"
   ]
  },
  {
   "cell_type": "code",
   "execution_count": 81,
   "id": "94bf2f53",
   "metadata": {},
   "outputs": [
    {
     "data": {
      "text/plain": [
       "'eng'"
      ]
     },
     "execution_count": 81,
     "metadata": {},
     "output_type": "execute_result"
    }
   ],
   "source": [
    "input_lang.name"
   ]
  },
  {
   "cell_type": "code",
   "execution_count": 82,
   "id": "f2d561c8",
   "metadata": {},
   "outputs": [
    {
     "data": {
      "text/plain": [
       "'ita'"
      ]
     },
     "execution_count": 82,
     "metadata": {},
     "output_type": "execute_result"
    }
   ],
   "source": [
    "output_lang.name"
   ]
  },
  {
   "cell_type": "code",
   "execution_count": 83,
   "id": "c3306e35",
   "metadata": {
    "scrolled": true
   },
   "outputs": [
    {
     "data": {
      "text/plain": [
       "29382"
      ]
     },
     "execution_count": 83,
     "metadata": {},
     "output_type": "execute_result"
    }
   ],
   "source": [
    "output_lang.n_words"
   ]
  },
  {
   "cell_type": "markdown",
   "id": "4645d73e",
   "metadata": {},
   "source": [
    "A total of 23K words are stored for Italian. This number will be used to size the neural network."
   ]
  },
  {
   "cell_type": "code",
   "execution_count": 86,
   "id": "de2244bf",
   "metadata": {},
   "outputs": [
    {
     "data": {
      "text/plain": [
       "2"
      ]
     },
     "execution_count": 86,
     "metadata": {},
     "output_type": "execute_result"
    }
   ],
   "source": [
    "output_lang.word2index[\"ciao\"]  # get the index of italian word \"ciao\""
   ]
  },
  {
   "cell_type": "code",
   "execution_count": 88,
   "id": "52d6b700",
   "metadata": {},
   "outputs": [
    {
     "data": {
      "text/plain": [
       "'ciao'"
      ]
     },
     "execution_count": 88,
     "metadata": {},
     "output_type": "execute_result"
    }
   ],
   "source": [
    "output_lang.index2word[2]  #  get the word associated to index 2"
   ]
  },
  {
   "cell_type": "code",
   "execution_count": 89,
   "id": "3b90344c",
   "metadata": {},
   "outputs": [
    {
     "data": {
      "text/plain": [
       "622"
      ]
     },
     "execution_count": 89,
     "metadata": {},
     "output_type": "execute_result"
    }
   ],
   "source": [
    "input_lang.word2index[\"love\"] # works also for english "
   ]
  },
  {
   "cell_type": "code",
   "execution_count": 91,
   "id": "ac387c2a",
   "metadata": {
    "scrolled": true
   },
   "outputs": [
    {
     "data": {
      "text/plain": [
       "16"
      ]
     },
     "execution_count": 91,
     "metadata": {},
     "output_type": "execute_result"
    }
   ],
   "source": [
    "output_lang.word2count['ciao'] # number of occurences of word 'ciao'"
   ]
  },
  {
   "cell_type": "markdown",
   "id": "c6c3cb93",
   "metadata": {},
   "source": [
    "Pairs are the data, basically a list with sentences in pairs: english and foreign language, in this case Italian:"
   ]
  },
  {
   "cell_type": "code",
   "execution_count": 92,
   "id": "7f189c8a",
   "metadata": {},
   "outputs": [
    {
     "data": {
      "text/plain": [
       "['do it .', 'lo faccia .']"
      ]
     },
     "execution_count": 92,
     "metadata": {},
     "output_type": "execute_result"
    }
   ],
   "source": [
    "pairs[42]"
   ]
  },
  {
   "cell_type": "markdown",
   "id": "9c61cd4c",
   "metadata": {},
   "source": [
    "## Preparing Training Data\n",
    "To train, for each pair we will need an input tensor (indexes of the words in the input sentence) and target tensor (indexes of the words in the target sentence). While creating these vectors we will append the EOS token to both sequences.\n"
   ]
  },
  {
   "cell_type": "code",
   "execution_count": 93,
   "id": "b010bd0f",
   "metadata": {},
   "outputs": [],
   "source": [
    "import torch\n",
    "import torch.nn as nn\n",
    "import torch.nn.functional as F\n",
    "from torch.utils.data import TensorDataset, DataLoader, RandomSampler\n",
    "from torch import optim\n",
    "\n",
    "import numpy as np\n"
   ]
  },
  {
   "cell_type": "code",
   "execution_count": 94,
   "id": "4f9a3b03",
   "metadata": {},
   "outputs": [],
   "source": [
    "import random\n"
   ]
  },
  {
   "cell_type": "code",
   "execution_count": 95,
   "id": "4ba19fc5",
   "metadata": {},
   "outputs": [],
   "source": [
    "# For determinism\n",
    "\n",
    "SEED = 42\n",
    "\n",
    "random.seed(SEED)\n",
    "#np.random.seed(SEED)\n",
    "torch.manual_seed(SEED)\n",
    "torch.cuda.manual_seed(SEED)\n",
    "torch.backends.cudnn.deterministic = True"
   ]
  },
  {
   "cell_type": "code",
   "execution_count": 96,
   "id": "bfcd10d7",
   "metadata": {},
   "outputs": [],
   "source": [
    "def get_device():\n",
    "    \"\"\"\n",
    "    Get the best available device (CPU/GPU/MPS) with proper MPS handling.\n",
    "    \"\"\"\n",
    "    if torch.cuda.is_available():\n",
    "        return torch.device(\"cuda\")\n",
    "    elif torch.backends.mps.is_available():\n",
    "        # Check if Apple MPS is properly supported\n",
    "        try:\n",
    "            # Test MPS with a simple operation\n",
    "            test_tensor = torch.randn(2, 2, device=\"mps\")\n",
    "            _ = test_tensor + test_tensor\n",
    "            return torch.device(\"mps\")\n",
    "        except Exception as e:\n",
    "            print(f\"MPS available but not working properly: {e}\")\n",
    "            print(\"Falling back to CPU\")\n",
    "            return torch.device(\"cpu\")\n",
    "    else:\n",
    "        return torch.device(\"cpu\")\n"
   ]
  },
  {
   "cell_type": "code",
   "execution_count": 97,
   "id": "c692de9e",
   "metadata": {},
   "outputs": [
    {
     "name": "stdout",
     "output_type": "stream",
     "text": [
      "Using device: mps\n"
     ]
    }
   ],
   "source": [
    "# Set device\n",
    "myDevice = get_device()\n",
    "print(f\"Using device: {myDevice}\")"
   ]
  },
  {
   "cell_type": "markdown",
   "id": "067e97c4",
   "metadata": {},
   "source": [
    "### Embed data into tensors \n",
    "\n",
    "To embed text into tokens (using tokenise) and finally to indexes and tensors we need a couple of helper functions.  "
   ]
  },
  {
   "cell_type": "code",
   "execution_count": 99,
   "id": "b8f0db16",
   "metadata": {},
   "outputs": [],
   "source": [
    "def indexesFromSentence(lang, sentence):\n",
    "    return [lang.word2index[word] for word in sentence.split(' ')]\n",
    "\n",
    "def tensorFromSentence(lang, sentence):\n",
    "    indexes = indexesFromSentence(lang, sentence)\n",
    "    indexes.append(EOS_token)\n",
    "    \n",
    "    try:\n",
    "        \n",
    "        # Create tensor on CPU first, then move to device\n",
    "        tensor = torch.tensor(indexes, dtype=torch.long)\n",
    "        tensor = tensor.to(myDevice, non_blocking=True)\n",
    "        \n",
    "        return tensor.view(1, -1)\n",
    "        \n",
    "    except Exception as e:\n",
    "        print(f\"Error creating tensor on {myDevice}: {e}\")\n",
    "        print(\"Creating tensor on CPU instead...\")\n",
    "        \n",
    "        # Fallback to CPU\n",
    "        tensor = torch.tensor(indexes, dtype=torch.long, device='cpu')\n",
    "        return tensor.view(1, -1)\n",
    "    \n",
    "\n",
    "def tensorsFromPair(pair):\n",
    "    input_tensor = tensorFromSentence(input_lang, pair[0])\n",
    "    target_tensor = tensorFromSentence(output_lang, pair[1])\n",
    "    return (input_tensor, target_tensor)\n",
    "\n"
   ]
  },
  {
   "cell_type": "markdown",
   "id": "83ecaac8",
   "metadata": {},
   "source": [
    "The first helper, *indexesFromSentence* gets a sentence, tokenise it and maps each token into its index, based on the language:"
   ]
  },
  {
   "cell_type": "code",
   "execution_count": 100,
   "id": "3cfad6b4",
   "metadata": {},
   "outputs": [
    {
     "data": {
      "text/plain": [
       "[19, 622, 8722, 2454, 1210, 3212, 11051]"
      ]
     },
     "execution_count": 100,
     "metadata": {},
     "output_type": "execute_result"
    }
   ],
   "source": [
    "testSentenceEN = \"i love machine learning and artificial intelligence\"\n",
    "\n",
    "indexesFromSentence(input_lang, testSentenceEN)  # input language is English"
   ]
  },
  {
   "cell_type": "markdown",
   "id": "e07a7898",
   "metadata": {},
   "source": [
    "Similarly, the helpr *tensorFromSentence* gets a sentence, tokenise it and maps each token into its tensor:"
   ]
  },
  {
   "cell_type": "code",
   "execution_count": 101,
   "id": "649b17c4",
   "metadata": {},
   "outputs": [
    {
     "data": {
      "text/plain": [
       "tensor([[   19,   622,  8722,  2454,  1210,  3212, 11051,     1]])"
      ]
     },
     "execution_count": 101,
     "metadata": {},
     "output_type": "execute_result"
    }
   ],
   "source": [
    "tensorFromSentence(input_lang, testSentenceEN)"
   ]
  },
  {
   "cell_type": "markdown",
   "id": "21c0ac8d",
   "metadata": {},
   "source": [
    "## Load the data\n",
    "Now we are ready to load the data for the model training.  \n",
    "After setting the language pre-processing criteria, the next step is to create batches of training data using iterators.    \n",
    "We use a batch of 32, can be customised below.  \n",
    "As the sentences are many and the training will be too long (depending on GPU/CPU), I take a small percentage of the entire set:"
   ]
  },
  {
   "cell_type": "code",
   "execution_count": 147,
   "id": "e0f5cf40",
   "metadata": {},
   "outputs": [],
   "source": [
    "BATCH_SIZE = 32  # use this to set the training batch size\n",
    "TRAIN_PERCENT = 0.1  # use this to set the training size\n",
    "\n",
    "def get_trainDataloader(input_lang, output_lang, pairs, device):\n",
    "\n",
    "        # get the training split\n",
    "    n = len(pairs)\n",
    "    trainSplit = int(n * TRAIN_PERCENT)\n",
    "    print(f\"train sentences: {trainSplit}\")\n",
    "    \n",
    "        # Pre-allocate arrays on CPU \n",
    "    input_ids = np.zeros((trainSplit, MAX_LENGTH), dtype=np.int64)  \n",
    "    target_ids = np.zeros((trainSplit, MAX_LENGTH), dtype=np.int64) \n",
    "\n",
    "        # tokenise and get indexes\n",
    "    for idx, (inp, tgt) in enumerate(pairs[:trainSplit]):\n",
    "        inp_ids = indexesFromSentence(input_lang, inp)\n",
    "        tgt_ids = indexesFromSentence(output_lang, tgt)\n",
    "        inp_ids.append(EOS_token)\n",
    "        tgt_ids.append(EOS_token)\n",
    "        input_ids[idx, :len(inp_ids)] = inp_ids\n",
    "        target_ids[idx, :len(tgt_ids)] = tgt_ids\n",
    "\n",
    "        # Create tensors on CPU first, then move to device\n",
    "    try:\n",
    "            # Create tensors with proper dtype (int64/long is more compatible with MPS)\n",
    "        input_tensor = torch.from_numpy(input_ids).long()\n",
    "        target_tensor = torch.from_numpy(target_ids).long()\n",
    "    \n",
    "            # Move to device safely\n",
    "        input_tensor = input_tensor.to(device, non_blocking=True)\n",
    "        target_tensor = target_tensor.to(device, non_blocking=True)\n",
    "    \n",
    "        train_data = TensorDataset(input_tensor, target_tensor)\n",
    "    \n",
    "    except Exception as e:\n",
    "        print(f\"Error moving tensors to {device}: {e}\")\n",
    "        print(\"Falling back to CPU...\")\n",
    "        device = torch.device(\"cpu\")\n",
    "        input_tensor = torch.from_numpy(input_ids).long()\n",
    "        target_tensor = torch.from_numpy(target_ids).long()\n",
    "        \n",
    "        train_data = TensorDataset(input_tensor, target_tensor)\n",
    "\n",
    "\n",
    "\n",
    "    train_sampler = RandomSampler(train_data)\n",
    "    train_dataloader = DataLoader(train_data, sampler=train_sampler, batch_size=BATCH_SIZE)\n",
    "    \n",
    "    return train_dataloader"
   ]
  },
  {
   "cell_type": "markdown",
   "id": "bbfae1e7",
   "metadata": {},
   "source": [
    "Get the train dataset for Italian language:"
   ]
  },
  {
   "cell_type": "code",
   "execution_count": 103,
   "id": "66cc187b",
   "metadata": {},
   "outputs": [
    {
     "name": "stdout",
     "output_type": "stream",
     "text": [
      "train sentences: 35132\n"
     ]
    }
   ],
   "source": [
    "trainData = get_trainDataloader(input_lang, output_lang, pairs, myDevice)\n"
   ]
  },
  {
   "cell_type": "code",
   "execution_count": 104,
   "id": "59386ce9",
   "metadata": {},
   "outputs": [
    {
     "data": {
      "text/plain": [
       "torch.utils.data.dataloader.DataLoader"
      ]
     },
     "execution_count": 104,
     "metadata": {},
     "output_type": "execute_result"
    }
   ],
   "source": [
    "type(trainData)"
   ]
  },
  {
   "cell_type": "code",
   "execution_count": 105,
   "id": "349e2402",
   "metadata": {},
   "outputs": [
    {
     "name": "stdout",
     "output_type": "stream",
     "text": [
      "Source: torch.Size([32, 10])\n",
      "Target: torch.Size([32, 10])\n"
     ]
    }
   ],
   "source": [
    "# Check a batch\n",
    "for src_batch, tgt_batch in trainData:\n",
    "    print(\"Source:\", src_batch.shape)\n",
    "    print(\"Target:\", tgt_batch.shape)\n",
    "    break"
   ]
  },
  {
   "cell_type": "code",
   "execution_count": 106,
   "id": "e8e57e3c",
   "metadata": {},
   "outputs": [
    {
     "data": {
      "text/plain": [
       "7"
      ]
     },
     "execution_count": 106,
     "metadata": {},
     "output_type": "execute_result"
    }
   ],
   "source": [
    "# pick a random index less than the batch size\n",
    "index = random.randrange(len(src_batch))\n",
    "index"
   ]
  },
  {
   "cell_type": "code",
   "execution_count": 107,
   "id": "56993a5f",
   "metadata": {
    "scrolled": true
   },
   "outputs": [
    {
     "name": "stdout",
     "output_type": "stream",
     "text": [
      "tensor([  64,   60, 1098, 1739, 3201, 4967,    4,    1,    0,    0])\n"
     ]
    }
   ],
   "source": [
    "print(tgt_batch[index])"
   ]
  },
  {
   "cell_type": "code",
   "execution_count": 108,
   "id": "e4d0a779",
   "metadata": {},
   "outputs": [
    {
     "name": "stdout",
     "output_type": "stream",
     "text": [
      "io\n",
      "ho\n",
      "bisogno\n",
      "delle\n",
      "mie\n",
      "chiavi\n",
      ".\n",
      "EOS\n",
      "SOS\n",
      "SOS\n"
     ]
    }
   ],
   "source": [
    "for i in tgt_batch[index]:\n",
    "    print (output_lang.index2word[i.item()])"
   ]
  },
  {
   "cell_type": "code",
   "execution_count": 109,
   "id": "6030a089",
   "metadata": {},
   "outputs": [
    {
     "name": "stdout",
     "output_type": "stream",
     "text": [
      "tensor([  19,  390,  571, 1999,    3,    1,    0,    0,    0,    0])\n"
     ]
    }
   ],
   "source": [
    "print(src_batch[index])"
   ]
  },
  {
   "cell_type": "code",
   "execution_count": 110,
   "id": "cd6f1187",
   "metadata": {},
   "outputs": [
    {
     "name": "stdout",
     "output_type": "stream",
     "text": [
      "i\n",
      "need\n",
      "my\n",
      "keys\n",
      ".\n",
      "EOS\n",
      "SOS\n",
      "SOS\n",
      "SOS\n",
      "SOS\n"
     ]
    }
   ],
   "source": [
    "for i in src_batch[index]:\n",
    "    print (input_lang.index2word[i.item()])"
   ]
  },
  {
   "cell_type": "markdown",
   "id": "3884b41e",
   "metadata": {},
   "source": [
    "# Model\n",
    "\n",
    "Recurrent Neural Network, or RNN, is a network that operates on a sequence and uses its own output as input for subsequent steps.\n",
    "\n",
    "A **Sequence to Sequence** (seq2seq) network is a model consisting of two RNNs called the encoder and decoder. The encoder reads an input sequence and outputs a single vector and the decoder reads that vector to produce an output sequence.\n",
    "\n",
    "Unlike sequence prediction with a single RNN, where every input corresponds to an output, the seq2seq model frees us from sequence length and order, which makes it ideal for translation between two languages.  \n",
    "In the general case, input sequences and output sequences have different lengths and the entire input sequence is required in order to start predicting the target.  \n",
    "\n",
    "Consider the sentence *Je ne suis pas le chat noir* → I am not the black cat. Most of the words in the input sentence have a direct translation in the output sentence but are in slightly different orders, e.g. *chat noir* and black cat. Because of the *ne/pas* construction there is also one more word in the input sentence. It would be difficult to produce a correct translation directly from the sequence of input words.  \n",
    "  \n",
    "\n",
    "## The Encoder\n",
    "\n",
    "With a seq2seq model the encoder creates a single vector which, in the ideal case, encodes the “meaning” of the input sequence into a single vector — a single point in some N dimensional space of sentences.  \n",
    "This **Context Vector** is said to contain the abstract representation of the input language sequence.\n",
    "\n",
    "The encoder of a seq2seq network is a RNN that processes the input sequence and outputs some value for every word from the input sentence. For every input word the encoder outputs a vector and a hidden state, and uses the hidden state for the next input word."
   ]
  },
  {
   "cell_type": "code",
   "execution_count": 111,
   "id": "f36c9157",
   "metadata": {},
   "outputs": [],
   "source": [
    "HIDDEN_SIZE = 128\n",
    "\n",
    "class EncoderRNN(nn.Module):\n",
    "    def __init__(self, input_size, hidden_size, dropout_p=0.1):\n",
    "        super(EncoderRNN, self).__init__()\n",
    "        self.hidden_size = hidden_size\n",
    "\n",
    "        self.embedding = nn.Embedding(input_size, hidden_size)\n",
    "        self.gru = nn.GRU(hidden_size, hidden_size, batch_first=True)\n",
    "        self.dropout = nn.Dropout(dropout_p)\n",
    "\n",
    "    def forward(self, input):\n",
    "        embedded = self.dropout(self.embedding(input))\n",
    "        output, hidden = self.gru(embedded)\n",
    "        return output, hidden\n"
   ]
  },
  {
   "cell_type": "code",
   "execution_count": 112,
   "id": "6f109857",
   "metadata": {},
   "outputs": [],
   "source": [
    "encoder = EncoderRNN(input_lang.n_words, HIDDEN_SIZE)\n",
    "encoder = encoder.to(myDevice)\n"
   ]
  },
  {
   "cell_type": "code",
   "execution_count": 113,
   "id": "83a093e8",
   "metadata": {},
   "outputs": [
    {
     "name": "stdout",
     "output_type": "stream",
     "text": [
      "Encoder's state_dict:\n",
      "embedding.weight \t torch.Size([15028, 128])\n",
      "gru.weight_ih_l0 \t torch.Size([384, 128])\n",
      "gru.weight_hh_l0 \t torch.Size([384, 128])\n",
      "gru.bias_ih_l0 \t torch.Size([384])\n",
      "gru.bias_hh_l0 \t torch.Size([384])\n"
     ]
    }
   ],
   "source": [
    "print(\"Encoder's state_dict:\")\n",
    "for param_tensor in encoder.state_dict():\n",
    "    print(param_tensor, \"\\t\", encoder.state_dict()[param_tensor].size())\n"
   ]
  },
  {
   "cell_type": "code",
   "execution_count": 154,
   "id": "dc3a583e",
   "metadata": {},
   "outputs": [
    {
     "data": {
      "text/plain": [
       "EncoderRNN(\n",
       "  (embedding): Embedding(15028, 128)\n",
       "  (gru): GRU(128, 128, batch_first=True)\n",
       "  (dropout): Dropout(p=0.1, inplace=False)\n",
       ")"
      ]
     },
     "execution_count": 154,
     "metadata": {},
     "output_type": "execute_result"
    }
   ],
   "source": [
    "encoder"
   ]
  },
  {
   "cell_type": "markdown",
   "id": "0c4c9a25",
   "metadata": {},
   "source": [
    "The encoder is pretty simple:\n",
    "- the input layer (embedding) is taking all the input language (in this case English) words (around 15k) \n",
    "- the hidden layer is a GRU (Gated Recurrent Unit) - simpler than a LSTM - with a dropout mechanism (drops 10% of the weights) for regularisation"
   ]
  },
  {
   "cell_type": "markdown",
   "id": "4f3f59e8",
   "metadata": {},
   "source": [
    "##  The Decoder\n",
    "The decoder is another RNN that takes the encoder output vector and outputs a sequence of words to create the translation.\n",
    "\n",
    "The decoder is trained to predict the next characters of the target sequence, given previous characters of the target sequence. Specifically, it is trained to turn the target sequences into the same sequences but offset by one timestep in the future, a training process called \"teacher forcing\" in this context. Importantly, the encoder uses as initial state the state vectors from the encoder, which is how the decoder obtains information about what it is supposed to generate.\n",
    "\n",
    "At every step of decoding, the decoder is given an input token and hidden state. The initial input token is the start-of-string <SOS> token, and the first hidden state is the context vector (the encoder’s last hidden state)."
   ]
  },
  {
   "cell_type": "code",
   "execution_count": 114,
   "id": "bdc701db",
   "metadata": {},
   "outputs": [],
   "source": [
    "class DecoderRNN(nn.Module):\n",
    "    def __init__(self, hidden_size, output_size):\n",
    "        super(DecoderRNN, self).__init__()\n",
    "        self.embedding = nn.Embedding(output_size, hidden_size)\n",
    "        self.gru = nn.GRU(hidden_size, hidden_size, batch_first=True)\n",
    "        self.out = nn.Linear(hidden_size, output_size)\n",
    "\n",
    "    def forward(self, encoder_outputs, encoder_hidden, target_tensor=None):\n",
    "        batch_size = encoder_outputs.size(0)\n",
    "        decoder_input = torch.empty(batch_size, 1, dtype=torch.long, device=myDevice).fill_(SOS_token)\n",
    "        decoder_hidden = encoder_hidden\n",
    "        decoder_outputs = []\n",
    "\n",
    "        for i in range(MAX_LENGTH):\n",
    "            decoder_output, decoder_hidden  = self.forward_step(decoder_input, decoder_hidden)\n",
    "            decoder_outputs.append(decoder_output)\n",
    "\n",
    "            if target_tensor is not None:\n",
    "                # Teacher forcing: Feed the target as the next input\n",
    "                decoder_input = target_tensor[:, i].unsqueeze(1) # Teacher forcing\n",
    "            else:\n",
    "                # Without teacher forcing: use its own predictions as the next input\n",
    "                _, topi = decoder_output.topk(1)\n",
    "                decoder_input = topi.squeeze(-1).detach()  # detach from history as input\n",
    "\n",
    "        decoder_outputs = torch.cat(decoder_outputs, dim=1)\n",
    "        decoder_outputs = F.log_softmax(decoder_outputs, dim=-1)\n",
    "        return decoder_outputs, decoder_hidden, None # We return `None` for consistency in the training loop\n",
    "\n",
    "    def forward_step(self, input, hidden):\n",
    "        output = self.embedding(input)\n",
    "        output = F.relu(output)\n",
    "        output, hidden = self.gru(output, hidden)\n",
    "        output = self.out(output)\n",
    "        return output, hidden"
   ]
  },
  {
   "cell_type": "markdown",
   "id": "537cc46a",
   "metadata": {},
   "source": [
    "### Teacher forcing\n",
    "While running the encoder on the input sequence is relatively straightforward, handling the input and output of the decoder requires more care. The most common approach is called teacher forcing.  \n",
    "This method acts like a Regularization. So that the model trains efficiently and fastly during the process.  \n",
    "  \n",
    "“Teacher forcing” is the concept of using the real target outputs as each next input, instead of using the decoder’s guess as the next input. Using teacher forcing causes it to converge faster but when the trained network is exploited, it may exhibit instability.  \n",
    "  \n",
    "You can observe outputs of teacher-forced networks that read with coherent grammar but wander far from the correct translation - intuitively it has learned to represent the output grammar and can “pick up” the meaning once the teacher tells it the first few words, but it has not properly learned how to create the sentence from the translation in the first place.  \n",
    "  \n",
    "Because of the freedom PyTorch’s autograd gives us, we can randomly choose to use teacher forcing or not with a simple if statement.  \n",
    "Another possibility would be to use a teach force ratio (tfr), where we can actually control the flow of input words to the decoder. Sending either of the word (actual target word or predicted target word) can be regulated with a probability of say 50%, so at any time step, one of them is passed during the training. Turn rtf up to use more of it.  \n",
    "  \n",
    "Note that In some niche cases you may not be able to use teacher forcing, because you don't have access to the full target sequences, e.g. if you are doing online training on very long sequences, where buffering complete input-target pairs would be impossible. \n"
   ]
  },
  {
   "cell_type": "markdown",
   "id": "12ce1abb",
   "metadata": {},
   "source": [
    "## Attention\n",
    "If only the context vector is passed between the encoder and decoder, that single vector carries the burden of encoding the entire sentence.  \n",
    "  \n",
    "In this resides the limitation of classic sequence to sequence models; the encoder is \"forced\" to send only a single vector, regardless of the length of our input i.e. how many words compose our sentence. Even if we decide to use a large number of hidden units in the encoder with the aim of having a larger context, then the model overfits with short sequences, and we take a performance hit as we increase the number of parameters.  \n",
    "  \n",
    "This is the problem that attention solves.\n",
    "  \n",
    "The intuition behind attention is that rather than compressing the input, it might be better for the decoder to revisit the input sequence at every step. Moreover, rather than always seeing the same representation of the input, the decoder should selectively focus a different part of the encoder’s outputs for every step of the decoder’s own outputs. \n",
    "  \n",
    "Think about a sentence like \"Pizza came out of the oven and it tasted good.\"    \n",
    "Attention is the mechanism that allows to correctly associate the word 'it' with the pizza.  \n",
    "  \n",
    "Attention mechanism provided a simple means by which the decoder could dynamically attend to different parts of the input at each decoding step. The high-level idea is that the decoder can receive as input a context vector consisting of a weighted sum of the representations on the input at each time step. Intuitively, the weights determine the extent to which each step’s context “focuses” on each input token, and the key is to make this process for assigning the weights differentiable so that it can be learned along with all of the other neural network parameters.\n",
    "  \n",
    "  This process allows  to amplify the important parts of the sequence and reduce the irrelevant parts.   \n",
    "    \n",
    "There are different types of attention, the simplest being the **self-attention**: it works by seeing how similar each word is to all the other words in the sentence, including itself.  \n",
    "Self-attention calculates these similarities and then are used to determine how the each word is encoded.  \n",
    "For example, in the previous example, the word 'it' will have a similarity score close to pizza.   \n",
    "So, attention tries to establish relationships among words. \n",
    "   \n",
    "  A variation would be the **masked self-attention**: only use the similarity between the current word and everything other words that come before, ignoring everything that come after it. In the example sentence, the word 'it' would be compared only with the words before, including pizza. The idea is that reference has already been done and saves time. \n",
    "  \n",
    "**Bahdanau attention**, also known as additive attention, is a commonly used attention mechanism in sequence-to-sequence models, particularly in neural machine translation tasks. It was introduced by Bahdanau et al. in their paper titled *Neural Machine Translation by Jointly Learning to Align and Translate* (ArXiv:1409.0473).  This attention mechanism employs a learned alignment model to compute attention scores between the encoder and decoder hidden states. It utilizes a feed-forward neural network to calculate alignment scores.\n",
    "  \n",
    "However, there are alternative attention mechanisms available, such as Luong attention, which computes attention scores by taking the dot product between the decoder hidden state and the encoder hidden states. It does not involve the non-linear transformation used in Bahdanau attention."
   ]
  },
  {
   "cell_type": "code",
   "execution_count": 115,
   "id": "0bfa05fb",
   "metadata": {},
   "outputs": [],
   "source": [
    "class BahdanauAttention(nn.Module):\n",
    "    def __init__(self, hidden_size):\n",
    "        super(BahdanauAttention, self).__init__()\n",
    "        self.Wa = nn.Linear(hidden_size, hidden_size)\n",
    "        self.Ua = nn.Linear(hidden_size, hidden_size)\n",
    "        self.Va = nn.Linear(hidden_size, 1)\n",
    "\n",
    "    def forward(self, query, keys):\n",
    "        scores = self.Va(torch.tanh(self.Wa(query) + self.Ua(keys)))\n",
    "        scores = scores.squeeze(2).unsqueeze(1)\n",
    "\n",
    "        weights = F.softmax(scores, dim=-1)\n",
    "        context = torch.bmm(weights, keys)\n",
    "\n",
    "        return context, weights\n",
    "\n"
   ]
  },
  {
   "cell_type": "code",
   "execution_count": 116,
   "id": "384ca728",
   "metadata": {},
   "outputs": [],
   "source": [
    "class AttnDecoderRNN(nn.Module):\n",
    "    def __init__(self, hidden_size, output_size, dropout_p=0.1):\n",
    "        super(AttnDecoderRNN, self).__init__()\n",
    "        self.embedding = nn.Embedding(output_size, hidden_size)\n",
    "        self.attention = BahdanauAttention(hidden_size)\n",
    "        self.gru = nn.GRU(2 * hidden_size, hidden_size, batch_first=True)\n",
    "        self.out = nn.Linear(hidden_size, output_size)\n",
    "        self.dropout = nn.Dropout(dropout_p)\n",
    "\n",
    "    def forward(self, encoder_outputs, encoder_hidden, target_tensor=None):\n",
    "        batch_size = encoder_outputs.size(0)\n",
    "        decoder_input = torch.empty(batch_size, 1, dtype=torch.long, device=myDevice).fill_(SOS_token)\n",
    "        decoder_hidden = encoder_hidden\n",
    "        decoder_outputs = []\n",
    "        attentions = []\n",
    "\n",
    "        for i in range(MAX_LENGTH):\n",
    "            decoder_output, decoder_hidden, attn_weights = self.forward_step(\n",
    "                decoder_input, decoder_hidden, encoder_outputs\n",
    "            )\n",
    "            decoder_outputs.append(decoder_output)\n",
    "            attentions.append(attn_weights)\n",
    "\n",
    "            if target_tensor is not None:\n",
    "                # Teacher forcing: Feed the target as the next input\n",
    "                decoder_input = target_tensor[:, i].unsqueeze(1) # Teacher forcing\n",
    "            else:\n",
    "                # Without teacher forcing: use its own predictions as the next input\n",
    "                _, topi = decoder_output.topk(1)\n",
    "                decoder_input = topi.squeeze(-1).detach()  # detach from history as input\n",
    "\n",
    "        decoder_outputs = torch.cat(decoder_outputs, dim=1)\n",
    "        decoder_outputs = F.log_softmax(decoder_outputs, dim=-1)\n",
    "        attentions = torch.cat(attentions, dim=1)\n",
    "\n",
    "        return decoder_outputs, decoder_hidden, attentions\n",
    "\n",
    "\n",
    "    def forward_step(self, input, hidden, encoder_outputs):\n",
    "        embedded =  self.dropout(self.embedding(input))\n",
    "\n",
    "        query = hidden.permute(1, 0, 2)\n",
    "        context, attn_weights = self.attention(query, encoder_outputs)\n",
    "        input_gru = torch.cat((embedded, context), dim=2)\n",
    "\n",
    "        output, hidden = self.gru(input_gru, hidden)\n",
    "        output = self.out(output)\n",
    "\n",
    "        return output, hidden, attn_weights"
   ]
  },
  {
   "cell_type": "code",
   "execution_count": 117,
   "id": "2ef9593b",
   "metadata": {},
   "outputs": [],
   "source": [
    "decoder = AttnDecoderRNN(HIDDEN_SIZE, output_lang.n_words)\n",
    "decoder = decoder.to(myDevice)\n"
   ]
  },
  {
   "cell_type": "code",
   "execution_count": 118,
   "id": "95a96d07",
   "metadata": {},
   "outputs": [
    {
     "name": "stdout",
     "output_type": "stream",
     "text": [
      "Decoder's state_dict:\n",
      "embedding.weight \t torch.Size([29382, 128])\n",
      "attention.Wa.weight \t torch.Size([128, 128])\n",
      "attention.Wa.bias \t torch.Size([128])\n",
      "attention.Ua.weight \t torch.Size([128, 128])\n",
      "attention.Ua.bias \t torch.Size([128])\n",
      "attention.Va.weight \t torch.Size([1, 128])\n",
      "attention.Va.bias \t torch.Size([1])\n",
      "gru.weight_ih_l0 \t torch.Size([384, 256])\n",
      "gru.weight_hh_l0 \t torch.Size([384, 128])\n",
      "gru.bias_ih_l0 \t torch.Size([384])\n",
      "gru.bias_hh_l0 \t torch.Size([384])\n",
      "out.weight \t torch.Size([29382, 128])\n",
      "out.bias \t torch.Size([29382])\n"
     ]
    }
   ],
   "source": [
    "print(\"Decoder's state_dict:\")\n",
    "for param_tensor in decoder.state_dict():\n",
    "    print(param_tensor, \"\\t\", decoder.state_dict()[param_tensor].size())\n"
   ]
  },
  {
   "cell_type": "code",
   "execution_count": 155,
   "id": "f6b59542",
   "metadata": {},
   "outputs": [
    {
     "data": {
      "text/plain": [
       "AttnDecoderRNN(\n",
       "  (embedding): Embedding(29382, 128)\n",
       "  (attention): BahdanauAttention(\n",
       "    (Wa): Linear(in_features=128, out_features=128, bias=True)\n",
       "    (Ua): Linear(in_features=128, out_features=128, bias=True)\n",
       "    (Va): Linear(in_features=128, out_features=1, bias=True)\n",
       "  )\n",
       "  (gru): GRU(256, 128, batch_first=True)\n",
       "  (out): Linear(in_features=128, out_features=29382, bias=True)\n",
       "  (dropout): Dropout(p=0.1, inplace=False)\n",
       ")"
      ]
     },
     "execution_count": 155,
     "metadata": {},
     "output_type": "execute_result"
    }
   ],
   "source": [
    "decoder"
   ]
  },
  {
   "cell_type": "markdown",
   "id": "1a14ae71",
   "metadata": {},
   "source": [
    "The decoder is more complicated:\n",
    "- the input layer has size of the output language's (the foreign language, not English) number of words\n",
    "- the attention mechanism (size is the hidden layer's size, e.g. 128 nodes)\n",
    "- another GRU\n",
    "- the output layer, with a dropout mechanism"
   ]
  },
  {
   "cell_type": "markdown",
   "id": "8898ef48",
   "metadata": {},
   "source": [
    "# Training\n",
    "Before start training, let's prepare a couple of helper functions, to print the training progress (especially tracking the time) and plot the loss curve.\n",
    "\n"
   ]
  },
  {
   "cell_type": "code",
   "execution_count": 301,
   "id": "df9a1ec6",
   "metadata": {},
   "outputs": [],
   "source": [
    "import time\n",
    "import math\n",
    "\n",
    "def asMinutes(s):\n",
    "    m = math.floor(s / 60)\n",
    "    s -= m * 60\n",
    "    return '%dm %ds' % (m, s)\n",
    "\n",
    "def timeSince(since, percent):\n",
    "    now = time.time()\n",
    "    s = now - since\n",
    "    es = s / (percent)\n",
    "    rs = es - s\n",
    "    return '%s (- %s)' % (asMinutes(s), asMinutes(rs))"
   ]
  },
  {
   "cell_type": "code",
   "execution_count": 120,
   "id": "38460b12",
   "metadata": {},
   "outputs": [],
   "source": [
    "import matplotlib.pyplot as plt\n",
    "\n",
    "import matplotlib.ticker as ticker\n",
    "import numpy as np\n",
    "\n",
    "plt.switch_backend('agg')\n",
    "\n",
    "def showPlot(points):\n",
    "    plt.figure()\n",
    "    fig, ax = plt.subplots()\n",
    "    # this locator puts ticks at regular intervals\n",
    "    loc = ticker.MultipleLocator(base=0.2)\n",
    "    ax.yaxis.set_major_locator(loc)\n",
    "    plt.plot(points)"
   ]
  },
  {
   "cell_type": "code",
   "execution_count": 121,
   "id": "1445edc5",
   "metadata": {},
   "outputs": [],
   "source": [
    "%matplotlib inline\n"
   ]
  },
  {
   "cell_type": "markdown",
   "id": "480fec41",
   "metadata": {},
   "source": [
    "## Training the Model\n",
    "To train, at each epoch, we run the input sentence through the encoder, and keep track of every output and the latest hidden state. Then the decoder is given the <SOS> token as its first input, and the last hidden state of the encoder as its first hidden state.\n"
   ]
  },
  {
   "cell_type": "code",
   "execution_count": 122,
   "id": "da6ff1f6",
   "metadata": {},
   "outputs": [],
   "source": [
    "def train_epoch(dataloader, encoder, decoder, encoder_optimizer,\n",
    "          decoder_optimizer, criterion):\n",
    "\n",
    "    total_loss = 0\n",
    "        # iterate throught the dataloader batches\n",
    "    for data in dataloader:\n",
    "        input_tensor, target_tensor = data\n",
    "\n",
    "        encoder_optimizer.zero_grad()\n",
    "        decoder_optimizer.zero_grad()\n",
    "            # encoder\n",
    "        encoder_outputs, encoder_hidden = encoder(input_tensor)\n",
    "            # decoder\n",
    "        decoder_outputs, _, _ = decoder(encoder_outputs, encoder_hidden, target_tensor)\n",
    "\n",
    "            # calculate loss\n",
    "        loss = criterion(\n",
    "            decoder_outputs.view(-1, decoder_outputs.size(-1)),\n",
    "            target_tensor.view(-1)\n",
    "        )\n",
    "        loss.backward()\n",
    "\n",
    "        encoder_optimizer.step()\n",
    "        decoder_optimizer.step()\n",
    "\n",
    "        total_loss += loss.item()\n",
    "\n",
    "    return total_loss / len(dataloader)"
   ]
  },
  {
   "cell_type": "markdown",
   "id": "7d5b4ed8",
   "metadata": {},
   "source": [
    "The whole training process looks like this:\n",
    "\n",
    "- Start a timer\n",
    "\n",
    "- Initialise optimisers and criterion\n",
    "\n",
    "- Create set of training pairs\n",
    "\n",
    "- Start empty losses array for plotting\n",
    "\n",
    "Then we call train many times and occasionally print the progress (% of examples, time so far, estimated time) and average loss).\n",
    "\n"
   ]
  },
  {
   "cell_type": "code",
   "execution_count": 123,
   "id": "af143b09",
   "metadata": {},
   "outputs": [],
   "source": [
    "def train(train_dataloader, encoder, decoder, n_epochs=80, learning_rate=0.001,\n",
    "               print_every=10, plot_every=10):\n",
    "        # start the timer\n",
    "    start = time.time()\n",
    "    \n",
    "        # initialisation\n",
    "    plot_losses = []\n",
    "    print_loss_total = 0  # Reset every print_every\n",
    "    plot_loss_total = 0  # Reset every plot_every\n",
    "\n",
    "    encoder_optimizer = optim.Adam(encoder.parameters(), lr=learning_rate)\n",
    "    decoder_optimizer = optim.Adam(decoder.parameters(), lr=learning_rate)\n",
    "    criterion = nn.NLLLoss()\n",
    "\n",
    "    print(\"Starting train of the model ...\")\n",
    "    print(f\"time since start (estimated remaining) | epoch / {n_epochs} | progress (%) | loss average\")\n",
    "    \n",
    "        # epochs loop\n",
    "    for epoch in range(1, n_epochs + 1):\n",
    "        \n",
    "        loss = train_epoch(train_dataloader, encoder, decoder, encoder_optimizer, decoder_optimizer, criterion)\n",
    "        \n",
    "        print_loss_total += loss\n",
    "        plot_loss_total += loss\n",
    "\n",
    "            # print progress if due\n",
    "        if epoch % print_every == 0:\n",
    "            print_loss_avg = print_loss_total / print_every\n",
    "            print_loss_total = 0\n",
    "            print('%s | %d | %d%% | %.4f' % (timeSince(start, epoch / n_epochs),\n",
    "                                        epoch, epoch / n_epochs * 100, print_loss_avg))\n",
    "\n",
    "            # plot loss if due\n",
    "        if epoch % plot_every == 0:\n",
    "            plot_loss_avg = plot_loss_total / plot_every\n",
    "            plot_losses.append(plot_loss_avg)\n",
    "            plot_loss_total = 0\n",
    "\n",
    "    print(\"Training completed. Here is the loss plot:\")\n",
    "    showPlot(plot_losses);"
   ]
  },
  {
   "cell_type": "code",
   "execution_count": 125,
   "id": "7b331513",
   "metadata": {},
   "outputs": [
    {
     "name": "stdout",
     "output_type": "stream",
     "text": [
      "Starting train of the model ...\n",
      "time since start (estimated remaining) | epoch / 40 | progress (%) | loss average\n",
      "23m 26s (- 70m 18s) | 10 | 25% | 0.6266\n",
      "47m 59s (- 47m 59s) | 20 | 50% | 0.2296\n",
      "73m 14s (- 24m 24s) | 30 | 75% | 0.2011\n",
      "98m 10s (- 0m 0s) | 40 | 100% | 0.1920\n",
      "Training completed. Here is the loss plot:\n"
     ]
    },
    {
     "data": {
      "text/plain": [
       "<Figure size 640x480 with 0 Axes>"
      ]
     },
     "metadata": {},
     "output_type": "display_data"
    },
    {
     "data": {
      "image/png": "[encoded data removed]",
      "text/plain": [
       "<Figure size 640x480 with 1 Axes>"
      ]
     },
     "metadata": {},
     "output_type": "display_data"
    }
   ],
   "source": [
    "train(trainData, encoder, decoder, n_epochs = 40)"
   ]
  },
  {
   "cell_type": "markdown",
   "id": "5feaf0c9",
   "metadata": {},
   "source": [
    "Already after 20 epochs the loss (on training data) was greatly reduced."
   ]
  },
  {
   "cell_type": "markdown",
   "id": "82ab06d1",
   "metadata": {},
   "source": [
    "### Save the model\n",
    "\n",
    "This is optional but useful if you train a complex model for long time"
   ]
  },
  {
   "cell_type": "code",
   "execution_count": 126,
   "id": "aea7f08d",
   "metadata": {},
   "outputs": [],
   "source": [
    "PATH = \"../outputs/translationModels/\""
   ]
  },
  {
   "cell_type": "code",
   "execution_count": 127,
   "id": "c8adfecf",
   "metadata": {},
   "outputs": [],
   "source": [
    "PATH = \"../outputs/translationModels/\"\n",
    "torch.save(encoder.state_dict(), PATH+\"encIT\")\n",
    "torch.save(decoder.state_dict(), PATH+\"decIT\")"
   ]
  },
  {
   "cell_type": "markdown",
   "id": "67c8e90d",
   "metadata": {},
   "source": [
    "## Translate a sentence  \n",
    "In inference mode, i.e. when we want to decode unknown input sequences, we go through a slightly different process: there are no targets. Every time it predicts a word we add it to the output string and if it predicts the EOS token we stop there. "
   ]
  },
  {
   "cell_type": "code",
   "execution_count": 128,
   "id": "1ab23f0d",
   "metadata": {},
   "outputs": [],
   "source": [
    "def translate(encoder, decoder, sentence, input_lang, output_lang):\n",
    "    \n",
    "    with torch.no_grad():\n",
    "        \n",
    "            # transform input sequence into tensors\n",
    "        input_tensor = tensorFromSentence(input_lang, sentence)\n",
    "        \n",
    "            # encode the input sequence into state vectors\n",
    "        encoder_outputs, encoder_hidden = encoder(input_tensor)\n",
    "            # Feed the state vectors to the decoder to produce predictions\n",
    "        decoder_outputs, decoder_hidden, decoder_attn = decoder(encoder_outputs, encoder_hidden)\n",
    "\n",
    "        _, topi = decoder_outputs.topk(1)\n",
    "        decoded_ids = topi.squeeze()\n",
    "\n",
    "            # Repeat until we generate the end-of-sequence character or we hit the character limit\n",
    "        decoded_words = []\n",
    "        for idx in decoded_ids:\n",
    "            if idx.item() == EOS_token:\n",
    "                decoded_words.append('<EOS>')\n",
    "                break\n",
    "                # Append the sampled character to the output sequence\n",
    "            decoded_words.append(output_lang.index2word[idx.item()])\n",
    "            \n",
    "    return decoded_words"
   ]
  },
  {
   "cell_type": "markdown",
   "id": "17ec0e4b",
   "metadata": {},
   "source": [
    "Let's try with a test sentence:"
   ]
  },
  {
   "cell_type": "code",
   "execution_count": 129,
   "id": "35ba8d52",
   "metadata": {},
   "outputs": [
    {
     "name": "stdout",
     "output_type": "stream",
     "text": [
      "i love machine learning and artificial intelligence\n"
     ]
    }
   ],
   "source": [
    "print(testSentenceEN)"
   ]
  },
  {
   "cell_type": "code",
   "execution_count": 136,
   "id": "68bdd96a",
   "metadata": {},
   "outputs": [
    {
     "name": "stdout",
     "output_type": "stream",
     "text": [
      "io amo gli hot dog . <EOS>\n"
     ]
    }
   ],
   "source": [
    "  # let's try first with the test sentence\n",
    "translationIT = translate(encoder, decoder, testSentenceEN, input_lang, output_lang)\n",
    "print(' '.join(w for w in translationIT))"
   ]
  },
  {
   "cell_type": "markdown",
   "id": "4924ffce",
   "metadata": {},
   "source": [
    "This means \"I love the hot dogs\" which is hilarious. Clearly it's not perfect :)  \n",
    "Let's evaluate more."
   ]
  },
  {
   "cell_type": "code",
   "execution_count": 140,
   "id": "b8ef910c",
   "metadata": {},
   "outputs": [
    {
     "name": "stdout",
     "output_type": "stream",
     "text": [
      "non c'e alcuna la porta . <EOS>\n"
     ]
    }
   ],
   "source": [
    "translationIT = translate(encoder, decoder, 'there is no limit to the universe .', input_lang, output_lang)\n",
    "print(' '.join(w for w in translationIT))"
   ]
  },
  {
   "cell_type": "markdown",
   "id": "b155481a",
   "metadata": {},
   "source": [
    "## Evaluation\n",
    "Evaluation is performed on the original dataset and we can decide if randomly sampling from the training data splice or the part not used for training.  \n",
    "Evaluation doesn't prove a model works: it just discovers the ways it fails, so let's see the mistakes:\n"
   ]
  },
  {
   "cell_type": "code",
   "execution_count": 148,
   "id": "ce56a199",
   "metadata": {},
   "outputs": [
    {
     "data": {
      "text/plain": [
       "35132"
      ]
     },
     "execution_count": 148,
     "metadata": {},
     "output_type": "execute_result"
    }
   ],
   "source": [
    "p = len(pairs)\n",
    "trainSplit = int(p * TRAIN_PERCENT)\n",
    "trainSplit"
   ]
  },
  {
   "cell_type": "code",
   "execution_count": 180,
   "id": "fd8a6d09",
   "metadata": {},
   "outputs": [],
   "source": [
    "def evaluateRandomly(encoder, decoder, pairs, onTrain = True, n=3):\n",
    "    # Sample n sentences from given pairs and translate them using the given dataset (train or test) \n",
    "    # and print the result (no return)\n",
    "    #\n",
    "    # Inputs:\n",
    "    # encoder, decoder: the model\n",
    "    # pairs: the dataset\n",
    "    # onTrain: boolean; True if sampling to be done on train dataset\n",
    "    # n: integer; number of sentences to sample; default is 3\n",
    "    \n",
    "    dataset = \"train\" if onTrain else \"test\"\n",
    "    print(f\"Evaluating {n} random sentences from {dataset} dataset\\n\\n\")\n",
    "    \n",
    "    trainSplit = int(len(pairs) * TRAIN_PERCENT)\n",
    "    print(f\"train split: {trainSplit}\")\n",
    "    \n",
    "    print(\"> input sentence in selected language\\n = target sentence translated in English \\n< Output sentence from the model\\n\")\n",
    "    \n",
    "    for i in range(n):\n",
    "        pair = random.choice(pairs[:trainSplit]) if onTrain else random.choice(pairs[trainSplit:])\n",
    "        print('>', pair[0])\n",
    "        print('=', pair[1])\n",
    "        \n",
    "        output_words = translate(encoder, decoder, pair[0], input_lang, output_lang)\n",
    "        \n",
    "        output_sentence = ' '.join(output_words)\n",
    "        print('<', output_sentence)\n",
    "        print('')"
   ]
  },
  {
   "cell_type": "markdown",
   "id": "1e2a1cc0",
   "metadata": {},
   "source": [
    "First we try with 3 random sentences from the training dataset:  \n",
    "- first line is the English sentence\n",
    "- second line is the target Italian sentence from the Train dataset\n",
    "- third line is the translated  Italian sentence (which should be the same or similar as the second line) "
   ]
  },
  {
   "cell_type": "code",
   "execution_count": 151,
   "id": "252fa24a",
   "metadata": {},
   "outputs": [
    {
     "name": "stdout",
     "output_type": "stream",
     "text": [
      "Evaluating 3 random sentences from train dataset\n",
      "\n",
      "\n",
      "> input sentence in selected language\n",
      " = target sentence translated in English \n",
      "< Output sentence from the model\n",
      "\n",
      "> i need a hug .\n",
      "= a me serve un abbraccio .\n",
      "< mi serve un abbraccio . <EOS>\n",
      "\n",
      "> stand still .\n",
      "= stia ferma .\n",
      "< stia ferma . <EOS>\n",
      "\n",
      "> i saw a ufo .\n",
      "= vidi un ufo .\n",
      "< vidi un ufo . <EOS>\n",
      "\n"
     ]
    }
   ],
   "source": [
    "evaluateRandomly(encoder, decoder)"
   ]
  },
  {
   "cell_type": "markdown",
   "id": "a972aa7a",
   "metadata": {},
   "source": [
    "As expected, **the model is quite good on the training examples** it has seen.  \n",
    "And this even with limited training.  \n",
    "  \n",
    "  Now we try the same with sentences that the model has not seen before."
   ]
  },
  {
   "cell_type": "code",
   "execution_count": 152,
   "id": "03b17ac1",
   "metadata": {},
   "outputs": [
    {
     "name": "stdout",
     "output_type": "stream",
     "text": [
      "Evaluating 3 random sentences from test dataset\n",
      "\n",
      "\n",
      "> input sentence in selected language\n",
      " = target sentence translated in English \n",
      "< Output sentence from the model\n",
      "\n",
      "> the worst thing about winter is the snow .\n",
      "= la cosa peggiore riguardo all'inverno e la neve .\n",
      "< la macchina e partita . <EOS>\n",
      "\n",
      "> i want to watch a documentary .\n",
      "= voglio vedere un documentario .\n",
      "< una una una maschera . <EOS>\n",
      "\n",
      "> i am rather happy .\n",
      "= io sono abbastanza contento .\n",
      "< io sono stata felice . <EOS>\n",
      "\n"
     ]
    }
   ],
   "source": [
    "evaluateRandomly(encoder, decoder, onTrain = False)"
   ]
  },
  {
   "cell_type": "markdown",
   "id": "0cc78df5",
   "metadata": {},
   "source": [
    "And here the results are not that great; the last sentence is kinda similar but the other two are wrong.  \n",
    "  \n",
    "# Other languages\n",
    "To have a quick try at other languages, we first prepare a helper function to run the pipeline (read, prepare the data, train the model, evaluate):"
   ]
  },
  {
   "cell_type": "code",
   "execution_count": 177,
   "id": "7cc730c9",
   "metadata": {},
   "outputs": [],
   "source": [
    "def runETLpipeline(language):\n",
    "        # Step1 : read and prepare the data\n",
    "    input_lang, output_lang, pairs = prepareData(language, False)   # eng -> chinese\n",
    "        # Step2: load data\n",
    "    trainData = get_trainDataloader(input_lang, output_lang, pairs, myDevice)\n",
    "    \n",
    "    print(\"=====\")\n",
    "        # Step3: instantiate the decoder in the output language\n",
    "    decoder = AttnDecoderRNN(HIDDEN_SIZE, output_lang.n_words)\n",
    "    decoder = decoder.to(myDevice)\n",
    "    \n",
    "    print(\"Decoder's state_dict:\")\n",
    "    for param_tensor in decoder.state_dict():\n",
    "        print(param_tensor, \"\\t\", decoder.state_dict()[param_tensor].size())\n",
    "        \n",
    "    print(\"=====\")\n",
    "    print(decoder)\n",
    "    print(\"=====\")\n",
    "    \n",
    "    \n",
    "        # Step4: training\n",
    "    train(trainData, encoder, decoder, n_epochs=20, print_every=5, plot_every=5)\n",
    "\n",
    "    print(\"=====\")\n",
    "    print (pairs[42]) # verify\n",
    "\n",
    "\n",
    "        # Step5: evaluation\n",
    "    evaluateRandomly(encoder, decoder, pairs)\n",
    "    evaluateRandomly(encoder, decoder, pairs, onTrain = False)\n",
    "    "
   ]
  },
  {
   "cell_type": "markdown",
   "id": "3876ce6b",
   "metadata": {},
   "source": [
    "# Japanese\n",
    "\n",
    "Let's see how it works with a non-latin language: Japanese"
   ]
  },
  {
   "cell_type": "code",
   "execution_count": 172,
   "id": "d9988b57",
   "metadata": {},
   "outputs": [],
   "source": [
    "TRAIN_PERCENT = 0.5  # not many sentences in the dataset so we can increase the train percentage"
   ]
  },
  {
   "cell_type": "code",
   "execution_count": 173,
   "id": "7221ca3c",
   "metadata": {
    "scrolled": false
   },
   "outputs": [
    {
     "name": "stdout",
     "output_type": "stream",
     "text": [
      "Reading lines...\n",
      "Read 115492 sentence pairs\n",
      "Trimmed to 95729 sentence pairs\n",
      "Counting words...\n",
      "Counted words:\n",
      "eng 12089\n",
      "jpn 75717\n",
      "train sentences: 47864\n",
      "=====\n",
      "Decoder's state_dict:\n",
      "embedding.weight \t torch.Size([75717, 128])\n",
      "attention.Wa.weight \t torch.Size([128, 128])\n",
      "attention.Wa.bias \t torch.Size([128])\n",
      "attention.Ua.weight \t torch.Size([128, 128])\n",
      "attention.Ua.bias \t torch.Size([128])\n",
      "attention.Va.weight \t torch.Size([1, 128])\n",
      "attention.Va.bias \t torch.Size([1])\n",
      "gru.weight_ih_l0 \t torch.Size([384, 256])\n",
      "gru.weight_hh_l0 \t torch.Size([384, 128])\n",
      "gru.bias_ih_l0 \t torch.Size([384])\n",
      "gru.bias_hh_l0 \t torch.Size([384])\n",
      "out.weight \t torch.Size([75717, 128])\n",
      "out.bias \t torch.Size([75717])\n",
      "=====\n",
      "AttnDecoderRNN(\n",
      "  (embedding): Embedding(75717, 128)\n",
      "  (attention): BahdanauAttention(\n",
      "    (Wa): Linear(in_features=128, out_features=128, bias=True)\n",
      "    (Ua): Linear(in_features=128, out_features=128, bias=True)\n",
      "    (Va): Linear(in_features=128, out_features=1, bias=True)\n",
      "  )\n",
      "  (gru): GRU(256, 128, batch_first=True)\n",
      "  (out): Linear(in_features=128, out_features=75717, bias=True)\n",
      "  (dropout): Dropout(p=0.1, inplace=False)\n",
      ")\n",
      "=====\n",
      "Starting train of the model ...\n",
      "time since start (estimated remaining) | epoch / 20 | progress (%) | loss average\n",
      "32m 34s (- 97m 43s) | 5 | 25% | 0.7964\n",
      "63m 59s (- 63m 59s) | 10 | 50% | 0.1899\n",
      "94m 42s (- 31m 34s) | 15 | 75% | 0.1083\n",
      "125m 29s (- 0m 0s) | 20 | 100% | 0.1000\n",
      "Training completed. Here is the loss plot:\n",
      "=====\n",
      "Evaluating 3 random sentences from train dataset\n",
      "\n",
      "\n",
      "> input sentence in selected language\n",
      " = target sentence translated in English \n",
      "< Output sentence from the model\n",
      "\n",
      "> i promised i'd do that .\n",
      "= それをすると約束しました。\n",
      "< それをすると約束しました。 <EOS>\n",
      "\n",
      "> stop . that tickles .\n",
      "= やめて。くすくったい。\n",
      "< やめて。くすくったい。 <EOS>\n",
      "\n",
      "> tom is washing his car .\n",
      "= トムは車を洗っている。\n",
      "< トムは車を洗っている。 <EOS>\n",
      "\n",
      "Evaluating 3 random sentences from test dataset\n",
      "\n",
      "\n",
      "> input sentence in selected language\n",
      " = target sentence translated in English \n",
      "< Output sentence from the model\n",
      "\n",
      "> the city wants to extend the road .\n",
      "= 市はその道路を延長したいと考えている。\n",
      "< トムは道路を渡った。 <EOS>\n",
      "\n",
      "> is this diamond real or fake ?\n",
      "= このタイヤモントって、本物なのかな？偽物なのかな？\n",
      "< トムの友達なの？ <EOS>\n",
      "\n",
      "> i'd like to have cheesecake for dessert .\n",
      "= テサートにはチースケーキを頂きたい。\n",
      "< あの青いのも私のてす。 <EOS>\n",
      "\n"
     ]
    },
    {
     "data": {
      "text/plain": [
       "<Figure size 640x480 with 0 Axes>"
      ]
     },
     "metadata": {},
     "output_type": "display_data"
    },
    {
     "data": {
      "image/png": "[encoded data removed]",
      "text/plain": [
       "<Figure size 640x480 with 1 Axes>"
      ]
     },
     "metadata": {},
     "output_type": "display_data"
    }
   ],
   "source": [
    "runETLpipeline('jpn')\n"
   ]
  },
  {
   "cell_type": "markdown",
   "id": "17b5fe7f",
   "metadata": {},
   "source": [
    "Train loss was quickly reduced (probably 10-15 epochs would have been enough) and again the train sentences are right translated while the test sentences are wrong."
   ]
  },
  {
   "cell_type": "markdown",
   "id": "6038aefc",
   "metadata": {},
   "source": [
    "# Chinese\n",
    "Let's do the same with Chinese"
   ]
  },
  {
   "cell_type": "code",
   "execution_count": 195,
   "id": "3c08cc49",
   "metadata": {},
   "outputs": [],
   "source": [
    "TRAIN_PERCENT = 0.8 # even bigger train dataset, hopefully this will improve the model"
   ]
  },
  {
   "cell_type": "code",
   "execution_count": 182,
   "id": "fa80c1fa",
   "metadata": {},
   "outputs": [
    {
     "name": "stdout",
     "output_type": "stream",
     "text": [
      "Reading lines...\n",
      "Read 30919 sentence pairs\n",
      "Trimmed to 27065 sentence pairs\n",
      "Counting words...\n",
      "Counted words:\n",
      "eng 7179\n",
      "cmn 23657\n",
      "train sentences: 21652\n",
      "=====\n",
      "Decoder's state_dict:\n",
      "embedding.weight \t torch.Size([23657, 128])\n",
      "attention.Wa.weight \t torch.Size([128, 128])\n",
      "attention.Wa.bias \t torch.Size([128])\n",
      "attention.Ua.weight \t torch.Size([128, 128])\n",
      "attention.Ua.bias \t torch.Size([128])\n",
      "attention.Va.weight \t torch.Size([1, 128])\n",
      "attention.Va.bias \t torch.Size([1])\n",
      "gru.weight_ih_l0 \t torch.Size([384, 256])\n",
      "gru.weight_hh_l0 \t torch.Size([384, 128])\n",
      "gru.bias_ih_l0 \t torch.Size([384])\n",
      "gru.bias_hh_l0 \t torch.Size([384])\n",
      "out.weight \t torch.Size([23657, 128])\n",
      "out.bias \t torch.Size([23657])\n",
      "=====\n",
      "AttnDecoderRNN(\n",
      "  (embedding): Embedding(23657, 128)\n",
      "  (attention): BahdanauAttention(\n",
      "    (Wa): Linear(in_features=128, out_features=128, bias=True)\n",
      "    (Ua): Linear(in_features=128, out_features=128, bias=True)\n",
      "    (Va): Linear(in_features=128, out_features=1, bias=True)\n",
      "  )\n",
      "  (gru): GRU(256, 128, batch_first=True)\n",
      "  (out): Linear(in_features=128, out_features=23657, bias=True)\n",
      "  (dropout): Dropout(p=0.1, inplace=False)\n",
      ")\n",
      "=====\n",
      "Starting train of the model ...\n",
      "time since start (estimated remaining) | epoch / 20 | progress (%) | loss average\n",
      "6m 12s (- 18m 36s) | 5 | 25% | 0.7987\n",
      "12m 26s (- 12m 26s) | 10 | 50% | 0.1545\n",
      "18m 40s (- 6m 13s) | 15 | 75% | 0.0374\n",
      "25m 4s (- 0m 0s) | 20 | 100% | 0.0274\n",
      "Training completed. Here is the loss plot:\n",
      "=====\n",
      "['be nice .', '友善点。']\n",
      "Evaluating 3 random sentences from train dataset\n",
      "\n",
      "\n",
      "train split: 21652\n",
      "> input sentence in selected language\n",
      " = target sentence translated in English \n",
      "< Output sentence from the model\n",
      "\n",
      "> we're eating apples .\n",
      "= 我們正在吃蘋果。\n",
      "< 軽い昼食をとりました。 <EOS>\n",
      "\n",
      "> tom just doesn't understand .\n",
      "= 汤姆就是不懂。\n",
      "< 私はむしろここにいたい。 <EOS>\n",
      "\n",
      "> let's meet at one o'clock .\n",
      "= 让我们在一点见面。\n",
      "< きれいな花てすね！ <EOS>\n",
      "\n",
      "Evaluating 3 random sentences from test dataset\n",
      "\n",
      "\n",
      "train split: 21652\n",
      "> input sentence in selected language\n",
      " = target sentence translated in English \n",
      "< Output sentence from the model\n",
      "\n",
      "> it wasn't you who told me about this .\n",
      "= 这件事情不是你告诉我的。\n",
      "< お手洗いはとこてすか。 <EOS>\n",
      "\n",
      "> you can't use this washing machine .\n",
      "= 你不能用這臺洗衣機。\n",
      "< 私は運勢を占ってもらった。 <EOS>\n",
      "\n",
      "> the boy carved his name on the tree .\n",
      "= 男孩把他的名字刻在树上。\n",
      "< とうしたの。 <EOS>\n",
      "\n"
     ]
    },
    {
     "data": {
      "text/plain": [
       "<Figure size 640x480 with 0 Axes>"
      ]
     },
     "metadata": {},
     "output_type": "display_data"
    },
    {
     "data": {
      "image/png": "[encoded data removed]",
      "text/plain": [
       "<Figure size 640x480 with 1 Axes>"
      ]
     },
     "metadata": {},
     "output_type": "display_data"
    }
   ],
   "source": [
    "runETLpipeline(\"cmn\")"
   ]
  },
  {
   "cell_type": "code",
   "execution_count": 196,
   "id": "766b417e",
   "metadata": {},
   "outputs": [
    {
     "name": "stdout",
     "output_type": "stream",
     "text": [
      "Reading lines...\n",
      "Read 30919 sentence pairs\n",
      "Trimmed to 27065 sentence pairs\n",
      "Counting words...\n",
      "Counted words:\n",
      "eng 7179\n",
      "cmn 23657\n"
     ]
    }
   ],
   "source": [
    "input_lang, output_lang, pairs = prepareData('cmn', False)   # eng -> chinese\n"
   ]
  },
  {
   "cell_type": "code",
   "execution_count": 197,
   "id": "8be6f1d3",
   "metadata": {},
   "outputs": [
    {
     "name": "stdout",
     "output_type": "stream",
     "text": [
      "train sentences: 21652\n"
     ]
    }
   ],
   "source": [
    "trainData = get_trainDataloader(input_lang, output_lang, pairs, myDevice)\n"
   ]
  },
  {
   "cell_type": "code",
   "execution_count": 198,
   "id": "734576fb",
   "metadata": {},
   "outputs": [
    {
     "data": {
      "text/plain": [
       "6"
      ]
     },
     "execution_count": 198,
     "metadata": {},
     "output_type": "execute_result"
    }
   ],
   "source": [
    "# pick a random index less than the batch size.\n",
    "index = random.randrange(len(src_batch))\n",
    "index"
   ]
  },
  {
   "cell_type": "code",
   "execution_count": 199,
   "id": "13847770",
   "metadata": {},
   "outputs": [
    {
     "name": "stdout",
     "output_type": "stream",
     "text": [
      "多怪啊！\n",
      "你紧张吗？\n",
      "我不喜欢小孩。\n",
      "你用跑的。\n",
      "EOS\n",
      "SOS\n",
      "SOS\n",
      "SOS\n",
      "SOS\n",
      "SOS\n"
     ]
    }
   ],
   "source": [
    "for i in tgt_batch[index]:\n",
    "    print (output_lang.index2word[i.item()])"
   ]
  },
  {
   "cell_type": "code",
   "execution_count": 200,
   "id": "5f27c30a",
   "metadata": {},
   "outputs": [
    {
     "data": {
      "text/plain": [
       "['be nice .', '友善点。']"
      ]
     },
     "execution_count": 200,
     "metadata": {},
     "output_type": "execute_result"
    }
   ],
   "source": [
    "pairs[42]"
   ]
  },
  {
   "cell_type": "code",
   "execution_count": 201,
   "id": "0aa9d943",
   "metadata": {},
   "outputs": [],
   "source": [
    "decoder = AttnDecoderRNN(HIDDEN_SIZE, output_lang.n_words)\n",
    "decoder = decoder.to(myDevice)\n"
   ]
  },
  {
   "cell_type": "code",
   "execution_count": 202,
   "id": "85ff50af",
   "metadata": {},
   "outputs": [
    {
     "name": "stdout",
     "output_type": "stream",
     "text": [
      "Decoder's state_dict:\n",
      "embedding.weight \t torch.Size([23657, 128])\n",
      "attention.Wa.weight \t torch.Size([128, 128])\n",
      "attention.Wa.bias \t torch.Size([128])\n",
      "attention.Ua.weight \t torch.Size([128, 128])\n",
      "attention.Ua.bias \t torch.Size([128])\n",
      "attention.Va.weight \t torch.Size([1, 128])\n",
      "attention.Va.bias \t torch.Size([1])\n",
      "gru.weight_ih_l0 \t torch.Size([384, 256])\n",
      "gru.weight_hh_l0 \t torch.Size([384, 128])\n",
      "gru.bias_ih_l0 \t torch.Size([384])\n",
      "gru.bias_hh_l0 \t torch.Size([384])\n",
      "out.weight \t torch.Size([23657, 128])\n",
      "out.bias \t torch.Size([23657])\n"
     ]
    }
   ],
   "source": [
    "print(\"Decoder's state_dict:\")\n",
    "for param_tensor in decoder.state_dict():\n",
    "    print(param_tensor, \"\\t\", decoder.state_dict()[param_tensor].size())\n"
   ]
  },
  {
   "cell_type": "code",
   "execution_count": 203,
   "id": "2f182745",
   "metadata": {
    "scrolled": true
   },
   "outputs": [
    {
     "name": "stdout",
     "output_type": "stream",
     "text": [
      "Starting train of the model ...\n",
      "time since start (estimated remaining) | epoch / 10 | progress (%) | loss average\n",
      "6m 26s (- 6m 26s) | 5 | 50% | 0.7617\n",
      "12m 57s (- 0m 0s) | 10 | 100% | 0.1190\n",
      "Training completed. Here is the loss plot:\n"
     ]
    },
    {
     "data": {
      "text/plain": [
       "<Figure size 640x480 with 0 Axes>"
      ]
     },
     "metadata": {},
     "output_type": "display_data"
    },
    {
     "data": {
      "image/png": "[encoded data removed]",
      "text/plain": [
       "<Figure size 640x480 with 1 Axes>"
      ]
     },
     "metadata": {},
     "output_type": "display_data"
    }
   ],
   "source": [
    "train(trainData, encoder, decoder, n_epochs=10, print_every=5, plot_every=5)"
   ]
  },
  {
   "cell_type": "code",
   "execution_count": 205,
   "id": "e8d8db44",
   "metadata": {},
   "outputs": [
    {
     "data": {
      "text/plain": [
       "'cmn'"
      ]
     },
     "execution_count": 205,
     "metadata": {},
     "output_type": "execute_result"
    }
   ],
   "source": [
    "  # let's try first with the test sentence\n",
    "output_lang.name\n"
   ]
  },
  {
   "cell_type": "code",
   "execution_count": 206,
   "id": "21894615",
   "metadata": {},
   "outputs": [
    {
     "name": "stdout",
     "output_type": "stream",
     "text": [
      "我只做別人付錢讓我做的事。 <EOS>\n"
     ]
    }
   ],
   "source": [
    "translationCM = translate(encoder, decoder, 'there is no limit to the universe .', input_lang, output_lang)\n",
    "print(' '.join(w for w in translationCM))"
   ]
  },
  {
   "cell_type": "markdown",
   "id": "3ed45fff",
   "metadata": {},
   "source": [
    "\"I only do what I am paid to do\"  \n",
    "Ahah, is the model complaining?"
   ]
  },
  {
   "cell_type": "code",
   "execution_count": 207,
   "id": "eb3771ab",
   "metadata": {},
   "outputs": [
    {
     "data": {
      "text/plain": [
       "21652"
      ]
     },
     "execution_count": 207,
     "metadata": {},
     "output_type": "execute_result"
    }
   ],
   "source": [
    "p = len(pairs)\n",
    "trainSplit = int(p * TRAIN_PERCENT)\n",
    "trainSplit"
   ]
  },
  {
   "cell_type": "code",
   "execution_count": 209,
   "id": "38f0c01d",
   "metadata": {},
   "outputs": [
    {
     "name": "stdout",
     "output_type": "stream",
     "text": [
      "Evaluating 3 random sentences from train dataset\n",
      "\n",
      "\n",
      "> input sentence in selected language\n",
      " = target sentence translated in English \n",
      "< Output sentence from the model\n",
      "\n",
      "> everyone will die .\n",
      "= 人固有一死。\n",
      "< 人固有一死。 <EOS>\n",
      "\n",
      "> the dog always barks at me .\n",
      "= 狗總是對著我嚎叫。\n",
      "< 不要看湯姆。看著我。 <EOS>\n",
      "\n",
      "> i have an opinion .\n",
      "= 我有一個意見。\n",
      "< 我有一個意見。 <EOS>\n",
      "\n"
     ]
    }
   ],
   "source": [
    "evaluateRandomly(encoder, decoder)"
   ]
  },
  {
   "cell_type": "code",
   "execution_count": 210,
   "id": "c01a82e6",
   "metadata": {},
   "outputs": [
    {
     "name": "stdout",
     "output_type": "stream",
     "text": [
      "Evaluating 3 random sentences from test dataset\n",
      "\n",
      "\n",
      "> input sentence in selected language\n",
      " = target sentence translated in English \n",
      "< Output sentence from the model\n",
      "\n",
      "> sorry, tom, i don't have time to chat .\n",
      "= 湯姆，抱歉，我沒時間閒聊。\n",
      "< 我在这，你想聊天吗？ <EOS>\n",
      "\n",
      "> i'm almost finished reading this book .\n",
      "= 我就要读完这本书了。\n",
      "< 能够出一份力太好了。 <EOS>\n",
      "\n",
      "> his little brother is a famous soccer player .\n",
      "= 他弟弟是个有名的足球选手。\n",
      "< 湯姆是一個非常好的網球選手。 <EOS>\n",
      "\n"
     ]
    }
   ],
   "source": [
    "evaluateRandomly(encoder, decoder, onTrain = False)"
   ]
  },
  {
   "cell_type": "markdown",
   "id": "463c0dc6",
   "metadata": {},
   "source": [
    "# German\n",
    "\n",
    "Finally, let's see how it works with a reversed translation: from German to English"
   ]
  },
  {
   "cell_type": "code",
   "execution_count": 214,
   "id": "c4e5dcd5",
   "metadata": {},
   "outputs": [
    {
     "name": "stdout",
     "output_type": "stream",
     "text": [
      "Reading lines...\n",
      "Read 320340 sentence pairs\n",
      "Trimmed to 249679 sentence pairs\n",
      "Counting words...\n",
      "Counted words:\n",
      "deu 35150\n",
      "eng 17892\n"
     ]
    }
   ],
   "source": [
    "input_lang, output_lang, pairs = prepareData('deu', True)   # German -> english\n"
   ]
  },
  {
   "cell_type": "markdown",
   "id": "1a98c10b",
   "metadata": {},
   "source": [
    "The input and output languages contain several attributes (name, number of words, ...) and methods (convert a word into its index and viceversa):"
   ]
  },
  {
   "cell_type": "code",
   "execution_count": 215,
   "id": "846ac205",
   "metadata": {},
   "outputs": [
    {
     "data": {
      "text/plain": [
       "'deu'"
      ]
     },
     "execution_count": 215,
     "metadata": {},
     "output_type": "execute_result"
    }
   ],
   "source": [
    "input_lang.name"
   ]
  },
  {
   "cell_type": "code",
   "execution_count": 216,
   "id": "92b034d1",
   "metadata": {},
   "outputs": [
    {
     "data": {
      "text/plain": [
       "'eng'"
      ]
     },
     "execution_count": 216,
     "metadata": {},
     "output_type": "execute_result"
    }
   ],
   "source": [
    "output_lang.name"
   ]
  },
  {
   "cell_type": "code",
   "execution_count": 217,
   "id": "746195c1",
   "metadata": {
    "scrolled": true
   },
   "outputs": [
    {
     "data": {
      "text/plain": [
       "17892"
      ]
     },
     "execution_count": 217,
     "metadata": {},
     "output_type": "execute_result"
    }
   ],
   "source": [
    "output_lang.n_words"
   ]
  },
  {
   "cell_type": "code",
   "execution_count": 219,
   "id": "343300d4",
   "metadata": {},
   "outputs": [
    {
     "data": {
      "text/plain": [
       "19"
      ]
     },
     "execution_count": 219,
     "metadata": {},
     "output_type": "execute_result"
    }
   ],
   "source": [
    "output_lang.word2index[\"hello\"]  # get the index of english word \"hello\""
   ]
  },
  {
   "cell_type": "code",
   "execution_count": 220,
   "id": "3ccef6ff",
   "metadata": {},
   "outputs": [
    {
     "data": {
      "text/plain": [
       "'hello'"
      ]
     },
     "execution_count": 220,
     "metadata": {},
     "output_type": "execute_result"
    }
   ],
   "source": [
    "output_lang.index2word[19]"
   ]
  },
  {
   "cell_type": "code",
   "execution_count": 221,
   "id": "0c2ec058",
   "metadata": {},
   "outputs": [
    {
     "data": {
      "text/plain": [
       "630"
      ]
     },
     "execution_count": 221,
     "metadata": {},
     "output_type": "execute_result"
    }
   ],
   "source": [
    "input_lang.word2index[\"liebe\"] # german"
   ]
  },
  {
   "cell_type": "code",
   "execution_count": 222,
   "id": "555a7610",
   "metadata": {
    "scrolled": true
   },
   "outputs": [
    {
     "data": {
      "text/plain": [
       "55"
      ]
     },
     "execution_count": 222,
     "metadata": {},
     "output_type": "execute_result"
    }
   ],
   "source": [
    "output_lang.word2count['hello'] # number of occurences of word 'hello'"
   ]
  },
  {
   "cell_type": "markdown",
   "id": "db6952cc",
   "metadata": {},
   "source": [
    "Pairs are the data, basically a list with sentences in pairs: english and foreign language, in this case German:"
   ]
  },
  {
   "cell_type": "code",
   "execution_count": 223,
   "id": "c91a6b24",
   "metadata": {},
   "outputs": [
    {
     "data": {
      "text/plain": [
       "['entschuldigung ?', 'sorry ?']"
      ]
     },
     "execution_count": 223,
     "metadata": {},
     "output_type": "execute_result"
    }
   ],
   "source": [
    "pairs[42]"
   ]
  },
  {
   "cell_type": "code",
   "execution_count": 224,
   "id": "71252792",
   "metadata": {},
   "outputs": [],
   "source": [
    "TRAIN_PERCENT = 0.1"
   ]
  },
  {
   "cell_type": "code",
   "execution_count": 225,
   "id": "f2e3bd70",
   "metadata": {},
   "outputs": [
    {
     "name": "stdout",
     "output_type": "stream",
     "text": [
      "train sentences: 24967\n"
     ]
    }
   ],
   "source": [
    "trainData = get_trainDataloader(input_lang, output_lang, pairs, myDevice)\n"
   ]
  },
  {
   "cell_type": "code",
   "execution_count": 227,
   "id": "b1347f27",
   "metadata": {},
   "outputs": [
    {
     "name": "stdout",
     "output_type": "stream",
     "text": [
      "Source: torch.Size([32, 10])\n",
      "Target: torch.Size([32, 10])\n"
     ]
    }
   ],
   "source": [
    "# Check a batch\n",
    "for src_batch, tgt_batch in trainData:\n",
    "    print(\"Source:\", src_batch.shape)\n",
    "    print(\"Target:\", tgt_batch.shape)\n",
    "    break"
   ]
  },
  {
   "cell_type": "code",
   "execution_count": 228,
   "id": "6709ad7d",
   "metadata": {},
   "outputs": [
    {
     "data": {
      "text/plain": [
       "16"
      ]
     },
     "execution_count": 228,
     "metadata": {},
     "output_type": "execute_result"
    }
   ],
   "source": [
    "# pick a random index less than the batch size.\n",
    "index = random.randrange(len(src_batch))\n",
    "index"
   ]
  },
  {
   "cell_type": "code",
   "execution_count": 229,
   "id": "c26b2a71",
   "metadata": {
    "scrolled": true
   },
   "outputs": [
    {
     "name": "stdout",
     "output_type": "stream",
     "text": [
      "tensor([  17,  354, 1797,    3,    1,    0,    0,    0,    0,    0])\n"
     ]
    }
   ],
   "source": [
    "print(tgt_batch[index])"
   ]
  },
  {
   "cell_type": "code",
   "execution_count": 230,
   "id": "ab6520c4",
   "metadata": {},
   "outputs": [
    {
     "name": "stdout",
     "output_type": "stream",
     "text": [
      "it\n",
      "was\n",
      "superb\n",
      ".\n",
      "EOS\n",
      "SOS\n",
      "SOS\n",
      "SOS\n",
      "SOS\n",
      "SOS\n"
     ]
    }
   ],
   "source": [
    "for i in tgt_batch[index]:\n",
    "    print (output_lang.index2word[i.item()])"
   ]
  },
  {
   "cell_type": "code",
   "execution_count": 231,
   "id": "415a8208",
   "metadata": {},
   "outputs": [
    {
     "name": "stdout",
     "output_type": "stream",
     "text": [
      "tensor([  28,   86, 2998, 1443,    3,    1,    0,    0,    0,    0])\n"
     ]
    }
   ],
   "source": [
    "print(src_batch[index])"
   ]
  },
  {
   "cell_type": "code",
   "execution_count": 232,
   "id": "2ba9145d",
   "metadata": {},
   "outputs": [
    {
     "name": "stdout",
     "output_type": "stream",
     "text": [
      "es\n",
      "ist\n",
      "grandios\n",
      "gewesen\n",
      ".\n",
      "EOS\n",
      "SOS\n",
      "SOS\n",
      "SOS\n",
      "SOS\n"
     ]
    }
   ],
   "source": [
    "for i in src_batch[index]:\n",
    "    print (input_lang.index2word[i.item()])"
   ]
  },
  {
   "cell_type": "code",
   "execution_count": 233,
   "id": "af26b235",
   "metadata": {},
   "outputs": [],
   "source": [
    "decoder = AttnDecoderRNN(HIDDEN_SIZE, output_lang.n_words)\n",
    "decoder = decoder.to(myDevice)\n"
   ]
  },
  {
   "cell_type": "code",
   "execution_count": 234,
   "id": "daaa0f01",
   "metadata": {},
   "outputs": [
    {
     "name": "stdout",
     "output_type": "stream",
     "text": [
      "Decoder's state_dict:\n",
      "embedding.weight \t torch.Size([17892, 128])\n",
      "attention.Wa.weight \t torch.Size([128, 128])\n",
      "attention.Wa.bias \t torch.Size([128])\n",
      "attention.Ua.weight \t torch.Size([128, 128])\n",
      "attention.Ua.bias \t torch.Size([128])\n",
      "attention.Va.weight \t torch.Size([1, 128])\n",
      "attention.Va.bias \t torch.Size([1])\n",
      "gru.weight_ih_l0 \t torch.Size([384, 256])\n",
      "gru.weight_hh_l0 \t torch.Size([384, 128])\n",
      "gru.bias_ih_l0 \t torch.Size([384])\n",
      "gru.bias_hh_l0 \t torch.Size([384])\n",
      "out.weight \t torch.Size([17892, 128])\n",
      "out.bias \t torch.Size([17892])\n"
     ]
    }
   ],
   "source": [
    "print(\"Decoder's state_dict:\")\n",
    "for param_tensor in decoder.state_dict():\n",
    "    print(param_tensor, \"\\t\", decoder.state_dict()[param_tensor].size())\n"
   ]
  },
  {
   "cell_type": "code",
   "execution_count": 235,
   "id": "5fb0fe35",
   "metadata": {},
   "outputs": [
    {
     "data": {
      "text/plain": [
       "AttnDecoderRNN(\n",
       "  (embedding): Embedding(17892, 128)\n",
       "  (attention): BahdanauAttention(\n",
       "    (Wa): Linear(in_features=128, out_features=128, bias=True)\n",
       "    (Ua): Linear(in_features=128, out_features=128, bias=True)\n",
       "    (Va): Linear(in_features=128, out_features=1, bias=True)\n",
       "  )\n",
       "  (gru): GRU(256, 128, batch_first=True)\n",
       "  (out): Linear(in_features=128, out_features=17892, bias=True)\n",
       "  (dropout): Dropout(p=0.1, inplace=False)\n",
       ")"
      ]
     },
     "execution_count": 235,
     "metadata": {},
     "output_type": "execute_result"
    }
   ],
   "source": [
    "decoder"
   ]
  },
  {
   "cell_type": "code",
   "execution_count": 236,
   "id": "dd07f099",
   "metadata": {},
   "outputs": [
    {
     "name": "stdout",
     "output_type": "stream",
     "text": [
      "Starting train of the model ...\n",
      "time since start (estimated remaining) | epoch / 10 | progress (%) | loss average\n",
      "11m 12s (- 0m 0s) | 10 | 100% | 0.7508\n",
      "Training completed. Here is the loss plot:\n"
     ]
    },
    {
     "data": {
      "text/plain": [
       "<Figure size 640x480 with 0 Axes>"
      ]
     },
     "metadata": {},
     "output_type": "display_data"
    },
    {
     "data": {
      "image/png": "[encoded data removed]",
      "text/plain": [
       "<Figure size 640x480 with 1 Axes>"
      ]
     },
     "metadata": {},
     "output_type": "display_data"
    }
   ],
   "source": [
    "train(trainData, encoder, decoder, n_epochs = 10)"
   ]
  },
  {
   "cell_type": "code",
   "execution_count": 238,
   "id": "304f520a",
   "metadata": {},
   "outputs": [
    {
     "name": "stdout",
     "output_type": "stream",
     "text": [
      "i love you . <EOS>\n"
     ]
    }
   ],
   "source": [
    "translationEN = translate(encoder, decoder, 'ich liebe dich .', input_lang, output_lang)\n",
    "print(' '.join(w for w in translationEN))"
   ]
  },
  {
   "cell_type": "code",
   "execution_count": 239,
   "id": "d26d395b",
   "metadata": {},
   "outputs": [
    {
     "data": {
      "text/plain": [
       "24967"
      ]
     },
     "execution_count": 239,
     "metadata": {},
     "output_type": "execute_result"
    }
   ],
   "source": [
    "p = len(pairs)\n",
    "trainSplit = int(p * TRAIN_PERCENT)\n",
    "trainSplit"
   ]
  },
  {
   "cell_type": "code",
   "execution_count": 240,
   "id": "853787b0",
   "metadata": {},
   "outputs": [
    {
     "name": "stdout",
     "output_type": "stream",
     "text": [
      "Evaluating 3 random sentences from train dataset\n",
      "\n",
      "\n",
      "> input sentence in selected language\n",
      " = target sentence translated in English \n",
      "< Output sentence from the model\n",
      "\n",
      "> nicht bewegen !\n",
      "= don't move !\n",
      "< don't move ! <EOS>\n",
      "\n",
      "> wurde tom bestraft ?\n",
      "= was tom punished ?\n",
      "< are tom punished ? <EOS>\n",
      "\n",
      "> ich bin ziemlich pingelig .\n",
      "= i'm quite picky .\n",
      "< i'm quite picky . <EOS>\n",
      "\n"
     ]
    }
   ],
   "source": [
    "evaluateRandomly(encoder, decoder)"
   ]
  },
  {
   "cell_type": "code",
   "execution_count": 242,
   "id": "51739fe3",
   "metadata": {},
   "outputs": [
    {
     "name": "stdout",
     "output_type": "stream",
     "text": [
      "Evaluating 3 random sentences from test dataset\n",
      "\n",
      "\n",
      "> input sentence in selected language\n",
      " = target sentence translated in English \n",
      "< Output sentence from the model\n",
      "\n",
      "> tom hat einen vollbart .\n",
      "= tom has a full beard .\n",
      "< tom had a drunk . <EOS>\n",
      "\n",
      "> wenn du nach hause willst, dann geh !\n",
      "= if you want to go home, go .\n",
      "< show it to you . <EOS>\n",
      "\n",
      "> es ist schon 11 uhr .\n",
      "= it's already eleven .\n",
      "< there's it by . <EOS>\n",
      "\n"
     ]
    }
   ],
   "source": [
    "evaluateRandomly(encoder, decoder, onTrain = False)"
   ]
  },
  {
   "cell_type": "markdown",
   "id": "f8dbc858",
   "metadata": {},
   "source": [
    "## Bleu evaluation\n",
    "\n",
    "One more thing: to properly evaluate if a translation is correct, it's not enough to cmpare the target sentence and the translated sentence, as languages have nuances and multiple  alternative valid tranlsations.  \n",
    "A Bilingual Evaluation Understudy (BLEU) has been  proposed for evaluating machine translation results: for any n-gram, BLEU evaluates whether this n-gram appears in the target sequence.  \n",
    "*Papineni et al., 2002  \n",
    "BLEU: a method for automatic evaluation of machine translation. Proceedings of the 40th Annual Meeting of the Association for Computational Linguistics (pp. 311–318).*"
   ]
  },
  {
   "cell_type": "code",
   "execution_count": 255,
   "id": "d95050e7",
   "metadata": {},
   "outputs": [],
   "source": [
    "import collections"
   ]
  },
  {
   "cell_type": "code",
   "execution_count": 256,
   "id": "10c701d1",
   "metadata": {},
   "outputs": [],
   "source": [
    "def bleu(pred_seq, label_seq, k):  \n",
    "    \"\"\"Compute the BLEU.\"\"\"\n",
    "    pred_tokens, label_tokens = pred_seq.split(' '), label_seq.split(' ')\n",
    "    len_pred, len_label = len(pred_tokens), len(label_tokens)\n",
    "    \n",
    "    score = math.exp(min(0, 1 - len_label / len_pred))\n",
    "    \n",
    "    for n in range(1, min(k, len_pred) + 1):\n",
    "        \n",
    "        num_matches, label_subs = 0, collections.defaultdict(int)\n",
    "        \n",
    "        for i in range(len_label - n + 1):\n",
    "            label_subs[' '.join(label_tokens[i: i + n])] += 1\n",
    "            \n",
    "        for i in range(len_pred - n + 1):\n",
    "            if label_subs[' '.join(pred_tokens[i: i + n])] > 0:\n",
    "                num_matches += 1\n",
    "                label_subs[' '.join(pred_tokens[i: i + n])] -= 1\n",
    "                \n",
    "        score *= math.pow(num_matches / (len_pred - n + 1), math.pow(0.5, n))\n",
    "        \n",
    "    return score\n"
   ]
  },
  {
   "cell_type": "markdown",
   "id": "176c3721",
   "metadata": {},
   "source": [
    "Here is a quick & dirty test with BLEU evaluation:"
   ]
  },
  {
   "cell_type": "code",
   "execution_count": 244,
   "id": "97da834f",
   "metadata": {},
   "outputs": [],
   "source": [
    "engs = ['go .', 'i lost .', 'he\\'s calm .', 'i\\'m home .']\n"
   ]
  },
  {
   "cell_type": "code",
   "execution_count": 247,
   "id": "8ebde337",
   "metadata": {},
   "outputs": [],
   "source": [
    "deus = ['gehe !', 'ich habe verloren .', 'er ist ruhig .', 'ich bin zu hause .']\n"
   ]
  },
  {
   "cell_type": "code",
   "execution_count": 287,
   "id": "0714b2ac",
   "metadata": {},
   "outputs": [
    {
     "name": "stdout",
     "output_type": "stream",
     "text": [
      "['go away .', 'i lost lost .', \"he's a calm calm .\", \"i'm home at home .\"]\n"
     ]
    }
   ],
   "source": [
    "preds = []\n",
    "\n",
    "for ds in deus:\n",
    "    es = translate(encoder, decoder, ds, input_lang, output_lang) \n",
    "    es = ' '.join([w for w in es if w != '<EOS>'])\n",
    "    preds.append(es)\n",
    "    \n",
    "print(preds)"
   ]
  },
  {
   "cell_type": "code",
   "execution_count": 293,
   "id": "2c3b11a9",
   "metadata": {},
   "outputs": [
    {
     "name": "stdout",
     "output_type": "stream",
     "text": [
      "gehe ! => go away . | bleu = 0.000\n",
      "ich habe verloren . => i lost lost . | bleu = 0.783\n",
      "er ist ruhig . => he's a calm calm . | bleu = 0.548\n",
      "ich bin zu hause . => i'm home at home . | bleu = 0.651\n"
     ]
    }
   ],
   "source": [
    "for en, de, p in zip(engs, deus, preds):\n",
    "    translation = []\n",
    "    \n",
    "    print(f'{de} => {p} | bleu = '\n",
    "          f'{bleu(p, en, k=2):.3f}')"
   ]
  },
  {
   "cell_type": "markdown",
   "id": "41edf0d9",
   "metadata": {},
   "source": [
    "BLEU is a number between 0 (totally incorrect translation) and 1 (perfect translation), so higher the number, better the result."
   ]
  },
  {
   "cell_type": "code",
   "execution_count": 304,
   "id": "5dd94084",
   "metadata": {},
   "outputs": [],
   "source": [
    "def evaluateOnTest(encoder, decoder, pairs, input_lang, output_lang):\n",
    "\n",
    "    bleuTotal = 0\n",
    "    n = 0\n",
    "    \n",
    "    for i in range(trainSplit+1, len(pairs)):\n",
    "        try:\n",
    "            output_words = translate(encoder, decoder, pairs[i][0], input_lang, output_lang)\n",
    "        except:\n",
    "            continue\n",
    "            \n",
    "        output_sentence = ' '.join(output_words)\n",
    "        output_sentence = output_sentence.removesuffix(\"<EOS>\")\n",
    "\n",
    "        b = bleu(output_sentence, pairs[i][1], k=2)\n",
    "        bleuTotal += b\n",
    "        n += 1\n",
    "        \n",
    "    print(\"Total bleu =\", bleuTotal)\n",
    "    print(\"Average bleu = \", bleuTotal / n)"
   ]
  },
  {
   "cell_type": "code",
   "execution_count": 305,
   "id": "f958b800",
   "metadata": {},
   "outputs": [
    {
     "name": "stdout",
     "output_type": "stream",
     "text": [
      "Total bleu = 26807.97134789218\n",
      "Average bleu =  0.14522588015868348\n"
     ]
    }
   ],
   "source": [
    "evaluateOnTest(encoder, decoder, pairs, input_lang, output_lang)\n"
   ]
  },
  {
   "cell_type": "code",
   "execution_count": null,
   "id": "d1b15137",
   "metadata": {},
   "outputs": [],
   "source": []
  }
 ],
 "metadata": {
  "kernelspec": {
   "display_name": "Python 3 (ipykernel)",
   "language": "python",
   "name": "python3"
  },
  "language_info": {
   "codemirror_mode": {
    "name": "ipython",
    "version": 3
   },
   "file_extension": ".py",
   "mimetype": "text/x-python",
   "name": "python",
   "nbconvert_exporter": "python",
   "pygments_lexer": "ipython3",
   "version": "3.11.0"
  }
 },
 "nbformat": 4,
 "nbformat_minor": 5
}
