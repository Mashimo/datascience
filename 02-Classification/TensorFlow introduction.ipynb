{
 "cells": [
  {
   "cell_type": "markdown",
   "id": "changed-explorer",
   "metadata": {},
   "source": [
    "# What is TensorFlow?\n",
    "\n",
    "TensorFlow is a software library used for machine learning applications, especially deep learning. It uses symbolic mathematics (instead of purely numerical computations), which enables it to perform operations like automatic differentiation on a computational graph such as a neural network. Another major benefit is its ability to perform computations on GPU hardware, potentially leading to large speedups. TensorFlow is one of the most popular libraries available for this purpose; other similar libraries include PyTorch, Chainer, Apache MXNet, Caffe and Microsoft CNTK.\n",
    "\n",
    "TensorFlow was developed by Google Brain and version 1.0.0 was released in 2017. It emerged from an earlier proprietary framework called DistBelief. \n",
    "\n",
    "TensorFlow is released as open source software, and has an active community of contributors and users. \n",
    "\n",
    "The latest release of TensorFlow 2 makes use of the Keras API as the default high-level abstraction to easily construct and customize neural networks, forgetting about the nitty-gritty algorithms written in C++ that are running behind the scenes. This greatly simplifies the numerical implementation for the user, resulting in a faster and intuitive algorithm implementation. You just need a few lines of code to define a cutting-edge convolutional network. \n",
    "\n",
    "Another fundamental feature of TensorFlow is its ability to develop and deploy models in multiple platforms and environments.  If you want to deploy on mobile and embedded devices then you can choose TensorFlow Lite. This means that TensorFlow is aiming to ensure the portability and scalability of the software, thus paving the way towards a future where any device could make use of neural networks while receiving information from IoT sensors and cloud servers. There are now indeed several chipsets whose aim is solely to execute neural networks, such as the TPU from Google or the FSD chip from Tesla.\n",
    "\n",
    "The [TensorFlow documentation](https://www.tensorflow.org/api_docs/python/tf) can be found online. "
   ]
  },
  {
   "cell_type": "code",
   "execution_count": 1,
   "id": "immune-conjunction",
   "metadata": {},
   "outputs": [],
   "source": [
    "# Let's start importing Tensorflow\n",
    "\n",
    "import tensorflow as tf"
   ]
  },
  {
   "cell_type": "code",
   "execution_count": 2,
   "id": "fancy-knitting",
   "metadata": {},
   "outputs": [
    {
     "data": {
      "text/plain": [
       "'2.0.0'"
      ]
     },
     "execution_count": 2,
     "metadata": {},
     "output_type": "execute_result"
    }
   ],
   "source": [
    "# Check its version\n",
    "\n",
    "tf.__version__"
   ]
  },
  {
   "cell_type": "markdown",
   "id": "signal-rwanda",
   "metadata": {},
   "source": [
    "# CNN classifier for the MNIST dataset\n",
    "We will revisit the neural network built to recognise handwritten digits, this time using Tensorflow.   \n",
    "We can see how to build, compile and fit a convolutional neural network (CNN) model to the MNIST dataset of images of handwritten digits.\n",
    "  \n",
    "## The MNIST dataset\n",
    "\n",
    "The [MNIST dataset](http://yann.lecun.com/exdb/mnist/) consists of a training set of 60,000 handwritten digits with corresponding labels, and a test set of 10,000 images. The images have been normalised and centred. The dataset is frequently used in machine learning research, and has become a standard benchmark for image classification models.   \n",
    "\n",
    "- Y. LeCun, L. Bottou, Y. Bengio, and P. Haffner. \"Gradient-based learning applied to document recognition.\" Proceedings of the IEEE, 86(11):2278-2324, November 1998.\n",
    "\n",
    "And is available inside Tensorflow!  \n",
    "The goal is to construct a neural network that classifies images of handwritten digits into one of 10 classes."
   ]
  },
  {
   "cell_type": "markdown",
   "id": "needed-festival",
   "metadata": {},
   "source": [
    "## The Keras API\n",
    "In TensorFlow 2 a big\n",
    "drive is being towards ease of use. At the highest level,\n",
    "the easiest way to start building deep learning models in TensorFlow\n",
    "is to use the **Keras API**, and that's what we're going\n",
    "to focus on.  \n",
    "\n",
    "The Keras Projects was\n",
    "authored by Francois Chollet and it's a high-level neural\n",
    "networks API developed with the specific goal of\n",
    "making it easy to build and infer from\n",
    "deep learning models. It was developed\n",
    "as an API without the backend and actually supports multiple\n",
    "backend implementations. In TensorFlow 2, it's been\n",
    "adopted as the high level API. Despite being high\n",
    "level and easy to use, it's still very flexible; probably 99 percent of whatever you want to do, you can achieve it\n",
    "using the Keras API.  \n",
    "  \n",
    "You can visit the [Keras\n",
    "homepage](keras.io), where can read more about the Keras Project and its\n",
    "development principles. \n",
    "When you install TensorFlow 2, you get all of this packaged\n",
    "up as part of the library in the namespace,\n",
    "TensorFlow.Keras. "
   ]
  },
  {
   "cell_type": "markdown",
   "id": "laughing-garden",
   "metadata": {},
   "source": [
    "## Load the data"
   ]
  },
  {
   "cell_type": "code",
   "execution_count": 3,
   "id": "present-developer",
   "metadata": {},
   "outputs": [],
   "source": [
    "# load the MNIST data directly from Tensorflow Keras\n",
    "\n",
    "mnist_data = tf.keras.datasets.mnist\n",
    "(train_images, train_labels), (test_images, test_labels) = mnist_data.load_data()"
   ]
  },
  {
   "cell_type": "code",
   "execution_count": 4,
   "id": "extensive-leonard",
   "metadata": {},
   "outputs": [
    {
     "data": {
      "text/plain": [
       "60000"
      ]
     },
     "execution_count": 4,
     "metadata": {},
     "output_type": "execute_result"
    }
   ],
   "source": [
    "len(train_images) # train and test datasets are numpy arrays"
   ]
  },
  {
   "cell_type": "code",
   "execution_count": 5,
   "id": "equipped-integral",
   "metadata": {},
   "outputs": [
    {
     "data": {
      "text/plain": [
       "10000"
      ]
     },
     "execution_count": 5,
     "metadata": {},
     "output_type": "execute_result"
    }
   ],
   "source": [
    "len(test_images)"
   ]
  },
  {
   "cell_type": "markdown",
   "id": "macro-hungary",
   "metadata": {},
   "source": [
    "As you can see, the dataset is already available as a training and a testing set, no need to split them.  \n",
    "Let's have a look at one image and its label:"
   ]
  },
  {
   "cell_type": "code",
   "execution_count": 6,
   "id": "noted-gabriel",
   "metadata": {},
   "outputs": [
    {
     "name": "stdout",
     "output_type": "stream",
     "text": [
      "Label: this is a  7\n"
     ]
    },
    {
     "data": {
      "image/png": "[encoded data removed]",
      "text/plain": [
       "<Figure size 432x288 with 1 Axes>"
      ]
     },
     "metadata": {
      "needs_background": "light"
     },
     "output_type": "display_data"
    }
   ],
   "source": [
    "import matplotlib.pyplot as plt    # to plot images\n",
    "%matplotlib inline\n",
    "\n",
    "\n",
    "   # Example of a picture\n",
    "indexImage = 4000  # try any index between 0 and 59999.\n",
    " \n",
    "plt.imshow(train_images[indexImage], cmap='gray');\n",
    "print (\"Label: this is a \", train_labels[indexImage])"
   ]
  },
  {
   "cell_type": "code",
   "execution_count": 7,
   "id": "behind-worship",
   "metadata": {},
   "outputs": [
    {
     "data": {
      "text/plain": [
       "(60000, 28, 28)"
      ]
     },
     "execution_count": 7,
     "metadata": {},
     "output_type": "execute_result"
    }
   ],
   "source": [
    "train_images.shape"
   ]
  },
  {
   "cell_type": "markdown",
   "id": "horizontal-neutral",
   "metadata": {},
   "source": [
    "Images are 28 x 28 pixels.\n",
    "\n",
    "## Preprocess the data\n",
    "\n",
    "First, let's preprocess the data by scaling the training and test images so their values lie in the range from 0 to 1.  \n",
    "This is all we need, the one hot encoding of the target variable is already done in the dataset."
   ]
  },
  {
   "cell_type": "code",
   "execution_count": 8,
   "id": "centered-caribbean",
   "metadata": {},
   "outputs": [],
   "source": [
    "import numpy as np\n",
    "\n",
    "# takes in the training and test images as loaded in the cell above, and scales them\n",
    "# so that they have minimum and maximum values equal to 0 and 1 respectively.\n",
    "    \n",
    "scaled_train_images = train_images / np.amax(train_images)\n",
    "scaled_test_images  = test_images / np.amax(test_images) "
   ]
  },
  {
   "cell_type": "code",
   "execution_count": 9,
   "id": "disciplinary-croatia",
   "metadata": {},
   "outputs": [],
   "source": [
    "# Add a dummy channel dimension (needed for convolutional layer)\n",
    "\n",
    "scaled_train_images = scaled_train_images[..., np.newaxis]\n",
    "scaled_test_images = scaled_test_images[..., np.newaxis]"
   ]
  },
  {
   "cell_type": "code",
   "execution_count": 10,
   "id": "imported-projection",
   "metadata": {},
   "outputs": [
    {
     "data": {
      "text/plain": [
       "(28, 28, 1)"
      ]
     },
     "execution_count": 10,
     "metadata": {},
     "output_type": "execute_result"
    }
   ],
   "source": [
    "scaled_train_images[0].shape"
   ]
  },
  {
   "cell_type": "markdown",
   "id": "virtual-armor",
   "metadata": {},
   "source": [
    "## First CNN model\n",
    "\n",
    "We start simple, like our previous example. Our neural network has 3 layers: an input layer, a hidden layer and an output layer.  \n",
    "You'll find that most of the neural networks\n",
    "that you work with, can be built using\n",
    "the basic Keras classes such as the **sequential class**.  \n",
    "It's a really easy\n",
    "and intuitive way to construct deep\n",
    "learning models.  \n",
    "The way we build the \n",
    "model is really simple: we just create an instance\n",
    "of the sequential class and then we pass in a\n",
    "list of Keras layers.  \n",
    "Layers are the buidling blocks of neural networks in Keras. https://keras.io/api/layers/\n",
    "  \n",
    "The Sequential class could be used to build simple neural\n",
    "networks, feed-forward networks which are also called\n",
    "Multilayer Perceptrons or MLPs.  \n",
    "But here we'll see how to build\n",
    "convolutional neural networks by including convolutional and\n",
    "pooling layers in our model.\n",
    "  \n",
    "### Convolutional Neural Network\n",
    "In deep learning, a [convolutional neural network (CNN, or ConvNet)](https://en.wikipedia.org/wiki/Convolutional_neural_network) is a class of deep neural networks, most commonly applied to analysing visual imagery    \n",
    "The name “convolutional neural network” indicates that the network employs a mathematical operation called convolution. CNNs use convolution in place of general matrix multiplication in at least one of their layers.  \n",
    "  \n",
    "The role of the ConvNet is to reduce the images into a form which is easier to process, without losing features which are critical for getting a good prediction.  \n",
    "The objective of the Convolution Operation is to extract the high-level features such as edges, from the input image.  \n",
    "#### Input: the convolutional layer\n",
    "In a CNN, the input is a tensor with shape (number of images) x (image height) x (image width) x (input channels). After passing through a convolutional layer, the image becomes abstracted to a feature map.     \n",
    "#### The pooling layer\n",
    "Convolutional networks may include local or global pooling layers to streamline the underlying computation. Pooling layers reduce the dimensions of the data by combining the outputs of neuron clusters at one layer into a single neuron in the next layer. Local pooling combines small clusters, typically 2 x 2.  \n",
    "There are two common types of pooling: max and average. Max pooling uses the maximum value of each cluster of neurons at the prior layer, while average pooling instead uses the average value.  \n",
    "  \n",
    "The Pooling layer is therefore responsible for reducing the spatial size of the Convolved Feature. This is to decrease the computational power required to process the data through dimensionality reduction. Furthermore, it is useful for extracting dominant features which are rotational and positional invariant, thus maintaining the process of effectively training of the model.\n",
    "  \n",
    "### Build the first CNN model"
   ]
  },
  {
   "cell_type": "code",
   "execution_count": 11,
   "id": "authentic-memorial",
   "metadata": {},
   "outputs": [],
   "source": [
    "from tensorflow.keras.models import Sequential # Sequential model\n",
    "from tensorflow.keras.layers import Dense, Flatten, Conv2D, MaxPooling2D # layers"
   ]
  },
  {
   "cell_type": "code",
   "execution_count": 12,
   "id": "daily-ideal",
   "metadata": {},
   "outputs": [],
   "source": [
    "# Build the Sequential convolutional neural network model\n",
    "\n",
    "CNNModel = Sequential([\n",
    "    Conv2D(filters = 8, kernel_size=(3,3), padding= 'SAME', activation='relu', \n",
    "           name = 'Convolution', input_shape=scaled_train_images[0].shape),\n",
    "    MaxPooling2D((2,2), name = 'Pooling'),\n",
    "    Flatten(name = 'InputFlattening'),\n",
    "    Dense(25, activation='relu', name = 'hiddenLayer'),\n",
    "    Dense(10, activation='softmax', name='outputLayer')])"
   ]
  },
  {
   "cell_type": "markdown",
   "id": "pleasant-auckland",
   "metadata": {},
   "source": [
    "In this model, I'm importing four layer types. You can see that I'm making the first layer a [convolution](https://keras.io/api/layers/convolution_layers/) together with a pooling and the flatten layer.  \n",
    "\n",
    "This layer creates a convolution kernel that is convolved with the layer input to produce a tensor of outputs. It has two required arguments: the first is the the dimensionality of the output space (i.e. the number of output filters in the convolution) and we define 8 filters in this layer.  \n",
    "  \n",
    "And the second is the shape\n",
    "of the convolutional kernel: an integer or tuple/list of 2 integers, specifying the height and width of the 2D convolution window. \n",
    "\n",
    "Why is it that you need an input shape of 28\n",
    "times 28 times 1, and not just 28 times 28? Well, you can try to see what happens when you remove that one. It in deed seems that\n",
    "an error pops up. This is due to the\n",
    "input requirements of the conv2d layer, since that one is necessary and indicates the number of\n",
    "channels in our input. \n",
    "\n",
    "One thing you might have\n",
    "noticed is that we explicitly tell the model what shape the input data\n",
    "will be at the build stage. \n",
    "I'm giving explicitly \n",
    "the input shape to the first layer in my model so that the weights and biases are created when I define\n",
    "the model instance. \n",
    "Now in this case, the weights and biases will be created and initialized\n",
    "straight away. \n",
    "\n",
    "Alternatively, you can not saying what size or shape\n",
    "the input is going to be and leave the creation of weights and biases until\n",
    "the training stage when you feed the data into the model. \n",
    "\n",
    "So, our kernel is\n",
    "convolving over the input image with a window of 3 by 3\n",
    "pixels using 8 filters. We're also passing the output\n",
    "through a *relu* activation function.\n",
    "Finally, the *SAME* padding just makes sure that the spatial dimensions don't change.\n",
    "\n",
    "The second layer is a MaxPooling layer. This layer has one required argument,\n",
    "which is the pooling window size. And that's also 3 by 3 pixels.\n",
    "  \n",
    "The\n",
    "input shape is two-dimensional and that's why I'm flattening (unrolling) each data\n",
    "input to unroll it into a long one-dimensional\n",
    "vector ready to be passed\n",
    "through to the final two Dense layers.\n",
    "\n",
    "\n",
    "You can see that when you\n",
    "create a dense layer, you always have to say how many units should\n",
    "be in that layer. That's the first argument. You can also optionally pass in an activation like\n",
    " here, so the hidden layer\n",
    "has a *relu* activation. If you don't pass in\n",
    "anything for the activation, the dense layer will have a linear activation or no\n",
    "activation by default.  \n",
    "\n",
    "The output layer has 10 units and is using a\n",
    "*softmax* activation. This\n",
    "is a model for a classification task\n",
    "where they're 10 classes.  \n",
    "  \n",
    "Note that I have named each layer. This is totally optional.  \n",
    "    \n",
    "So now you've seen how one way to\n",
    "build sequential models. An alternative way would be - instead of passing\n",
    "in a list of layers - to use the *model.add()* method to append additional\n",
    "layers to the model. "
   ]
  },
  {
   "cell_type": "code",
   "execution_count": 13,
   "id": "prospective-light",
   "metadata": {},
   "outputs": [
    {
     "name": "stdout",
     "output_type": "stream",
     "text": [
      "Model: \"sequential\"\n",
      "_________________________________________________________________\n",
      "Layer (type)                 Output Shape              Param #   \n",
      "=================================================================\n",
      "Convolution (Conv2D)         (None, 28, 28, 8)         80        \n",
      "_________________________________________________________________\n",
      "Pooling (MaxPooling2D)       (None, 14, 14, 8)         0         \n",
      "_________________________________________________________________\n",
      "InputFlattening (Flatten)    (None, 1568)              0         \n",
      "_________________________________________________________________\n",
      "hiddenLayer (Dense)          (None, 25)                39225     \n",
      "_________________________________________________________________\n",
      "outputLayer (Dense)          (None, 10)                260       \n",
      "=================================================================\n",
      "Total params: 39,565\n",
      "Trainable params: 39,565\n",
      "Non-trainable params: 0\n",
      "_________________________________________________________________\n"
     ]
    }
   ],
   "source": [
    "# Print the model summary\n",
    "\n",
    "CNNModel.summary()"
   ]
  },
  {
   "cell_type": "markdown",
   "id": "conventional-defendant",
   "metadata": {},
   "source": [
    "Printing \n",
    "the summary of the model you can see for each layer its given name, type, the tensor's output size and how many parameters has.  \n",
    "\n",
    "After being processed by\n",
    "the convolutional layer, the input\n",
    "shape of 28 by 28 becomes a tensor of\n",
    "shape 28 by 28 by 8. The 8 is because we created\n",
    "the layer with 8 filters. The shape remains 28 by 28 because\n",
    "these convolutional layers have the *SAME* padding. And also, the default stride is one (non-overlapping window).\n",
    "\n",
    "Likewise, the pooling\n",
    "layer has a 3 by 3 window. And these are non-overlapping. That downsamples the input to\n",
    "a 14 by 14 by 8 shaped tensor. \n",
    "\n",
    "The flatten layer unrolls the tensor into one with shape 1568 = 14 x 14 x 8\n",
    "  \n",
    "## Compile the model\n",
    "So far, we've seen how to build neural networks in TensorFlow using\n",
    "the Keras sequential class. But to start training our network on data,\n",
    "we're also going to need to define a **loss function** that will give us a measure\n",
    "of our model's performance and the optimization algorithm. "
   ]
  },
  {
   "cell_type": "code",
   "execution_count": 14,
   "id": "internal-stone",
   "metadata": {},
   "outputs": [],
   "source": [
    "CNNModel.compile(optimizer='Adam',\n",
    "             loss='sparse_categorical_crossentropy',\n",
    "             metrics=['accuracy'])"
   ]
  },
  {
   "cell_type": "markdown",
   "id": "limited-viking",
   "metadata": {},
   "source": [
    "This is what is defining the loss function\n",
    "and the optimizer for the network. And as you can see,\n",
    "we're defining the loss function to be the *sparse categorical crossentropy* which makes\n",
    "sense for this network and task.  All the labels have\n",
    "a sparse representation, so just a single\n",
    "integer for each label, and *train_labels* is a one-dimensional array with length equal to the\n",
    "number of samples.  \n",
    "  \n",
    "And the optimizer is *Adam*. These options are being passed\n",
    "into the compile method of our sequential model object. We can also optionally define a set of\n",
    "metrics that we want to keep track of as the model is training. These metrics will be calculated for\n",
    "each epoch of training along with the evaluation of\n",
    "the loss function on the training data. We'll see this in action later when\n",
    "we start training some models.  \n",
    "Here we're just passing in a list\n",
    "with one metric that is the accuracy. Of course, there are lots of options for\n",
    "each one of these keyword arguments. For example, we could instead choose\n",
    "the *sgd or\n",
    "stochastic gradient descent* optimizer or *rmsprop* or *adadelta*. For the loss function, you could choose\n",
    "the mean squared error although that might be more appropriate for a regression task, or the binary cross entropy.  \n",
    "In the list of metrics, you could add more, e.g. the mean absolute error.  \n",
    "  \n",
    "One thing that you'll be noticing is that\n",
    "Keras is giving us a really nice usable interface for setting up these models with a lot of readable strings\n",
    "that we can pass in to many of the options. It's definitely worth knowing though that\n",
    "each of these strings is a reference to another object or function and we can always use that object or\n",
    "function directly. For example, instead of passing in the string Adam,\n",
    "I can directly pass in an object that comes from\n",
    "the *tf.keras.optimizers* module. The reason why you might want to do\n",
    "this is because it gives you greater flexibility as many of these objects\n",
    "themselves have options that you might want to have control over.  "
   ]
  },
  {
   "cell_type": "code",
   "execution_count": 15,
   "id": "alike-algeria",
   "metadata": {},
   "outputs": [
    {
     "name": "stdout",
     "output_type": "stream",
     "text": [
      "sparse_categorical_crossentropy\n",
      "<tensorflow.python.keras.optimizer_v2.adam.Adam object at 0x7fa9f5b4e190>\n",
      "[<tensorflow.python.keras.metrics.MeanMetricWrapper object at 0x7faa208c2c10>]\n",
      "<tf.Variable 'learning_rate:0' shape=() dtype=float32, numpy=0.001>\n"
     ]
    }
   ],
   "source": [
    "# Print the resulting model attributes\n",
    "\n",
    "print(CNNModel.loss)\n",
    "print(CNNModel.optimizer)\n",
    "print(CNNModel.metrics)\n",
    "print(CNNModel.optimizer.lr)"
   ]
  },
  {
   "cell_type": "markdown",
   "id": "unable-understanding",
   "metadata": {},
   "source": [
    "## Fit the model to the training data\n"
   ]
  },
  {
   "cell_type": "markdown",
   "id": "great-mileage",
   "metadata": {},
   "source": [
    "Once the neural\n",
    "network has been built as sequential models and the optimizer loss function and\n",
    "metrics have been set using the compile method, we have got everything we need to\n",
    "start training the model on data.  \n",
    "We just need to call *model.fit* and pass in the training inputs and the labels. They are\n",
    " Numpy arrays, where all of the dataset\n",
    "inputs have been stacked together\n",
    "into a single array.  \n",
    "  \n",
    "Passing these arrays\n",
    "into *model.fit*, we will then train the model for one pass through the\n",
    "training data or one epoch. You'll probably want\n",
    "to train a model for more than just\n",
    "one epoch, though, and here we pass in the optional keyword\n",
    "argument *epochs* equals 5. So the training will make five complete passes\n",
    "through the dataset.  \n",
    "  \n",
    "Another option to\n",
    "mention is the batch size. By default, the\n",
    "batch size is set to 32 whenever you pass in the dataset inputs and outputs as single Numpy arrays\n",
    "as we are doing here. If you want to change that to\n",
    "use a different batch size, you can just use the\n",
    "*batch_size* argument.  \n",
    "  \n",
    "Finally, an important\n",
    "point is that calling *model.fit* actually\n",
    "returns something: a TensorFlow history object. This object contains a record of the progress of\n",
    "the network during training in terms of the loss and the metrics that we defined\n",
    "when we compiled the model. "
   ]
  },
  {
   "cell_type": "code",
   "execution_count": 16,
   "id": "driven-japan",
   "metadata": {},
   "outputs": [
    {
     "name": "stdout",
     "output_type": "stream",
     "text": [
      "Train on 60000 samples\n",
      "Epoch 1/5\n",
      "60000/60000 [==============================] - 14s 238us/sample - loss: 0.6091 - accuracy: 0.8364\n",
      "Epoch 2/5\n",
      "60000/60000 [==============================] - 13s 225us/sample - loss: 0.2364 - accuracy: 0.9306\n",
      "Epoch 3/5\n",
      "60000/60000 [==============================] - 13s 224us/sample - loss: 0.1727 - accuracy: 0.9494\n",
      "Epoch 4/5\n",
      "60000/60000 [==============================] - 14s 225us/sample - loss: 0.1376 - accuracy: 0.9594\n",
      "Epoch 5/5\n",
      "60000/60000 [==============================] - 14s 231us/sample - loss: 0.1160 - accuracy: 0.9661\n"
     ]
    }
   ],
   "source": [
    "#  Train the model for 5 epochs on the scaled_train_images and train_labels. \n",
    "#  Save the training history, as returned by model.fit.\n",
    "    \n",
    "train_history = CNNModel.fit(scaled_train_images, train_labels, epochs=5, batch_size=256)"
   ]
  },
  {
   "cell_type": "markdown",
   "id": "mineral-charity",
   "metadata": {},
   "source": [
    "Note how the accuracy improved and the loss decreased after each epoch.  \n",
    "We can see that better in a couple of charts:"
   ]
  },
  {
   "cell_type": "markdown",
   "id": "renewable-check",
   "metadata": {},
   "source": [
    "## Plot the learning curves\n",
    "\n",
    "We will now plot two graphs:\n",
    "* Epoch vs accuracy\n",
    "* Epoch vs loss\n",
    "\n",
    "We will load the model history into a pandas `DataFrame` and use the `plot` method to output the required graphs."
   ]
  },
  {
   "cell_type": "code",
   "execution_count": 17,
   "id": "intellectual-advocacy",
   "metadata": {},
   "outputs": [
    {
     "data": {
      "text/plain": [
       "<bound method NDFrame.head of        loss  accuracy\n",
       "0  0.609084  0.836417\n",
       "1  0.236389  0.930583\n",
       "2  0.172693  0.949400\n",
       "3  0.137574  0.959417\n",
       "4  0.115962  0.966117>"
      ]
     },
     "execution_count": 17,
     "metadata": {},
     "output_type": "execute_result"
    }
   ],
   "source": [
    "import pandas as pd\n",
    "\n",
    "# load the model history into a pandas DataFrame\n",
    "\n",
    "historyFrame = pd.DataFrame(train_history.history)\n",
    "historyFrame.head"
   ]
  },
  {
   "cell_type": "code",
   "execution_count": 18,
   "id": "structural-pricing",
   "metadata": {},
   "outputs": [
    {
     "data": {
      "image/png": "[encoded data removed]",
      "text/plain": [
       "<Figure size 432x288 with 1 Axes>"
      ]
     },
     "metadata": {
      "needs_background": "light"
     },
     "output_type": "display_data"
    }
   ],
   "source": [
    "# Accuracy vs Epochs plot\n",
    "\n",
    "acc_plot = historyFrame.plot(y=\"accuracy\", title=\"Accuracy vs Epochs\", legend=False)\n",
    "acc_plot.set(xlabel=\"Epochs\", ylabel=\"Accuracy\");"
   ]
  },
  {
   "cell_type": "code",
   "execution_count": 19,
   "id": "convenient-innocent",
   "metadata": {},
   "outputs": [
    {
     "data": {
      "image/png": "[encoded data removed]",
      "text/plain": [
       "<Figure size 432x288 with 1 Axes>"
      ]
     },
     "metadata": {
      "needs_background": "light"
     },
     "output_type": "display_data"
    }
   ],
   "source": [
    "# Loss vs Epochs plot\n",
    "\n",
    "acc_plot = historyFrame.plot(y=\"loss\", title = \"Loss vs Epochs\",legend=False)\n",
    "acc_plot.set(xlabel=\"Epochs\", ylabel=\"Loss\");"
   ]
  },
  {
   "cell_type": "markdown",
   "id": "returning-number",
   "metadata": {},
   "source": [
    "## Evaluate the model\n"
   ]
  },
  {
   "cell_type": "markdown",
   "id": "southwest-merchandise",
   "metadata": {},
   "source": [
    "Now we are going to see how well our network has learned by evaluating its performance on a\n",
    "held out test set. We are also going to be\n",
    "putting our network into action by getting its\n",
    "predictions on unseen input data.  \n",
    "Running *model.evaluate* \n",
    "will iterate over the test set and calculate the loss and the metrics\n",
    "on that test set. So for example, if we had defined cross-entropy\n",
    "loss function when we compiled the model, as well as an accuracy metric, then this loss function and this metric will be evaluated on the test set and returned\n",
    "by the *model.evaluate* call. If we had included more metrics then they would all\n",
    "just be returned by *model.evaluate*. Hopefully, if our model\n",
    "has trained well, then these loss or\n",
    "metric values won't be too far off what we achieved\n",
    "on the training set. "
   ]
  },
  {
   "cell_type": "code",
   "execution_count": 20,
   "id": "vital-miami",
   "metadata": {},
   "outputs": [
    {
     "name": "stdout",
     "output_type": "stream",
     "text": [
      "10000/1 - 2s - loss: 0.0692 - accuracy: 0.9661\n",
      "Test loss: 0.11263225589469075\n",
      "Test accuracy: 0.9660999774932861\n"
     ]
    }
   ],
   "source": [
    "test_loss, test_accuracy = CNNModel.evaluate(scaled_test_images, test_labels, verbose=2)\n",
    "\n",
    "print(f\"Test loss: {test_loss}\")\n",
    "print(f\"Test accuracy: {test_accuracy}\")"
   ]
  },
  {
   "cell_type": "markdown",
   "id": "pointed-retention",
   "metadata": {},
   "source": [
    "## Model predictions\n",
    "\n",
    "Let's see some model predictions! We will randomly select four images from the test data, and display the image and label for each. \n",
    "\n",
    "For each test image, model's prediction (the label with maximum probability) is shown, together with a plot showing the model's categorical distribution."
   ]
  },
  {
   "cell_type": "markdown",
   "id": "developmental-jumping",
   "metadata": {},
   "source": [
    "If we want to use\n",
    "our trained model to get predictions on unseen data, then we use the\n",
    "*model.predict* method. This method doesn't take\n",
    "any labels of course, it just takes in an\n",
    "array of inputs.  \n",
    "*Model.predict* will then return the outputs of the network\n",
    "for these given inputs.  "
   ]
  },
  {
   "cell_type": "code",
   "execution_count": 21,
   "id": "wanted-beatles",
   "metadata": {},
   "outputs": [],
   "source": [
    "# get model predictions on randomly selected test images\n",
    "\n",
    "num_test_images = scaled_test_images.shape[0]\n",
    "\n",
    "random_inx = np.random.choice(num_test_images, 4)\n",
    "random_test_images = scaled_test_images[random_inx, ...]\n",
    "random_test_labels = test_labels[random_inx, ...]\n",
    "\n",
    "predictions = CNNModel.predict(random_test_images)"
   ]
  },
  {
   "cell_type": "code",
   "execution_count": 22,
   "id": "fatal-harassment",
   "metadata": {},
   "outputs": [
    {
     "data": {
      "text/plain": [
       "4"
      ]
     },
     "execution_count": 22,
     "metadata": {},
     "output_type": "execute_result"
    }
   ],
   "source": [
    "len(predictions)"
   ]
  },
  {
   "cell_type": "code",
   "execution_count": 23,
   "id": "relevant-muscle",
   "metadata": {},
   "outputs": [
    {
     "data": {
      "text/plain": [
       "array([8.7168673e-06, 2.7467468e-04, 1.4628185e-04, 4.5822620e-05,\n",
       "       1.7883043e-05, 4.4326059e-04, 6.0708699e-05, 1.1101486e-05,\n",
       "       9.9621767e-01, 2.7737997e-03], dtype=float32)"
      ]
     },
     "execution_count": 23,
     "metadata": {},
     "output_type": "execute_result"
    }
   ],
   "source": [
    "predictions[0]"
   ]
  },
  {
   "cell_type": "markdown",
   "id": "animated-brooks",
   "metadata": {},
   "source": [
    "The array of output\n",
    "predictions is a two-dimensional\n",
    "array, the first dimension will be four, which matches the number of\n",
    "examples we're getting predictions for and\n",
    "the second dimension will be ten for the\n",
    "number of classes.  \n",
    "This is because the network is a multi-class\n",
    "classification model where our final layer has ten neurons and\n",
    "softmax activation. And\n",
    "the loss-function is a \n",
    "categorical cross entropy.  \n",
    "Each row of this array is the network output\n",
    "for that data input. The output layer is a\n",
    "softmax layer, remember, so each layer is a set of\n",
    "output probabilities emitted by the softmax function and you can see how they add up\n",
    "to one in each case. Let's see which class the\n",
    "model is predicting for each example."
   ]
  },
  {
   "cell_type": "code",
   "execution_count": 24,
   "id": "aging-shore",
   "metadata": {},
   "outputs": [
    {
     "data": {
      "image/png": "[encoded data removed]",
      "text/plain": [
       "<Figure size 1152x864 with 8 Axes>"
      ]
     },
     "metadata": {
      "needs_background": "light"
     },
     "output_type": "display_data"
    }
   ],
   "source": [
    "fig, axes = plt.subplots(4, 2, figsize=(16, 12))\n",
    "fig.subplots_adjust(hspace=0.4, wspace=-0.2)\n",
    "\n",
    "for i, (prediction, image, label) in enumerate(zip(predictions, random_test_images, random_test_labels)):\n",
    "    axes[i, 0].imshow(np.squeeze(image))\n",
    "    axes[i, 0].get_xaxis().set_visible(False)\n",
    "    axes[i, 0].get_yaxis().set_visible(False)\n",
    "    axes[i, 0].text(10., -1.5, f'Digit {label}')\n",
    "    axes[i, 1].bar(np.arange(len(prediction)), prediction)\n",
    "    axes[i, 1].set_xticks(np.arange(len(prediction)))\n",
    "    axes[i, 1].set_title(f\"Categorical distribution. Model prediction: {np.argmax(prediction)}\")\n",
    "    \n",
    "plt.show()"
   ]
  },
  {
   "cell_type": "markdown",
   "id": "cross-sustainability",
   "metadata": {},
   "source": [
    "This was a first example of building a Neural Network using Tensorflow and Keras.  \n",
    "With just a simple convolutional network a high accuracy could be reached. The model can be further improved, e.g. by adding other Dense layers before the output one."
   ]
  }
 ],
 "metadata": {
  "kernelspec": {
   "display_name": "Python 3",
   "language": "python",
   "name": "python3"
  },
  "language_info": {
   "codemirror_mode": {
    "name": "ipython",
    "version": 3
   },
   "file_extension": ".py",
   "mimetype": "text/x-python",
   "name": "python",
   "nbconvert_exporter": "python",
   "pygments_lexer": "ipython3",
   "version": "3.7.9"
  }
 },
 "nbformat": 4,
 "nbformat_minor": 5
}
