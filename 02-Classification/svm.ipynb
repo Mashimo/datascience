{
 "cells": [
  {
   "cell_type": "markdown",
   "metadata": {},
   "source": [
    "# Linear Support Vector Classifier\n",
    "\n",
    "Support vector machines are a set of supervised learning algorithms that you can use for classification, regression and outlier detection purposes. SciKit-Learn has many classes for SVM usage, depending on your purpose. The one we'll be focusing on is Support Vector Classifier, SVC.\n"
   ]
  },
  {
   "cell_type": "markdown",
   "metadata": {},
   "source": [
    "## An OCR example\n",
    "\n",
    "In 1982, the first computer-driven, OCR machine got installed by  the United States Postal Service (USPS) in Los Angeles and by the end of 1984, over 250 OCRs machines were installed in 118 major  mail processing centers across the country.\n",
    " \n",
    "Let's see if it's possible to train a support vector classifier in a few seconds using machine learning, and if the classification accuracy is similar or better  than the advertised USPS stats.   \n",
    "   \n",
    "We start by reading the dataset, which comes from the [UCI Machine Learning Repository](https://archive.ics.uci.edu/ml/datasets/Optical+Recognition+of+Handwritten+Digits) and is composed by bitmaps of handwritten digits from a preprinted form. "
   ]
  },
  {
   "cell_type": "code",
   "execution_count": 1,
   "metadata": {},
   "outputs": [],
   "source": [
    "import pandas as pd\n",
    "\n",
    "# The Dataset comes from:\n",
    "# https://archive.ics.uci.edu/ml/datasets/Optical+Recognition+of+Handwritten+Digits\n"
   ]
  },
  {
   "cell_type": "code",
   "execution_count": 2,
   "metadata": {},
   "outputs": [],
   "source": [
    "  # Load up the data.\n",
    "with open('../Datasets/optdigits.tes', 'r') as f: testing  = pd.read_csv(f)\n",
    "with open('../Datasets/optdigits.tra', 'r') as f: training = pd.read_csv(f)\n"
   ]
  },
  {
   "cell_type": "code",
   "execution_count": 3,
   "metadata": {},
   "outputs": [
    {
     "name": "stdout",
     "output_type": "stream",
     "text": [
      "65\n"
     ]
    }
   ],
   "source": [
    "\n",
    "  # The number of samples between training and testing can vary\n",
    "  # But the number of features better remain the same!\n",
    "n_features = testing.shape[1]\n",
    "\n",
    "X_test  = testing.iloc[:,:n_features-1]\n",
    "X_train = training.iloc[:,:n_features-1]\n",
    "y_test  = testing.iloc[:,n_features-1:].values.ravel()\n",
    "y_train = training.iloc[:,n_features-1:].values.ravel()\n",
    "\n",
    "print (n_features)"
   ]
  },
  {
   "cell_type": "markdown",
   "metadata": {},
   "source": [
    "Let's have a look at these bitmaps of handwritten digits "
   ]
  },
  {
   "cell_type": "code",
   "execution_count": 4,
   "metadata": {},
   "outputs": [
    {
     "name": "stdout",
     "output_type": "stream",
     "text": [
      "Peeking the data...\n"
     ]
    },
    {
     "data": {
      "image/png": "[encoded data removed]",
      "text/plain": [
       "<Figure size 432x288 with 50 Axes>"
      ]
     },
     "metadata": {
      "needs_background": "light"
     },
     "output_type": "display_data"
    }
   ],
   "source": [
    "import matplotlib.pyplot as plt\n",
    "\n",
    "# The 'targets' or labels are stored in y. The 'samples' or data is stored in X\n",
    "print (\"Peeking the data...\")\n",
    "fig = plt.figure()\n",
    "\n",
    "cnt = 0\n",
    "for col in range(5):\n",
    "    for row in range(10):\n",
    "        plt.subplot(5, 10, cnt + 1)\n",
    "        plt.imshow(X_train.iloc[cnt,:].values.reshape(8,8), cmap=plt.cm.gray_r, interpolation='nearest')\n",
    "        plt.axis('off')\n",
    "        cnt += 1\n",
    "    fig.set_tight_layout(True)\n",
    "plt.show()\n"
   ]
  },
  {
   "cell_type": "markdown",
   "metadata": {},
   "source": [
    "### Train the SVM Classifier\n",
    "\n",
    "Now we are ready to train the Support Vector Classifier, using the SciKitLearn library.  \n",
    "We leave all parameters at their defaults, setting only the kernel to be Linear.  \n",
    "More on the kernels later in this notebook."
   ]
  },
  {
   "cell_type": "code",
   "execution_count": 5,
   "metadata": {},
   "outputs": [],
   "source": [
    "from sklearn import svm # Library for Support Vector Machines\n"
   ]
  },
  {
   "cell_type": "code",
   "execution_count": 6,
   "metadata": {},
   "outputs": [
    {
     "name": "stdout",
     "output_type": "stream",
     "text": [
      "Training SV Classifier...\n"
     ]
    },
    {
     "data": {
      "text/plain": [
       "SVC(C=1.0, cache_size=200, class_weight=None, coef0=0.0,\n",
       "    decision_function_shape='ovr', degree=3, gamma='auto_deprecated',\n",
       "    kernel='linear', max_iter=-1, probability=False, random_state=None,\n",
       "    shrinking=True, tol=0.001, verbose=False)"
      ]
     },
     "execution_count": 6,
     "metadata": {},
     "output_type": "execute_result"
    }
   ],
   "source": [
    "#\n",
    "# Create and train an SVM classifier. \n",
    "\n",
    "print (\"Training SV Classifier...\")\n",
    "svc = svm.SVC(kernel='linear')\n",
    "\n",
    "svc.fit(X_train, y_train) \n"
   ]
  },
  {
   "cell_type": "markdown",
   "metadata": {},
   "source": [
    "### Checkpoint\n",
    "Print the predicted digit and the actual label for a random example.   \n",
    "We take the thousandth digit."
   ]
  },
  {
   "cell_type": "code",
   "execution_count": 7,
   "metadata": {},
   "outputs": [
    {
     "name": "stdout",
     "output_type": "stream",
     "text": [
      "1000th test label is:  1\n"
     ]
    }
   ],
   "source": [
    "#\n",
    "# Print out the TRUE value of the 1000th digit in the test set\n",
    "# By TRUE value, we mean, the actual provided label for that sample\n",
    "#\n",
    "true_1000th_test_value = y_test[999]\n",
    "print (\"1000th test label is: \", true_1000th_test_value)"
   ]
  },
  {
   "cell_type": "code",
   "execution_count": 8,
   "metadata": {},
   "outputs": [
    {
     "name": "stdout",
     "output_type": "stream",
     "text": [
      "1000th test prediction is:  [1]\n"
     ]
    }
   ],
   "source": [
    "#\n",
    "# Predict the value of the 1000th digit in the test set.\n",
    "# Was the model's prediction correct?\n",
    "#\n",
    "guess_1000th_test_value = svc.predict(X_test[999:1000])\n",
    "\n",
    "print (\"1000th test prediction is: \", guess_1000th_test_value)\n"
   ]
  },
  {
   "cell_type": "markdown",
   "metadata": {},
   "source": [
    "The model's prediction was **correct**.  \n",
    "We can display that image, so we can visually check if it was a hard image or an easy image:"
   ]
  },
  {
   "cell_type": "code",
   "execution_count": 9,
   "metadata": {},
   "outputs": [
    {
     "data": {
      "image/png": "[encoded data removed]",
      "text/plain": [
       "<Figure size 432x288 with 1 Axes>"
      ]
     },
     "metadata": {
      "needs_background": "light"
     },
     "output_type": "display_data"
    }
   ],
   "source": [
    "#\n",
    "# Use IMSHOW to display the 1000th test image\n",
    "# \n",
    "#\n",
    "plt.imshow(X_test.iloc[999,:].values.reshape(8,8), cmap=plt.cm.gray_r, interpolation='nearest');"
   ]
  },
  {
   "cell_type": "markdown",
   "metadata": {},
   "source": [
    "### visual confirmation of accuracy\n",
    "Here we can print more digits with indication of what was the predicted label (in red if it was wrong):"
   ]
  },
  {
   "cell_type": "code",
   "execution_count": 10,
   "metadata": {},
   "outputs": [
    {
     "data": {
      "image/png": "[encoded data removed]",
      "text/plain": [
       "<Figure size 432x288 with 50 Axes>"
      ]
     },
     "metadata": {
      "needs_background": "light"
     },
     "output_type": "display_data"
    }
   ],
   "source": [
    "# Visual Confirmation of accuracy\n",
    "\n",
    "fig = plt.figure()\n",
    "\n",
    "  # Make some guesses\n",
    "y_guess = svc.predict(X_test)\n",
    "\n",
    "\n",
    "num_rows = 10\n",
    "num_cols = 5\n",
    "\n",
    "index = 0\n",
    "for col in range(num_cols):\n",
    "    for row in range(num_rows):\n",
    "        plt.subplot(num_cols, num_rows, index + 1)\n",
    "\n",
    "      # 8x8 is the size of the image, 64 pixels\n",
    "        plt.imshow(X_test.iloc[index,:].values.reshape(8,8), cmap=plt.cm.gray_r, interpolation='nearest')\n",
    "\n",
    "      # Green = Guessed right\n",
    "      # Red = Fail!\n",
    "        fontcolor = 'g' if y_test[index] == y_guess[index] else 'r'\n",
    "        plt.title('Label: %i' % y_guess[index], fontsize=7, color=fontcolor)\n",
    "        plt.axis('off')\n",
    "        index += 1\n",
    "fig.set_tight_layout(True)\n",
    "plt.show()"
   ]
  },
  {
   "cell_type": "markdown",
   "metadata": {},
   "source": [
    "### Score\n",
    "We can see that - on this sample of 50 handwritten digits - 4 of them are wrong, that's 8%.  \n",
    "And here we calculate the score on the entire testing dataset:"
   ]
  },
  {
   "cell_type": "code",
   "execution_count": 11,
   "metadata": {},
   "outputs": [
    {
     "name": "stdout",
     "output_type": "stream",
     "text": [
      "Scoring SVM Classifier...\n",
      "Score:  0.9610244988864143\n"
     ]
    }
   ],
   "source": [
    "# Calculate the score of the SVC against the testing data\n",
    "print (\"Scoring SVM Classifier...\")\n",
    "#\n",
    "score = svc.score(X_test, y_test)\n",
    "print (\"Score: \", score)"
   ]
  },
  {
   "cell_type": "markdown",
   "metadata": {},
   "source": [
    "Not bad, the model was correct more than 96% of the times!"
   ]
  },
  {
   "cell_type": "markdown",
   "metadata": {},
   "source": [
    "## Non-linear Kernels for the SVC\n",
    "\n",
    "We experiment now with different kernels, starting with the polynomial kernel. \n",
    "  \n",
    "When training an SVM with a kernel, two additional parameters must be considered: *C* and *gamma*.  \n",
    "The parameter *C*, common to all SVM kernels, trades off misclassification of training examples against simplicity of the decision surface.  \n",
    "A low C makes the decision surface smooth, while a high C aims at classifying all training examples correctly.  \n",
    "We keep C at the default value = 1.  \n",
    "  \n",
    "*Gamma* defines how much influence a single training example has.  \n",
    "The larger gamma is, the closer other examples must be to be affected.\n",
    "  \n",
    "USPS has an advertised accuracy score of 98% which is higher than our SVC with a linear Kernel.  \n",
    "We can beat it with a non-linear kernel!  \n"
   ]
  },
  {
   "cell_type": "code",
   "execution_count": 12,
   "metadata": {},
   "outputs": [
    {
     "data": {
      "text/plain": [
       "SVC(C=1.0, cache_size=200, class_weight=None, coef0=0.0,\n",
       "    decision_function_shape='ovr', degree=3, gamma=0.001, kernel='poly',\n",
       "    max_iter=-1, probability=False, random_state=None, shrinking=True,\n",
       "    tol=0.001, verbose=False)"
      ]
     },
     "execution_count": 12,
     "metadata": {},
     "output_type": "execute_result"
    }
   ],
   "source": [
    "#\n",
    "# We start with the POLY kernel\n",
    "\n",
    "svc = svm.SVC(kernel='poly', C=1.0, gamma=0.001)\n",
    "svc.fit(X_train, y_train) "
   ]
  },
  {
   "cell_type": "code",
   "execution_count": 13,
   "metadata": {},
   "outputs": [
    {
     "name": "stdout",
     "output_type": "stream",
     "text": [
      "Scoring SV poly Classifier...\n",
      "Score:  0.9749443207126949\n"
     ]
    }
   ],
   "source": [
    "# Calculate the score of the SVC against the testing data\n",
    "print (\"Scoring SV poly Classifier...\")\n",
    "score = svc.score(X_test, y_test)\n",
    "print (\"Score: \", score)"
   ]
  },
  {
   "cell_type": "markdown",
   "metadata": {},
   "source": [
    "Which is sightly better, but we can try a different kernel, more performant: the Radial Basis Function (RBF) kernel.  \n"
   ]
  },
  {
   "cell_type": "code",
   "execution_count": 14,
   "metadata": {},
   "outputs": [
    {
     "data": {
      "text/plain": [
       "SVC(C=1.0, cache_size=200, class_weight=None, coef0=0.0,\n",
       "    decision_function_shape='ovr', degree=3, gamma=0.001, kernel='rbf',\n",
       "    max_iter=-1, probability=False, random_state=None, shrinking=True,\n",
       "    tol=0.001, verbose=False)"
      ]
     },
     "execution_count": 14,
     "metadata": {},
     "output_type": "execute_result"
    }
   ],
   "source": [
    "#\n",
    "# change  SVC's kernel to 'rbf' \n",
    "\n",
    "svc = svm.SVC(kernel='rbf', C=1.0, gamma=0.001)\n",
    "svc.fit(X_train, y_train) "
   ]
  },
  {
   "cell_type": "code",
   "execution_count": 15,
   "metadata": {},
   "outputs": [
    {
     "name": "stdout",
     "output_type": "stream",
     "text": [
      "Scoring SVM rbf Classifier...\n",
      "Score:  0.982739420935412\n"
     ]
    }
   ],
   "source": [
    "# Calculate the score of SVC against the testing data\n",
    "print (\"Scoring SVM rbf Classifier...\")\n",
    "score = svc.score(X_test, y_test)\n",
    "print (\"Score: \", score)\n",
    "\n"
   ]
  },
  {
   "cell_type": "markdown",
   "metadata": {},
   "source": [
    "Now it's better than the UPS' score!"
   ]
  },
  {
   "cell_type": "markdown",
   "metadata": {},
   "source": [
    "# Hyper-parameters tuning for SVC Kernels\n",
    "\n",
    "Proper choice of *C* and *gamma* is critical to the SVM’s performance.  \n",
    "One is advised to use *sklearn.model_selection.GridSearchCV* with C and gamma spaced exponentially far apart to choose good values.\n",
    "\n",
    "We will tune them - and the pre-processor - using a different example.\n",
    "\n",
    "## A Parkinson's classifier\n",
    "\n",
    "Apply SVC to the Parkinson's Data Set, provided courtesy of UCI's Machine Learning Repository. [The dataset](https://archive.ics.uci.edu/ml/datasets/Parkinsons) was created at the University of Oxford, in collaboration with 10 medical centers around the US, along with Intel who developed the device used to record the primary features of the dataset: speech signals. \n",
    "  \n",
    "\n",
    "Goals: first to see if it's possible to differentiate between people who have Parkinson's and who don't using SciKit-Learn's support vector classifier and then to take a first-stab at a naive way of fine-tuning our parameters in an attempt to maximize the accuracy of the testing set.  \n",
    "  \n",
    "### Read and pre-process the data"
   ]
  },
  {
   "cell_type": "code",
   "execution_count": 16,
   "metadata": {},
   "outputs": [],
   "source": [
    "X = pd.read_csv(\"../Datasets/parkinsons.data\")\n"
   ]
  },
  {
   "cell_type": "code",
   "execution_count": 17,
   "metadata": {},
   "outputs": [],
   "source": [
    "X.drop(['name'], axis=1, inplace=True) # drop name column\n",
    "\n",
    "y = X.status.copy() # copy “y” values out from status\n",
    "\n",
    "X.drop(['status'], axis=1, inplace=True) # drop status column\n"
   ]
  },
  {
   "cell_type": "code",
   "execution_count": 18,
   "metadata": {},
   "outputs": [],
   "source": [
    "# Perform a train/test split. 30% test group size, with a random_state equal to 7.\n",
    "\n",
    "from sklearn.model_selection import train_test_split\n",
    "\n",
    "X_train, X_test, y_train, y_test = train_test_split(X, y, test_size=0.3, \n",
    "                                                    random_state=7)\n"
   ]
  },
  {
   "cell_type": "markdown",
   "metadata": {},
   "source": [
    "We can apply different scaler for the pre-processing.  \n",
    "The standard scaler seems the best, feel free to experiment with others, uncommenting one below:"
   ]
  },
  {
   "cell_type": "code",
   "execution_count": 19,
   "metadata": {},
   "outputs": [],
   "source": [
    "from sklearn import preprocessing\n",
    "\n",
    "\n",
    "  # tried with different scaler, standard is the best\n",
    "    \n",
    "scaler = preprocessing.StandardScaler() # best score was 0.932203389831\n",
    "#scaler = preprocessing.MinMaxScaler()  # best score was 0.881355932203 \n",
    "#scaler = preprocessing.MaxAbsScaler()  # best score was 0.881355932203 \n",
    "#scaler = preprocessing.Normalizer()    # best score was 0.796610169492 \n",
    "#scaler = preprocessing.KernelCenterer() # best score was 0.915254237288 \n",
    "\n",
    "X_train = scaler.fit_transform(X_train)\n",
    "X_test = scaler.transform(X_test)\n"
   ]
  },
  {
   "cell_type": "markdown",
   "metadata": {},
   "source": [
    "Same for the dimensionality reduction: feel free to experiment with PCA or Isomap"
   ]
  },
  {
   "cell_type": "code",
   "execution_count": 20,
   "metadata": {},
   "outputs": [],
   "source": [
    "from sklearn.decomposition import PCA\n",
    "from sklearn import manifold\n",
    "\n",
    "usePCA = False # change this to use PCA as dimensionality reducer\n",
    "\n",
    "if usePCA:\n",
    "    reducer = PCA(n_components=7).fit(X_train)\n",
    "else:\n",
    "    reducer = manifold.Isomap(n_neighbors=3, n_components=6).fit(X_train)\n",
    "\n",
    "X_train = reducer.transform(X_train)\n",
    "X_test  = reducer.transform(X_test)\n"
   ]
  },
  {
   "cell_type": "markdown",
   "metadata": {},
   "source": [
    "### Train the SVM classifier. \n",
    "\n",
    "Create and fit an SVC based on the RBF kernel against the training data and then finally score the testing data.  \n",
    "\n",
    "To search the best hyper-parameters we just use simple nested loops.  \n",
    "Looping *C* from 0.05 to 2 and looping *gamma* from 0.001 to 0.1"
   ]
  },
  {
   "cell_type": "code",
   "execution_count": 21,
   "metadata": {},
   "outputs": [
    {
     "name": "stdout",
     "output_type": "stream",
     "text": [
      "New best score: 0.797 using C=  0.05 and gamma = 0.001\n",
      "New best score: 0.814 using C=  0.10 and gamma = 0.010\n",
      "New best score: 0.831 using C=  0.10 and gamma = 0.012\n",
      "New best score: 0.847 using C=  0.15 and gamma = 0.013\n",
      "New best score: 0.864 using C=  0.20 and gamma = 0.013\n",
      "New best score: 0.881 using C=  0.35 and gamma = 0.020\n",
      "New best score: 0.898 using C=  0.45 and gamma = 0.046\n",
      "New best score: 0.915 using C=  0.50 and gamma = 0.087\n",
      "New best score: 0.932 using C=  0.55 and gamma = 0.096\n",
      "New best score: 0.949 using C=  0.85 and gamma = 0.088\n"
     ]
    }
   ],
   "source": [
    "import numpy as np\n",
    "\n",
    "  # a naive, best-parameter search using nested for-loops.\n",
    "best_score = 0\n",
    "for c in np.arange(0.05,2,0.05):\n",
    "    for gamma in np.arange(0.001, 0.1, 0.001):\n",
    "        svc = svm.SVC(kernel='rbf', C=c, gamma=gamma)\n",
    "\n",
    "        svc.fit(X_train, y_train) \n",
    "\n",
    "        score = svc.score(X_test, y_test)\n",
    "        if score > best_score:\n",
    "            best_score = score\n",
    "            #print (\"New best score:\", score, \"using C= \", c, \"and gamma = \", gamma)\n",
    "            print(f\"New best score: {score:.3f} using C=  {c:.2f} and gamma = {gamma:.3f}\")\n",
    "\n",
    "\n"
   ]
  },
  {
   "cell_type": "markdown",
   "metadata": {},
   "source": [
    "Best score was with C=0.85 and gamma=0.088"
   ]
  },
  {
   "cell_type": "markdown",
   "metadata": {},
   "source": [
    "# Comparing KNN vs. SVC\n",
    "\n",
    "How does SVC compare with other classifiers, such as the KNN?  \n",
    "We classify the UCI's wheat-seeds dataset - that we used previously with the KNN algorithm - by using the SVC and compare the results.  \n",
    "First, benchmark how long it takes to train and predict with SVC relative to how long K-Neighbors took to train and test and then compare the decision boundary plot produced by the two.\n",
    "\n",
    "## Defining some parameters"
   ]
  },
  {
   "cell_type": "code",
   "execution_count": 22,
   "metadata": {},
   "outputs": [],
   "source": [
    "# \n",
    "# INFO:  Parameters can be adjusted here\n",
    "C = 1\n",
    "kernel = 'linear'\n",
    "iterations = 100   \n",
    "\n",
    "#\n",
    "# INFO: You can set this to false if you want to\n",
    "# draw the full square matrix\n",
    "FAST_DRAW = True"
   ]
  },
  {
   "cell_type": "markdown",
   "metadata": {},
   "source": [
    "## Read the data"
   ]
  },
  {
   "cell_type": "code",
   "execution_count": 24,
   "metadata": {},
   "outputs": [],
   "source": [
    "# \n",
    "# Load up the wheat dataset into dataframe 'X'\n",
    "#\n",
    "df = pd.read_csv(\"../Datasets/wheat.data\", index_col='id')\n"
   ]
  },
  {
   "cell_type": "markdown",
   "metadata": {},
   "source": [
    "## Data pre-processing\n",
    "This is all standard.  You can refer to the previous examples for more details, especially the KNN example."
   ]
  },
  {
   "cell_type": "code",
   "execution_count": 25,
   "metadata": {},
   "outputs": [
    {
     "name": "stdout",
     "output_type": "stream",
     "text": [
      "      area  perimeter  compactness  length  width  asymmetry  groove  \\\n",
      "id                                                                     \n",
      "7    14.11      14.10       0.8911  5.4200  3.302      2.700     NaN   \n",
      "35   16.12      15.00          NaN  0.9000    NaN      5.709   3.485   \n",
      "60   11.42      12.86       0.8683  5.0080  2.850      2.700     NaN   \n",
      "135  15.38      14.66       0.8990  5.4770  3.465      3.600     NaN   \n",
      "169  11.24      13.00          NaN  0.8359  5.090      2.715   3.521   \n",
      "170  11.02      13.00          NaN  0.8189  5.325      2.701   6.735   \n",
      "201  12.67      13.32       0.8977  4.9840  3.135      2.300     NaN   \n",
      "\n",
      "    wheat_type  \n",
      "id              \n",
      "7     canadian  \n",
      "35    canadian  \n",
      "60    canadian  \n",
      "135   canadian  \n",
      "169   canadian  \n",
      "170   canadian  \n",
      "201   canadian  \n"
     ]
    }
   ],
   "source": [
    "# INFO: An easy way to show which rows have nans in them\n",
    "print (df[pd.isnull(df).any(axis=1)])\n"
   ]
  },
  {
   "cell_type": "code",
   "execution_count": 26,
   "metadata": {},
   "outputs": [],
   "source": [
    "# \n",
    "# Go ahead and drop any row with a nan\n",
    "#\n",
    "df.dropna(axis=0, inplace=True)\n",
    "\n",
    "\n",
    "# \n",
    "# INFO: you might try setting the nan values to the\n",
    "# mean value of that column, the mean should only be calculated for\n",
    "# the specific class rather than across all classes, now that you\n",
    "# have the labels"
   ]
  },
  {
   "cell_type": "code",
   "execution_count": 27,
   "metadata": {},
   "outputs": [],
   "source": [
    "#\n",
    "# Copy the labels out of the dset into variable 'y' then Remove\n",
    "# them from X. Encode the labels -- canadian:0, kama:1, and rosa:2\n",
    "#\n",
    "labels = df.wheat_type.copy() # copy “y” values out\n",
    "df.drop(['wheat_type'], axis=1, inplace=True) # drop output column \n",
    "\n",
    "labels = labels.map({'canadian':0, 'kama':1, 'rosa':2})\n"
   ]
  },
  {
   "cell_type": "markdown",
   "metadata": {},
   "source": [
    "## Split into training and testing data sets"
   ]
  },
  {
   "cell_type": "code",
   "execution_count": 29,
   "metadata": {},
   "outputs": [],
   "source": [
    "# \n",
    "# Split data into test / train sets\n",
    "#\n",
    "\n",
    "X_train, X_test, y_train, y_test = train_test_split(df, labels, test_size=0.3, \n",
    "                                                    random_state=7)\n"
   ]
  },
  {
   "cell_type": "markdown",
   "metadata": {},
   "source": [
    "## Utility function: draw the plots\n",
    "This is a convenience function to break any higher-dimensional space down and view cross sections of it."
   ]
  },
  {
   "cell_type": "code",
   "execution_count": 30,
   "metadata": {},
   "outputs": [],
   "source": [
    "import matplotlib as mpl\n",
    "import matplotlib.pyplot as plt\n",
    "\n",
    "def drawPlots(model, X_train, X_test, y_train, y_test, wintitle='Figure 1'):\n",
    "\n",
    "\n",
    "  # If this line throws an error, use plt.style.use('ggplot') instead\n",
    "  mpl.style.use('ggplot') # Look Pretty\n",
    "\n",
    "  padding = 3\n",
    "  resolution = 0.5\n",
    "  max_2d_score = 0\n",
    "  score = 0\n",
    "\n",
    "\n",
    "  y_colors = ['#ff0000', '#00ff00', '#0000ff']\n",
    "  my_cmap = mpl.colors.ListedColormap(['#ffaaaa', '#aaffaa', '#aaaaff'])\n",
    "  colors = [y_colors[i] for i in y_train]\n",
    "  num_columns = len(X_train.columns)\n",
    "\n",
    "  fig = plt.figure()\n",
    "  fig.canvas.set_window_title(wintitle)\n",
    "  \n",
    "  cnt = 0\n",
    "  for col in range(num_columns):\n",
    "    for row in range(num_columns):\n",
    "      # Easy out\n",
    "      if FAST_DRAW and col > row:\n",
    "        cnt += 1\n",
    "        continue\n",
    "\n",
    "      ax = plt.subplot(num_columns, num_columns, cnt + 1)\n",
    "      plt.xticks(())\n",
    "      plt.yticks(())\n",
    "\n",
    "      # Intersection:\n",
    "      if col == row:\n",
    "        plt.text(0.5, 0.5, X_train.columns[row], verticalalignment='center', horizontalalignment='center', fontsize=12)\n",
    "        cnt += 1\n",
    "        continue\n",
    "\n",
    "\n",
    "      # Only select two features to display, then train the model\n",
    "      X_train_bag = X_train.iloc[:, [row,col]]\n",
    "      X_test_bag = X_test.iloc[:, [row,col]]\n",
    "      model.fit(X_train_bag, y_train)\n",
    "\n",
    "      # Create a mesh to plot in\n",
    "      x_min, x_max = X_train_bag.iloc[:, 0].min() - padding, X_train_bag.iloc[:, 0].max() + padding\n",
    "      y_min, y_max = X_train_bag.iloc[:, 1].min() - padding, X_train_bag.iloc[:, 1].max() + padding\n",
    "      xx, yy = np.meshgrid(np.arange(x_min, x_max, resolution),\n",
    "                           np.arange(y_min, y_max, resolution))\n",
    "\n",
    "      # Plot Boundaries\n",
    "      plt.xlim(xx.min(), xx.max())\n",
    "      plt.ylim(yy.min(), yy.max())\n",
    "\n",
    "      # Prepare the contour\n",
    "      Z = model.predict(np.c_[xx.ravel(), yy.ravel()])\n",
    "      Z = Z.reshape(xx.shape)\n",
    "      plt.contourf(xx, yy, Z, cmap=my_cmap, alpha=0.8)\n",
    "      plt.scatter(X_train_bag.iloc[:, 0], X_train_bag.iloc[:, 1], c=colors, alpha=0.5)\n",
    "\n",
    "\n",
    "      score = round(model.score(X_test_bag, y_test) * 100, 3)\n",
    "      #plt.text(0.5, 0, \"Score: {0}\".format(score), transform = ax.transAxes, horizontalalignment='center', fontsize=8)\n",
    "      plt.text(0.5, 0, f\"Score: {score}\", transform = ax.transAxes, horizontalalignment='center', fontsize=8)\n",
    "      max_2d_score = score if score > max_2d_score else max_2d_score\n",
    "\n",
    "      cnt += 1\n",
    "\n",
    "  print (\"Max 2D Score: \", max_2d_score)\n",
    "  fig.set_tight_layout(True)"
   ]
  },
  {
   "cell_type": "markdown",
   "metadata": {},
   "source": [
    "## Utility function: benchmark times"
   ]
  },
  {
   "cell_type": "code",
   "execution_count": 31,
   "metadata": {},
   "outputs": [],
   "source": [
    "import time\n",
    "\n",
    "def benchmark(model, X_train, X_test, y_train, y_test, wintitle='Figure 1'):\n",
    "  print ('\\n\\n' + wintitle + ' Results')\n",
    "  \n",
    "  # the only purpose of doing many iterations was to get a more accurate \n",
    "  # count of the time it took for each classifier\n",
    "  s = time.time()\n",
    "  for i in range(iterations):\n",
    "    #\n",
    "    # train the classifier on the training data / labels:\n",
    "    #\n",
    "    model.fit(X_train, y_train) \n",
    "\n",
    "    \n",
    "  #print (\"{0} Iterations Training Time: \".format(iterations), time.time() - s)\n",
    "  print(f\"{iterations} Iterations Training Time: {time.time() - s:.3f}\")\n",
    "\n",
    "  scoreBch = 0\n",
    "\n",
    "  s = time.time()\n",
    "  for i in range(iterations):\n",
    "    #\n",
    "    # score the classifier on the testing data / labels:\n",
    "    #\n",
    "    scoreBch = model.score(X_test, y_test)\n",
    "\n",
    "    \n",
    "  #print (\"{0} Iterations Scoring Time: \".format(iterations), time.time() - s)\n",
    "  print(f\"{iterations} Iterations Scoring Time: {time.time() - s:.3f}\")\n",
    "\n",
    "  print (\"High-Dimensionality Score: \", round((scoreBch*100), 3))\n",
    "\n"
   ]
  },
  {
   "cell_type": "markdown",
   "metadata": {},
   "source": [
    "## Train the Knn classifier"
   ]
  },
  {
   "cell_type": "code",
   "execution_count": 32,
   "metadata": {},
   "outputs": [],
   "source": [
    "#\n",
    "# Create an KNeighbors classifier \n",
    "#\n",
    "from sklearn.neighbors import KNeighborsClassifier\n",
    "\n",
    "knn = KNeighborsClassifier(n_neighbors=5)\n"
   ]
  },
  {
   "cell_type": "markdown",
   "metadata": {},
   "source": [
    "And get its benchmark:"
   ]
  },
  {
   "cell_type": "code",
   "execution_count": 33,
   "metadata": {},
   "outputs": [
    {
     "name": "stdout",
     "output_type": "stream",
     "text": [
      "\n",
      "\n",
      "KNeighbors Results\n",
      "100 Iterations Training Time: 0.582\n",
      "100 Iterations Scoring Time: 2.509\n",
      "High-Dimensionality Score:  83.607\n"
     ]
    }
   ],
   "source": [
    "benchmark(knn, X_train, X_test, y_train, y_test, 'KNeighbors')\n"
   ]
  },
  {
   "cell_type": "code",
   "execution_count": 34,
   "metadata": {},
   "outputs": [
    {
     "name": "stdout",
     "output_type": "stream",
     "text": [
      "Max 2D Score:  90.164\n"
     ]
    },
    {
     "data": {
      "image/png": "[encoded data removed]",
      "text/plain": [
       "<Figure size 432x288 with 28 Axes>"
      ]
     },
     "metadata": {},
     "output_type": "display_data"
    }
   ],
   "source": [
    "drawPlots(knn, X_train, X_test, y_train, y_test, 'KNeighbors')\n"
   ]
  },
  {
   "cell_type": "markdown",
   "metadata": {},
   "source": [
    "## Train the SVM Classifier"
   ]
  },
  {
   "cell_type": "code",
   "execution_count": 35,
   "metadata": {},
   "outputs": [],
   "source": [
    "#\n",
    "# Create an SVM classifier\n",
    "# Use a linear kernel, and set the C value to C (see initial parameters)\n",
    "#\n",
    "from sklearn.svm import SVC\n",
    "\n",
    "svc = SVC(kernel='linear', C=C)"
   ]
  },
  {
   "cell_type": "code",
   "execution_count": 36,
   "metadata": {},
   "outputs": [
    {
     "name": "stdout",
     "output_type": "stream",
     "text": [
      "\n",
      "\n",
      "SVC Results\n",
      "100 Iterations Training Time: 0.677\n",
      "100 Iterations Scoring Time: 0.466\n",
      "High-Dimensionality Score:  86.885\n"
     ]
    }
   ],
   "source": [
    "benchmark(svc, X_train, X_test, y_train, y_test, 'SVC')\n"
   ]
  },
  {
   "cell_type": "code",
   "execution_count": 37,
   "metadata": {},
   "outputs": [
    {
     "name": "stdout",
     "output_type": "stream",
     "text": [
      "Max 2D Score:  93.443\n"
     ]
    },
    {
     "data": {
      "image/png": "[encoded data removed]",
      "text/plain": [
       "<Figure size 432x288 with 28 Axes>"
      ]
     },
     "metadata": {},
     "output_type": "display_data"
    }
   ],
   "source": [
    "drawPlots(svc, X_train, X_test, y_train, y_test, 'SVC')\n"
   ]
  },
  {
   "cell_type": "markdown",
   "metadata": {},
   "source": [
    "SVC in high dimensions, even with a provided kernel, still attempts to find the best linearly separable plane to split your classes.  \n",
    "If you have 'dirty' features thrown into the mix, it's entirely possible they  will end up hurting your overall SVC performance, as opposed to just having a few really good features.  \n",
    "\n",
    "Benchmarks with 5000 iterations:  \n",
    "===========================\n",
    "KNeighbors Results  \n",
    "5000 Iterations Training Time: 1.88873505592  \n",
    "5000 Iterations Scoring Time: 3.78048992157  \n",
    "High-Dimensionality Score: 83.607  \n",
    "Max 2D Score: 90.164  \n",
    "SVC Results  \n",
    "5000 Iterations Training Time: 3.79915714264  \n",
    "5000 Iterations Scoring Time: 1.65462088585  \n",
    "High-Dimensionality Score: 86.885  \n",
    "Max 2D Score: 93.443  \n"
   ]
  },
  {
   "cell_type": "markdown",
   "metadata": {},
   "source": [
    "KNN trained faster but predicted slower than SVC.  \n",
    "SVC had the best score."
   ]
  }
 ],
 "metadata": {
  "kernelspec": {
   "display_name": "Python [conda env:DataScience]",
   "language": "python",
   "name": "conda-env-DataScience-py"
  },
  "language_info": {
   "codemirror_mode": {
    "name": "ipython",
    "version": 3
   },
   "file_extension": ".py",
   "mimetype": "text/x-python",
   "name": "python",
   "nbconvert_exporter": "python",
   "pygments_lexer": "ipython3",
   "version": "3.7.7"
  }
 },
 "nbformat": 4,
 "nbformat_minor": 2
}
