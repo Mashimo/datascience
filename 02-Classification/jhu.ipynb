{
 "cells": [
  {
   "cell_type": "markdown",
   "metadata": {},
   "source": [
    "# LDA: Linear discriminant Analysis\n",
    "\n",
    "A prediction model for Weight Lifting based on sensors to predict how well an exercise is performed.\n",
    "\n",
    "## Project goal\n",
    "\n",
    "In this project we will use data from accelerometers on the belt, forearm, arm and dumbell of 6 participants.  \n",
    "They were asked to perform barbell lifts correctly and incorrectly in 5 different ways.\n",
    "  \n",
    "More information is available from the website here: http://groupware.les.inf.puc-rio.br/har (see the section on the Weight Lifting Exercise Dataset).  \n",
    "  \n",
    "The goal of the project is to predict the manner in which they did the exercise. This is the “classe” variable in the data set: A - E\n",
    "- exactly according to the specification (Class A)\n",
    "- throwing the elbows to the front (Class B)\n",
    "- lifting the dumbbell only halfway (Class C)\n",
    "- lowering the dumbbell only halfway (Class D)\n",
    "- throwing the hips to the front (Class E)."
   ]
  },
  {
   "cell_type": "markdown",
   "metadata": {},
   "source": [
    "## Read the data"
   ]
  },
  {
   "cell_type": "markdown",
   "metadata": {},
   "source": [
    "Velloso, E.; Bulling, A.; Gellersen, H.; Ugulino, W.; Fuks, H.: Qualitative Activity Recognition of Weight Lifting Exercises. Proceedings of 4th International Conference in Cooperation with SIGCHI (Augmented Human '13). Stuttgart, Germany: ACM SIGCHI, 2013 (http://groupware.les.inf.puc-rio.br/work.jsf?p1=11201)."
   ]
  },
  {
   "cell_type": "code",
   "execution_count": 1,
   "metadata": {},
   "outputs": [],
   "source": [
    "import pandas as pd  # Start by importing the  data"
   ]
  },
  {
   "cell_type": "code",
   "execution_count": 2,
   "metadata": {},
   "outputs": [],
   "source": [
    "X = pd.read_csv('../datasets/pml-training.csv', low_memory=False) "
   ]
  },
  {
   "cell_type": "code",
   "execution_count": 3,
   "metadata": {},
   "outputs": [
    {
     "data": {
      "text/plain": [
       "(19622, 160)"
      ]
     },
     "execution_count": 3,
     "metadata": {},
     "output_type": "execute_result"
    }
   ],
   "source": [
    "X.shape"
   ]
  },
  {
   "cell_type": "markdown",
   "metadata": {},
   "source": [
    "the data set has 19622 obs. (rows) of 160 variables (columns)"
   ]
  },
  {
   "cell_type": "code",
   "execution_count": 4,
   "metadata": {},
   "outputs": [
    {
     "data": {
      "text/plain": [
       "Index(['Unnamed: 0', 'user_name', 'raw_timestamp_part_1',\n",
       "       'raw_timestamp_part_2', 'cvtd_timestamp', 'new_window', 'num_window',\n",
       "       'roll_belt', 'pitch_belt', 'yaw_belt',\n",
       "       ...\n",
       "       'gyros_forearm_x', 'gyros_forearm_y', 'gyros_forearm_z',\n",
       "       'accel_forearm_x', 'accel_forearm_y', 'accel_forearm_z',\n",
       "       'magnet_forearm_x', 'magnet_forearm_y', 'magnet_forearm_z', 'classe'],\n",
       "      dtype='object', length=160)"
      ]
     },
     "execution_count": 4,
     "metadata": {},
     "output_type": "execute_result"
    }
   ],
   "source": [
    "X.columns"
   ]
  },
  {
   "cell_type": "markdown",
   "metadata": {},
   "source": [
    "This is not really necessary but I like to rename the first column from “X” to a meaningful name:"
   ]
  },
  {
   "cell_type": "code",
   "execution_count": 5,
   "metadata": {},
   "outputs": [],
   "source": [
    "X.rename(columns = {X.columns[0] : 'ID'}, inplace = True)"
   ]
  },
  {
   "cell_type": "code",
   "execution_count": 6,
   "metadata": {},
   "outputs": [
    {
     "data": {
      "text/html": [
       "<div>\n",
       "<style scoped>\n",
       "    .dataframe tbody tr th:only-of-type {\n",
       "        vertical-align: middle;\n",
       "    }\n",
       "\n",
       "    .dataframe tbody tr th {\n",
       "        vertical-align: top;\n",
       "    }\n",
       "\n",
       "    .dataframe thead th {\n",
       "        text-align: right;\n",
       "    }\n",
       "</style>\n",
       "<table border=\"1\" class=\"dataframe\">\n",
       "  <thead>\n",
       "    <tr style=\"text-align: right;\">\n",
       "      <th></th>\n",
       "      <th>ID</th>\n",
       "      <th>user_name</th>\n",
       "      <th>raw_timestamp_part_1</th>\n",
       "      <th>raw_timestamp_part_2</th>\n",
       "      <th>cvtd_timestamp</th>\n",
       "      <th>new_window</th>\n",
       "      <th>num_window</th>\n",
       "      <th>roll_belt</th>\n",
       "      <th>pitch_belt</th>\n",
       "      <th>yaw_belt</th>\n",
       "      <th>...</th>\n",
       "      <th>gyros_forearm_x</th>\n",
       "      <th>gyros_forearm_y</th>\n",
       "      <th>gyros_forearm_z</th>\n",
       "      <th>accel_forearm_x</th>\n",
       "      <th>accel_forearm_y</th>\n",
       "      <th>accel_forearm_z</th>\n",
       "      <th>magnet_forearm_x</th>\n",
       "      <th>magnet_forearm_y</th>\n",
       "      <th>magnet_forearm_z</th>\n",
       "      <th>classe</th>\n",
       "    </tr>\n",
       "  </thead>\n",
       "  <tbody>\n",
       "    <tr>\n",
       "      <td>0</td>\n",
       "      <td>1</td>\n",
       "      <td>carlitos</td>\n",
       "      <td>1323084231</td>\n",
       "      <td>788290</td>\n",
       "      <td>05/12/2011 11:23</td>\n",
       "      <td>no</td>\n",
       "      <td>11</td>\n",
       "      <td>1.41</td>\n",
       "      <td>8.07</td>\n",
       "      <td>-94.4</td>\n",
       "      <td>...</td>\n",
       "      <td>0.03</td>\n",
       "      <td>0.00</td>\n",
       "      <td>-0.02</td>\n",
       "      <td>192</td>\n",
       "      <td>203</td>\n",
       "      <td>-215</td>\n",
       "      <td>-17</td>\n",
       "      <td>654.0</td>\n",
       "      <td>476.0</td>\n",
       "      <td>A</td>\n",
       "    </tr>\n",
       "    <tr>\n",
       "      <td>1</td>\n",
       "      <td>2</td>\n",
       "      <td>carlitos</td>\n",
       "      <td>1323084231</td>\n",
       "      <td>808298</td>\n",
       "      <td>05/12/2011 11:23</td>\n",
       "      <td>no</td>\n",
       "      <td>11</td>\n",
       "      <td>1.41</td>\n",
       "      <td>8.07</td>\n",
       "      <td>-94.4</td>\n",
       "      <td>...</td>\n",
       "      <td>0.02</td>\n",
       "      <td>0.00</td>\n",
       "      <td>-0.02</td>\n",
       "      <td>192</td>\n",
       "      <td>203</td>\n",
       "      <td>-216</td>\n",
       "      <td>-18</td>\n",
       "      <td>661.0</td>\n",
       "      <td>473.0</td>\n",
       "      <td>A</td>\n",
       "    </tr>\n",
       "    <tr>\n",
       "      <td>2</td>\n",
       "      <td>3</td>\n",
       "      <td>carlitos</td>\n",
       "      <td>1323084231</td>\n",
       "      <td>820366</td>\n",
       "      <td>05/12/2011 11:23</td>\n",
       "      <td>no</td>\n",
       "      <td>11</td>\n",
       "      <td>1.42</td>\n",
       "      <td>8.07</td>\n",
       "      <td>-94.4</td>\n",
       "      <td>...</td>\n",
       "      <td>0.03</td>\n",
       "      <td>-0.02</td>\n",
       "      <td>0.00</td>\n",
       "      <td>196</td>\n",
       "      <td>204</td>\n",
       "      <td>-213</td>\n",
       "      <td>-18</td>\n",
       "      <td>658.0</td>\n",
       "      <td>469.0</td>\n",
       "      <td>A</td>\n",
       "    </tr>\n",
       "  </tbody>\n",
       "</table>\n",
       "<p>3 rows × 160 columns</p>\n",
       "</div>"
      ],
      "text/plain": [
       "   ID user_name  raw_timestamp_part_1  raw_timestamp_part_2    cvtd_timestamp  \\\n",
       "0   1  carlitos            1323084231                788290  05/12/2011 11:23   \n",
       "1   2  carlitos            1323084231                808298  05/12/2011 11:23   \n",
       "2   3  carlitos            1323084231                820366  05/12/2011 11:23   \n",
       "\n",
       "  new_window  num_window  roll_belt  pitch_belt  yaw_belt  ...  \\\n",
       "0         no          11       1.41        8.07     -94.4  ...   \n",
       "1         no          11       1.41        8.07     -94.4  ...   \n",
       "2         no          11       1.42        8.07     -94.4  ...   \n",
       "\n",
       "   gyros_forearm_x gyros_forearm_y gyros_forearm_z accel_forearm_x  \\\n",
       "0             0.03            0.00           -0.02             192   \n",
       "1             0.02            0.00           -0.02             192   \n",
       "2             0.03           -0.02            0.00             196   \n",
       "\n",
       "  accel_forearm_y accel_forearm_z magnet_forearm_x  magnet_forearm_y  \\\n",
       "0             203            -215              -17             654.0   \n",
       "1             203            -216              -18             661.0   \n",
       "2             204            -213              -18             658.0   \n",
       "\n",
       "   magnet_forearm_z classe  \n",
       "0             476.0      A  \n",
       "1             473.0      A  \n",
       "2             469.0      A  \n",
       "\n",
       "[3 rows x 160 columns]"
      ]
     },
     "execution_count": 6,
     "metadata": {},
     "output_type": "execute_result"
    }
   ],
   "source": [
    "X.head(3)"
   ]
  },
  {
   "cell_type": "markdown",
   "metadata": {},
   "source": [
    "## Explore the data"
   ]
  },
  {
   "cell_type": "code",
   "execution_count": 7,
   "metadata": {},
   "outputs": [
    {
     "name": "stdout",
     "output_type": "stream",
     "text": [
      "<class 'pandas.core.frame.DataFrame'>\n",
      "RangeIndex: 19622 entries, 0 to 19621\n",
      "Columns: 160 entries, ID to classe\n",
      "dtypes: float64(94), int64(29), object(37)\n",
      "memory usage: 24.0+ MB\n"
     ]
    }
   ],
   "source": [
    "X.info()"
   ]
  },
  {
   "cell_type": "code",
   "execution_count": 8,
   "metadata": {},
   "outputs": [
    {
     "data": {
      "text/html": [
       "<div>\n",
       "<style scoped>\n",
       "    .dataframe tbody tr th:only-of-type {\n",
       "        vertical-align: middle;\n",
       "    }\n",
       "\n",
       "    .dataframe tbody tr th {\n",
       "        vertical-align: top;\n",
       "    }\n",
       "\n",
       "    .dataframe thead th {\n",
       "        text-align: right;\n",
       "    }\n",
       "</style>\n",
       "<table border=\"1\" class=\"dataframe\">\n",
       "  <thead>\n",
       "    <tr style=\"text-align: right;\">\n",
       "      <th></th>\n",
       "      <th>ID</th>\n",
       "      <th>raw_timestamp_part_1</th>\n",
       "      <th>raw_timestamp_part_2</th>\n",
       "      <th>num_window</th>\n",
       "      <th>roll_belt</th>\n",
       "      <th>pitch_belt</th>\n",
       "      <th>yaw_belt</th>\n",
       "      <th>total_accel_belt</th>\n",
       "      <th>max_roll_belt</th>\n",
       "      <th>max_picth_belt</th>\n",
       "      <th>...</th>\n",
       "      <th>var_yaw_forearm</th>\n",
       "      <th>gyros_forearm_x</th>\n",
       "      <th>gyros_forearm_y</th>\n",
       "      <th>gyros_forearm_z</th>\n",
       "      <th>accel_forearm_x</th>\n",
       "      <th>accel_forearm_y</th>\n",
       "      <th>accel_forearm_z</th>\n",
       "      <th>magnet_forearm_x</th>\n",
       "      <th>magnet_forearm_y</th>\n",
       "      <th>magnet_forearm_z</th>\n",
       "    </tr>\n",
       "  </thead>\n",
       "  <tbody>\n",
       "    <tr>\n",
       "      <td>count</td>\n",
       "      <td>19622.000000</td>\n",
       "      <td>1.962200e+04</td>\n",
       "      <td>19622.000000</td>\n",
       "      <td>19622.000000</td>\n",
       "      <td>19622.000000</td>\n",
       "      <td>19622.000000</td>\n",
       "      <td>19622.000000</td>\n",
       "      <td>19622.000000</td>\n",
       "      <td>406.000000</td>\n",
       "      <td>406.000000</td>\n",
       "      <td>...</td>\n",
       "      <td>406.000000</td>\n",
       "      <td>19622.000000</td>\n",
       "      <td>19622.000000</td>\n",
       "      <td>19622.000000</td>\n",
       "      <td>19622.000000</td>\n",
       "      <td>19622.000000</td>\n",
       "      <td>19622.000000</td>\n",
       "      <td>19622.000000</td>\n",
       "      <td>19622.000000</td>\n",
       "      <td>19622.000000</td>\n",
       "    </tr>\n",
       "    <tr>\n",
       "      <td>mean</td>\n",
       "      <td>9811.500000</td>\n",
       "      <td>1.322827e+09</td>\n",
       "      <td>500656.144277</td>\n",
       "      <td>430.640047</td>\n",
       "      <td>64.407197</td>\n",
       "      <td>0.305283</td>\n",
       "      <td>-11.205061</td>\n",
       "      <td>11.312608</td>\n",
       "      <td>-6.667241</td>\n",
       "      <td>12.923645</td>\n",
       "      <td>...</td>\n",
       "      <td>4639.849068</td>\n",
       "      <td>0.157951</td>\n",
       "      <td>0.075175</td>\n",
       "      <td>0.151245</td>\n",
       "      <td>-61.651819</td>\n",
       "      <td>163.655896</td>\n",
       "      <td>-55.291917</td>\n",
       "      <td>-312.575884</td>\n",
       "      <td>380.116445</td>\n",
       "      <td>393.613745</td>\n",
       "    </tr>\n",
       "    <tr>\n",
       "      <td>std</td>\n",
       "      <td>5664.527827</td>\n",
       "      <td>2.049277e+05</td>\n",
       "      <td>288222.879958</td>\n",
       "      <td>247.909554</td>\n",
       "      <td>62.750255</td>\n",
       "      <td>22.351242</td>\n",
       "      <td>95.193926</td>\n",
       "      <td>7.742309</td>\n",
       "      <td>94.594252</td>\n",
       "      <td>8.005960</td>\n",
       "      <td>...</td>\n",
       "      <td>7284.972361</td>\n",
       "      <td>0.648618</td>\n",
       "      <td>3.100725</td>\n",
       "      <td>1.754483</td>\n",
       "      <td>180.593687</td>\n",
       "      <td>200.130082</td>\n",
       "      <td>138.396947</td>\n",
       "      <td>346.958482</td>\n",
       "      <td>509.373742</td>\n",
       "      <td>369.268747</td>\n",
       "    </tr>\n",
       "    <tr>\n",
       "      <td>min</td>\n",
       "      <td>1.000000</td>\n",
       "      <td>1.322490e+09</td>\n",
       "      <td>294.000000</td>\n",
       "      <td>1.000000</td>\n",
       "      <td>-28.900000</td>\n",
       "      <td>-55.800000</td>\n",
       "      <td>-180.000000</td>\n",
       "      <td>0.000000</td>\n",
       "      <td>-94.300000</td>\n",
       "      <td>3.000000</td>\n",
       "      <td>...</td>\n",
       "      <td>0.000000</td>\n",
       "      <td>-22.000000</td>\n",
       "      <td>-7.020000</td>\n",
       "      <td>-8.090000</td>\n",
       "      <td>-498.000000</td>\n",
       "      <td>-632.000000</td>\n",
       "      <td>-446.000000</td>\n",
       "      <td>-1280.000000</td>\n",
       "      <td>-896.000000</td>\n",
       "      <td>-973.000000</td>\n",
       "    </tr>\n",
       "    <tr>\n",
       "      <td>25%</td>\n",
       "      <td>4906.250000</td>\n",
       "      <td>1.322673e+09</td>\n",
       "      <td>252912.250000</td>\n",
       "      <td>222.000000</td>\n",
       "      <td>1.100000</td>\n",
       "      <td>1.760000</td>\n",
       "      <td>-88.300000</td>\n",
       "      <td>3.000000</td>\n",
       "      <td>-88.000000</td>\n",
       "      <td>5.000000</td>\n",
       "      <td>...</td>\n",
       "      <td>0.274550</td>\n",
       "      <td>-0.220000</td>\n",
       "      <td>-1.460000</td>\n",
       "      <td>-0.180000</td>\n",
       "      <td>-178.000000</td>\n",
       "      <td>57.000000</td>\n",
       "      <td>-182.000000</td>\n",
       "      <td>-616.000000</td>\n",
       "      <td>2.000000</td>\n",
       "      <td>191.000000</td>\n",
       "    </tr>\n",
       "    <tr>\n",
       "      <td>50%</td>\n",
       "      <td>9811.500000</td>\n",
       "      <td>1.322833e+09</td>\n",
       "      <td>496380.000000</td>\n",
       "      <td>424.000000</td>\n",
       "      <td>113.000000</td>\n",
       "      <td>5.280000</td>\n",
       "      <td>-13.000000</td>\n",
       "      <td>17.000000</td>\n",
       "      <td>-5.100000</td>\n",
       "      <td>18.000000</td>\n",
       "      <td>...</td>\n",
       "      <td>612.214225</td>\n",
       "      <td>0.050000</td>\n",
       "      <td>0.030000</td>\n",
       "      <td>0.080000</td>\n",
       "      <td>-57.000000</td>\n",
       "      <td>201.000000</td>\n",
       "      <td>-39.000000</td>\n",
       "      <td>-378.000000</td>\n",
       "      <td>591.000000</td>\n",
       "      <td>511.000000</td>\n",
       "    </tr>\n",
       "    <tr>\n",
       "      <td>75%</td>\n",
       "      <td>14716.750000</td>\n",
       "      <td>1.323084e+09</td>\n",
       "      <td>751890.750000</td>\n",
       "      <td>644.000000</td>\n",
       "      <td>123.000000</td>\n",
       "      <td>14.900000</td>\n",
       "      <td>12.900000</td>\n",
       "      <td>18.000000</td>\n",
       "      <td>18.500000</td>\n",
       "      <td>19.000000</td>\n",
       "      <td>...</td>\n",
       "      <td>7368.414252</td>\n",
       "      <td>0.560000</td>\n",
       "      <td>1.620000</td>\n",
       "      <td>0.490000</td>\n",
       "      <td>76.000000</td>\n",
       "      <td>312.000000</td>\n",
       "      <td>26.000000</td>\n",
       "      <td>-73.000000</td>\n",
       "      <td>737.000000</td>\n",
       "      <td>653.000000</td>\n",
       "    </tr>\n",
       "    <tr>\n",
       "      <td>max</td>\n",
       "      <td>19622.000000</td>\n",
       "      <td>1.323095e+09</td>\n",
       "      <td>998801.000000</td>\n",
       "      <td>864.000000</td>\n",
       "      <td>162.000000</td>\n",
       "      <td>60.300000</td>\n",
       "      <td>179.000000</td>\n",
       "      <td>29.000000</td>\n",
       "      <td>180.000000</td>\n",
       "      <td>30.000000</td>\n",
       "      <td>...</td>\n",
       "      <td>39009.333330</td>\n",
       "      <td>3.970000</td>\n",
       "      <td>311.000000</td>\n",
       "      <td>231.000000</td>\n",
       "      <td>477.000000</td>\n",
       "      <td>923.000000</td>\n",
       "      <td>291.000000</td>\n",
       "      <td>672.000000</td>\n",
       "      <td>1480.000000</td>\n",
       "      <td>1090.000000</td>\n",
       "    </tr>\n",
       "  </tbody>\n",
       "</table>\n",
       "<p>8 rows × 123 columns</p>\n",
       "</div>"
      ],
      "text/plain": [
       "                 ID  raw_timestamp_part_1  raw_timestamp_part_2    num_window  \\\n",
       "count  19622.000000          1.962200e+04          19622.000000  19622.000000   \n",
       "mean    9811.500000          1.322827e+09         500656.144277    430.640047   \n",
       "std     5664.527827          2.049277e+05         288222.879958    247.909554   \n",
       "min        1.000000          1.322490e+09            294.000000      1.000000   \n",
       "25%     4906.250000          1.322673e+09         252912.250000    222.000000   \n",
       "50%     9811.500000          1.322833e+09         496380.000000    424.000000   \n",
       "75%    14716.750000          1.323084e+09         751890.750000    644.000000   \n",
       "max    19622.000000          1.323095e+09         998801.000000    864.000000   \n",
       "\n",
       "          roll_belt    pitch_belt      yaw_belt  total_accel_belt  \\\n",
       "count  19622.000000  19622.000000  19622.000000      19622.000000   \n",
       "mean      64.407197      0.305283    -11.205061         11.312608   \n",
       "std       62.750255     22.351242     95.193926          7.742309   \n",
       "min      -28.900000    -55.800000   -180.000000          0.000000   \n",
       "25%        1.100000      1.760000    -88.300000          3.000000   \n",
       "50%      113.000000      5.280000    -13.000000         17.000000   \n",
       "75%      123.000000     14.900000     12.900000         18.000000   \n",
       "max      162.000000     60.300000    179.000000         29.000000   \n",
       "\n",
       "       max_roll_belt  max_picth_belt  ...  var_yaw_forearm  gyros_forearm_x  \\\n",
       "count     406.000000      406.000000  ...       406.000000     19622.000000   \n",
       "mean       -6.667241       12.923645  ...      4639.849068         0.157951   \n",
       "std        94.594252        8.005960  ...      7284.972361         0.648618   \n",
       "min       -94.300000        3.000000  ...         0.000000       -22.000000   \n",
       "25%       -88.000000        5.000000  ...         0.274550        -0.220000   \n",
       "50%        -5.100000       18.000000  ...       612.214225         0.050000   \n",
       "75%        18.500000       19.000000  ...      7368.414252         0.560000   \n",
       "max       180.000000       30.000000  ...     39009.333330         3.970000   \n",
       "\n",
       "       gyros_forearm_y  gyros_forearm_z  accel_forearm_x  accel_forearm_y  \\\n",
       "count     19622.000000     19622.000000     19622.000000     19622.000000   \n",
       "mean          0.075175         0.151245       -61.651819       163.655896   \n",
       "std           3.100725         1.754483       180.593687       200.130082   \n",
       "min          -7.020000        -8.090000      -498.000000      -632.000000   \n",
       "25%          -1.460000        -0.180000      -178.000000        57.000000   \n",
       "50%           0.030000         0.080000       -57.000000       201.000000   \n",
       "75%           1.620000         0.490000        76.000000       312.000000   \n",
       "max         311.000000       231.000000       477.000000       923.000000   \n",
       "\n",
       "       accel_forearm_z  magnet_forearm_x  magnet_forearm_y  magnet_forearm_z  \n",
       "count     19622.000000      19622.000000      19622.000000      19622.000000  \n",
       "mean        -55.291917       -312.575884        380.116445        393.613745  \n",
       "std         138.396947        346.958482        509.373742        369.268747  \n",
       "min        -446.000000      -1280.000000       -896.000000       -973.000000  \n",
       "25%        -182.000000       -616.000000          2.000000        191.000000  \n",
       "50%         -39.000000       -378.000000        591.000000        511.000000  \n",
       "75%          26.000000        -73.000000        737.000000        653.000000  \n",
       "max         291.000000        672.000000       1480.000000       1090.000000  \n",
       "\n",
       "[8 rows x 123 columns]"
      ]
     },
     "execution_count": 8,
     "metadata": {},
     "output_type": "execute_result"
    }
   ],
   "source": [
    "X.describe()"
   ]
  },
  {
   "cell_type": "markdown",
   "metadata": {},
   "source": [
    "This is how the five classes are distributed:"
   ]
  },
  {
   "cell_type": "code",
   "execution_count": 9,
   "metadata": {},
   "outputs": [
    {
     "data": {
      "image/png": "[encoded data removed]",
      "text/plain": [
       "<Figure size 432x288 with 1 Axes>"
      ]
     },
     "metadata": {
      "needs_background": "light"
     },
     "output_type": "display_data"
    }
   ],
   "source": [
    "X.classe.hist();"
   ]
  },
  {
   "cell_type": "markdown",
   "metadata": {},
   "source": [
    "Classes are almost uniformly distributed, with a small prevalence for A-class."
   ]
  },
  {
   "cell_type": "markdown",
   "metadata": {},
   "source": [
    "## Preprocess the data"
   ]
  },
  {
   "cell_type": "code",
   "execution_count": 10,
   "metadata": {},
   "outputs": [],
   "source": [
    "y = X.classe.copy() # copy “y” column (the target) values out"
   ]
  },
  {
   "cell_type": "code",
   "execution_count": 11,
   "metadata": {},
   "outputs": [],
   "source": [
    "X.drop(['classe'], axis=1, inplace=True) # then, drop y column"
   ]
  },
  {
   "cell_type": "markdown",
   "metadata": {},
   "source": [
    "## Feature extraction\n",
    "\n",
    "160 features are computationally expensive for the model training, so we aim to reduce them.  \n",
    "\n",
    "### Remove user- and time-dependent features\n",
    "First of all, it’s clear from the summary above that the first six variables have no use, since they are user-dependent and time-dependent; so we remove them:\n"
   ]
  },
  {
   "cell_type": "code",
   "execution_count": 12,
   "metadata": {},
   "outputs": [],
   "source": [
    "columnsToDelete = ['ID','user_name', 'raw_timestamp_part_1', 'raw_timestamp_part_2','cvtd_timestamp', 'new_window', 'num_window']"
   ]
  },
  {
   "cell_type": "code",
   "execution_count": 13,
   "metadata": {},
   "outputs": [],
   "source": [
    "X.drop(columnsToDelete, axis = 1, inplace=True)"
   ]
  },
  {
   "cell_type": "markdown",
   "metadata": {},
   "source": [
    "### Remove features with missing values"
   ]
  },
  {
   "cell_type": "code",
   "execution_count": 14,
   "metadata": {},
   "outputs": [
    {
     "data": {
      "text/plain": [
       "True"
      ]
     },
     "execution_count": 14,
     "metadata": {},
     "output_type": "execute_result"
    }
   ],
   "source": [
    "X.isnull().values.any() "
   ]
  },
  {
   "cell_type": "markdown",
   "metadata": {},
   "source": [
    "From the statement above, some variables have missing values (NaN).\n",
    "We could substitute them with the average for that variable but there are many missing values and this is not improving the model accuracy (I tried).\n",
    "Instead of less-accurate imputation of missing data, I just remove all predictors with NA values. Hard but fair …"
   ]
  },
  {
   "cell_type": "code",
   "execution_count": 15,
   "metadata": {},
   "outputs": [],
   "source": [
    "X.dropna(axis=1, inplace=True) "
   ]
  },
  {
   "cell_type": "code",
   "execution_count": 16,
   "metadata": {},
   "outputs": [
    {
     "data": {
      "text/plain": [
       "(19622, 52)"
      ]
     },
     "execution_count": 16,
     "metadata": {},
     "output_type": "execute_result"
    }
   ],
   "source": [
    "X.shape"
   ]
  },
  {
   "cell_type": "markdown",
   "metadata": {},
   "source": [
    "Finally we have reduced the dataset to **52 features**, less than one third."
   ]
  },
  {
   "cell_type": "code",
   "execution_count": 17,
   "metadata": {},
   "outputs": [
    {
     "data": {
      "text/html": [
       "<div>\n",
       "<style scoped>\n",
       "    .dataframe tbody tr th:only-of-type {\n",
       "        vertical-align: middle;\n",
       "    }\n",
       "\n",
       "    .dataframe tbody tr th {\n",
       "        vertical-align: top;\n",
       "    }\n",
       "\n",
       "    .dataframe thead th {\n",
       "        text-align: right;\n",
       "    }\n",
       "</style>\n",
       "<table border=\"1\" class=\"dataframe\">\n",
       "  <thead>\n",
       "    <tr style=\"text-align: right;\">\n",
       "      <th></th>\n",
       "      <th>roll_belt</th>\n",
       "      <th>pitch_belt</th>\n",
       "      <th>yaw_belt</th>\n",
       "      <th>total_accel_belt</th>\n",
       "      <th>gyros_belt_x</th>\n",
       "      <th>gyros_belt_y</th>\n",
       "      <th>gyros_belt_z</th>\n",
       "      <th>accel_belt_x</th>\n",
       "      <th>accel_belt_y</th>\n",
       "      <th>accel_belt_z</th>\n",
       "      <th>...</th>\n",
       "      <th>total_accel_forearm</th>\n",
       "      <th>gyros_forearm_x</th>\n",
       "      <th>gyros_forearm_y</th>\n",
       "      <th>gyros_forearm_z</th>\n",
       "      <th>accel_forearm_x</th>\n",
       "      <th>accel_forearm_y</th>\n",
       "      <th>accel_forearm_z</th>\n",
       "      <th>magnet_forearm_x</th>\n",
       "      <th>magnet_forearm_y</th>\n",
       "      <th>magnet_forearm_z</th>\n",
       "    </tr>\n",
       "  </thead>\n",
       "  <tbody>\n",
       "    <tr>\n",
       "      <td>0</td>\n",
       "      <td>1.41</td>\n",
       "      <td>8.07</td>\n",
       "      <td>-94.4</td>\n",
       "      <td>3</td>\n",
       "      <td>0.00</td>\n",
       "      <td>0.0</td>\n",
       "      <td>-0.02</td>\n",
       "      <td>-21</td>\n",
       "      <td>4</td>\n",
       "      <td>22</td>\n",
       "      <td>...</td>\n",
       "      <td>36</td>\n",
       "      <td>0.03</td>\n",
       "      <td>0.00</td>\n",
       "      <td>-0.02</td>\n",
       "      <td>192</td>\n",
       "      <td>203</td>\n",
       "      <td>-215</td>\n",
       "      <td>-17</td>\n",
       "      <td>654.0</td>\n",
       "      <td>476.0</td>\n",
       "    </tr>\n",
       "    <tr>\n",
       "      <td>1</td>\n",
       "      <td>1.41</td>\n",
       "      <td>8.07</td>\n",
       "      <td>-94.4</td>\n",
       "      <td>3</td>\n",
       "      <td>0.02</td>\n",
       "      <td>0.0</td>\n",
       "      <td>-0.02</td>\n",
       "      <td>-22</td>\n",
       "      <td>4</td>\n",
       "      <td>22</td>\n",
       "      <td>...</td>\n",
       "      <td>36</td>\n",
       "      <td>0.02</td>\n",
       "      <td>0.00</td>\n",
       "      <td>-0.02</td>\n",
       "      <td>192</td>\n",
       "      <td>203</td>\n",
       "      <td>-216</td>\n",
       "      <td>-18</td>\n",
       "      <td>661.0</td>\n",
       "      <td>473.0</td>\n",
       "    </tr>\n",
       "    <tr>\n",
       "      <td>2</td>\n",
       "      <td>1.42</td>\n",
       "      <td>8.07</td>\n",
       "      <td>-94.4</td>\n",
       "      <td>3</td>\n",
       "      <td>0.00</td>\n",
       "      <td>0.0</td>\n",
       "      <td>-0.02</td>\n",
       "      <td>-20</td>\n",
       "      <td>5</td>\n",
       "      <td>23</td>\n",
       "      <td>...</td>\n",
       "      <td>36</td>\n",
       "      <td>0.03</td>\n",
       "      <td>-0.02</td>\n",
       "      <td>0.00</td>\n",
       "      <td>196</td>\n",
       "      <td>204</td>\n",
       "      <td>-213</td>\n",
       "      <td>-18</td>\n",
       "      <td>658.0</td>\n",
       "      <td>469.0</td>\n",
       "    </tr>\n",
       "  </tbody>\n",
       "</table>\n",
       "<p>3 rows × 52 columns</p>\n",
       "</div>"
      ],
      "text/plain": [
       "   roll_belt  pitch_belt  yaw_belt  total_accel_belt  gyros_belt_x  \\\n",
       "0       1.41        8.07     -94.4                 3          0.00   \n",
       "1       1.41        8.07     -94.4                 3          0.02   \n",
       "2       1.42        8.07     -94.4                 3          0.00   \n",
       "\n",
       "   gyros_belt_y  gyros_belt_z  accel_belt_x  accel_belt_y  accel_belt_z  ...  \\\n",
       "0           0.0         -0.02           -21             4            22  ...   \n",
       "1           0.0         -0.02           -22             4            22  ...   \n",
       "2           0.0         -0.02           -20             5            23  ...   \n",
       "\n",
       "   total_accel_forearm  gyros_forearm_x  gyros_forearm_y  gyros_forearm_z  \\\n",
       "0                   36             0.03             0.00            -0.02   \n",
       "1                   36             0.02             0.00            -0.02   \n",
       "2                   36             0.03            -0.02             0.00   \n",
       "\n",
       "   accel_forearm_x  accel_forearm_y  accel_forearm_z  magnet_forearm_x  \\\n",
       "0              192              203             -215               -17   \n",
       "1              192              203             -216               -18   \n",
       "2              196              204             -213               -18   \n",
       "\n",
       "   magnet_forearm_y  magnet_forearm_z  \n",
       "0             654.0             476.0  \n",
       "1             661.0             473.0  \n",
       "2             658.0             469.0  \n",
       "\n",
       "[3 rows x 52 columns]"
      ]
     },
     "execution_count": 17,
     "metadata": {},
     "output_type": "execute_result"
    }
   ],
   "source": [
    "X.head(3)"
   ]
  },
  {
   "cell_type": "markdown",
   "metadata": {},
   "source": [
    "### Remove features with near zero variance\n",
    "\n",
    "There is something else we can do: drop features which have a variance near zero meaning they don’t provide enough value for predictions.  \n",
    "We will use the *sklearn* module VarianceThreshold to find out which features have big enough variance."
   ]
  },
  {
   "cell_type": "code",
   "execution_count": 18,
   "metadata": {},
   "outputs": [],
   "source": [
    "from sklearn.feature_selection import VarianceThreshold"
   ]
  },
  {
   "cell_type": "code",
   "execution_count": 19,
   "metadata": {},
   "outputs": [],
   "source": [
    "selector = VarianceThreshold()"
   ]
  },
  {
   "cell_type": "code",
   "execution_count": 20,
   "metadata": {},
   "outputs": [
    {
     "data": {
      "text/plain": [
       "VarianceThreshold(threshold=0.0)"
      ]
     },
     "execution_count": 20,
     "metadata": {},
     "output_type": "execute_result"
    }
   ],
   "source": [
    "selector.fit(X)"
   ]
  },
  {
   "cell_type": "markdown",
   "metadata": {},
   "source": [
    "Find all features with variance larger than 0.5 (you can tune it):"
   ]
  },
  {
   "cell_type": "code",
   "execution_count": 21,
   "metadata": {},
   "outputs": [],
   "source": [
    "mask = selector.variances_ > 0.5  # arbitrary value 0.5"
   ]
  },
  {
   "cell_type": "markdown",
   "metadata": {},
   "source": [
    "Copy all \"high variance\" features into a new dataframe x_hv:"
   ]
  },
  {
   "cell_type": "code",
   "execution_count": 22,
   "metadata": {},
   "outputs": [],
   "source": [
    "X_hv = X.loc[:, mask == True]"
   ]
  },
  {
   "cell_type": "code",
   "execution_count": 23,
   "metadata": {},
   "outputs": [
    {
     "data": {
      "text/plain": [
       "(19622, 46)"
      ]
     },
     "execution_count": 23,
     "metadata": {},
     "output_type": "execute_result"
    }
   ],
   "source": [
    "X_hv.shape"
   ]
  },
  {
   "cell_type": "code",
   "execution_count": 24,
   "metadata": {},
   "outputs": [
    {
     "data": {
      "text/plain": [
       "19622"
      ]
     },
     "execution_count": 24,
     "metadata": {},
     "output_type": "execute_result"
    }
   ],
   "source": [
    "totalObs = X_hv.shape[0] # this will soon come useful\n",
    "totalObs"
   ]
  },
  {
   "cell_type": "markdown",
   "metadata": {},
   "source": [
    "Another 6 features removed.  \n",
    "A final reduction could be to remove all the features that have a high correlation between them, which I skip."
   ]
  },
  {
   "cell_type": "markdown",
   "metadata": {},
   "source": [
    "## Normalisation\n",
    "\n",
    "LDA (and in general other classification models) works better if the data set is normalised."
   ]
  },
  {
   "cell_type": "code",
   "execution_count": 25,
   "metadata": {},
   "outputs": [],
   "source": [
    "from sklearn import preprocessing\n",
    "\n",
    "normaliser = preprocessing.Normalizer()"
   ]
  },
  {
   "cell_type": "code",
   "execution_count": 26,
   "metadata": {},
   "outputs": [],
   "source": [
    "  # this will keep the columns names\n",
    "xNormalised = pd.DataFrame(normaliser.fit_transform(X_hv), columns = X_hv.columns) "
   ]
  },
  {
   "cell_type": "markdown",
   "metadata": {},
   "source": [
    "## Split the data into training and testing\n",
    "\n",
    "For each model I will measure the out of sample error that is the error rate you get on a new data set.  \n",
    "The purpose of using a different data set than training is model checking. I want to validate how well the model got trained.  \n",
    "I will calculate the out of sample error by looking at the accuracy."
   ]
  },
  {
   "cell_type": "code",
   "execution_count": 27,
   "metadata": {},
   "outputs": [],
   "source": [
    "from sklearn.model_selection import train_test_split"
   ]
  },
  {
   "cell_type": "code",
   "execution_count": 28,
   "metadata": {},
   "outputs": [],
   "source": [
    "Xtrain, Xtest, ytrain, ytest = train_test_split(xNormalised, y, test_size=0.2, random_state=7)"
   ]
  },
  {
   "cell_type": "markdown",
   "metadata": {},
   "source": [
    "## Baseline prediction\n",
    "\n",
    "A baseline is needed to see if any model trained is really that useful.  Can it beat the simplest baseline?   \n",
    "Our baseline will be deciding randomly the \"classe\" category based on the frequency in the training set (classe A is 28% of the times, classe B is 19% and so on …)  \n",
    "The baseline accuracy would be around 0.2, as there are five classes to choose.   \n",
    "Any model with a higher accuracy than the baseline is a better model."
   ]
  },
  {
   "cell_type": "code",
   "execution_count": 29,
   "metadata": {},
   "outputs": [
    {
     "data": {
      "text/plain": [
       "A    5580\n",
       "B    3797\n",
       "E    3607\n",
       "C    3422\n",
       "D    3216\n",
       "Name: classe, dtype: int64"
      ]
     },
     "execution_count": 29,
     "metadata": {},
     "output_type": "execute_result"
    }
   ],
   "source": [
    "y.value_counts() # frequency of each category"
   ]
  },
  {
   "cell_type": "markdown",
   "metadata": {},
   "source": [
    "Let's get the baseline by hard-coding the frequencies of the classes usage:"
   ]
  },
  {
   "cell_type": "code",
   "execution_count": 30,
   "metadata": {},
   "outputs": [],
   "source": [
    "def baselinePredict(aNumber):\n",
    "    # aNumber: expects a number between 0 and 1\n",
    "    # totalObs is a global vaiable\n",
    "    \n",
    "    if (aNumber < 5580 / totalObs):\n",
    "        return 'A'\n",
    "    elif (aNumber < (5580 + 3797) / totalObs):\n",
    "        return 'B'\n",
    "    elif (aNumber < (5580 + 3797 + 3607) / totalObs):\n",
    "        return 'C'\n",
    "    elif (aNumber < (5580 + 3797 + 3607 + 3422) / totalObs):\n",
    "        return 'D'\n",
    "    else:\n",
    "        return 'E'"
   ]
  },
  {
   "cell_type": "markdown",
   "metadata": {},
   "source": [
    "Let's try a test:"
   ]
  },
  {
   "cell_type": "code",
   "execution_count": 31,
   "metadata": {},
   "outputs": [],
   "source": [
    "import random"
   ]
  },
  {
   "cell_type": "code",
   "execution_count": 32,
   "metadata": {},
   "outputs": [
    {
     "data": {
      "text/plain": [
       "'C'"
      ]
     },
     "execution_count": 32,
     "metadata": {},
     "output_type": "execute_result"
    }
   ],
   "source": [
    "test = random.random() # a number between 0 and 1\n",
    "\n",
    "baselinePredict(test)"
   ]
  },
  {
   "cell_type": "code",
   "execution_count": 33,
   "metadata": {},
   "outputs": [
    {
     "name": "stdout",
     "output_type": "stream",
     "text": [
      "Percentage of correct predictions for all test dataset:  0.209171974522293\n"
     ]
    }
   ],
   "source": [
    "yTotals = ytest.count()\n",
    "correctPredictions = 0\n",
    "\n",
    "for i in range(yTotals):\n",
    "    rndPrediction = baselinePredict(random.random())\n",
    "        \n",
    "    if (rndPrediction == ytest.iloc[i]):\n",
    "        correctPredictions += 1\n",
    "        \n",
    "print(\"Percentage of correct predictions for all test dataset: \", correctPredictions / yTotals)"
   ]
  },
  {
   "cell_type": "markdown",
   "metadata": {},
   "source": [
    "This is our baseline. As it's random calculated, it varies; usually between 0.2 and 0.22 circa.  \n",
    "  \n",
    "Now we have everything to start training our models!"
   ]
  },
  {
   "cell_type": "markdown",
   "metadata": {},
   "source": [
    "## Multi-class logistic: One vs All\n",
    "\n",
    "We now train a one-versus-all model."
   ]
  },
  {
   "cell_type": "code",
   "execution_count": 34,
   "metadata": {},
   "outputs": [],
   "source": [
    "from sklearn.multiclass import OneVsRestClassifier\n",
    "from sklearn.svm import SVC"
   ]
  },
  {
   "cell_type": "code",
   "execution_count": 35,
   "metadata": {},
   "outputs": [],
   "source": [
    "modelOneVsAll = OneVsRestClassifier(SVC(kernel='linear'))"
   ]
  },
  {
   "cell_type": "code",
   "execution_count": 36,
   "metadata": {},
   "outputs": [],
   "source": [
    "import time # to measure the time needed for training"
   ]
  },
  {
   "cell_type": "code",
   "execution_count": 37,
   "metadata": {
    "scrolled": true
   },
   "outputs": [
    {
     "name": "stdout",
     "output_type": "stream",
     "text": [
      "Training the One versus All model ...\n",
      "Done! Completed in:  84.21062207221985 seconds\n"
     ]
    }
   ],
   "source": [
    "print (\"Training the One versus All model ...\")\n",
    "s = time.time()\n",
    "\n",
    "modelOneVsAll.fit(Xtrain, ytrain)\n",
    "\n",
    "print(\"Done! Completed in: \", time.time() - s, \"seconds\")"
   ]
  },
  {
   "cell_type": "code",
   "execution_count": 38,
   "metadata": {},
   "outputs": [
    {
     "data": {
      "text/plain": [
       "0.6242038216560509"
      ]
     },
     "execution_count": 38,
     "metadata": {},
     "output_type": "execute_result"
    }
   ],
   "source": [
    "modelOneVsAll.score(Xtest, ytest)"
   ]
  },
  {
   "cell_type": "markdown",
   "metadata": {},
   "source": [
    "The model scores a better accuracy than the baseline **but it took a long time**.  \n",
    "Using a Logistic multinomial regression hold similar accuracy results."
   ]
  },
  {
   "cell_type": "markdown",
   "metadata": {},
   "source": [
    "### Reduce even more the features\n",
    "\n",
    "One possibility would be to apply the LR model to a **very reduced** subset of features.  \n",
    "To do that we need first to find out which are the most important features.  \n",
    "As we remember a good way to have them is to use a decision tree. Let's use the tree as a shortcut to find the most important features.\n",
    "\n",
    "#### Train a decision tree"
   ]
  },
  {
   "cell_type": "code",
   "execution_count": 39,
   "metadata": {},
   "outputs": [],
   "source": [
    "from sklearn.ensemble import ExtraTreesClassifier\n",
    "tree = ExtraTreesClassifier()"
   ]
  },
  {
   "cell_type": "code",
   "execution_count": 42,
   "metadata": {},
   "outputs": [
    {
     "data": {
      "text/plain": [
       "ExtraTreesClassifier(bootstrap=False, class_weight=None, criterion='gini',\n",
       "                     max_depth=None, max_features='auto', max_leaf_nodes=None,\n",
       "                     min_impurity_decrease=0.0, min_impurity_split=None,\n",
       "                     min_samples_leaf=1, min_samples_split=2,\n",
       "                     min_weight_fraction_leaf=0.0, n_estimators=10, n_jobs=None,\n",
       "                     oob_score=False, random_state=None, verbose=0,\n",
       "                     warm_start=False)"
      ]
     },
     "execution_count": 42,
     "metadata": {},
     "output_type": "execute_result"
    }
   ],
   "source": [
    "tree.fit(Xtrain, ytrain)"
   ]
  },
  {
   "cell_type": "code",
   "execution_count": 43,
   "metadata": {},
   "outputs": [
    {
     "data": {
      "text/plain": [
       "magnet_dumbbell_z    0.052469\n",
       "pitch_forearm        0.041033\n",
       "roll_dumbbell        0.038611\n",
       "yaw_belt             0.035835\n",
       "dtype: float64"
      ]
     },
     "execution_count": 43,
     "metadata": {},
     "output_type": "execute_result"
    }
   ],
   "source": [
    "feat_importances = pd.Series(tree.feature_importances_, index=Xtest.columns)\n",
    "feat_importances.nlargest(4)"
   ]
  },
  {
   "cell_type": "markdown",
   "metadata": {},
   "source": [
    "## Re-train the OneVsAll model with only the top four features.\n",
    "Now that we have the top 4 features, we can train again the model only with them:"
   ]
  },
  {
   "cell_type": "code",
   "execution_count": 44,
   "metadata": {},
   "outputs": [],
   "source": [
    "top4features = ['pitch_forearm', 'yaw_belt', 'magnet_dumbbell_z', 'roll_dumbbell']"
   ]
  },
  {
   "cell_type": "code",
   "execution_count": 45,
   "metadata": {},
   "outputs": [],
   "source": [
    "Xtrain_reduced = Xtrain[top4features].copy()"
   ]
  },
  {
   "cell_type": "code",
   "execution_count": 46,
   "metadata": {},
   "outputs": [
    {
     "data": {
      "text/plain": [
       "(15697, 4)"
      ]
     },
     "execution_count": 46,
     "metadata": {},
     "output_type": "execute_result"
    }
   ],
   "source": [
    "Xtrain_reduced.shape"
   ]
  },
  {
   "cell_type": "code",
   "execution_count": 47,
   "metadata": {},
   "outputs": [],
   "source": [
    "Xtest_reduced = Xtest[top4features].copy()"
   ]
  },
  {
   "cell_type": "code",
   "execution_count": 48,
   "metadata": {},
   "outputs": [
    {
     "name": "stdout",
     "output_type": "stream",
     "text": [
      "Training the OneVsAll model on 4 features ...\n",
      "Done! Completed in:  18.12926197052002 seconds\n"
     ]
    }
   ],
   "source": [
    "print (\"Training the OneVsAll model on 4 features ...\")\n",
    "s = time.time()\n",
    "\n",
    "modelOneVsAll.fit(Xtrain_reduced, ytrain)\n",
    "\n",
    "print(\"Done! Completed in: \", time.time() - s, \"seconds\")"
   ]
  },
  {
   "cell_type": "code",
   "execution_count": 49,
   "metadata": {},
   "outputs": [
    {
     "data": {
      "text/plain": [
       "0.3472611464968153"
      ]
     },
     "execution_count": 49,
     "metadata": {},
     "output_type": "execute_result"
    }
   ],
   "source": [
    "modelOneVsAll.score(Xtest_reduced, ytest)"
   ]
  },
  {
   "cell_type": "markdown",
   "metadata": {},
   "source": [
    "Well, the time greatly reduced but the score is now very low, barely better than the baseline ...  \n",
    "Not so useful. How to do?  \n",
    "  \n",
    "## Reduce the features using LDA\n",
    "LDA comes to rescue in the form of a data reduction similar to PCA. The LDA model can be applied to the dataset and **transform it into a smaller set of components**, between 1 and the number of classes minus 1 .  \n",
    "Since we have 5 classes we can reduce up to 4 components (this is why we choose earlier 4 top features)"
   ]
  },
  {
   "cell_type": "code",
   "execution_count": 50,
   "metadata": {},
   "outputs": [],
   "source": [
    "from sklearn.discriminant_analysis import LinearDiscriminantAnalysis # LDA"
   ]
  },
  {
   "cell_type": "code",
   "execution_count": 51,
   "metadata": {},
   "outputs": [
    {
     "data": {
      "text/plain": [
       "LinearDiscriminantAnalysis(n_components=4, priors=None, shrinkage=None,\n",
       "                           solver='svd', store_covariance=False, tol=0.0001)"
      ]
     },
     "execution_count": 51,
     "metadata": {},
     "output_type": "execute_result"
    }
   ],
   "source": [
    "reduceLDA = LinearDiscriminantAnalysis(n_components = 4)\n",
    "reduceLDA.fit(Xtrain, ytrain)"
   ]
  },
  {
   "cell_type": "code",
   "execution_count": 52,
   "metadata": {},
   "outputs": [],
   "source": [
    "XtrainLDAred = reduceLDA.transform(Xtrain)"
   ]
  },
  {
   "cell_type": "code",
   "execution_count": 53,
   "metadata": {},
   "outputs": [],
   "source": [
    "XtestLDAred = reduceLDA.transform(Xtest)"
   ]
  },
  {
   "cell_type": "markdown",
   "metadata": {},
   "source": [
    "And now we can again apply the OneVsAll model but this time to the reduced dataset:"
   ]
  },
  {
   "cell_type": "code",
   "execution_count": 54,
   "metadata": {},
   "outputs": [
    {
     "name": "stdout",
     "output_type": "stream",
     "text": [
      "Training the One Vs All model on reduced 4-components dataset ...\n",
      "Done! Completed in:  35.30073118209839 seconds\n"
     ]
    }
   ],
   "source": [
    "print (\"Training the One Vs All model on reduced 4-components dataset ...\")\n",
    "s = time.time()\n",
    "\n",
    "modelOneVsAll.fit(XtrainLDAred, ytrain)\n",
    "\n",
    "print(\"Done! Completed in: \", time.time() - s, \"seconds\")"
   ]
  },
  {
   "cell_type": "code",
   "execution_count": 55,
   "metadata": {},
   "outputs": [
    {
     "data": {
      "text/plain": [
       "0.6868789808917197"
      ]
     },
     "execution_count": 55,
     "metadata": {},
     "output_type": "execute_result"
    }
   ],
   "source": [
    "modelOneVsAll.score(XtestLDAred, ytest)"
   ]
  },
  {
   "cell_type": "markdown",
   "metadata": {},
   "source": [
    "The score is now similar to the one using the entire dataset but the training is much faster.  \n",
    "This shows how the LDA data reduction can help to have good results and times by applying the model on a reduced dataset."
   ]
  },
  {
   "cell_type": "markdown",
   "metadata": {},
   "source": [
    "## LDA Model\n",
    "\n",
    "But LDA can do more: it can also be used as a classifier directly!  \n",
    "We will train it (and time this) on the original dataset, not the reduced one; the LDA classifier will automatically reduce the dataset."
   ]
  },
  {
   "cell_type": "code",
   "execution_count": 56,
   "metadata": {},
   "outputs": [],
   "source": [
    "modelLDA = LinearDiscriminantAnalysis()"
   ]
  },
  {
   "cell_type": "code",
   "execution_count": 57,
   "metadata": {},
   "outputs": [
    {
     "name": "stdout",
     "output_type": "stream",
     "text": [
      "Training the LDA model ...\n",
      "Done! Completed in:  0.34035611152648926 seconds\n"
     ]
    }
   ],
   "source": [
    "print (\"Training the LDA model ...\")\n",
    "s = time.time()\n",
    "\n",
    "modelLDA.fit(Xtrain, ytrain)\n",
    "\n",
    "print(\"Done! Completed in: \", time.time() - s, \"seconds\")"
   ]
  },
  {
   "cell_type": "code",
   "execution_count": 58,
   "metadata": {},
   "outputs": [
    {
     "name": "stdout",
     "output_type": "stream",
     "text": [
      "LDA Model accuracy: 0.6942675159235668\n"
     ]
    }
   ],
   "source": [
    "print(\"LDA Model accuracy:\", modelLDA.score(Xtest,ytest))"
   ]
  },
  {
   "cell_type": "markdown",
   "metadata": {},
   "source": [
    "Great! The LDA model is much better than the baseline and similar to the OneVsAll results plus it was quite fast.  \n",
    "  \n",
    "Note: 70% of correct predictions is not exactly perfect but it was not the goal of this exercise: you can get almost perfect results using decision trees or random forests. "
   ]
  },
  {
   "cell_type": "code",
   "execution_count": 59,
   "metadata": {},
   "outputs": [
    {
     "data": {
      "text/plain": [
       "0.9885350318471338"
      ]
     },
     "execution_count": 59,
     "metadata": {},
     "output_type": "execute_result"
    }
   ],
   "source": [
    "tree.score(Xtest, ytest)"
   ]
  }
 ],
 "metadata": {
  "kernelspec": {
   "display_name": "Python 3",
   "language": "python",
   "name": "python3"
  },
  "language_info": {
   "codemirror_mode": {
    "name": "ipython",
    "version": 3
   },
   "file_extension": ".py",
   "mimetype": "text/x-python",
   "name": "python",
   "nbconvert_exporter": "python",
   "pygments_lexer": "ipython3",
   "version": "3.6.9"
  }
 },
 "nbformat": 4,
 "nbformat_minor": 4
}
