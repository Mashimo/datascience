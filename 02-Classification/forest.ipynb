{
 "cells": [
  {
   "cell_type": "markdown",
   "metadata": {},
   "source": [
    "# Random Forest"
   ]
  },
  {
   "cell_type": "markdown",
   "metadata": {},
   "source": [
    "A single decision tree - tasked to learn a dataset - might not be able to perform well due to the outliers and the breadth and depth complexity of the data.  \n",
    "So instead of relying on a single tree, random forests rely on a multitude of cleverly grown decision trees.  \n",
    "Each tree within the forest is allowed to become highly specialised in a specific area but still retains some general knowledge about most areas. When a random forest classifies, it is actualy each tree in the forest working together to cast votes on what label they think a specific sample should be assigned.  \n",
    "  \n",
    "Instead of sharing the entire dataset with each decision tree, the forest performs an operation which is essential a train / test split of the training data. Each decision tree in the forest randomly samples from the overall training data set. Through doing so, each tree exist in an independent subspace and the variation between trees is controlled. This technique is known as **tree bagging, or bootstrap aggregating**.  \n",
    "\n",
    "In addition to the tree bagging of training samples at the forest level, each individual decision tree further 'feature bags' at each node-branch split. This is helpful because some datasets contain a feature that is very correlated to the target (the 'y'-label). By selecting a random sampling of features every split - if such a feature were to exist - it wouldn't show up on as many branches of the tree and there would be more diversity of the features examined.  "
   ]
  },
  {
   "cell_type": "markdown",
   "metadata": {},
   "source": [
    "# Human activity prediction"
   ]
  },
  {
   "cell_type": "markdown",
   "metadata": {},
   "source": [
    "As an example, we will predict human activity by looking at data from wearables.  \n",
    "For this , we train a random forest against a public domain Human Activity Dataset titled *Wearable Computing: Accelerometers' Data Classification of Body Postures and Movements*, containing 165633 data points.  \n",
    "\n",
    "Within the dataset, there are five target activities:\n",
    "- Sitting\n",
    "- Sitting Down\n",
    "- Standing\n",
    "- Standing Up\n",
    "- Walking\n",
    "  \n",
    "These activities were captured from 30 people wearing accelerometers mounted on their waist, left thigh, right arm, and right ankle. "
   ]
  },
  {
   "cell_type": "markdown",
   "metadata": {},
   "source": [
    "## Read the data"
   ]
  },
  {
   "cell_type": "markdown",
   "metadata": {},
   "source": [
    "The original dataset can be found on the [UCI MachineLearning Repository](https://archive.ics.uci.edu/ml/datasets/human+activity+recognition+using+smartphones)\n",
    "\n",
    "A copy can be found also here on GitHub (URL is below) and on [Kaggle](https://www.kaggle.com/uciml/human-activity-recognition-with-smartphones)"
   ]
  },
  {
   "cell_type": "code",
   "execution_count": 1,
   "metadata": {},
   "outputs": [],
   "source": [
    "import pandas as pd\n",
    "import time"
   ]
  },
  {
   "cell_type": "code",
   "execution_count": 3,
   "metadata": {},
   "outputs": [],
   "source": [
    "# Grab the DLA HAR dataset from the links above\n",
    "# we assume that is stored in a dataset folder\n",
    "\n",
    "\n",
    "#\n",
    "# Load up the dataset into dataframe 'X'\n",
    "#\n",
    "X = pd.read_csv(\"../datasets/dataset-har-PUC-rio-ugulino.csv\", sep=';', low_memory=False)"
   ]
  },
  {
   "cell_type": "code",
   "execution_count": 4,
   "metadata": {},
   "outputs": [
    {
     "data": {
      "text/html": [
       "<div>\n",
       "<style scoped>\n",
       "    .dataframe tbody tr th:only-of-type {\n",
       "        vertical-align: middle;\n",
       "    }\n",
       "\n",
       "    .dataframe tbody tr th {\n",
       "        vertical-align: top;\n",
       "    }\n",
       "\n",
       "    .dataframe thead th {\n",
       "        text-align: right;\n",
       "    }\n",
       "</style>\n",
       "<table border=\"1\" class=\"dataframe\">\n",
       "  <thead>\n",
       "    <tr style=\"text-align: right;\">\n",
       "      <th></th>\n",
       "      <th>user</th>\n",
       "      <th>gender</th>\n",
       "      <th>age</th>\n",
       "      <th>how_tall_in_meters</th>\n",
       "      <th>weight</th>\n",
       "      <th>body_mass_index</th>\n",
       "      <th>x1</th>\n",
       "      <th>y1</th>\n",
       "      <th>z1</th>\n",
       "      <th>x2</th>\n",
       "      <th>y2</th>\n",
       "      <th>z2</th>\n",
       "      <th>x3</th>\n",
       "      <th>y3</th>\n",
       "      <th>z3</th>\n",
       "      <th>x4</th>\n",
       "      <th>y4</th>\n",
       "      <th>z4</th>\n",
       "      <th>class</th>\n",
       "    </tr>\n",
       "  </thead>\n",
       "  <tbody>\n",
       "    <tr>\n",
       "      <td>0</td>\n",
       "      <td>debora</td>\n",
       "      <td>Woman</td>\n",
       "      <td>46</td>\n",
       "      <td>1,62</td>\n",
       "      <td>75</td>\n",
       "      <td>28,6</td>\n",
       "      <td>-3</td>\n",
       "      <td>92</td>\n",
       "      <td>-63</td>\n",
       "      <td>-23</td>\n",
       "      <td>18</td>\n",
       "      <td>-19</td>\n",
       "      <td>5</td>\n",
       "      <td>104</td>\n",
       "      <td>-92</td>\n",
       "      <td>-150</td>\n",
       "      <td>-103</td>\n",
       "      <td>-147</td>\n",
       "      <td>sitting</td>\n",
       "    </tr>\n",
       "    <tr>\n",
       "      <td>1</td>\n",
       "      <td>debora</td>\n",
       "      <td>Woman</td>\n",
       "      <td>46</td>\n",
       "      <td>1,62</td>\n",
       "      <td>75</td>\n",
       "      <td>28,6</td>\n",
       "      <td>-3</td>\n",
       "      <td>94</td>\n",
       "      <td>-64</td>\n",
       "      <td>-21</td>\n",
       "      <td>18</td>\n",
       "      <td>-18</td>\n",
       "      <td>-14</td>\n",
       "      <td>104</td>\n",
       "      <td>-90</td>\n",
       "      <td>-149</td>\n",
       "      <td>-104</td>\n",
       "      <td>-145</td>\n",
       "      <td>sitting</td>\n",
       "    </tr>\n",
       "  </tbody>\n",
       "</table>\n",
       "</div>"
      ],
      "text/plain": [
       "     user gender  age how_tall_in_meters  weight body_mass_index  x1  y1  z1  \\\n",
       "0  debora  Woman   46               1,62      75            28,6  -3  92 -63   \n",
       "1  debora  Woman   46               1,62      75            28,6  -3  94 -64   \n",
       "\n",
       "   x2  y2  z2  x3   y3  z3   x4   y4    z4    class  \n",
       "0 -23  18 -19   5  104 -92 -150 -103  -147  sitting  \n",
       "1 -21  18 -18 -14  104 -90 -149 -104  -145  sitting  "
      ]
     },
     "execution_count": 4,
     "metadata": {},
     "output_type": "execute_result"
    }
   ],
   "source": [
    "X.head(2)"
   ]
  },
  {
   "cell_type": "code",
   "execution_count": 5,
   "metadata": {},
   "outputs": [
    {
     "data": {
      "text/html": [
       "<div>\n",
       "<style scoped>\n",
       "    .dataframe tbody tr th:only-of-type {\n",
       "        vertical-align: middle;\n",
       "    }\n",
       "\n",
       "    .dataframe tbody tr th {\n",
       "        vertical-align: top;\n",
       "    }\n",
       "\n",
       "    .dataframe thead th {\n",
       "        text-align: right;\n",
       "    }\n",
       "</style>\n",
       "<table border=\"1\" class=\"dataframe\">\n",
       "  <thead>\n",
       "    <tr style=\"text-align: right;\">\n",
       "      <th></th>\n",
       "      <th>age</th>\n",
       "      <th>weight</th>\n",
       "      <th>x1</th>\n",
       "      <th>y1</th>\n",
       "      <th>z1</th>\n",
       "      <th>x2</th>\n",
       "      <th>y2</th>\n",
       "      <th>z2</th>\n",
       "      <th>x3</th>\n",
       "      <th>y3</th>\n",
       "      <th>z3</th>\n",
       "      <th>x4</th>\n",
       "      <th>y4</th>\n",
       "    </tr>\n",
       "  </thead>\n",
       "  <tbody>\n",
       "    <tr>\n",
       "      <td>count</td>\n",
       "      <td>165633.000000</td>\n",
       "      <td>165633.000000</td>\n",
       "      <td>165633.000000</td>\n",
       "      <td>165633.000000</td>\n",
       "      <td>165633.000000</td>\n",
       "      <td>165633.000000</td>\n",
       "      <td>165633.000000</td>\n",
       "      <td>165633.000000</td>\n",
       "      <td>165633.000000</td>\n",
       "      <td>165633.000000</td>\n",
       "      <td>165633.000000</td>\n",
       "      <td>165633.000000</td>\n",
       "      <td>165633.000000</td>\n",
       "    </tr>\n",
       "    <tr>\n",
       "      <td>mean</td>\n",
       "      <td>38.265146</td>\n",
       "      <td>70.819408</td>\n",
       "      <td>-6.649327</td>\n",
       "      <td>88.293667</td>\n",
       "      <td>-93.164611</td>\n",
       "      <td>-87.827504</td>\n",
       "      <td>-52.065047</td>\n",
       "      <td>-175.055200</td>\n",
       "      <td>17.423515</td>\n",
       "      <td>104.517167</td>\n",
       "      <td>-93.881726</td>\n",
       "      <td>-167.641448</td>\n",
       "      <td>-92.625171</td>\n",
       "    </tr>\n",
       "    <tr>\n",
       "      <td>std</td>\n",
       "      <td>13.184091</td>\n",
       "      <td>11.296527</td>\n",
       "      <td>11.616238</td>\n",
       "      <td>23.895829</td>\n",
       "      <td>39.409423</td>\n",
       "      <td>169.435194</td>\n",
       "      <td>205.159763</td>\n",
       "      <td>192.816615</td>\n",
       "      <td>52.635388</td>\n",
       "      <td>54.155843</td>\n",
       "      <td>45.389646</td>\n",
       "      <td>38.311342</td>\n",
       "      <td>19.968610</td>\n",
       "    </tr>\n",
       "    <tr>\n",
       "      <td>min</td>\n",
       "      <td>28.000000</td>\n",
       "      <td>55.000000</td>\n",
       "      <td>-306.000000</td>\n",
       "      <td>-271.000000</td>\n",
       "      <td>-603.000000</td>\n",
       "      <td>-494.000000</td>\n",
       "      <td>-517.000000</td>\n",
       "      <td>-617.000000</td>\n",
       "      <td>-499.000000</td>\n",
       "      <td>-506.000000</td>\n",
       "      <td>-613.000000</td>\n",
       "      <td>-702.000000</td>\n",
       "      <td>-526.000000</td>\n",
       "    </tr>\n",
       "    <tr>\n",
       "      <td>25%</td>\n",
       "      <td>28.000000</td>\n",
       "      <td>55.000000</td>\n",
       "      <td>-12.000000</td>\n",
       "      <td>78.000000</td>\n",
       "      <td>-120.000000</td>\n",
       "      <td>-35.000000</td>\n",
       "      <td>-29.000000</td>\n",
       "      <td>-141.000000</td>\n",
       "      <td>9.000000</td>\n",
       "      <td>95.000000</td>\n",
       "      <td>-103.000000</td>\n",
       "      <td>-190.000000</td>\n",
       "      <td>-103.000000</td>\n",
       "    </tr>\n",
       "    <tr>\n",
       "      <td>50%</td>\n",
       "      <td>31.000000</td>\n",
       "      <td>75.000000</td>\n",
       "      <td>-6.000000</td>\n",
       "      <td>94.000000</td>\n",
       "      <td>-98.000000</td>\n",
       "      <td>-9.000000</td>\n",
       "      <td>27.000000</td>\n",
       "      <td>-118.000000</td>\n",
       "      <td>22.000000</td>\n",
       "      <td>107.000000</td>\n",
       "      <td>-90.000000</td>\n",
       "      <td>-168.000000</td>\n",
       "      <td>-91.000000</td>\n",
       "    </tr>\n",
       "    <tr>\n",
       "      <td>75%</td>\n",
       "      <td>46.000000</td>\n",
       "      <td>83.000000</td>\n",
       "      <td>0.000000</td>\n",
       "      <td>101.000000</td>\n",
       "      <td>-64.000000</td>\n",
       "      <td>4.000000</td>\n",
       "      <td>86.000000</td>\n",
       "      <td>-29.000000</td>\n",
       "      <td>34.000000</td>\n",
       "      <td>120.000000</td>\n",
       "      <td>-80.000000</td>\n",
       "      <td>-153.000000</td>\n",
       "      <td>-80.000000</td>\n",
       "    </tr>\n",
       "    <tr>\n",
       "      <td>max</td>\n",
       "      <td>75.000000</td>\n",
       "      <td>83.000000</td>\n",
       "      <td>509.000000</td>\n",
       "      <td>533.000000</td>\n",
       "      <td>411.000000</td>\n",
       "      <td>473.000000</td>\n",
       "      <td>295.000000</td>\n",
       "      <td>122.000000</td>\n",
       "      <td>507.000000</td>\n",
       "      <td>517.000000</td>\n",
       "      <td>410.000000</td>\n",
       "      <td>-13.000000</td>\n",
       "      <td>86.000000</td>\n",
       "    </tr>\n",
       "  </tbody>\n",
       "</table>\n",
       "</div>"
      ],
      "text/plain": [
       "                 age         weight             x1             y1  \\\n",
       "count  165633.000000  165633.000000  165633.000000  165633.000000   \n",
       "mean       38.265146      70.819408      -6.649327      88.293667   \n",
       "std        13.184091      11.296527      11.616238      23.895829   \n",
       "min        28.000000      55.000000    -306.000000    -271.000000   \n",
       "25%        28.000000      55.000000     -12.000000      78.000000   \n",
       "50%        31.000000      75.000000      -6.000000      94.000000   \n",
       "75%        46.000000      83.000000       0.000000     101.000000   \n",
       "max        75.000000      83.000000     509.000000     533.000000   \n",
       "\n",
       "                  z1             x2             y2             z2  \\\n",
       "count  165633.000000  165633.000000  165633.000000  165633.000000   \n",
       "mean      -93.164611     -87.827504     -52.065047    -175.055200   \n",
       "std        39.409423     169.435194     205.159763     192.816615   \n",
       "min      -603.000000    -494.000000    -517.000000    -617.000000   \n",
       "25%      -120.000000     -35.000000     -29.000000    -141.000000   \n",
       "50%       -98.000000      -9.000000      27.000000    -118.000000   \n",
       "75%       -64.000000       4.000000      86.000000     -29.000000   \n",
       "max       411.000000     473.000000     295.000000     122.000000   \n",
       "\n",
       "                  x3             y3             z3             x4  \\\n",
       "count  165633.000000  165633.000000  165633.000000  165633.000000   \n",
       "mean       17.423515     104.517167     -93.881726    -167.641448   \n",
       "std        52.635388      54.155843      45.389646      38.311342   \n",
       "min      -499.000000    -506.000000    -613.000000    -702.000000   \n",
       "25%         9.000000      95.000000    -103.000000    -190.000000   \n",
       "50%        22.000000     107.000000     -90.000000    -168.000000   \n",
       "75%        34.000000     120.000000     -80.000000    -153.000000   \n",
       "max       507.000000     517.000000     410.000000     -13.000000   \n",
       "\n",
       "                  y4  \n",
       "count  165633.000000  \n",
       "mean      -92.625171  \n",
       "std        19.968610  \n",
       "min      -526.000000  \n",
       "25%      -103.000000  \n",
       "50%       -91.000000  \n",
       "75%       -80.000000  \n",
       "max        86.000000  "
      ]
     },
     "execution_count": 5,
     "metadata": {},
     "output_type": "execute_result"
    }
   ],
   "source": [
    "X.describe()"
   ]
  },
  {
   "cell_type": "markdown",
   "metadata": {},
   "source": [
    "## Pre-processing the data\n",
    "\n",
    "What we want to do is to predict the activity class based on the accelerometer's data from the wearables."
   ]
  },
  {
   "cell_type": "code",
   "execution_count": 6,
   "metadata": {},
   "outputs": [
    {
     "name": "stdout",
     "output_type": "stream",
     "text": [
      "Empty DataFrame\n",
      "Columns: [user, gender, age, how_tall_in_meters, weight, body_mass_index, x1, y1, z1, x2, y2, z2, x3, y3, z3, x4, y4, z4, class]\n",
      "Index: []\n"
     ]
    }
   ],
   "source": [
    "#\n",
    "# An easy way to show which rows have NaNs in them:\n",
    "print (X[pd.isnull(X).any(axis=1)])"
   ]
  },
  {
   "cell_type": "markdown",
   "metadata": {},
   "source": [
    "Great, no NaNs here. Let's go on."
   ]
  },
  {
   "cell_type": "code",
   "execution_count": 7,
   "metadata": {},
   "outputs": [
    {
     "name": "stdout",
     "output_type": "stream",
     "text": [
      "user                   object\n",
      "gender                  int64\n",
      "age                     int64\n",
      "how_tall_in_meters    float64\n",
      "weight                  int64\n",
      "body_mass_index       float64\n",
      "x1                      int64\n",
      "y1                      int64\n",
      "z1                      int64\n",
      "x2                      int64\n",
      "y2                      int64\n",
      "z2                      int64\n",
      "x3                      int64\n",
      "y3                      int64\n",
      "z3                      int64\n",
      "x4                      int64\n",
      "y4                      int64\n",
      "z4                     object\n",
      "class                  object\n",
      "dtype: object\n"
     ]
    }
   ],
   "source": [
    "#\n",
    "# Encode the gender column: 0 as male, 1 as female\n",
    "#\n",
    "X.gender  = X.gender.map({'Woman':1, 'Man':0})\n",
    "\n",
    "#\n",
    "# Clean up any column with commas in it\n",
    "# so that they're properly represented as decimals instead\n",
    "#\n",
    "X.how_tall_in_meters = X.how_tall_in_meters.str.replace(',','.').astype(float)\n",
    "X.body_mass_index = X.body_mass_index.str.replace(',','.').astype(float)\n",
    "\n",
    "#\n",
    "# Check data types\n",
    "print (X.dtypes)"
   ]
  },
  {
   "cell_type": "code",
   "execution_count": 8,
   "metadata": {},
   "outputs": [
    {
     "name": "stdout",
     "output_type": "stream",
     "text": [
      "user                   object\n",
      "gender                  int64\n",
      "age                     int64\n",
      "how_tall_in_meters    float64\n",
      "weight                  int64\n",
      "body_mass_index       float64\n",
      "x1                      int64\n",
      "y1                      int64\n",
      "z1                      int64\n",
      "x2                      int64\n",
      "y2                      int64\n",
      "z2                      int64\n",
      "x3                      int64\n",
      "y3                      int64\n",
      "z3                      int64\n",
      "x4                      int64\n",
      "y4                      int64\n",
      "z4                      int64\n",
      "class                  object\n",
      "dtype: object\n"
     ]
    }
   ],
   "source": [
    "# column z4 is type \"object\". Something is wrong with the dataset.\n",
    "\n",
    "#\n",
    "# Convert that column into numeric\n",
    "# Use errors='raise'. This will alert you if something ends up being\n",
    "# problematic\n",
    "#\n",
    "\n",
    "#\n",
    "# INFO: There is an error raised ... you will find it if you try the method\n",
    "#\n",
    "# print (X[pd.isnull(X).any(axis=1)])\n",
    "# 122076 --> z4 =    -14420-11-2011 04:50:23.713\n",
    "#\n",
    "# !! The data point #122076 is a wrong coded record, \n",
    "# change it or drop it before calling the to_numeric methods:\n",
    "#\n",
    "#X.at[122076, 'z4'] = -144   // change to correct value\n",
    "\n",
    "# I keep this value for later and drop it from the dataset\n",
    "wrongRow = X.loc[122076]\n",
    "X.drop(X.index[[122076]], inplace=True)\n",
    "\n",
    "X.z4 = pd.to_numeric(X.z4, errors='raise')\n",
    "\n",
    "print (X.dtypes)\n",
    "# everything ok now"
   ]
  },
  {
   "cell_type": "markdown",
   "metadata": {},
   "source": [
    "## Extract the target values"
   ]
  },
  {
   "cell_type": "code",
   "execution_count": 9,
   "metadata": {},
   "outputs": [
    {
     "name": "stdout",
     "output_type": "stream",
     "text": [
      "   gender  age  how_tall_in_meters  weight  body_mass_index  x1  y1  z1  x2  \\\n",
      "0       1   46                1.62      75             28.6  -3  92 -63 -23   \n",
      "1       1   46                1.62      75             28.6  -3  94 -64 -21   \n",
      "\n",
      "   y2  z2  x3   y3  z3   x4   y4   z4  \n",
      "0  18 -19   5  104 -92 -150 -103 -147  \n",
      "1  18 -18 -14  104 -90 -149 -104 -145  \n"
     ]
    }
   ],
   "source": [
    "# Activity to predict is in \"class\" column\n",
    "# Encode 'y' value as a dummies version of dataset's \"class\" column\n",
    "#\n",
    "y = pd.get_dummies(X['class'].copy())\n",
    "# this produces a 5 column wide dummies dataframe as the y value\n",
    "\n",
    "#\n",
    "# Get rid of the user and class columns in X\n",
    "#\n",
    "X.drop(['class','user'], axis=1, inplace=True) \n",
    "\n",
    "\n",
    "print (X.head(2))\n"
   ]
  },
  {
   "cell_type": "code",
   "execution_count": 10,
   "metadata": {},
   "outputs": [
    {
     "name": "stdout",
     "output_type": "stream",
     "text": [
      "   sitting  sittingdown  standing  standingup  walking\n",
      "0        1            0         0           0        0\n",
      "1        1            0         0           0        0\n",
      "2        1            0         0           0        0\n",
      "3        1            0         0           0        0\n",
      "4        1            0         0           0        0\n"
     ]
    }
   ],
   "source": [
    "print (y.head())"
   ]
  },
  {
   "cell_type": "markdown",
   "metadata": {},
   "source": [
    "## Split the dataset into training and test"
   ]
  },
  {
   "cell_type": "code",
   "execution_count": 11,
   "metadata": {},
   "outputs": [],
   "source": [
    "# \n",
    "# Split  data into test / train sets\n",
    "#\n",
    "from sklearn.model_selection import train_test_split\n",
    "\n",
    "\n",
    "X_train, X_test, y_train, y_test = train_test_split(X, y, test_size=0.3, \n",
    "                                                    random_state=7)  \n"
   ]
  },
  {
   "cell_type": "markdown",
   "metadata": {},
   "source": [
    "## Train the Random Forest model"
   ]
  },
  {
   "cell_type": "code",
   "execution_count": 12,
   "metadata": {},
   "outputs": [],
   "source": [
    "#\n",
    "# Create an RForest classifier 'model' \n",
    "#\n",
    "from sklearn.ensemble import RandomForestClassifier\n",
    "\n",
    "model = RandomForestClassifier(n_estimators=30, max_depth= 20, random_state=0)"
   ]
  },
  {
   "cell_type": "markdown",
   "metadata": {},
   "source": [
    "You can check the documentation to see all possible parameters.\n",
    "https://scikit-learn.org/stable/modules/generated/sklearn.ensemble.RandomForestClassifier.html\n",
    "The ones used here:\n",
    "\n",
    "- n_estimators: integer, optional (default=100)\n",
    "The number of trees in the forest. Note that this number changed from 10 to 100 (following the progress in computing performance and memory)\n",
    "- max_depth: integer or None, optional (default=None)\n",
    "The maximum depth of the tree. If None, then nodes are expanded until all leaves are pure or until all leaves contain less than min_samples_split samples.\n",
    "Setting a limit helps with the computing time and memory needed.Not setting a max depth will lead to have unpruned and fully grown trees which - depending on the dataset - will require large memory footprint.\n",
    "- oob_score: bool (default=False)\n",
    "Whether to use out-of-bag samples to estimate the generalization accuracy.\n",
    "- random_state: int, RandomState instance or None, optional (default=None)\n",
    "Controls both the randomness of the bootstrapping of the samples used when building trees (if bootstrap=True) and the sampling of the features to consider \n",
    "\n",
    "And other useful / important:\n",
    "\n",
    "- criterion: string, optional (default=”gini”)\n",
    "The function to measure the quality of a split. Supported criteria are “gini” for the Gini impurity and “entropy” for the information gain.\n",
    "Same as for the Trees.\n",
    "- bootstrap: boolean, optional (default=True)\n",
    "Whether bootstrap samples are used when building trees. If False, the whole datset is used to build each tree."
   ]
  },
  {
   "cell_type": "code",
   "execution_count": 13,
   "metadata": {},
   "outputs": [
    {
     "name": "stdout",
     "output_type": "stream",
     "text": [
      "Fitting...\n",
      "completed in:  29.361350059509277 seconds\n"
     ]
    }
   ],
   "source": [
    "print (\"Fitting...\")\n",
    "s = time.time()\n",
    "\n",
    "model.fit(X_train, y_train)\n",
    "\n",
    "print(\"completed in: \", time.time() - s, \"seconds\")"
   ]
  },
  {
   "cell_type": "markdown",
   "metadata": {},
   "source": [
    "Note that it takes a much longer time to train a forest than a single decision tree.  \n",
    "\n",
    "This is the score based on the test dataset that we split earlier. Note how good it is."
   ]
  },
  {
   "cell_type": "code",
   "execution_count": 14,
   "metadata": {},
   "outputs": [
    {
     "name": "stdout",
     "output_type": "stream",
     "text": [
      "Scoring...\n",
      "Score:  99.286\n",
      "Scoring completed in:  1.3961372375488281\n"
     ]
    }
   ],
   "source": [
    "print (\"Scoring...\")\n",
    "s = time.time()\n",
    "\n",
    "score = model.score(X_test, y_test)\n",
    "\n",
    "print (\"Score: \", round(score*100, 3))\n",
    "print (\"Scoring completed in: \", time.time() - s)"
   ]
  },
  {
   "cell_type": "markdown",
   "metadata": {},
   "source": [
    "These are the top 5 features used in the classification.  \n",
    "They are all related to the movements, no gender or age."
   ]
  },
  {
   "cell_type": "code",
   "execution_count": 15,
   "metadata": {},
   "outputs": [
    {
     "data": {
      "text/html": [
       "<div>\n",
       "<style scoped>\n",
       "    .dataframe tbody tr th:only-of-type {\n",
       "        vertical-align: middle;\n",
       "    }\n",
       "\n",
       "    .dataframe tbody tr th {\n",
       "        vertical-align: top;\n",
       "    }\n",
       "\n",
       "    .dataframe thead th {\n",
       "        text-align: right;\n",
       "    }\n",
       "</style>\n",
       "<table border=\"1\" class=\"dataframe\">\n",
       "  <thead>\n",
       "    <tr style=\"text-align: right;\">\n",
       "      <th></th>\n",
       "      <th>feature</th>\n",
       "      <th>importance</th>\n",
       "    </tr>\n",
       "  </thead>\n",
       "  <tbody>\n",
       "    <tr>\n",
       "      <td>7</td>\n",
       "      <td>z1</td>\n",
       "      <td>0.174239</td>\n",
       "    </tr>\n",
       "    <tr>\n",
       "      <td>12</td>\n",
       "      <td>y3</td>\n",
       "      <td>0.126232</td>\n",
       "    </tr>\n",
       "    <tr>\n",
       "      <td>10</td>\n",
       "      <td>z2</td>\n",
       "      <td>0.114018</td>\n",
       "    </tr>\n",
       "    <tr>\n",
       "      <td>9</td>\n",
       "      <td>y2</td>\n",
       "      <td>0.110663</td>\n",
       "    </tr>\n",
       "    <tr>\n",
       "      <td>6</td>\n",
       "      <td>y1</td>\n",
       "      <td>0.074385</td>\n",
       "    </tr>\n",
       "  </tbody>\n",
       "</table>\n",
       "</div>"
      ],
      "text/plain": [
       "   feature  importance\n",
       "7       z1    0.174239\n",
       "12      y3    0.126232\n",
       "10      z2    0.114018\n",
       "9       y2    0.110663\n",
       "6       y1    0.074385"
      ]
     },
     "execution_count": 15,
     "metadata": {},
     "output_type": "execute_result"
    }
   ],
   "source": [
    "# Extract feature importances\n",
    "fi = pd.DataFrame({'feature': list(X_train.columns),\n",
    "                   'importance': model.feature_importances_}).\\\n",
    "                    sort_values('importance', ascending = False)\n",
    "\n",
    "# Display\n",
    "fi.head()"
   ]
  },
  {
   "cell_type": "markdown",
   "metadata": {},
   "source": [
    "## Example prediction\n",
    "\n",
    "Let's use the wrong row - that we extracted earlier from the dataset - as a prediction example.\n",
    "but first we need to correct it:"
   ]
  },
  {
   "cell_type": "code",
   "execution_count": 16,
   "metadata": {},
   "outputs": [
    {
     "name": "stdout",
     "output_type": "stream",
     "text": [
      "We use this example for prediction later:\n",
      "gender                   0\n",
      "age                     75\n",
      "how_tall_in_meters    1.67\n",
      "weight                  67\n",
      "body_mass_index         24\n",
      "x1                      -8\n",
      "y1                     101\n",
      "z1                    -120\n",
      "x2                     -13\n",
      "y2                      91\n",
      "z2                    -101\n",
      "x3                      17\n",
      "y3                     123\n",
      "z3                    -108\n",
      "x4                    -207\n",
      "y4                     -82\n",
      "z4                    -144\n",
      "Name: 122076, dtype: object\n",
      "The class shall be:  standingup\n"
     ]
    }
   ],
   "source": [
    "outputClassPredictionExample = wrongRow['class']\n",
    "\n",
    "forPredictionExample = wrongRow.drop(labels=['class','user']) # remove class and user\n",
    "forPredictionExample.z4 = -144 # correct the value\n",
    "\n",
    "print(\"We use this example for prediction later:\")\n",
    "print(forPredictionExample)\n",
    "print(\"The class shall be: \", outputClassPredictionExample)"
   ]
  },
  {
   "cell_type": "code",
   "execution_count": 17,
   "metadata": {},
   "outputs": [
    {
     "data": {
      "text/plain": [
       "array([[0, 0, 0, 1, 0]], dtype=uint8)"
      ]
     },
     "execution_count": 17,
     "metadata": {},
     "output_type": "execute_result"
    }
   ],
   "source": [
    "model.predict(forPredictionExample.values.reshape(1, -1))"
   ]
  },
  {
   "cell_type": "markdown",
   "metadata": {},
   "source": [
    "Remember that these were the categories for the classes:"
   ]
  },
  {
   "cell_type": "code",
   "execution_count": 18,
   "metadata": {},
   "outputs": [
    {
     "data": {
      "text/plain": [
       "sitting        0\n",
       "sittingdown    0\n",
       "standing       0\n",
       "standingup     0\n",
       "walking        1\n",
       "Name: 130833, dtype: uint8"
      ]
     },
     "execution_count": 18,
     "metadata": {},
     "output_type": "execute_result"
    }
   ],
   "source": [
    "y_test.iloc[0]"
   ]
  },
  {
   "cell_type": "markdown",
   "metadata": {},
   "source": [
    "The fourth one is \"standing up\". Seems that the model predicted correctly."
   ]
  },
  {
   "cell_type": "markdown",
   "metadata": {},
   "source": [
    "## OutOfBag error instead of splitting into train and test"
   ]
  },
  {
   "cell_type": "markdown",
   "metadata": {},
   "source": [
    "Since each tree within the forest is only trained using a subset of the overall training set, the forest ensemble has the ability to error test itself.  \n",
    "It does this by scoring each tree's predictions against that tree's out-of-bag samples. A tree's out of bag samples are those forest training samples that were withheld from a specific tree during training.  \n",
    "\n",
    "One of the advantages of using the out of bag (OOB) error is that eliminates the need to split your data into a training / testing before feeding it into the forest model, since that's part of the forest algorithm. However using the OOB error metric often underestimates the actual performance improvement and the optimal number of training iterations. "
   ]
  },
  {
   "cell_type": "code",
   "execution_count": 19,
   "metadata": {},
   "outputs": [],
   "source": [
    "modelOOB = RandomForestClassifier(n_estimators=30, max_depth= 20, random_state=0, \n",
    "                               oob_score=True)"
   ]
  },
  {
   "cell_type": "code",
   "execution_count": 20,
   "metadata": {},
   "outputs": [
    {
     "name": "stdout",
     "output_type": "stream",
     "text": [
      "Fitting...\n",
      "completed in:  22.724381923675537 seconds\n"
     ]
    }
   ],
   "source": [
    "print (\"Fitting...\")\n",
    "s = time.time()\n",
    "\n",
    "modelOOB.fit(X, y)\n",
    "\n",
    "print(\"completed in: \", time.time() - s, \"seconds\")\n"
   ]
  },
  {
   "cell_type": "markdown",
   "metadata": {},
   "source": [
    "Time needed is similar.  \n",
    "Let's check the score:"
   ]
  },
  {
   "cell_type": "code",
   "execution_count": 21,
   "metadata": {},
   "outputs": [
    {
     "name": "stdout",
     "output_type": "stream",
     "text": [
      "OOB Score:  99.753\n"
     ]
    }
   ],
   "source": [
    "# Display the OOB Score of data\n",
    "scoreOOB = modelOOB.oob_score_\n",
    "print (\"OOB Score: \", round(scoreOOB*100, 3))\n"
   ]
  },
  {
   "cell_type": "markdown",
   "metadata": {},
   "source": [
    "The out-of-bag estimation is not far away from the more precise score estimated from the test dataset.  \n",
    "\n",
    "And now we predict the same user's movement. Class output shall be \"standing up\", the fourth one"
   ]
  },
  {
   "cell_type": "code",
   "execution_count": 22,
   "metadata": {},
   "outputs": [
    {
     "data": {
      "text/plain": [
       "array([[0, 0, 0, 1, 0]], dtype=uint8)"
      ]
     },
     "execution_count": 22,
     "metadata": {},
     "output_type": "execute_result"
    }
   ],
   "source": [
    "modelOOB.predict(forPredictionExample.values.reshape(1, -1))"
   ]
  },
  {
   "cell_type": "markdown",
   "metadata": {},
   "source": [
    "Yup!"
   ]
  }
 ],
 "metadata": {
  "anaconda-cloud": {},
  "kernelspec": {
   "display_name": "Python 3",
   "language": "python",
   "name": "python3"
  },
  "language_info": {
   "codemirror_mode": {
    "name": "ipython",
    "version": 3
   },
   "file_extension": ".py",
   "mimetype": "text/x-python",
   "name": "python",
   "nbconvert_exporter": "python",
   "pygments_lexer": "ipython3",
   "version": "3.6.9"
  }
 },
 "nbformat": 4,
 "nbformat_minor": 2
}
