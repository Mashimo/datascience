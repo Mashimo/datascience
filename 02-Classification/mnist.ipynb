{
 "cells": [
  {
   "cell_type": "markdown",
   "metadata": {},
   "source": [
    "# Chinese MNIST\n",
    "The goal is to build a model able to correctly classify an image representing a **Chinese number** (a Hanzi character).  \n",
    "This is a multi-class classification problem. There are a total of 15 possible classes: the characters representing numbers from 0 to 10, plus the ones for 100, 1000, 10000, 100000000.  \n",
    "The intention is to implement the model via a deep neural network (a convolutional network) using the pyTorch framework.  \n",
    "## Read and explore the data"
   ]
  },
  {
   "cell_type": "markdown",
   "metadata": {},
   "source": [
    "The dataset contains the following:\n",
    "\n",
    "- an index file: chinese_mnist.csv\n",
    "- a folder with 15,000 jpg images, sized 64 x 64. The images are handwritten chinese numbers.   \n",
    "  \n",
    "Here is the mapping for the index file:\n",
    "- suite ID: number from 1 to 99; 100 volunteers hand wrote a suite of numbers\n",
    "- sample ID: number from 1 to 10;\n",
    "- character: the actual Chinese number (Unicode notation)\n",
    "- value: the number in arab notation\n",
    "- code: an ID from 1 to 15\n",
    "  \n",
    "Let's have a closer look at the index file:\n"
   ]
  },
  {
   "cell_type": "code",
   "execution_count": 1,
   "metadata": {},
   "outputs": [],
   "source": [
    "import pandas as pd"
   ]
  },
  {
   "cell_type": "code",
   "execution_count": 2,
   "metadata": {},
   "outputs": [
    {
     "data": {
      "text/html": [
       "<div>\n",
       "<style scoped>\n",
       "    .dataframe tbody tr th:only-of-type {\n",
       "        vertical-align: middle;\n",
       "    }\n",
       "\n",
       "    .dataframe tbody tr th {\n",
       "        vertical-align: top;\n",
       "    }\n",
       "\n",
       "    .dataframe thead th {\n",
       "        text-align: right;\n",
       "    }\n",
       "</style>\n",
       "<table border=\"1\" class=\"dataframe\">\n",
       "  <thead>\n",
       "    <tr style=\"text-align: right;\">\n",
       "      <th></th>\n",
       "      <th>suite_id</th>\n",
       "      <th>sample_id</th>\n",
       "      <th>code</th>\n",
       "      <th>value</th>\n",
       "      <th>character</th>\n",
       "    </tr>\n",
       "  </thead>\n",
       "  <tbody>\n",
       "    <tr>\n",
       "      <th>0</th>\n",
       "      <td>1</td>\n",
       "      <td>1</td>\n",
       "      <td>10</td>\n",
       "      <td>9</td>\n",
       "      <td>九</td>\n",
       "    </tr>\n",
       "    <tr>\n",
       "      <th>1</th>\n",
       "      <td>1</td>\n",
       "      <td>10</td>\n",
       "      <td>10</td>\n",
       "      <td>9</td>\n",
       "      <td>九</td>\n",
       "    </tr>\n",
       "    <tr>\n",
       "      <th>2</th>\n",
       "      <td>1</td>\n",
       "      <td>2</td>\n",
       "      <td>10</td>\n",
       "      <td>9</td>\n",
       "      <td>九</td>\n",
       "    </tr>\n",
       "    <tr>\n",
       "      <th>3</th>\n",
       "      <td>1</td>\n",
       "      <td>3</td>\n",
       "      <td>10</td>\n",
       "      <td>9</td>\n",
       "      <td>九</td>\n",
       "    </tr>\n",
       "    <tr>\n",
       "      <th>4</th>\n",
       "      <td>1</td>\n",
       "      <td>4</td>\n",
       "      <td>10</td>\n",
       "      <td>9</td>\n",
       "      <td>九</td>\n",
       "    </tr>\n",
       "  </tbody>\n",
       "</table>\n",
       "</div>"
      ],
      "text/plain": [
       "   suite_id  sample_id  code  value character\n",
       "0         1          1    10      9         九\n",
       "1         1         10    10      9         九\n",
       "2         1          2    10      9         九\n",
       "3         1          3    10      9         九\n",
       "4         1          4    10      9         九"
      ]
     },
     "execution_count": 2,
     "metadata": {},
     "output_type": "execute_result"
    }
   ],
   "source": [
    "dataDF = pd.read_csv(\"../datasets/chinese-mnist/chinese_mnist.csv\")\n",
    "dataDF.head(5)"
   ]
  },
  {
   "cell_type": "code",
   "execution_count": 3,
   "metadata": {},
   "outputs": [
    {
     "data": {
      "text/html": [
       "<div>\n",
       "<style scoped>\n",
       "    .dataframe tbody tr th:only-of-type {\n",
       "        vertical-align: middle;\n",
       "    }\n",
       "\n",
       "    .dataframe tbody tr th {\n",
       "        vertical-align: top;\n",
       "    }\n",
       "\n",
       "    .dataframe thead th {\n",
       "        text-align: right;\n",
       "    }\n",
       "</style>\n",
       "<table border=\"1\" class=\"dataframe\">\n",
       "  <thead>\n",
       "    <tr style=\"text-align: right;\">\n",
       "      <th></th>\n",
       "      <th>suite_id</th>\n",
       "      <th>sample_id</th>\n",
       "      <th>code</th>\n",
       "      <th>value</th>\n",
       "      <th>character</th>\n",
       "    </tr>\n",
       "  </thead>\n",
       "  <tbody>\n",
       "    <tr>\n",
       "      <th>14995</th>\n",
       "      <td>99</td>\n",
       "      <td>5</td>\n",
       "      <td>9</td>\n",
       "      <td>8</td>\n",
       "      <td>八</td>\n",
       "    </tr>\n",
       "    <tr>\n",
       "      <th>14996</th>\n",
       "      <td>99</td>\n",
       "      <td>6</td>\n",
       "      <td>9</td>\n",
       "      <td>8</td>\n",
       "      <td>八</td>\n",
       "    </tr>\n",
       "    <tr>\n",
       "      <th>14997</th>\n",
       "      <td>99</td>\n",
       "      <td>7</td>\n",
       "      <td>9</td>\n",
       "      <td>8</td>\n",
       "      <td>八</td>\n",
       "    </tr>\n",
       "    <tr>\n",
       "      <th>14998</th>\n",
       "      <td>99</td>\n",
       "      <td>8</td>\n",
       "      <td>9</td>\n",
       "      <td>8</td>\n",
       "      <td>八</td>\n",
       "    </tr>\n",
       "    <tr>\n",
       "      <th>14999</th>\n",
       "      <td>99</td>\n",
       "      <td>9</td>\n",
       "      <td>9</td>\n",
       "      <td>8</td>\n",
       "      <td>八</td>\n",
       "    </tr>\n",
       "  </tbody>\n",
       "</table>\n",
       "</div>"
      ],
      "text/plain": [
       "       suite_id  sample_id  code  value character\n",
       "14995        99          5     9      8         八\n",
       "14996        99          6     9      8         八\n",
       "14997        99          7     9      8         八\n",
       "14998        99          8     9      8         八\n",
       "14999        99          9     9      8         八"
      ]
     },
     "execution_count": 3,
     "metadata": {},
     "output_type": "execute_result"
    }
   ],
   "source": [
    "dataDF.tail(5)"
   ]
  },
  {
   "cell_type": "code",
   "execution_count": 4,
   "metadata": {},
   "outputs": [
    {
     "name": "stdout",
     "output_type": "stream",
     "text": [
      "<class 'pandas.core.frame.DataFrame'>\n",
      "RangeIndex: 15000 entries, 0 to 14999\n",
      "Data columns (total 5 columns):\n",
      " #   Column     Non-Null Count  Dtype \n",
      "---  ------     --------------  ----- \n",
      " 0   suite_id   15000 non-null  int64 \n",
      " 1   sample_id  15000 non-null  int64 \n",
      " 2   code       15000 non-null  int64 \n",
      " 3   value      15000 non-null  int64 \n",
      " 4   character  15000 non-null  object\n",
      "dtypes: int64(4), object(1)\n",
      "memory usage: 586.1+ KB\n"
     ]
    }
   ],
   "source": [
    "dataDF.info()"
   ]
  },
  {
   "cell_type": "code",
   "execution_count": 5,
   "metadata": {},
   "outputs": [
    {
     "data": {
      "text/plain": [
       "(suite_id     0\n",
       " sample_id    0\n",
       " code         0\n",
       " value        0\n",
       " character    0\n",
       " dtype: int64,\n",
       " (15000, 5))"
      ]
     },
     "execution_count": 5,
     "metadata": {},
     "output_type": "execute_result"
    }
   ],
   "source": [
    "dataDF.isnull().sum(), dataDF.shape"
   ]
  },
  {
   "cell_type": "markdown",
   "metadata": {},
   "source": [
    "There is no missing values and number of data and number of images match: a total of 15K."
   ]
  },
  {
   "cell_type": "code",
   "execution_count": 6,
   "metadata": {},
   "outputs": [
    {
     "name": "stdout",
     "output_type": "stream",
     "text": [
      "['九', '十', '百', '千', '万', '亿', '零', '一', '二', '三', '四', '五', '六', '七', '八']\n",
      "15\n"
     ]
    }
   ],
   "source": [
    "characters = dataDF['character'].unique().tolist()\n",
    "print(characters)\n",
    "print(len(characters))"
   ]
  },
  {
   "cell_type": "markdown",
   "metadata": {},
   "source": [
    "As you can see, there are a total of 15 different Chinese characters. This is because, not only the usual numbers from 0 to 9 are represented, but also for one hundred, one thousand and so on (they have their own Hanzi character):"
   ]
  },
  {
   "cell_type": "code",
   "execution_count": 7,
   "metadata": {},
   "outputs": [
    {
     "name": "stdout",
     "output_type": "stream",
     "text": [
      "[9, 10, 100, 1000, 10000, 100000000, 0, 1, 2, 3, 4, 5, 6, 7, 8]\n",
      "15\n"
     ]
    }
   ],
   "source": [
    "values = dataDF['value'].unique().tolist()\n",
    "print(values)\n",
    "print(len(values))"
   ]
  },
  {
   "cell_type": "code",
   "execution_count": 8,
   "metadata": {},
   "outputs": [
    {
     "data": {
      "text/plain": [
       "value      character\n",
       "0          零            1000\n",
       "1          一            1000\n",
       "2          二            1000\n",
       "3          三            1000\n",
       "4          四            1000\n",
       "5          五            1000\n",
       "6          六            1000\n",
       "7          七            1000\n",
       "8          八            1000\n",
       "9          九            1000\n",
       "10         十            1000\n",
       "100        百            1000\n",
       "1000       千            1000\n",
       "10000      万            1000\n",
       "100000000  亿            1000\n",
       "dtype: int64"
      ]
     },
     "execution_count": 8,
     "metadata": {},
     "output_type": "execute_result"
    }
   ],
   "source": [
    "dataDF.groupby([\"value\",\"character\"]).size()"
   ]
  },
  {
   "cell_type": "markdown",
   "metadata": {},
   "source": [
    "As it would be more difficult to train a network using the face value number, a code has been also introduced to map each single character and it will be the one used for the target variable:"
   ]
  },
  {
   "cell_type": "code",
   "execution_count": 9,
   "metadata": {},
   "outputs": [
    {
     "name": "stdout",
     "output_type": "stream",
     "text": [
      "[10, 11, 12, 13, 14, 15, 1, 2, 3, 4, 5, 6, 7, 8, 9]\n",
      "15\n"
     ]
    }
   ],
   "source": [
    "codes = dataDF['code'].unique().tolist()\n",
    "print(codes)\n",
    "print(len(codes))"
   ]
  },
  {
   "cell_type": "code",
   "execution_count": 10,
   "metadata": {},
   "outputs": [
    {
     "data": {
      "text/plain": [
       "code  character\n",
       "1     零            1000\n",
       "2     一            1000\n",
       "3     二            1000\n",
       "4     三            1000\n",
       "5     四            1000\n",
       "6     五            1000\n",
       "7     六            1000\n",
       "8     七            1000\n",
       "9     八            1000\n",
       "10    九            1000\n",
       "11    十            1000\n",
       "12    百            1000\n",
       "13    千            1000\n",
       "14    万            1000\n",
       "15    亿            1000\n",
       "dtype: int64"
      ]
     },
     "execution_count": 10,
     "metadata": {},
     "output_type": "execute_result"
    }
   ],
   "source": [
    "dataDF.groupby([\"code\",\"character\"]).size()"
   ]
  },
  {
   "cell_type": "markdown",
   "metadata": {},
   "source": [
    "Each character is present 1K times (15 characters = 15K entries) with own hand written image.  \n",
    "The total number of classes to predict are 15.  "
   ]
  },
  {
   "cell_type": "code",
   "execution_count": 11,
   "metadata": {},
   "outputs": [
    {
     "data": {
      "text/plain": [
       "15"
      ]
     },
     "execution_count": 11,
     "metadata": {},
     "output_type": "execute_result"
    }
   ],
   "source": [
    "OUTPUT_SIZE = len(codes)\n",
    "OUTPUT_SIZE"
   ]
  },
  {
   "cell_type": "markdown",
   "metadata": {},
   "source": [
    "### Preprocess the data\n",
    "The images are in separate files, we need to put all together in the dataset:"
   ]
  },
  {
   "cell_type": "code",
   "execution_count": 12,
   "metadata": {},
   "outputs": [],
   "source": [
    "import os"
   ]
  },
  {
   "cell_type": "code",
   "execution_count": 13,
   "metadata": {},
   "outputs": [
    {
     "name": "stdout",
     "output_type": "stream",
     "text": [
      "dataframe (index file) rows: 15000\n",
      "image files : 15000\n"
     ]
    }
   ],
   "source": [
    "IMAGE_PATH = \"../datasets/chinese-mnist/data/data/\"\n",
    "print(\"dataframe (index file) rows:\", dataDF.shape[0]) \n",
    "print(\"image files :\", len(os.listdir(IMAGE_PATH)))"
   ]
  },
  {
   "cell_type": "markdown",
   "metadata": {},
   "source": [
    "This is the file format:"
   ]
  },
  {
   "cell_type": "code",
   "execution_count": 14,
   "metadata": {},
   "outputs": [
    {
     "data": {
      "text/plain": [
       "['input_69_2_7.jpg',\n",
       " 'input_11_7_12.jpg',\n",
       " 'input_81_4_10.jpg',\n",
       " 'input_84_6_1.jpg',\n",
       " 'input_36_3_3.jpg']"
      ]
     },
     "execution_count": 14,
     "metadata": {},
     "output_type": "execute_result"
    }
   ],
   "source": [
    "filenames = os.listdir(IMAGE_PATH)\n",
    "filenames[0:5]"
   ]
  },
  {
   "cell_type": "markdown",
   "metadata": {},
   "source": [
    "It's \"input_\" + suite ID + sample ID +  code ID, so we can programmatically build the filename and add it to the data frame.  "
   ]
  },
  {
   "cell_type": "code",
   "execution_count": 71,
   "metadata": {},
   "outputs": [
    {
     "data": {
      "text/html": [
       "<div>\n",
       "<style scoped>\n",
       "    .dataframe tbody tr th:only-of-type {\n",
       "        vertical-align: middle;\n",
       "    }\n",
       "\n",
       "    .dataframe tbody tr th {\n",
       "        vertical-align: top;\n",
       "    }\n",
       "\n",
       "    .dataframe thead th {\n",
       "        text-align: right;\n",
       "    }\n",
       "</style>\n",
       "<table border=\"1\" class=\"dataframe\">\n",
       "  <thead>\n",
       "    <tr style=\"text-align: right;\">\n",
       "      <th></th>\n",
       "      <th>suite_id</th>\n",
       "      <th>sample_id</th>\n",
       "      <th>code</th>\n",
       "      <th>value</th>\n",
       "      <th>character</th>\n",
       "      <th>file</th>\n",
       "    </tr>\n",
       "  </thead>\n",
       "  <tbody>\n",
       "    <tr>\n",
       "      <th>0</th>\n",
       "      <td>1</td>\n",
       "      <td>1</td>\n",
       "      <td>10</td>\n",
       "      <td>9</td>\n",
       "      <td>九</td>\n",
       "      <td>input_1_1_10.jpg</td>\n",
       "    </tr>\n",
       "    <tr>\n",
       "      <th>1</th>\n",
       "      <td>1</td>\n",
       "      <td>10</td>\n",
       "      <td>10</td>\n",
       "      <td>9</td>\n",
       "      <td>九</td>\n",
       "      <td>input_1_10_10.jpg</td>\n",
       "    </tr>\n",
       "    <tr>\n",
       "      <th>2</th>\n",
       "      <td>1</td>\n",
       "      <td>2</td>\n",
       "      <td>10</td>\n",
       "      <td>9</td>\n",
       "      <td>九</td>\n",
       "      <td>input_1_2_10.jpg</td>\n",
       "    </tr>\n",
       "    <tr>\n",
       "      <th>3</th>\n",
       "      <td>1</td>\n",
       "      <td>3</td>\n",
       "      <td>10</td>\n",
       "      <td>9</td>\n",
       "      <td>九</td>\n",
       "      <td>input_1_3_10.jpg</td>\n",
       "    </tr>\n",
       "    <tr>\n",
       "      <th>4</th>\n",
       "      <td>1</td>\n",
       "      <td>4</td>\n",
       "      <td>10</td>\n",
       "      <td>9</td>\n",
       "      <td>九</td>\n",
       "      <td>input_1_4_10.jpg</td>\n",
       "    </tr>\n",
       "  </tbody>\n",
       "</table>\n",
       "</div>"
      ],
      "text/plain": [
       "   suite_id  sample_id  code  value character               file\n",
       "0         1          1    10      9         九   input_1_1_10.jpg\n",
       "1         1         10    10      9         九  input_1_10_10.jpg\n",
       "2         1          2    10      9         九   input_1_2_10.jpg\n",
       "3         1          3    10      9         九   input_1_3_10.jpg\n",
       "4         1          4    10      9         九   input_1_4_10.jpg"
      ]
     },
     "execution_count": 71,
     "metadata": {},
     "output_type": "execute_result"
    }
   ],
   "source": [
    "dataDF['file'] = dataDF[['suite_id','sample_id','code']].apply(lambda x: 'input_' + \n",
    "                 x['suite_id'].astype(str) +'_'+x['sample_id'].astype(str)+'_'+x['code'].astype(str)+'.jpg', axis=1)\n",
    "dataDF.head(5)"
   ]
  },
  {
   "cell_type": "code",
   "execution_count": 91,
   "metadata": {},
   "outputs": [
    {
     "data": {
      "text/html": [
       "<div>\n",
       "<style scoped>\n",
       "    .dataframe tbody tr th:only-of-type {\n",
       "        vertical-align: middle;\n",
       "    }\n",
       "\n",
       "    .dataframe tbody tr th {\n",
       "        vertical-align: top;\n",
       "    }\n",
       "\n",
       "    .dataframe thead th {\n",
       "        text-align: right;\n",
       "    }\n",
       "</style>\n",
       "<table border=\"1\" class=\"dataframe\">\n",
       "  <thead>\n",
       "    <tr style=\"text-align: right;\">\n",
       "      <th></th>\n",
       "      <th>suite_id</th>\n",
       "      <th>sample_id</th>\n",
       "      <th>code</th>\n",
       "      <th>value</th>\n",
       "      <th>character</th>\n",
       "      <th>file</th>\n",
       "    </tr>\n",
       "  </thead>\n",
       "  <tbody>\n",
       "    <tr>\n",
       "      <th>14997</th>\n",
       "      <td>99</td>\n",
       "      <td>7</td>\n",
       "      <td>9</td>\n",
       "      <td>8</td>\n",
       "      <td>八</td>\n",
       "      <td>input_99_7_9.jpg</td>\n",
       "    </tr>\n",
       "    <tr>\n",
       "      <th>14998</th>\n",
       "      <td>99</td>\n",
       "      <td>8</td>\n",
       "      <td>9</td>\n",
       "      <td>8</td>\n",
       "      <td>八</td>\n",
       "      <td>input_99_8_9.jpg</td>\n",
       "    </tr>\n",
       "    <tr>\n",
       "      <th>14999</th>\n",
       "      <td>99</td>\n",
       "      <td>9</td>\n",
       "      <td>9</td>\n",
       "      <td>8</td>\n",
       "      <td>八</td>\n",
       "      <td>input_99_9_9.jpg</td>\n",
       "    </tr>\n",
       "  </tbody>\n",
       "</table>\n",
       "</div>"
      ],
      "text/plain": [
       "       suite_id  sample_id  code  value character              file\n",
       "14997        99          7     9      8         八  input_99_7_9.jpg\n",
       "14998        99          8     9      8         八  input_99_8_9.jpg\n",
       "14999        99          9     9      8         八  input_99_9_9.jpg"
      ]
     },
     "execution_count": 91,
     "metadata": {},
     "output_type": "execute_result"
    }
   ],
   "source": [
    "dataDF.tail(3)"
   ]
  },
  {
   "cell_type": "markdown",
   "metadata": {},
   "source": [
    "### Check the image from the file\n",
    "Here we are using the Image class from the Python Imaging Library (PIL), which is the most widely used Python package for opening, manipulating, and viewing images. Jupyter knows about PIL images, so it displays the image automatically.  \n",
    "In a neural network, everything is represented as a number. To view the numbers that make up this image, we have to convert it to a NumPy array or a PyTorch tensor (\"embedding\")."
   ]
  },
  {
   "cell_type": "code",
   "execution_count": 72,
   "metadata": {},
   "outputs": [],
   "source": [
    "from PIL import Image"
   ]
  },
  {
   "cell_type": "code",
   "execution_count": 73,
   "metadata": {},
   "outputs": [],
   "source": [
    "indexImage = 4000 # feel free to use any index from 0 to 15k"
   ]
  },
  {
   "cell_type": "code",
   "execution_count": 74,
   "metadata": {},
   "outputs": [
    {
     "data": {
      "image/png": "[encoded data removed]",
      "text/plain": [
       "<PIL.JpegImagePlugin.JpegImageFile image mode=L size=64x64>"
      ]
     },
     "execution_count": 74,
     "metadata": {},
     "output_type": "execute_result"
    }
   ],
   "source": [
    "imgPath =  os.path.join(IMAGE_PATH, dataDF['file'][indexImage]) \n",
    "im = Image.open(imgPath)\n",
    "im"
   ]
  },
  {
   "cell_type": "code",
   "execution_count": 75,
   "metadata": {},
   "outputs": [
    {
     "data": {
      "text/plain": [
       "(64, 64)"
      ]
     },
     "execution_count": 75,
     "metadata": {},
     "output_type": "execute_result"
    }
   ],
   "source": [
    "im.size"
   ]
  },
  {
   "cell_type": "markdown",
   "metadata": {},
   "source": [
    "Images are 64x64 pixels.  \n",
    "Let's add this as constant."
   ]
  },
  {
   "cell_type": "code",
   "execution_count": 76,
   "metadata": {},
   "outputs": [],
   "source": [
    "IMG_SIZE = im.size[0]"
   ]
  },
  {
   "cell_type": "code",
   "execution_count": 77,
   "metadata": {},
   "outputs": [
    {
     "data": {
      "text/plain": [
       "'../datasets/chinese-mnist/data/data/input_1_1_14.jpg'"
      ]
     },
     "execution_count": 77,
     "metadata": {},
     "output_type": "execute_result"
    }
   ],
   "source": [
    "imgPath"
   ]
  },
  {
   "cell_type": "code",
   "execution_count": 78,
   "metadata": {},
   "outputs": [
    {
     "data": {
      "text/plain": [
       "'万'"
      ]
     },
     "execution_count": 78,
     "metadata": {},
     "output_type": "execute_result"
    }
   ],
   "source": [
    "dataDF['character'][indexImage]"
   ]
  },
  {
   "cell_type": "markdown",
   "metadata": {},
   "source": [
    "Yep, this looks the same character as above."
   ]
  },
  {
   "cell_type": "code",
   "execution_count": 79,
   "metadata": {},
   "outputs": [
    {
     "name": "stdout",
     "output_type": "stream",
     "text": [
      "Label: this is a  10000\n"
     ]
    }
   ],
   "source": [
    "print(\"Label: this is a \", dataDF['value'][indexImage])"
   ]
  },
  {
   "cell_type": "code",
   "execution_count": 80,
   "metadata": {},
   "outputs": [
    {
     "data": {
      "text/plain": [
       "14"
      ]
     },
     "execution_count": 80,
     "metadata": {},
     "output_type": "execute_result"
    }
   ],
   "source": [
    "dataDF['code'][indexImage]"
   ]
  },
  {
   "cell_type": "markdown",
   "metadata": {},
   "source": [
    "And the code (=the class) for the 10000 character is 14."
   ]
  },
  {
   "cell_type": "markdown",
   "metadata": {},
   "source": [
    "## Prepare a dataset\n",
    "For training a model, we don't just want any Python collection, but a collection containing independent and dependent variables (that is, the inputs and targets of the model). A collection that contains tuples of independent and dependent variables is known in PyTorch as a Dataset.\n",
    "\n",
    "A custom Dataset class must implement three functions: __init__, __len__, and __getitem__\n",
    "  \n",
    "The __init__ function is run once when instantiating the Dataset object. We initialize the directory containing the images, the annotations file, and both transforms.\n",
    "  \n",
    "The __len__ function returns the number of samples in our dataset.\n",
    "  \n",
    "The __getitem__ function loads and returns a sample from the dataset at the given index idx. Based on the index, for this dataset, it identifies the image’s location on disk, converts that to a tensor using read_image, retrieves the corresponding label from the csv data in self.img_labels, calls the transform functions on them (if applicable) and returns the tensor image and corresponding label in a tuple."
   ]
  },
  {
   "cell_type": "code",
   "execution_count": 81,
   "metadata": {},
   "outputs": [],
   "source": [
    "import numpy as np\n",
    "import torch \n",
    "from torch.utils.data import DataLoader, Dataset, random_split"
   ]
  },
  {
   "cell_type": "code",
   "execution_count": 82,
   "metadata": {},
   "outputs": [],
   "source": [
    "class ChineseMNISTdataset(Dataset):\n",
    "    def __init__(self, annotations_dataframe, img_dir):\n",
    "        self.df = annotations_dataframe\n",
    "        self.img_dir = img_dir\n",
    "\n",
    "    def __len__(self):\n",
    "        return len(self.df)\n",
    "\n",
    "    def __getitem__(self, idx):\n",
    "        imgPath =  os.path.join(self.img_dir, self.df ['file'][idx]) \n",
    "        img = Image.open(imgPath)\n",
    "\n",
    "        imgAsT = torch.from_numpy(np.array(img)).float()\n",
    "\n",
    "        label = self.df['code'][idx] -1 # let's use the code as target variable\n",
    "        \n",
    "        return imgAsT, label\n"
   ]
  },
  {
   "cell_type": "markdown",
   "metadata": {},
   "source": [
    "Get the data frame (we can use any Python collection) into the custom dataset and then we try to retrieve an image given an index:"
   ]
  },
  {
   "cell_type": "code",
   "execution_count": 83,
   "metadata": {},
   "outputs": [
    {
     "data": {
      "text/plain": [
       "15000"
      ]
     },
     "execution_count": 83,
     "metadata": {},
     "output_type": "execute_result"
    }
   ],
   "source": [
    "chineseNumbers = ChineseMNISTdataset(dataDF, IMAGE_PATH)  # init\n",
    "chineseNumbers.__len__() # dataset length"
   ]
  },
  {
   "cell_type": "code",
   "execution_count": 84,
   "metadata": {},
   "outputs": [
    {
     "name": "stdout",
     "output_type": "stream",
     "text": [
      "torch.Size([64, 64])\n",
      "9\n"
     ]
    }
   ],
   "source": [
    "img, label = chineseNumbers.__getitem__(42)\n",
    "print(img.shape)\n",
    "print(label)"
   ]
  },
  {
   "cell_type": "markdown",
   "metadata": {},
   "source": [
    "Note that it returns a tensor of size 64x64 and a label.  \n",
    "in this case, should be the character representing the value 9.  \n",
    "We can verify it by plotting the tensor (it's basically a pixel representation of the grey scale of the character):"
   ]
  },
  {
   "cell_type": "code",
   "execution_count": 85,
   "metadata": {},
   "outputs": [],
   "source": [
    "import matplotlib.pyplot as plt"
   ]
  },
  {
   "cell_type": "code",
   "execution_count": 86,
   "metadata": {},
   "outputs": [
    {
     "data": {
      "text/plain": [
       "<matplotlib.image.AxesImage at 0x31c9aa910>"
      ]
     },
     "execution_count": 86,
     "metadata": {},
     "output_type": "execute_result"
    },
    {
     "data": {
      "image/png": "[encoded data removed]",
      "text/plain": [
       "<Figure size 640x480 with 1 Axes>"
      ]
     },
     "metadata": {},
     "output_type": "display_data"
    }
   ],
   "source": [
    "plt.imshow(img)"
   ]
  },
  {
   "cell_type": "markdown",
   "metadata": {},
   "source": [
    "Yes, that's the number 9. So far so good. Now need to carve out a subset for testing evaluation.  \n",
    "## Split into training and testing datasets\n",
    "We split the dataset into a training and a testing dataset: 90% and 10%"
   ]
  },
  {
   "cell_type": "code",
   "execution_count": 87,
   "metadata": {},
   "outputs": [],
   "source": [
    "SEED = 42 # \"Answer to the Ultimate Question of Life, the Universe, and Everything\"\n",
    "\n",
    "torch.manual_seed(SEED)  # for reproducibility \n",
    "np.random.seed(SEED)"
   ]
  },
  {
   "cell_type": "code",
   "execution_count": 88,
   "metadata": {},
   "outputs": [],
   "source": [
    "testSize = chineseNumbers.__len__() // 10 # integer divide , reserve 10% for testing\n",
    "trainSize = chineseNumbers.__len__() - testSize"
   ]
  },
  {
   "cell_type": "code",
   "execution_count": 89,
   "metadata": {},
   "outputs": [
    {
     "data": {
      "text/plain": [
       "(13500, 1500)"
      ]
     },
     "execution_count": 89,
     "metadata": {},
     "output_type": "execute_result"
    }
   ],
   "source": [
    "# splitting the data\n",
    "# Train-test split\n",
    "trainDataset, testDataset = random_split(chineseNumbers, [trainSize, testSize])\n",
    "\n",
    "len(trainDataset), len(testDataset)"
   ]
  },
  {
   "cell_type": "code",
   "execution_count": 90,
   "metadata": {},
   "outputs": [
    {
     "data": {
      "text/plain": [
       "torch.utils.data.dataset.Subset"
      ]
     },
     "execution_count": 90,
     "metadata": {},
     "output_type": "execute_result"
    }
   ],
   "source": [
    "type(testDataset)"
   ]
  },
  {
   "cell_type": "markdown",
   "metadata": {},
   "source": [
    "The testing Subset contains in total 1500 images (that's 10% of the original dataset, as expected).  \n",
    "## Build a data loader from the datasets\n",
    "The Dataset retrieves our dataset’s features and labels one sample at a time. While training a model, we typically want to pass samples in “minibatches”, reshuffle the data at every epoch to reduce model overfitting and use Python’s multiprocessing to speed up data retrieval.\n",
    "  \n",
    "We get better generalization if we can vary things during training. One simple and effective thing we can vary is what data items we put in each mini-batch. Rather than simply enumerating our dataset in order for every epoch, instead what we normally do is randomly shuffle it on every epoch, before we create mini-batches. PyTorch provides a class that will do the shuffling and mini-batch collation, called DataLoader.\n",
    "  \n",
    "DataLoader is an iterable that abstracts this complexity for us in an easy API.  \n",
    "A DataLoader can take any Python collection and turn it into an iterator over mini-batches, like so:"
   ]
  },
  {
   "cell_type": "code",
   "execution_count": 92,
   "metadata": {},
   "outputs": [
    {
     "data": {
      "text/plain": [
       "[tensor([ 4,  2,  1, 10, 13]),\n",
       " tensor([ 3,  9,  5,  6, 12]),\n",
       " tensor([ 8,  7,  0, 11])]"
      ]
     },
     "execution_count": 92,
     "metadata": {},
     "output_type": "execute_result"
    }
   ],
   "source": [
    "coll = range(14)  # example of dataloader\n",
    "dl = DataLoader(coll, batch_size=5, shuffle=True)\n",
    "list(dl)"
   ]
  },
  {
   "cell_type": "markdown",
   "metadata": {},
   "source": [
    "Every mini batch is size five and since the total entries in the dataloader is 14, the last mini batch is smaller.  \n",
    "For the Chinese numbers dataset we can define a larger batch, let's say one hundred:  "
   ]
  },
  {
   "cell_type": "code",
   "execution_count": 93,
   "metadata": {},
   "outputs": [],
   "source": [
    "BATCH_SIZE = 100 "
   ]
  },
  {
   "cell_type": "code",
   "execution_count": 94,
   "metadata": {},
   "outputs": [],
   "source": [
    "trainLoader = DataLoader(trainDataset, BATCH_SIZE, shuffle=True)\n",
    "testLoader = DataLoader(testDataset, BATCH_SIZE, shuffle=True)"
   ]
  },
  {
   "cell_type": "code",
   "execution_count": 95,
   "metadata": {},
   "outputs": [
    {
     "data": {
      "text/plain": [
       "torch.utils.data.dataloader.DataLoader"
      ]
     },
     "execution_count": 95,
     "metadata": {},
     "output_type": "execute_result"
    }
   ],
   "source": [
    "type(trainLoader)"
   ]
  },
  {
   "cell_type": "markdown",
   "metadata": {},
   "source": [
    "## Define the CNN  \n",
    "We define the neural network by subclassing the PyTorch nn.Module class.  \n",
    "There is an __init__() method that defines the layers and other components of a model, and a forward() method where the computation gets done.  \n",
    "We initialise the neural network layers in __init__ and every nn.Module subclass implements the operations on input data in the forward method.   \n",
    "nn.Sequential is an ordered container of modules and is used as quick way to structure the network. The data is passed through all the modules in the same order as defined.  \n",
    "\n",
    "I use the same layers which I previously used to classify numbers in the arab notation (classic MNIST dataset).  \n",
    "  \n",
    "Convolutional layers are built to handle data with a high degree of spatial correlation. They are very commonly used in computer vision, where they detect close groupings of features which the compose into higher-level features.  \n",
    "  \n",
    "A convolutional layer is like a window that scans over the image, looking for a pattern it recognizes. These patterns are called features and one of the parameters of a convolutional layer is the number of features we would like it to learn. This is the second argument to the constructor: the number of output features. Here, we’re asking our layer to learn 8 features.\n",
    "\n",
    "The last linear layer of the neural network returns logits - raw values - which are passed to the nn.Softmax module. The logits are scaled to values [0, 1] representing the model’s predicted probabilities for each class. dim parameter indicates the dimension along which the values must sum to 1."
   ]
  },
  {
   "cell_type": "code",
   "execution_count": 96,
   "metadata": {},
   "outputs": [],
   "source": [
    "import torch.nn as nn"
   ]
  },
  {
   "cell_type": "code",
   "execution_count": 97,
   "metadata": {},
   "outputs": [],
   "source": [
    "class ConvolutionalNeuralNetwork(nn.Module):\n",
    "    def __init__(self):\n",
    "        super().__init__()\n",
    "        self.inputLayer = nn.Flatten() # actually not used\n",
    "        self.layers = nn.Sequential(\n",
    "            nn.Conv2d(1,8, kernel_size=3, padding='same'),  # input layer: 1 input image channel (black & white), 8 output channels, 3x3 square convolution\n",
    "            nn.ReLU(),  # pass through a ReLu activation function\n",
    "            nn.Flatten(), \n",
    "            nn.Linear(in_features=8*IMG_SIZE*IMG_SIZE, out_features=25), # hidden layer\n",
    "            nn.ReLU(),  # pass through a ReLu activation function\n",
    "            nn.Linear(25, OUTPUT_SIZE)  # output layer\n",
    "        )\n",
    "        self.outputLayer = nn.Softmax(dim=1)\n",
    "\n",
    "    def forward(self, x):\n",
    "        x = x.unsqueeze(1) # to single channel image\n",
    "        logits = self.layers(x)  # the actual step going through the above defined layers\n",
    "        out = self.outputLayer(logits) # call the softmax function\n",
    "        return out"
   ]
  },
  {
   "cell_type": "markdown",
   "metadata": {},
   "source": [
    "### Get Device for Training\n",
    "Before we implement the neural network, we want to be able to train our model on a hardware accelerator like the GPU or MPS, if available. Let’s check to see if torch.cuda or torch.backends.mps are available, otherwise we use the CPU."
   ]
  },
  {
   "cell_type": "code",
   "execution_count": 98,
   "metadata": {},
   "outputs": [
    {
     "name": "stdout",
     "output_type": "stream",
     "text": [
      "Using mps device\n"
     ]
    }
   ],
   "source": [
    "device = (\n",
    "    \"cuda\"\n",
    "    if torch.cuda.is_available()\n",
    "    else \"mps\"\n",
    "    if torch.backends.mps.is_available()\n",
    "    else \"cpu\"\n",
    ")\n",
    "print(f\"Using {device} device\")"
   ]
  },
  {
   "cell_type": "markdown",
   "metadata": {},
   "source": [
    "We create an instance of the CNN,  move it to the device and print its structure."
   ]
  },
  {
   "cell_type": "code",
   "execution_count": 99,
   "metadata": {},
   "outputs": [
    {
     "name": "stdout",
     "output_type": "stream",
     "text": [
      "The model:  ConvolutionalNeuralNetwork(\n",
      "  (inputLayer): Flatten(start_dim=1, end_dim=-1)\n",
      "  (layers): Sequential(\n",
      "    (0): Conv2d(1, 8, kernel_size=(3, 3), stride=(1, 1), padding=same)\n",
      "    (1): ReLU()\n",
      "    (2): Flatten(start_dim=1, end_dim=-1)\n",
      "    (3): Linear(in_features=32768, out_features=25, bias=True)\n",
      "    (4): ReLU()\n",
      "    (5): Linear(in_features=25, out_features=15, bias=True)\n",
      "  )\n",
      "  (outputLayer): Softmax(dim=1)\n",
      ")\n"
     ]
    }
   ],
   "source": [
    "simpleModel = ConvolutionalNeuralNetwork().to(device)\n",
    "print(\"The model: \", simpleModel)"
   ]
  },
  {
   "cell_type": "markdown",
   "metadata": {},
   "source": [
    "The layers (a total of six layers) and related weights are stored in the internal variable 'parameters':"
   ]
  },
  {
   "cell_type": "code",
   "execution_count": 100,
   "metadata": {},
   "outputs": [
    {
     "data": {
      "text/plain": [
       "6"
      ]
     },
     "execution_count": 100,
     "metadata": {},
     "output_type": "execute_result"
    }
   ],
   "source": [
    "params = list(simpleModel.parameters())\n",
    "len(params)"
   ]
  },
  {
   "cell_type": "code",
   "execution_count": 101,
   "metadata": {},
   "outputs": [
    {
     "name": "stdout",
     "output_type": "stream",
     "text": [
      "Total number of trainable model parameters: 819695\n"
     ]
    }
   ],
   "source": [
    "num_params = sum(p.numel() for p in simpleModel.parameters() if p.requires_grad)\n",
    "print(\"Total number of trainable model parameters:\", num_params)"
   ]
  },
  {
   "cell_type": "markdown",
   "metadata": {},
   "source": [
    "You can check single layers including its weights and shape:"
   ]
  },
  {
   "cell_type": "code",
   "execution_count": 45,
   "metadata": {},
   "outputs": [
    {
     "name": "stdout",
     "output_type": "stream",
     "text": [
      "('layers.5.bias', Parameter containing:\n",
      "tensor([ 0.0354,  0.0361,  0.1400, -0.1707, -0.0041, -0.1914,  0.1261, -0.1008,\n",
      "         0.0768,  0.0004,  0.0448, -0.1565, -0.1023, -0.1986, -0.1746],\n",
      "       device='mps:0', requires_grad=True))\n"
     ]
    }
   ],
   "source": [
    "named_params = [p for p in simpleModel.named_parameters()]\n",
    "print(named_params[-1])"
   ]
  },
  {
   "cell_type": "code",
   "execution_count": 46,
   "metadata": {},
   "outputs": [
    {
     "name": "stdout",
     "output_type": "stream",
     "text": [
      "torch.Size([8, 1, 3, 3])\n"
     ]
    }
   ],
   "source": [
    "print(simpleModel.layers[0].weight.shape)\n"
   ]
  },
  {
   "cell_type": "markdown",
   "metadata": {},
   "source": [
    "## Train the model\n",
    "Before starting the training, we need to define a loss and an optimiser function."
   ]
  },
  {
   "cell_type": "markdown",
   "metadata": {},
   "source": [
    "The loss function measures the degree of dissimilarity of obtained result to the target value and it is the loss function that we want to minimize during training. To calculate the loss we make a prediction using the inputs of our given data sample and compare it against the true data label value.\n",
    "\n",
    "Common loss functions include nn.MSELoss (Mean Square Error) for regression tasks and nn.NLLLoss (Negative Log Likelihood) for classification.  \n",
    "nn.CrossEntropyLoss combines nn.LogSoftmax and nn.NLLLoss."
   ]
  },
  {
   "cell_type": "code",
   "execution_count": 47,
   "metadata": {},
   "outputs": [],
   "source": [
    "lossFn = nn.CrossEntropyLoss()"
   ]
  },
  {
   "cell_type": "markdown",
   "metadata": {},
   "source": [
    "Optimisation is the process of adjusting model parameters to reduce model error in each training step. Optimisation algorithms define how this process is performed. All optimisation logic is encapsulated in the optimiser object. Here, we use the Stochastic Gradient Descent, SGD optimiser; there are many different optimisers available in PyTorch such as ADAM and RMSProp, that work better for different kinds of models and data."
   ]
  },
  {
   "cell_type": "code",
   "execution_count": 48,
   "metadata": {},
   "outputs": [],
   "source": [
    "LEARNING_RATE = 0.01"
   ]
  },
  {
   "cell_type": "code",
   "execution_count": 65,
   "metadata": {},
   "outputs": [],
   "source": [
    "#optimiser = torch.optim.SGD(simpleModel.parameters(), lr = LEARNING_RATE)\n",
    "optimizer = torch.optim.Adam(simpleModel.parameters(), lr=LEARNING_RATE)  # got better results with SGD\n"
   ]
  },
  {
   "cell_type": "markdown",
   "metadata": {},
   "source": [
    "Each iteration below returns a batch of train_features and train_labels (containing batch_size features and labels respectively). Because we specified shuffle=True, after we iterate over all batches the data is shuffled  "
   ]
  },
  {
   "cell_type": "code",
   "execution_count": 66,
   "metadata": {},
   "outputs": [],
   "source": [
    "NUM_EPOCHS = 10 # we start low"
   ]
  },
  {
   "cell_type": "code",
   "execution_count": 69,
   "metadata": {},
   "outputs": [
    {
     "name": "stdout",
     "output_type": "stream",
     "text": [
      "Epoch: 1/10\n",
      "\tIteration: 0\t Current batch Loss: 2.061 | images: 100 | epoch loss/n:  0.015\n",
      "\tIteration: 50\t Current batch Loss: 2.039 | images: 5100 | epoch loss/n:  0.788\n",
      "\tIteration: 100\t Current batch Loss: 2.009 | images: 10100 | epoch loss/n:  1.561\n",
      "  Train epoch loss: 281.72 | mean: 2.09 | accuracy: 0.73\n",
      "Epoch: 2/10\n",
      "\tIteration: 0\t Current batch Loss: 2.122 | images: 100 | epoch loss/n:  0.016\n",
      "\tIteration: 50\t Current batch Loss: 2.065 | images: 5100 | epoch loss/n:  0.789\n",
      "\tIteration: 100\t Current batch Loss: 2.180 | images: 10100 | epoch loss/n:  1.557\n",
      "  Train epoch loss: 281.04 | mean: 2.08 | accuracy: 0.74\n",
      "Epoch: 3/10\n",
      "\tIteration: 0\t Current batch Loss: 2.081 | images: 100 | epoch loss/n:  0.015\n",
      "\tIteration: 50\t Current batch Loss: 2.058 | images: 5100 | epoch loss/n:  0.788\n",
      "\tIteration: 100\t Current batch Loss: 2.117 | images: 10100 | epoch loss/n:  1.555\n",
      "  Train epoch loss: 280.50 | mean: 2.08 | accuracy: 0.74\n",
      "Epoch: 4/10\n",
      "\tIteration: 0\t Current batch Loss: 2.128 | images: 100 | epoch loss/n:  0.016\n",
      "\tIteration: 50\t Current batch Loss: 2.118 | images: 5100 | epoch loss/n:  0.782\n",
      "\tIteration: 100\t Current batch Loss: 2.012 | images: 10100 | epoch loss/n:  1.555\n",
      "  Train epoch loss: 280.05 | mean: 2.07 | accuracy: 0.74\n",
      "Epoch: 5/10\n",
      "\tIteration: 0\t Current batch Loss: 2.047 | images: 100 | epoch loss/n:  0.015\n",
      "\tIteration: 50\t Current batch Loss: 2.046 | images: 5100 | epoch loss/n:  0.783\n",
      "\tIteration: 100\t Current batch Loss: 2.117 | images: 10100 | epoch loss/n:  1.547\n",
      "  Train epoch loss: 279.73 | mean: 2.07 | accuracy: 0.75\n",
      "Epoch: 6/10\n",
      "\tIteration: 0\t Current batch Loss: 2.076 | images: 100 | epoch loss/n:  0.015\n",
      "\tIteration: 50\t Current batch Loss: 2.084 | images: 5100 | epoch loss/n:  0.785\n",
      "\tIteration: 100\t Current batch Loss: 2.049 | images: 10100 | epoch loss/n:  1.550\n",
      "  Train epoch loss: 279.42 | mean: 2.07 | accuracy: 0.75\n",
      "Epoch: 7/10\n",
      "\tIteration: 0\t Current batch Loss: 2.098 | images: 100 | epoch loss/n:  0.016\n",
      "\tIteration: 50\t Current batch Loss: 2.008 | images: 5100 | epoch loss/n:  0.780\n",
      "\tIteration: 100\t Current batch Loss: 2.057 | images: 10100 | epoch loss/n:  1.547\n",
      "  Train epoch loss: 279.17 | mean: 2.07 | accuracy: 0.75\n",
      "Epoch: 8/10\n",
      "\tIteration: 0\t Current batch Loss: 2.052 | images: 100 | epoch loss/n:  0.015\n",
      "\tIteration: 50\t Current batch Loss: 2.017 | images: 5100 | epoch loss/n:  0.781\n",
      "\tIteration: 100\t Current batch Loss: 2.056 | images: 10100 | epoch loss/n:  1.547\n",
      "  Train epoch loss: 279.01 | mean: 2.07 | accuracy: 0.75\n",
      "Epoch: 9/10\n",
      "\tIteration: 0\t Current batch Loss: 2.123 | images: 100 | epoch loss/n:  0.016\n",
      "\tIteration: 50\t Current batch Loss: 2.017 | images: 5100 | epoch loss/n:  0.780\n",
      "\tIteration: 100\t Current batch Loss: 2.106 | images: 10100 | epoch loss/n:  1.544\n",
      "  Train epoch loss: 278.86 | mean: 2.07 | accuracy: 0.75\n",
      "Epoch: 10/10\n",
      "\tIteration: 0\t Current batch Loss: 2.074 | images: 100 | epoch loss/n:  0.015\n",
      "\tIteration: 50\t Current batch Loss: 2.055 | images: 5100 | epoch loss/n:  0.778\n",
      "\tIteration: 100\t Current batch Loss: 2.045 | images: 10100 | epoch loss/n:  1.544\n",
      "  Train epoch loss: 278.69 | mean: 2.06 | accuracy: 0.75\n",
      "Done!\n"
     ]
    }
   ],
   "source": [
    "lossHistory = []\n",
    "\n",
    "simpleModel.train()  # just say the model is used for training phase\n",
    "\n",
    "for e in range(NUM_EPOCHS):\n",
    "\n",
    "    print(f\"Epoch: {e+1}/{NUM_EPOCHS}\")\n",
    "\n",
    "    epochLoss = 0\n",
    "    correct = 0\n",
    "    totalExamples = 0\n",
    "    trainLosses = []\n",
    "\n",
    "\n",
    "    for batchIdx, (X, y) in enumerate(trainLoader):\n",
    "\n",
    "        # X is the images in all the batch so the shape is BATCH_SIZE (or less for the last batch) * image shape\n",
    "        # y is the labels in all the batch so the shape is <= BATCH_SIZE\n",
    "        \n",
    "            # Make sure to pass batch-data to the correct device, otherwise get runtime error\n",
    "\n",
    "        X = X.to(device)\n",
    "        y = y.to(device)\n",
    "\n",
    "\n",
    "        logits = simpleModel(X)  # 1. forward pass; generate the predictions\n",
    "\n",
    "        batchLoss = lossFn(logits, y)  # 2. calculate the loss\n",
    "        trainLosses.append(batchLoss.detach()) # add to loss history (detach is removing the grad information); just to see the trend\n",
    "\n",
    "        batchLoss.backward()  # 3. backward pass\n",
    "\n",
    "        optimiser.step()  # 4. update model\n",
    "        optimiser.zero_grad() # reset the gradient\n",
    "\n",
    "        epochLoss += batchLoss.item() # add to total epoch loss\n",
    "        \n",
    "            # print the status every 50 batches\n",
    "        if batchIdx % 50 == 0:\n",
    "            totImages = batchIdx * BATCH_SIZE + len(X)\n",
    "            print(f\"\\tIteration: {batchIdx}\\t Current batch Loss: {batchLoss:.3f} | images: {totImages} | epoch loss/n: {epochLoss/len(trainLoader): .3f}\")\n",
    "\n",
    "            # update the accuracy\n",
    "        preds = torch.argmax(logits, dim = 1)\n",
    "        compare = y == preds\n",
    "        correct += torch.sum(compare)\n",
    "        totalExamples += len(compare)\n",
    "\n",
    "    print(f\"  Train epoch loss: {epochLoss:.2f} | mean: {torch.stack(trainLosses).mean().item():.2f} | accuracy: {(correct / totalExamples).item():.2f}\")\n",
    "    lossHistory.append(torch.stack(trainLosses).mean().item())\n",
    "\n",
    "print(\"Done!\")\n"
   ]
  },
  {
   "cell_type": "markdown",
   "metadata": {},
   "source": [
    "The loss should decrease and the accuracy increase towards 1.0 (means 100% accuracy), epoch after epoch.  \n",
    "The iterations metrics inside each epoch is just to check the general trend (losses may vary inside the epoch becuase the batches are random but from one eopch to the other should decrease).  \n",
    "In this case 3 epochs are enough to achieve good numbers (at least for the training dataset).  \n",
    "It's visible in the plot:"
   ]
  },
  {
   "cell_type": "code",
   "execution_count": 70,
   "metadata": {},
   "outputs": [
    {
     "data": {
      "image/png": "[encoded data removed]",
      "text/plain": [
       "<Figure size 640x480 with 1 Axes>"
      ]
     },
     "metadata": {},
     "output_type": "display_data"
    }
   ],
   "source": [
    "plt.plot(lossHistory)\n",
    "plt.xlabel('Epoch')\n",
    "plt.ylabel('loss')\n",
    "plt.title('Loss vs. No. of epochs')\n",
    "plt.show()"
   ]
  },
  {
   "cell_type": "markdown",
   "metadata": {},
   "source": [
    "## Predict one single image\n",
    "Let's check how to predict the class (the code) for a single test image:"
   ]
  },
  {
   "cell_type": "code",
   "execution_count": 53,
   "metadata": {},
   "outputs": [],
   "source": [
    "def predictImage (model, img, y):\n",
    "    x = img.reshape(1,64,64) # prepare as input for the model (it's like a batch of one item)\n",
    "    model.eval() # tell model we are in evaluation mode, not training\n",
    "\n",
    "    with torch.no_grad():\n",
    "        logits = model(x) # run the model to get the prediction\n",
    "        pred_prob = nn.Softmax(dim=1)(logits)\n",
    "        y_pred = pred_prob.argmax(1)\n",
    "        \n",
    "    print(\"Predicted class: \", int(y_pred))\n",
    "    print(f\"Compare with correct class = {y}: this is {y_pred == y}\")"
   ]
  },
  {
   "cell_type": "code",
   "execution_count": 54,
   "metadata": {},
   "outputs": [
    {
     "data": {
      "text/plain": [
       "9"
      ]
     },
     "execution_count": 54,
     "metadata": {},
     "output_type": "execute_result"
    }
   ],
   "source": [
    "testImg, testLabel = testDataset[100]   # cannot use getItem on subset, we index directly\n",
    "testLabel"
   ]
  },
  {
   "cell_type": "code",
   "execution_count": 55,
   "metadata": {},
   "outputs": [
    {
     "data": {
      "text/plain": [
       "<matplotlib.image.AxesImage at 0x176607210>"
      ]
     },
     "execution_count": 55,
     "metadata": {},
     "output_type": "execute_result"
    },
    {
     "data": {
      "image/png": "[encoded data removed]",
      "text/plain": [
       "<Figure size 640x480 with 1 Axes>"
      ]
     },
     "metadata": {},
     "output_type": "display_data"
    }
   ],
   "source": [
    "plt.imshow(np.array(testImg).astype(int))"
   ]
  },
  {
   "cell_type": "code",
   "execution_count": 56,
   "metadata": {},
   "outputs": [
    {
     "name": "stdout",
     "output_type": "stream",
     "text": [
      "Predicted class:  9\n",
      "Compare with correct class = 9: this is tensor([True], device='mps:0')\n"
     ]
    }
   ],
   "source": [
    "predictImage (simpleModel, testImg.to(device), testLabel)"
   ]
  },
  {
   "cell_type": "markdown",
   "metadata": {},
   "source": [
    "## Compute accuracy on testing dataset\n",
    "Finally, to be sure it's not overfitted, let's check the accuracy on the testing dataset.  \n",
    "It also computes the confusion matrix. Ideally all numbers are on the diagonal (each class is correctly predicted) and outside is all zero."
   ]
  },
  {
   "cell_type": "code",
   "execution_count": 57,
   "metadata": {},
   "outputs": [],
   "source": [
    "from sklearn.metrics import confusion_matrix"
   ]
  },
  {
   "cell_type": "code",
   "execution_count": 58,
   "metadata": {},
   "outputs": [],
   "source": [
    "def computeAccuracy(model, data):\n",
    "    model = model.eval()\n",
    "    correct = 0.0\n",
    "    totalExamples = 0\n",
    "    totalLabels = np.array([])\n",
    "    totalPred = np.array([])\n",
    "\n",
    "    for idx, (features, labels) in enumerate(data):\n",
    "        with torch.no_grad():\n",
    "            features = features.to(device)\n",
    "            labels = labels.to(device)\n",
    "            logits = model(features) # run the model to get the predictions\n",
    "\n",
    "        predictions = torch.argmax(logits, dim=1)\n",
    "        compare = labels == predictions  # compare predictions with true label\n",
    "\n",
    "        correct += torch.sum(compare)\n",
    "        totalExamples += len(compare)\n",
    "\n",
    "        totalLabels = np.concatenate((totalLabels, labels.cpu().numpy()))\n",
    "        totalPred = np.concatenate((totalPred, predictions.cpu().numpy()))\n",
    "\n",
    "    cm = confusion_matrix(totalLabels, totalPred)  # assemble the confusion matrix and print it\n",
    "    print(f'Confusion matrix: \\n{cm}')\n",
    "\n",
    "    return (correct / totalExamples).item()  # return the accuracy\n"
   ]
  },
  {
   "cell_type": "code",
   "execution_count": 59,
   "metadata": {},
   "outputs": [
    {
     "name": "stdout",
     "output_type": "stream",
     "text": [
      "Confusion matrix: \n",
      "[[78  0  0  0  1  0  2  0  0  2  0  0  2  2  0]\n",
      " [ 1 96 17  0  1  0  1  0  0  0  0  0  0  1  0]\n",
      " [ 0 23 71  0  0  2  1  0  0  0  0  0  0  0  0]\n",
      " [ 4 14 39  0  0 12  5  0  0  0  1  0  0  0  0]\n",
      " [ 7  0  0  0 93  2  0  0  1  2  0  0  0  2  0]\n",
      " [ 4  5  0  0  1 85  1  0  2  4  4  0  1  2  0]\n",
      " [ 5  4  4  0  1  3 61  0  0  2  0  0  1 15  0]\n",
      " [ 3  3  2  0  8 20  4  0  2 39 12  0  9  1  0]\n",
      " [ 0  0  0  0  3  0  3  0 85 20  1  0  1  0  0]\n",
      " [ 3  0  0  0  8  6  1  0  4 81  1  0  0  2  0]\n",
      " [ 0  0  0  0  7  0  0  0  1  5 67  0 16  3  0]\n",
      " [16  0  6  0 10 23  0  0  0  3  4  0  3 31  0]\n",
      " [ 3  0  1  0  2  2 11  0  0  5 29  0 52  0  0]\n",
      " [ 5  0  1  0  4  3  0  0  2  8  2  0  2 65  0]\n",
      " [ 3  0  0  0 28  1  0  0  4 59  1  0  0  2  0]]\n",
      "\n",
      "Accuracy: 55.59999942779541 %\n"
     ]
    }
   ],
   "source": [
    "acc = computeAccuracy(simpleModel, testLoader)\n",
    "print(f\"\\nAccuracy: {acc*100} %\")"
   ]
  },
  {
   "cell_type": "markdown",
   "metadata": {},
   "source": [
    "As a comparison, a baseline would be if the class is randomly chosen , then would be 1 out of 15:"
   ]
  },
  {
   "cell_type": "code",
   "execution_count": 60,
   "metadata": {},
   "outputs": [
    {
     "data": {
      "text/plain": [
       "0.06666666666666667"
      ]
     },
     "execution_count": 60,
     "metadata": {},
     "output_type": "execute_result"
    }
   ],
   "source": [
    "1/15"
   ]
  },
  {
   "cell_type": "markdown",
   "metadata": {},
   "source": [
    "As it's good enough, no need to add regularisation techniques such as the dropout.  \n",
    "Finally, the model can be saved:"
   ]
  },
  {
   "cell_type": "code",
   "execution_count": 62,
   "metadata": {},
   "outputs": [
    {
     "name": "stdout",
     "output_type": "stream",
     "text": [
      "Saving the trained model\n"
     ]
    }
   ],
   "source": [
    "print(\"Saving the trained model\")\n",
    "torch.save(simpleModel.state_dict(), os.path.join(os.getcwd(), \"Net.pth\"))"
   ]
  }
 ],
 "metadata": {
  "kernelspec": {
   "display_name": "Python 3 (ipykernel)",
   "language": "python",
   "name": "python3"
  },
  "language_info": {
   "codemirror_mode": {
    "name": "ipython",
    "version": 3
   },
   "file_extension": ".py",
   "mimetype": "text/x-python",
   "name": "python",
   "nbconvert_exporter": "python",
   "pygments_lexer": "ipython3",
   "version": "3.11.4"
  }
 },
 "nbformat": 4,
 "nbformat_minor": 2
}
