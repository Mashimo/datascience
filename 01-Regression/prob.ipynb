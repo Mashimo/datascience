{
 "cells": [
  {
   "cell_type": "markdown",
   "metadata": {},
   "source": [
    "#  Probability with a Montecarlo view"
   ]
  },
  {
   "cell_type": "markdown",
   "metadata": {},
   "source": [
    "## Stochastic vs deterministic numbers\n",
    "\n",
    "The word stochastic is an adjective in English that describes something that was randomly determined.\n",
    "\n",
    "Randomness is the lack of pattern or predictability in events. A random sequence of events thereofore has no order and does not follow an intelligible combination.\n",
    "\n",
    "Individual random events are by definition unpredictable, but in many cases the frequency of different outcomes over a large number of events is predictable.\n",
    "And this is what is interesting for us: if I throw a die with six faces thousands of times, how many times in percent shall I expect to see the face number six?\n",
    "\n",
    "We generate a (pseudo) random number in Python using the random library:"
   ]
  },
  {
   "cell_type": "code",
   "execution_count": 1,
   "metadata": {},
   "outputs": [],
   "source": [
    "import random"
   ]
  },
  {
   "cell_type": "code",
   "execution_count": 2,
   "metadata": {},
   "outputs": [],
   "source": [
    "def genEven():\n",
    "    '''\n",
    "    Returns a random even number x, where 0 <= x < 100\n",
    "    '''\n",
    "    return random.randrange(0,100,2)"
   ]
  },
  {
   "cell_type": "code",
   "execution_count": 3,
   "metadata": {},
   "outputs": [
    {
     "data": {
      "text/plain": [
       "2"
      ]
     },
     "execution_count": 3,
     "metadata": {},
     "output_type": "execute_result"
    }
   ],
   "source": [
    "genEven()"
   ]
  },
  {
   "cell_type": "code",
   "execution_count": 4,
   "metadata": {},
   "outputs": [],
   "source": [
    "def stochasticNumber():\n",
    "    '''\n",
    "    Stochastically generates and returns a uniformly distributed even \n",
    "    number between 9 and 21\n",
    "    '''\n",
    "    return random.randrange(10,21,2)"
   ]
  },
  {
   "cell_type": "code",
   "execution_count": 5,
   "metadata": {},
   "outputs": [
    {
     "data": {
      "text/plain": [
       "14"
      ]
     },
     "execution_count": 5,
     "metadata": {},
     "output_type": "execute_result"
    }
   ],
   "source": [
    "stochasticNumber()"
   ]
  },
  {
   "cell_type": "markdown",
   "metadata": {},
   "source": [
    "Again:"
   ]
  },
  {
   "cell_type": "code",
   "execution_count": 6,
   "metadata": {},
   "outputs": [
    {
     "data": {
      "text/plain": [
       "12"
      ]
     },
     "execution_count": 6,
     "metadata": {},
     "output_type": "execute_result"
    }
   ],
   "source": [
    "stochasticNumber()"
   ]
  },
  {
   "cell_type": "markdown",
   "metadata": {},
   "source": [
    "On the other side, deterministic means that the outcome - given the same input - will always be the same. There is no unpredictability.\n",
    "\n",
    "Generally, in applications such as in security applications, hardware generators are generally preferred over software algorithm. \n",
    "\n",
    "A pseudo-random algorithms, like the Python random library above, is called pseudo because is not really unpredictable: the sequence of random numbers generated depends on the initial seed: using the same number as seed will generate the same sequence. \n",
    "\n",
    "This is very useful for debugging purpose but means also that one needs to be very careful when choosing the seed (for example, choosing atmospheric signals or other noises). "
   ]
  },
  {
   "cell_type": "code",
   "execution_count": 7,
   "metadata": {},
   "outputs": [],
   "source": [
    "def deterministicNumber():\n",
    "    '''\n",
    "    Deterministically generates and returns an even number \n",
    "    between 9 and 21\n",
    "    '''\n",
    "    random.seed(0)  # Fixed seed, always the same.\n",
    "    return random.randrange(10,21,2)"
   ]
  },
  {
   "cell_type": "code",
   "execution_count": 8,
   "metadata": {
    "scrolled": true
   },
   "outputs": [
    {
     "data": {
      "text/plain": [
       "16"
      ]
     },
     "execution_count": 8,
     "metadata": {},
     "output_type": "execute_result"
    }
   ],
   "source": [
    "deterministicNumber()"
   ]
  },
  {
   "cell_type": "markdown",
   "metadata": {},
   "source": [
    "And again:"
   ]
  },
  {
   "cell_type": "code",
   "execution_count": 9,
   "metadata": {
    "scrolled": true
   },
   "outputs": [
    {
     "data": {
      "text/plain": [
       "16"
      ]
     },
     "execution_count": 9,
     "metadata": {},
     "output_type": "execute_result"
    }
   ],
   "source": [
    "deterministicNumber()"
   ]
  },
  {
   "cell_type": "markdown",
   "metadata": {},
   "source": [
    "The same number !!"
   ]
  },
  {
   "cell_type": "markdown",
   "metadata": {},
   "source": [
    "Before looking at what is the probability of an event, we define a function that simulates the roll of a six-faced die:"
   ]
  },
  {
   "cell_type": "code",
   "execution_count": 10,
   "metadata": {},
   "outputs": [],
   "source": [
    "def rollDie():\n",
    "    \"\"\"returns a random int between 1 and 6\"\"\"\n",
    "    #return random.choice([1,2,3,4,5,6])\n",
    "    return random.randint(1,6)"
   ]
  },
  {
   "cell_type": "code",
   "execution_count": 11,
   "metadata": {
    "scrolled": true
   },
   "outputs": [
    {
     "data": {
      "text/plain": [
       "4"
      ]
     },
     "execution_count": 11,
     "metadata": {},
     "output_type": "execute_result"
    }
   ],
   "source": [
    "rollDie()"
   ]
  },
  {
   "cell_type": "markdown",
   "metadata": {},
   "source": [
    "# Discrete probability\n",
    "\n",
    "If E represents an event, then P(E) is the probability that E will occur."
   ]
  },
  {
   "cell_type": "markdown",
   "metadata": {},
   "source": [
    "## Naive definition of probability\n",
    "If all outcomes are equally likely, the probability of an event A happening is:  \n",
    "\n",
    "P(E) = number of outcomes favourable to E / total number of outcomes.  \n",
    "\n",
    "By definition, P is always between 0 (no favourable outcomes) and 1 (all favourable outcomes).\n",
    "\n",
    "Example: a die has six faces therefore the space of the possibilities is six (total number of possible outcomes).\n",
    "\n",
    "If I want to calculate the probability of getting the event 6 when rolling the die one time, I need to consider that there is one face with six therefore only one possible outcome favourable:\n",
    "\n",
    "P(6) = 1 / 6\n",
    "\n",
    "This is the frequentist definition.  \n",
    "Probability can be seen as the *long-run relative frequency* with which an event occurred given many repeated trials.  \n",
    "Empirically, let's say I throw this die 1000 times and the face number six comes 125 times.  \n",
    "The frequency observed and *measured* for face six is 125/1000 = 0.125, so I can define the probability to get six = 0.125 = 1/6."
   ]
  },
  {
   "cell_type": "markdown",
   "metadata": {},
   "source": [
    "An alternative is Bayesianism which defines probability as a degree of belief that an event will occur. It depends on the own state of knowledge or on evidence at hand, therefore is more subjective than frequency probability."
   ]
  },
  {
   "cell_type": "markdown",
   "metadata": {},
   "source": [
    "By the way, the probability that an event does NOT occur is:  \n",
    "P(not A) = 1 - P(A)  \n",
    "\n",
    "Probability NOT to get a three in a die roll is therefore 1 - 1/6 = 5/6"
   ]
  },
  {
   "cell_type": "markdown",
   "metadata": {},
   "source": [
    "## Montecarlo simulation for die goal"
   ]
  },
  {
   "cell_type": "markdown",
   "metadata": {},
   "source": [
    "The term Monte Carlo simulation was coined in 1949 by Stanislav Ulam and Nicholas Metropolis, two mathematicians, in homage to the casino of  Monaco.  \n",
    "Monte Carlo methods are a class of methods that can be applied to computationally ‘difficult’ problems to arrive at near-enough accurate answers. The general premise is remarkably simple:\n",
    "\n",
    "- Randomly sample input(s) to the problem\n",
    "- For each sample, compute an output\n",
    "- Aggregate the outputs to approximate the solution"
   ]
  },
  {
   "cell_type": "markdown",
   "metadata": {},
   "source": [
    "We run now a simulation of a die roll and see what are the frequencies for each face of the die:"
   ]
  },
  {
   "cell_type": "code",
   "execution_count": 12,
   "metadata": {},
   "outputs": [],
   "source": [
    "def simMCdie(numTrials):\n",
    "    print (\"Running \", numTrials)\n",
    "    counters = [0] * 6 # initialize the counters for each face\n",
    "    for i in range(numTrials):\n",
    "        roll = rollDie()\n",
    "        counters[roll-1] += 1\n",
    "        \n",
    "    return counters"
   ]
  },
  {
   "cell_type": "code",
   "execution_count": 13,
   "metadata": {},
   "outputs": [],
   "source": [
    "import matplotlib.pyplot as plt"
   ]
  },
  {
   "cell_type": "code",
   "execution_count": 14,
   "metadata": {},
   "outputs": [
    {
     "name": "stdout",
     "output_type": "stream",
     "text": [
      "Running  10000\n"
     ]
    }
   ],
   "source": [
    "results = simMCdie(10000)"
   ]
  },
  {
   "cell_type": "code",
   "execution_count": 15,
   "metadata": {},
   "outputs": [
    {
     "data": {
      "text/plain": [
       "[1657, 1690, 1697, 1655, 1632, 1669]"
      ]
     },
     "execution_count": 15,
     "metadata": {},
     "output_type": "execute_result"
    }
   ],
   "source": [
    "results"
   ]
  },
  {
   "cell_type": "code",
   "execution_count": 16,
   "metadata": {},
   "outputs": [
    {
     "data": {
      "image/png": "[encoded data removed]",
      "text/plain": [
       "<matplotlib.figure.Figure at 0x1145e5668>"
      ]
     },
     "metadata": {},
     "output_type": "display_data"
    }
   ],
   "source": [
    "plt.bar(['1','2','3','4','5','6'], results);"
   ]
  },
  {
   "cell_type": "markdown",
   "metadata": {},
   "source": [
    "# Independent events\n",
    "A and B are independent if knowing whether A occurred gives no information about whether B occurred."
   ]
  },
  {
   "cell_type": "markdown",
   "metadata": {},
   "source": [
    "Let's define a function to model *n* rolls of a die, whereas each roll should be independent form the others."
   ]
  },
  {
   "cell_type": "code",
   "execution_count": 17,
   "metadata": {},
   "outputs": [],
   "source": [
    "def rollNdice(n):\n",
    "    result = ''\n",
    "    for i in range(n):\n",
    "        result = result + str(rollDie())\n",
    "    return result"
   ]
  },
  {
   "cell_type": "code",
   "execution_count": 18,
   "metadata": {},
   "outputs": [
    {
     "data": {
      "text/plain": [
       "'12344'"
      ]
     },
     "execution_count": 18,
     "metadata": {},
     "output_type": "execute_result"
    }
   ],
   "source": [
    "rollNdice(5)"
   ]
  },
  {
   "cell_type": "markdown",
   "metadata": {},
   "source": [
    "These are indipendent events.  \n",
    "Now an interesting question would be:  \n",
    "What is the probability that both two independent events A and B occur?"
   ]
  },
  {
   "cell_type": "markdown",
   "metadata": {},
   "source": [
    "P(A and B) = P(A) * P(B) "
   ]
  },
  {
   "cell_type": "markdown",
   "metadata": {},
   "source": [
    "For example, the probability to get TWO consecutive six in a die roll is therefore:  \n",
    "1/6 * 1/6 = 1 / (6^2) = 1 / 36  \n",
    "  \n",
    "Which is quite low."
   ]
  },
  {
   "cell_type": "markdown",
   "metadata": {},
   "source": [
    "This applies also for more than two independent evemts.  \n",
    "In general, the probabilities to occur *n* indepenet events is:  \n",
    "\n",
    "$ P(\\forall E_i) = \\prod (E_i) $ \n",
    "\n",
    "For a six-sided die, there are 6^5 possible sequences of length five.  \n",
    "The probability of getting five consecutives six is 1 / 6^5, pretty low number. 1 out of 7776 possibilities.  \n",
    "Let's look at a simulation to check this."
   ]
  },
  {
   "cell_type": "code",
   "execution_count": 19,
   "metadata": {},
   "outputs": [],
   "source": [
    "def getTarget(goal):\n",
    "    # Roll dice until we get the goal\n",
    "    # goal: a string of N die results, for example 5 six: \"66666\"\n",
    "    numRolls = len(goal)\n",
    "    \n",
    "    numTries = 0\n",
    "    while True:\n",
    "        numTries += 1\n",
    "        result = rollNdice(numRolls)\n",
    "          # if success then exit\n",
    "        if result == goal:\n",
    "            return numTries"
   ]
  },
  {
   "cell_type": "code",
   "execution_count": 20,
   "metadata": {},
   "outputs": [],
   "source": [
    "def runDiceMC(goal, numTrials):\n",
    "    print (\"Running ... trails: \", numTrials)\n",
    "    total = 0\n",
    "    for i in range(numTrials):\n",
    "        total += getTarget(goal)\n",
    "        \n",
    "    print ('Average number of tries =', total/float(numTrials))"
   ]
  },
  {
   "cell_type": "code",
   "execution_count": 21,
   "metadata": {},
   "outputs": [
    {
     "name": "stdout",
     "output_type": "stream",
     "text": [
      "Running ... trails:  100\n",
      "Average number of tries = 6596.93\n"
     ]
    }
   ],
   "source": [
    "runDiceMC('66666', 100)"
   ]
  },
  {
   "cell_type": "markdown",
   "metadata": {},
   "source": [
    "Remember that the theory says it will take on average 7776 tries."
   ]
  },
  {
   "cell_type": "markdown",
   "metadata": {},
   "source": [
    "## Pascal's problem\n",
    "A friend asked Pascal:  \n",
    "would it be profitable, given 24 rolls of a pair of dice, to bet against their being at least one double six?  \n",
    "In 17th century this was a hard problem.  \n",
    "Now we know it's :  \n",
    "P(A=6 and B=6) = 1/6 * 1/6 = 1/36 (two independent events)  \n",
    "P(not double six) = 1 - 1/36 = 35/36  \n",
    "P(no double six in 24 rolls) = (35/36)^24"
   ]
  },
  {
   "cell_type": "code",
   "execution_count": 22,
   "metadata": {},
   "outputs": [
    {
     "data": {
      "text/plain": [
       "0.5085961238690966"
      ]
     },
     "execution_count": 22,
     "metadata": {},
     "output_type": "execute_result"
    }
   ],
   "source": [
    "(35.0 / 36.0)**24"
   ]
  },
  {
   "cell_type": "markdown",
   "metadata": {},
   "source": [
    "it's very close!  \n",
    "Again, we can run a simulation to check it:"
   ]
  },
  {
   "cell_type": "code",
   "execution_count": 23,
   "metadata": {},
   "outputs": [],
   "source": [
    "def checkPascalMC(numTrials, roll, numRolls = 24, goal = 6):\n",
    "    numSuccess = 0.0\n",
    "    \n",
    "    for i in range(numTrials):\n",
    "        for j in range(numRolls):\n",
    "            die1 = roll()\n",
    "            die2 = roll()\n",
    "            if die1 == goal and die2 == goal:\n",
    "                numSuccess += 1\n",
    "                break\n",
    "                \n",
    "    print ('Probability of losing =', 1.0 - numSuccess / numTrials)"
   ]
  },
  {
   "cell_type": "code",
   "execution_count": 24,
   "metadata": {},
   "outputs": [
    {
     "name": "stdout",
     "output_type": "stream",
     "text": [
      "Probability of losing = 0.5063\n"
     ]
    }
   ],
   "source": [
    "checkPascalMC(10000, rollDie)"
   ]
  },
  {
   "cell_type": "markdown",
   "metadata": {},
   "source": [
    "In the function above, I am passing the function to roll a die as a parameter to show what can happen if the die has not the same faces but the face number six has a higher probability:  "
   ]
  },
  {
   "cell_type": "code",
   "execution_count": 25,
   "metadata": {},
   "outputs": [],
   "source": [
    "def rollLoadedDie():\n",
    "    if random.random() < 1.0/5.5:\n",
    "        return 6\n",
    "    else:\n",
    "        return random.choice([1,2,3,4,5])"
   ]
  },
  {
   "cell_type": "code",
   "execution_count": 26,
   "metadata": {},
   "outputs": [
    {
     "name": "stdout",
     "output_type": "stream",
     "text": [
      "Probability of losing = 0.44589999999999996\n"
     ]
    }
   ],
   "source": [
    "checkPascalMC(10000, rollLoadedDie)"
   ]
  },
  {
   "cell_type": "markdown",
   "metadata": {},
   "source": [
    "A last one.  \n",
    "What's the probability to get at least one die showing *one* when rolled ten times?"
   ]
  },
  {
   "cell_type": "code",
   "execution_count": 27,
   "metadata": {},
   "outputs": [
    {
     "name": "stdout",
     "output_type": "stream",
     "text": [
      "0.832\n"
     ]
    }
   ],
   "source": [
    "def atLeastOneOne(numRolls, numTrials):\n",
    "    numSuccess = 0\n",
    "    \n",
    "    for i in range(numTrials):\n",
    "        rolls = rollNdice(numRolls)\n",
    "        if '1' in rolls:\n",
    "            numSuccess += 1\n",
    "    fracSuccess = numSuccess/float(numTrials)\n",
    "    print (fracSuccess) #?!\n",
    "\n",
    "atLeastOneOne(10, 1000)"
   ]
  },
  {
   "cell_type": "markdown",
   "metadata": {},
   "source": [
    "# Sampling table"
   ]
  },
  {
   "cell_type": "markdown",
   "metadata": {},
   "source": [
    "The sampling table gives the number of possible samples of size *k* out of a population of size *n*, under various assumptions how the sample is collected."
   ]
  },
  {
   "cell_type": "markdown",
   "metadata": {},
   "source": [
    "One example:  \n",
    "one ball will be drawn at random from a box containing: 3 green balls, 5 red balls, and 7 yellow balls.\n",
    "\n",
    "What is the probability that the ball will be green?"
   ]
  },
  {
   "cell_type": "code",
   "execution_count": 28,
   "metadata": {},
   "outputs": [
    {
     "data": {
      "text/plain": [
       "0.2"
      ]
     },
     "execution_count": 28,
     "metadata": {},
     "output_type": "execute_result"
    }
   ],
   "source": [
    "green = 3\n",
    "red = 5\n",
    "yellow = 7\n",
    "balls = green+red+yellow\n",
    "pGreen = green / balls\n",
    "pGreen"
   ]
  },
  {
   "cell_type": "markdown",
   "metadata": {},
   "source": [
    "The population has size *15* and has therefore 15 possible samples of size *1*; out of these 15 possible samples, only 3 of them will answer our question (ball is green)."
   ]
  },
  {
   "cell_type": "markdown",
   "metadata": {},
   "source": [
    "We defined the variable pGreen as the probability of choosing a green ball from the box.\n",
    "What is the probability that the ball you draw from the box will NOT be green?"
   ]
  },
  {
   "cell_type": "code",
   "execution_count": 29,
   "metadata": {},
   "outputs": [
    {
     "data": {
      "text/plain": [
       "0.8"
      ]
     },
     "execution_count": 29,
     "metadata": {},
     "output_type": "execute_result"
    }
   ],
   "source": [
    "1 - pGreen"
   ]
  },
  {
   "cell_type": "markdown",
   "metadata": {},
   "source": [
    "## Sampling without replacement - generalized\n",
    "Instead of taking just one draw, consider taking two draws. You take the second draw without returning the first draw to the box. We call this **sampling without replacement**.\n",
    "\n",
    "What is the probability that the first draw is green and that the second draw is not green?"
   ]
  },
  {
   "cell_type": "code",
   "execution_count": 30,
   "metadata": {},
   "outputs": [
    {
     "data": {
      "text/plain": [
       "0.17142857142857143"
      ]
     },
     "execution_count": 30,
     "metadata": {},
     "output_type": "execute_result"
    }
   ],
   "source": [
    "# probability of choosing a green ball from the box on the first draw.\n",
    "pGreen1 = green / balls\n",
    "# probability of NOT choosing a green ball on the second draw without replacement.\n",
    "pGreen2 = (red + yellow) / (green -1 + red + yellow)\n",
    "\n",
    "# Calculate the probability that the first draw is green and the second draw is not green.\n",
    "pGreen1 * pGreen2"
   ]
  },
  {
   "cell_type": "markdown",
   "metadata": {},
   "source": [
    "## Sampling with replacement - generalized\n",
    "Now repeat the experiment, but this time, after taking the first draw and recording the color, return it back to the box and shake the box. We call this **sampling with replacement**.\n",
    "\n",
    "What is the probability that the first draw is green and that the second draw is not green?"
   ]
  },
  {
   "cell_type": "code",
   "execution_count": 31,
   "metadata": {},
   "outputs": [
    {
     "data": {
      "text/plain": [
       "0.16000000000000003"
      ]
     },
     "execution_count": 31,
     "metadata": {},
     "output_type": "execute_result"
    }
   ],
   "source": [
    "# probability of choosing a green ball from the box on the first draw.\n",
    "# same as above: pGreen1\n",
    "# probability of NOT choosing a green ball on the second draw with replacement\n",
    "\n",
    "pGreen2r = (red + yellow) / balls\n",
    "\n",
    "\n",
    "# Calculate the probability that the first draw is cyan and the second draw is not cyan.\n",
    "pGreen1 * pGreen2r"
   ]
  },
  {
   "cell_type": "markdown",
   "metadata": {},
   "source": [
    "### Sampling with replacement - be careful\n",
    "Say you’ve drawn 5 balls from a box that has 3 green balls, 5 red balls, and 7 yellow balls - with replacement - and all have been yellow.\n",
    "\n",
    "What is the probability that the next one is yellow?"
   ]
  },
  {
   "cell_type": "code",
   "execution_count": 32,
   "metadata": {},
   "outputs": [
    {
     "data": {
      "text/plain": [
       "0.4666666666666667"
      ]
     },
     "execution_count": 32,
     "metadata": {},
     "output_type": "execute_result"
    }
   ],
   "source": [
    "# probability that a yellow ball is drawn from the box.\n",
    "pYellow = yellow / balls\n",
    "\n",
    "# probability of drawing a yellow ball on the sixth draw.\n",
    "pYellow"
   ]
  },
  {
   "cell_type": "markdown",
   "metadata": {},
   "source": [
    "Yes, doesn't matter if all previous five draws were ALL yellow balls, the probability that the sixth ball is yellow **is the same** as for the first draw and all other draws.  With replacement the population is always the same."
   ]
  },
  {
   "cell_type": "markdown",
   "metadata": {},
   "source": [
    "## A football match\n",
    "\n",
    "Two teams, say the Manchester United (M.Utd.) and the AC Milan, are playing a seven game series. The Milan are a better team and have a 60% chance of winning each game.\n",
    "\n",
    "What is the probability that the M.Utd. wins at least one game? Remember that they must win one of the first four games, or the series will be over!  \n",
    "Let´s assume they are independent events (in reality losing one match may impact the team's morale for the next match):"
   ]
  },
  {
   "cell_type": "code",
   "execution_count": 33,
   "metadata": {},
   "outputs": [
    {
     "data": {
      "text/plain": [
       "0.8704000000000001"
      ]
     },
     "execution_count": 33,
     "metadata": {},
     "output_type": "execute_result"
    }
   ],
   "source": [
    "p_milan_wins = 0.6\n",
    "# probability that the Milan team will win the first four games of the series:\n",
    "p_milan_win4 = p_milan_wins**4\n",
    "\n",
    "# probability that the M.Utd. wins at least one game in the first four games of the series.\n",
    "1 - p_milan_win4\n"
   ]
  },
  {
   "cell_type": "markdown",
   "metadata": {},
   "source": [
    "Here is the Monte Carlo simulation to confirm our answer to M.Utd. winning a game. "
   ]
  },
  {
   "cell_type": "code",
   "execution_count": 34,
   "metadata": {},
   "outputs": [],
   "source": [
    "import numpy as np"
   ]
  },
  {
   "cell_type": "code",
   "execution_count": 35,
   "metadata": {},
   "outputs": [],
   "source": [
    "def RealWinsOneMC(numTrials, nGames=4):\n",
    "    numSuccess = 0\n",
    "    \n",
    "    for i in range(numTrials):\n",
    "        simulatedGames = np.random.choice([\"lose\",\"win\"], size=nGames, replace=True, p=[0.6,0.4])\n",
    "        if 'win' in simulatedGames:\n",
    "            numSuccess += 1\n",
    "            \n",
    "    return numSuccess / numTrials"
   ]
  },
  {
   "cell_type": "code",
   "execution_count": 36,
   "metadata": {},
   "outputs": [
    {
     "name": "stdout",
     "output_type": "stream",
     "text": [
      "0.856\n"
     ]
    }
   ],
   "source": [
    "print (RealWinsOneMC(1000))"
   ]
  },
  {
   "cell_type": "markdown",
   "metadata": {},
   "source": [
    "## Winning a game - with MonteCarlo"
   ]
  },
  {
   "cell_type": "markdown",
   "metadata": {},
   "source": [
    "The two teams are playing a seven game championship series. The first to win four games wins the series. The teams are equally good, so they each have a 50-50 chance of winning each game.\n",
    "\n",
    "If Milan lose the first game, what is the probability that they win the series?"
   ]
  },
  {
   "cell_type": "code",
   "execution_count": 37,
   "metadata": {},
   "outputs": [
    {
     "data": {
      "text/plain": [
       "0.34375"
      ]
     },
     "execution_count": 37,
     "metadata": {},
     "output_type": "execute_result"
    }
   ],
   "source": [
    "# Create a list that contains all possible outcomes for the remaining games.\n",
    "possibilities = [(g1,g2,g3,g4,g5,g6) for g1 in range(2) for g2 in range(2)\n",
    "                 for g3 in range(2) for g4 in range(2) for g5 in range(2)\n",
    "                 for g6 in range(2)]\n",
    "\n",
    "# Create a list that indicates whether each row in 'possibilities' \n",
    "# contains enough wins for the Cavs to win the series.\n",
    "sums = [sum(tup) for tup in possibilities]\n",
    "results = [s >= 4 for s in sums]\n",
    "\n",
    "# Calculate the proportion of 'results' in which the Cavs win the series. \n",
    "np.mean(results)"
   ]
  },
  {
   "cell_type": "markdown",
   "metadata": {},
   "source": [
    "Confirm the results of the previous question with a Monte Carlo simulation to estimate the probability of Milan winning the series."
   ]
  },
  {
   "cell_type": "code",
   "execution_count": 38,
   "metadata": {},
   "outputs": [],
   "source": [
    "def MilanWinsSeriesMC(numTrials, nGames=6):\n",
    "    numSuccess = 0\n",
    "    \n",
    "    for i in range(numTrials):\n",
    "        simulatedGames = np.random.choice([0,1], size=nGames, replace=True)\n",
    "        if sum(simulatedGames) >= 4:\n",
    "            numSuccess += 1\n",
    "            \n",
    "    return numSuccess / numTrials"
   ]
  },
  {
   "cell_type": "code",
   "execution_count": 39,
   "metadata": {},
   "outputs": [
    {
     "data": {
      "text/plain": [
       "0.36"
      ]
     },
     "execution_count": 39,
     "metadata": {},
     "output_type": "execute_result"
    }
   ],
   "source": [
    "MilanWinsSeriesMC(100)"
   ]
  },
  {
   "cell_type": "markdown",
   "metadata": {},
   "source": [
    "## A and B play a series"
   ]
  },
  {
   "cell_type": "code",
   "execution_count": 40,
   "metadata": {},
   "outputs": [],
   "source": [
    "def noReplacementSimulation(numTrials):\n",
    "    '''\n",
    "    Runs numTrials trials of a Monte Carlo simulation\n",
    "    of drawing 3 balls out of a bucket containing\n",
    "    3 red and 3 green balls. Balls are not replaced once\n",
    "    drawn. Returns the a decimal - the fraction of times 3 \n",
    "    balls of the same color were drawn.\n",
    "    '''\n",
    "    sameColor = 0\n",
    "    for i in range(numTrials):\n",
    "        red = 3.0\n",
    "        green = 3.0\n",
    "        for j in range(3):\n",
    "            if random.random() < red / (red + green):\n",
    "                #  this is red\n",
    "                red -= 1\n",
    "            else:\n",
    "                green -= 1\n",
    "        if red == 0 or green == 0:\n",
    "            sameColor += 1\n",
    "            \n",
    "    return float(sameColor) / numTrials"
   ]
  },
  {
   "cell_type": "code",
   "execution_count": 41,
   "metadata": {},
   "outputs": [
    {
     "data": {
      "text/plain": [
       "0.12"
      ]
     },
     "execution_count": 41,
     "metadata": {},
     "output_type": "execute_result"
    }
   ],
   "source": [
    "noReplacementSimulation(100)"
   ]
  },
  {
   "cell_type": "code",
   "execution_count": 42,
   "metadata": {},
   "outputs": [],
   "source": [
    "def oneTrial():\n",
    "    '''\n",
    "    Simulates one trial of drawing 3 balls out of a bucket containing\n",
    "    3 red and 3 green balls. Balls are not replaced once\n",
    "    drawn. Returns True if all three balls are the same color,\n",
    "    False otherwise.\n",
    "    '''\n",
    "    balls = ['r', 'r', 'r', 'g', 'g', 'g']\n",
    "    chosenBalls = []\n",
    "    for t in range(3):\n",
    "        # For three trials, pick a ball\n",
    "        ball = random.choice(balls)\n",
    "        # Remove the chosen ball from the set of balls\n",
    "        balls.remove(ball)\n",
    "        # and add it to a list of balls we picked\n",
    "        chosenBalls.append(ball)\n",
    "    # If the first ball is the same as the second AND the second is the same as the third,\n",
    "    #  we know all three must be the same color.\n",
    "    if chosenBalls[0] == chosenBalls[1] and chosenBalls[1] == chosenBalls[2]:\n",
    "        return True\n",
    "    return False"
   ]
  },
  {
   "cell_type": "code",
   "execution_count": 43,
   "metadata": {},
   "outputs": [
    {
     "data": {
      "text/plain": [
       "False"
      ]
     },
     "execution_count": 43,
     "metadata": {},
     "output_type": "execute_result"
    }
   ],
   "source": [
    "oneTrial()"
   ]
  },
  {
   "cell_type": "code",
   "execution_count": 44,
   "metadata": {},
   "outputs": [],
   "source": [
    "def noReplacementSimulationProfessor(numTrials):\n",
    "    '''\n",
    "    Runs numTrials trials of a Monte Carlo simulation\n",
    "    of drawing 3 balls out of a bucket containing\n",
    "    3 red and 3 green balls. Balls are not replaced once\n",
    "    drawn. Returns the a decimal - the fraction of times 3 \n",
    "    balls of the same color were drawn.\n",
    "    '''\n",
    "    numTrue = 0\n",
    "    for trial in range(numTrials):\n",
    "        if oneTrial():\n",
    "            numTrue += 1\n",
    "\n",
    "    return float(numTrue)/float(numTrials)"
   ]
  },
  {
   "cell_type": "code",
   "execution_count": 45,
   "metadata": {},
   "outputs": [
    {
     "data": {
      "text/plain": [
       "0.12"
      ]
     },
     "execution_count": 45,
     "metadata": {},
     "output_type": "execute_result"
    }
   ],
   "source": [
    "noReplacementSimulationProfessor(100)"
   ]
  },
  {
   "cell_type": "markdown",
   "metadata": {},
   "source": [
    "Write a function called sampleQuizzes() that implements a Monte Carlo simulation\n",
    " that estimates the probability of a student having a final score >= 70 and <= 75. \n",
    " Assume that 10,000 trials are sufficient to provide an accurate answer."
   ]
  },
  {
   "cell_type": "code",
   "execution_count": 46,
   "metadata": {},
   "outputs": [],
   "source": [
    "def sampleQuizzes():\n",
    "    yes = 0.0\n",
    "    numTrials = 10000\n",
    "    for trial in range(numTrials):\n",
    "        midTerm1Vote = random.randint(50,80)\n",
    "        midTerm2Vote = random.randint(60,90)\n",
    "        finalExamVote = random.randint(55,95)\n",
    "        finalVote = midTerm1Vote*0.25 + midTerm2Vote*0.25 + finalExamVote*0.5\n",
    "        if finalVote >= 70 and finalVote <= 75:\n",
    "            yes += 1\n",
    "    return yes/numTrials"
   ]
  },
  {
   "cell_type": "code",
   "execution_count": 47,
   "metadata": {},
   "outputs": [
    {
     "data": {
      "text/plain": [
       "0.2566"
      ]
     },
     "execution_count": 47,
     "metadata": {},
     "output_type": "execute_result"
    }
   ],
   "source": [
    "sampleQuizzes()"
   ]
  },
  {
   "cell_type": "markdown",
   "metadata": {},
   "source": [
    "# Estimate PI"
   ]
  },
  {
   "cell_type": "code",
   "execution_count": 48,
   "metadata": {},
   "outputs": [],
   "source": [
    "def throwNeedlesInCircle(numNeedles):\n",
    "    '''\n",
    "    Throw randomly <numNeedles> needles in a 2x2 square (area=4) \n",
    "    that has a circle inside of radius 1 (area = PI)\n",
    "    Count how many of those needles at the end landed inside the circle.\n",
    "    Return this estimated proportion: Circle Area / Square Area\n",
    "    '''    \n",
    "    inCircle = 0 # number of needles inside the circle\n",
    "    \n",
    "    for needle in range(1, numNeedles + 1):\n",
    "        \n",
    "        x = random.random()\n",
    "        y = random.random()\n",
    "        \n",
    "        if (x*x + y*y)**0.5 <= 1.0:\n",
    "            inCircle += 1\n",
    "            \n",
    "    return (inCircle/float(numNeedles))"
   ]
  },
  {
   "cell_type": "code",
   "execution_count": 49,
   "metadata": {},
   "outputs": [
    {
     "data": {
      "text/plain": [
       "3.2"
      ]
     },
     "execution_count": 49,
     "metadata": {},
     "output_type": "execute_result"
    }
   ],
   "source": [
    "piEstimation = throwNeedlesInCircle(100) * 4\n",
    "piEstimation"
   ]
  },
  {
   "cell_type": "markdown",
   "metadata": {},
   "source": [
    "More needles you throw more precise will be the PI value.  "
   ]
  },
  {
   "cell_type": "code",
   "execution_count": 50,
   "metadata": {},
   "outputs": [],
   "source": [
    "def getPiEstimate(numTrials, numNeedles):\n",
    "\n",
    "    print((\"{t} trials, each has {n} Needles.\")\\\n",
    "          .format(t= numTrials, n=numNeedles))\n",
    "    \n",
    "    estimates = []\n",
    "    for t in range(numTrials):\n",
    "        piGuess = 4*throwNeedlesInCircle(numNeedles)\n",
    "        estimates.append(piGuess)\n",
    "        \n",
    "    stdDev = np.std(estimates)\n",
    "    curEst = sum(estimates)/len(estimates)\n",
    "    \n",
    "    print ('PI Estimation = ' + str(curEst))\n",
    "    print ('Std. dev. = ' + str(round(stdDev, 5)))\n",
    "    \n",
    "    return (curEst, stdDev)"
   ]
  },
  {
   "cell_type": "code",
   "execution_count": 51,
   "metadata": {},
   "outputs": [
    {
     "name": "stdout",
     "output_type": "stream",
     "text": [
      "20 trials, each has 100 Needles.\n",
      "PI Estimation = 3.1119999999999997\n",
      "Std. dev. = 0.14945\n"
     ]
    }
   ],
   "source": [
    "getPiEstimate(20, 100);"
   ]
  },
  {
   "cell_type": "markdown",
   "metadata": {},
   "source": [
    "We can do better and go on - increasing the number of needles at each trial - until we get the wished precision."
   ]
  },
  {
   "cell_type": "code",
   "execution_count": 52,
   "metadata": {},
   "outputs": [],
   "source": [
    "def estimatePi(precision, numTrials, numNeedles = 1000):\n",
    "    \n",
    "    sDev = precision\n",
    "    while sDev >= precision/2.0:\n",
    "        curEst, sDev = getPiEstimate(numTrials, numNeedles)\n",
    "        numNeedles *= 2\n",
    "        print(\"---\")\n",
    "    return curEst"
   ]
  },
  {
   "cell_type": "code",
   "execution_count": 53,
   "metadata": {},
   "outputs": [
    {
     "name": "stdout",
     "output_type": "stream",
     "text": [
      "100 trials, each has 1000 Needles.\n",
      "PI Estimation = 3.1472800000000003\n",
      "Std. dev. = 0.05491\n",
      "---\n",
      "100 trials, each has 2000 Needles.\n",
      "PI Estimation = 3.139160000000002\n",
      "Std. dev. = 0.03634\n",
      "---\n",
      "100 trials, each has 4000 Needles.\n",
      "PI Estimation = 3.14625\n",
      "Std. dev. = 0.02473\n",
      "---\n",
      "100 trials, each has 8000 Needles.\n",
      "PI Estimation = 3.1389700000000005\n",
      "Std. dev. = 0.01966\n",
      "---\n",
      "100 trials, each has 16000 Needles.\n",
      "PI Estimation = 3.14182\n",
      "Std. dev. = 0.01218\n",
      "---\n",
      "100 trials, each has 32000 Needles.\n",
      "PI Estimation = 3.140766249999999\n",
      "Std. dev. = 0.00879\n",
      "---\n",
      "100 trials, each has 64000 Needles.\n",
      "PI Estimation = 3.141358749999999\n",
      "Std. dev. = 0.00692\n",
      "---\n",
      "100 trials, each has 128000 Needles.\n",
      "PI Estimation = 3.1415971874999995\n",
      "Std. dev. = 0.00434\n",
      "---\n",
      "100 trials, each has 256000 Needles.\n",
      "PI Estimation = 3.14183125\n",
      "Std. dev. = 0.00372\n",
      "---\n",
      "100 trials, each has 512000 Needles.\n",
      "PI Estimation = 3.1415567187499995\n",
      "Std. dev. = 0.00222\n",
      "---\n"
     ]
    },
    {
     "data": {
      "text/plain": [
       "3.1415567187499995"
      ]
     },
     "execution_count": 53,
     "metadata": {},
     "output_type": "execute_result"
    }
   ],
   "source": [
    "estimatePi(0.005, 100)"
   ]
  }
 ],
 "metadata": {
  "anaconda-cloud": {},
  "kernelspec": {
   "display_name": "Python [conda root]",
   "language": "python",
   "name": "conda-root-py"
  },
  "language_info": {
   "codemirror_mode": {
    "name": "ipython",
    "version": 3
   },
   "file_extension": ".py",
   "mimetype": "text/x-python",
   "name": "python",
   "nbconvert_exporter": "python",
   "pygments_lexer": "ipython3",
   "version": "3.5.2"
  }
 },
 "nbformat": 4,
 "nbformat_minor": 1
}
