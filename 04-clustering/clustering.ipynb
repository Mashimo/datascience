{
 "cells": [
  {
   "cell_type": "markdown",
   "metadata": {},
   "source": [
    "# Clustering\n",
    "\n",
    "Most of the other methods we have seen until now, such as regression and classification, focus on supervised learning: we observe both a set of features as well as a response or outcome variable.  \n",
    "The clustering algoritms focus on unsupervised learning: **no label is provided** in the data samples.  There is no target variable. It is often easier to obtain unlabeled data than labeled data which require human intervention.   \n",
    "Unsupervised algorithm do not attempt to predict a response; the goal is to discover interesting things about the data set such as can we find subgroups among the observations?  \n",
    "In this sense, one of the method we have seen - the Principal Components Analysis (PCA) - can be regarded as an unsupervised learning method: it's a tool that pre-process or visualise the data before supervised techniques are applied; it doesn't predict."
   ]
  },
  {
   "cell_type": "markdown",
   "metadata": {},
   "source": [
    "Another important and broad class of methods is **clustering**.  \n",
    "Clustering groups samples that are similar within the same cluster.    \n",
    "The more similar the samples belonging to a cluster group are (and conversely, the more dissimilar samples in separate groups), the better the clustering algorithm has performed.  \n",
    "To make this possible, we must define what it means for two or more observations **to be similar**. Since clustering is an unsupervised algorithm, this similarity metric must be measured automatically and based solely on the data. Indeed, this is often a domain-specific consideration and the similarity metric may vary according to the domain.\n",
    "  \n",
    "Examples of clustering are grouping movies by ratings or shoppers by their purchase histories or cancer patients by their gene expression measurements.  \n",
    "The implementation details and definition of similarity are what differentiate the many clustering algorithms.\n",
    "\n",
    "## K-means algorithm\n",
    "In K-means clustering we seek to partition the observations into a **pre-specified number K of clusters**, not overlapping (no observation belongs to more than one cluster).  \n",
    "The K-Means way of doing this, is to iteratively separate your samples into a user-specified number of \"K\" cluster groups of roughly **equal variance**.  \n",
    "The idea is that a good clustering is one for which the intra-cluster variation (within the cluster) is as small as possible.  We want to minimise the sum of all intra-cluster variations, for all K clusters.  \n",
    "Typically the Euclidean distance is used.  \n",
    "The algorithm is:  \n",
    "1. randomly assign a number - from 1 to K - to each of the observations.\n",
    "1. Iterate until the cluster assignments stop changing:\n",
    "2. for each of the clusters, compute its *centroid*: the vector of the feature means.\n",
    "2. assign each observation to the cluster whose centroid is closest (using e.g. the Euclidean distance).  \n",
    "The algorithm is guaranteed to decrease the value of the objective (the function to minimise) at each step, however is not guaranteed to give the global minimum because the function is not convex, so there is not always one minimum, there could be many and the algorithm could get stuck in one of them.  \n",
    "  \n",
    "Let's see a couple of examples of K-Means algorithm applied to concrete problems."
   ]
  },
  {
   "cell_type": "markdown",
   "metadata": {},
   "source": [
    "# Grocery customers\n",
    "For the first example, we will use a dataset called Wholesale Customers that refers to clients of a grocery distributor.  \n",
    "There are multiple product categories – Fresh, Milk, Grocery, etc. - which are the features.  \n",
    "The values represent the annual spending in monetary units (m.u.) purchased by each client for each product.  \n",
    "There are no target variables.  \n",
    "  \n",
    "Our aim is to make clusters from this data that can segment similar clients together. \n",
    "\n",
    "## Read and process the data\n",
    "\n",
    "The dataset is available from the [UCI ML repository](https://archive.ics.uci.edu/ml/datasets/wholesale+customers)"
   ]
  },
  {
   "cell_type": "code",
   "execution_count": 1,
   "metadata": {},
   "outputs": [],
   "source": [
    "import pandas as pd\n"
   ]
  },
  {
   "cell_type": "code",
   "execution_count": 2,
   "metadata": {},
   "outputs": [],
   "source": [
    "#\n",
    "# Load up the dataset. \n",
    "#\n",
    "wsc = pd.read_csv(\"../Datasets/Wholesale-customers.csv\")"
   ]
  },
  {
   "cell_type": "markdown",
   "metadata": {},
   "source": [
    "It may or may not have invalid values (NaN) in it.  \n",
    "We make sure to catch and remove them, by setting them to '0'.  \n",
    "This is valid for this dataset, since if the value is missing, you can assume no $ was spent on it."
   ]
  },
  {
   "cell_type": "code",
   "execution_count": 3,
   "metadata": {},
   "outputs": [
    {
     "name": "stdout",
     "output_type": "stream",
     "text": [
      "No NaN found!\n"
     ]
    }
   ],
   "source": [
    "if wsc.isnull().values.any() == True:\n",
    "  print(\"substituted all NaN with Zero\")\n",
    "  wsc.fillna(0, inplace=True)\n",
    "else:\n",
    "  print(\"No NaN found!\")\n"
   ]
  },
  {
   "cell_type": "code",
   "execution_count": 4,
   "metadata": {},
   "outputs": [
    {
     "data": {
      "text/html": [
       "<div>\n",
       "<style scoped>\n",
       "    .dataframe tbody tr th:only-of-type {\n",
       "        vertical-align: middle;\n",
       "    }\n",
       "\n",
       "    .dataframe tbody tr th {\n",
       "        vertical-align: top;\n",
       "    }\n",
       "\n",
       "    .dataframe thead th {\n",
       "        text-align: right;\n",
       "    }\n",
       "</style>\n",
       "<table border=\"1\" class=\"dataframe\">\n",
       "  <thead>\n",
       "    <tr style=\"text-align: right;\">\n",
       "      <th></th>\n",
       "      <th>Channel</th>\n",
       "      <th>Region</th>\n",
       "      <th>Fresh</th>\n",
       "      <th>Milk</th>\n",
       "      <th>Grocery</th>\n",
       "      <th>Frozen</th>\n",
       "      <th>Detergents_Paper</th>\n",
       "      <th>Delicassen</th>\n",
       "    </tr>\n",
       "  </thead>\n",
       "  <tbody>\n",
       "    <tr>\n",
       "      <th>0</th>\n",
       "      <td>2</td>\n",
       "      <td>3</td>\n",
       "      <td>12669</td>\n",
       "      <td>9656</td>\n",
       "      <td>7561</td>\n",
       "      <td>214</td>\n",
       "      <td>2674</td>\n",
       "      <td>1338</td>\n",
       "    </tr>\n",
       "    <tr>\n",
       "      <th>1</th>\n",
       "      <td>2</td>\n",
       "      <td>3</td>\n",
       "      <td>7057</td>\n",
       "      <td>9810</td>\n",
       "      <td>9568</td>\n",
       "      <td>1762</td>\n",
       "      <td>3293</td>\n",
       "      <td>1776</td>\n",
       "    </tr>\n",
       "    <tr>\n",
       "      <th>2</th>\n",
       "      <td>2</td>\n",
       "      <td>3</td>\n",
       "      <td>6353</td>\n",
       "      <td>8808</td>\n",
       "      <td>7684</td>\n",
       "      <td>2405</td>\n",
       "      <td>3516</td>\n",
       "      <td>7844</td>\n",
       "    </tr>\n",
       "    <tr>\n",
       "      <th>3</th>\n",
       "      <td>1</td>\n",
       "      <td>3</td>\n",
       "      <td>13265</td>\n",
       "      <td>1196</td>\n",
       "      <td>4221</td>\n",
       "      <td>6404</td>\n",
       "      <td>507</td>\n",
       "      <td>1788</td>\n",
       "    </tr>\n",
       "    <tr>\n",
       "      <th>4</th>\n",
       "      <td>2</td>\n",
       "      <td>3</td>\n",
       "      <td>22615</td>\n",
       "      <td>5410</td>\n",
       "      <td>7198</td>\n",
       "      <td>3915</td>\n",
       "      <td>1777</td>\n",
       "      <td>5185</td>\n",
       "    </tr>\n",
       "  </tbody>\n",
       "</table>\n",
       "</div>"
      ],
      "text/plain": [
       "   Channel  Region  Fresh  Milk  Grocery  Frozen  Detergents_Paper  Delicassen\n",
       "0        2       3  12669  9656     7561     214              2674        1338\n",
       "1        2       3   7057  9810     9568    1762              3293        1776\n",
       "2        2       3   6353  8808     7684    2405              3516        7844\n",
       "3        1       3  13265  1196     4221    6404               507        1788\n",
       "4        2       3  22615  5410     7198    3915              1777        5185"
      ]
     },
     "execution_count": 4,
     "metadata": {},
     "output_type": "execute_result"
    }
   ],
   "source": [
    "wsc.head()"
   ]
  },
  {
   "cell_type": "markdown",
   "metadata": {},
   "source": [
    "We get rid of the 'Channel' and 'Region' columns, since we'll be investigating as if this were a single location wholesaler, rather than a national / international one.  \n",
    "Leaving these fields in here would cause KMeans to examine and give weight to them.  \n",
    "The other features are the product categories."
   ]
  },
  {
   "cell_type": "code",
   "execution_count": 5,
   "metadata": {},
   "outputs": [],
   "source": [
    "wsc.drop(['Channel', 'Region'], axis=1, inplace = True)"
   ]
  },
  {
   "cell_type": "code",
   "execution_count": 6,
   "metadata": {},
   "outputs": [
    {
     "name": "stdout",
     "output_type": "stream",
     "text": [
      "Wholesale customers has 440 samples with 6 features each\n"
     ]
    }
   ],
   "source": [
    "print('Wholesale customers has {} samples with {} features each'.format(*wsc.shape))"
   ]
  },
  {
   "cell_type": "code",
   "execution_count": 7,
   "metadata": {},
   "outputs": [
    {
     "data": {
      "text/html": [
       "<div>\n",
       "<style scoped>\n",
       "    .dataframe tbody tr th:only-of-type {\n",
       "        vertical-align: middle;\n",
       "    }\n",
       "\n",
       "    .dataframe tbody tr th {\n",
       "        vertical-align: top;\n",
       "    }\n",
       "\n",
       "    .dataframe thead th {\n",
       "        text-align: right;\n",
       "    }\n",
       "</style>\n",
       "<table border=\"1\" class=\"dataframe\">\n",
       "  <thead>\n",
       "    <tr style=\"text-align: right;\">\n",
       "      <th></th>\n",
       "      <th>Fresh</th>\n",
       "      <th>Milk</th>\n",
       "      <th>Grocery</th>\n",
       "      <th>Frozen</th>\n",
       "      <th>Detergents_Paper</th>\n",
       "      <th>Delicassen</th>\n",
       "    </tr>\n",
       "  </thead>\n",
       "  <tbody>\n",
       "    <tr>\n",
       "      <th>count</th>\n",
       "      <td>440.000000</td>\n",
       "      <td>440.000000</td>\n",
       "      <td>440.000000</td>\n",
       "      <td>440.000000</td>\n",
       "      <td>440.000000</td>\n",
       "      <td>440.000000</td>\n",
       "    </tr>\n",
       "    <tr>\n",
       "      <th>mean</th>\n",
       "      <td>12000.297727</td>\n",
       "      <td>5796.265909</td>\n",
       "      <td>7951.277273</td>\n",
       "      <td>3071.931818</td>\n",
       "      <td>2881.493182</td>\n",
       "      <td>1524.870455</td>\n",
       "    </tr>\n",
       "    <tr>\n",
       "      <th>std</th>\n",
       "      <td>12647.328865</td>\n",
       "      <td>7380.377175</td>\n",
       "      <td>9503.162829</td>\n",
       "      <td>4854.673333</td>\n",
       "      <td>4767.854448</td>\n",
       "      <td>2820.105937</td>\n",
       "    </tr>\n",
       "    <tr>\n",
       "      <th>min</th>\n",
       "      <td>3.000000</td>\n",
       "      <td>55.000000</td>\n",
       "      <td>3.000000</td>\n",
       "      <td>25.000000</td>\n",
       "      <td>3.000000</td>\n",
       "      <td>3.000000</td>\n",
       "    </tr>\n",
       "    <tr>\n",
       "      <th>25%</th>\n",
       "      <td>3127.750000</td>\n",
       "      <td>1533.000000</td>\n",
       "      <td>2153.000000</td>\n",
       "      <td>742.250000</td>\n",
       "      <td>256.750000</td>\n",
       "      <td>408.250000</td>\n",
       "    </tr>\n",
       "    <tr>\n",
       "      <th>50%</th>\n",
       "      <td>8504.000000</td>\n",
       "      <td>3627.000000</td>\n",
       "      <td>4755.500000</td>\n",
       "      <td>1526.000000</td>\n",
       "      <td>816.500000</td>\n",
       "      <td>965.500000</td>\n",
       "    </tr>\n",
       "    <tr>\n",
       "      <th>75%</th>\n",
       "      <td>16933.750000</td>\n",
       "      <td>7190.250000</td>\n",
       "      <td>10655.750000</td>\n",
       "      <td>3554.250000</td>\n",
       "      <td>3922.000000</td>\n",
       "      <td>1820.250000</td>\n",
       "    </tr>\n",
       "    <tr>\n",
       "      <th>max</th>\n",
       "      <td>112151.000000</td>\n",
       "      <td>73498.000000</td>\n",
       "      <td>92780.000000</td>\n",
       "      <td>60869.000000</td>\n",
       "      <td>40827.000000</td>\n",
       "      <td>47943.000000</td>\n",
       "    </tr>\n",
       "  </tbody>\n",
       "</table>\n",
       "</div>"
      ],
      "text/plain": [
       "               Fresh          Milk       Grocery        Frozen  \\\n",
       "count     440.000000    440.000000    440.000000    440.000000   \n",
       "mean    12000.297727   5796.265909   7951.277273   3071.931818   \n",
       "std     12647.328865   7380.377175   9503.162829   4854.673333   \n",
       "min         3.000000     55.000000      3.000000     25.000000   \n",
       "25%      3127.750000   1533.000000   2153.000000    742.250000   \n",
       "50%      8504.000000   3627.000000   4755.500000   1526.000000   \n",
       "75%     16933.750000   7190.250000  10655.750000   3554.250000   \n",
       "max    112151.000000  73498.000000  92780.000000  60869.000000   \n",
       "\n",
       "       Detergents_Paper    Delicassen  \n",
       "count        440.000000    440.000000  \n",
       "mean        2881.493182   1524.870455  \n",
       "std         4767.854448   2820.105937  \n",
       "min            3.000000      3.000000  \n",
       "25%          256.750000    408.250000  \n",
       "50%          816.500000    965.500000  \n",
       "75%         3922.000000   1820.250000  \n",
       "max        40827.000000  47943.000000  "
      ]
     },
     "execution_count": 7,
     "metadata": {},
     "output_type": "execute_result"
    }
   ],
   "source": [
    "wsc.describe()"
   ]
  },
  {
   "cell_type": "markdown",
   "metadata": {},
   "source": [
    "Before unitizing / standardizing / normalizing the data in preparation for K-Means, it's a good idea to get a quick peek at it. You can do this using the *.describe()* method, or even by using the built-in pandas *.plot.hist()*:"
   ]
  },
  {
   "cell_type": "code",
   "execution_count": 8,
   "metadata": {},
   "outputs": [
    {
     "data": {
      "image/png": "[encoded data removed]",
      "text/plain": [
       "<Figure size 432x288 with 1 Axes>"
      ]
     },
     "metadata": {
      "needs_background": "light"
     },
     "output_type": "display_data"
    }
   ],
   "source": [
    "wsc.plot.hist();"
   ]
  },
  {
   "cell_type": "code",
   "execution_count": 9,
   "metadata": {},
   "outputs": [
    {
     "data": {
      "image/png": "[encoded data removed]",
      "text/plain": [
       "<Figure size 432x288 with 1 Axes>"
      ]
     },
     "metadata": {
      "needs_background": "light"
     },
     "output_type": "display_data"
    }
   ],
   "source": [
    "wsc.Grocery.plot.hist();"
   ]
  },
  {
   "cell_type": "markdown",
   "metadata": {},
   "source": [
    "You may notice there's a pretty big gap between the top customers in each feature category and the rest.  \n",
    "Some feature scaling algorithms won't get rid of outliers, so it's a good idea to handle that manually - particularly if your goal is NOT to determine the top customers.  \n",
    "After all, you can do that with a simple *Pandas .sort_values()* and not a machine learning clustering algorithm.  \n",
    "From a business perspective, you're probably more interested in clustering your +/- 2 standard deviation customers, rather than the creme de la creme, or bottom of the barrel'ers."
   ]
  },
  {
   "cell_type": "code",
   "execution_count": 10,
   "metadata": {},
   "outputs": [],
   "source": [
    "#\n",
    "# Remove top 5 and bottom 5 samples for each column:\n",
    "drop = {}\n",
    "for col in wsc.columns:\n",
    "  # Bottom 5\n",
    "  sort = wsc.sort_values(by=col, ascending=True)\n",
    "  if len(sort) > 5: sort=sort[:5]\n",
    "  for index in sort.index: drop[index] = True # Just store the index once\n",
    "\n",
    "  # Top 5\n",
    "  sort = wsc.sort_values(by=col, ascending=False)\n",
    "  if len(sort) > 5: sort=sort[:5]\n",
    "  for index in sort.index: drop[index] = True # Just store the index once"
   ]
  },
  {
   "cell_type": "markdown",
   "metadata": {},
   "source": [
    "Drop rows by index. We do this all at once in case there is a collision. This way, we don't end up dropping more rows than we have to, if there is a single row that satisfies the drop for multiple columns.  \n",
    "Since there are 6 rows, if we end up dropping < 5 * 6 * 2 = 60 rows, that means there indeed were collisions."
   ]
  },
  {
   "cell_type": "code",
   "execution_count": 11,
   "metadata": {},
   "outputs": [
    {
     "name": "stdout",
     "output_type": "stream",
     "text": [
      "Dropping 42 Outliers...\n"
     ]
    },
    {
     "data": {
      "text/html": [
       "<div>\n",
       "<style scoped>\n",
       "    .dataframe tbody tr th:only-of-type {\n",
       "        vertical-align: middle;\n",
       "    }\n",
       "\n",
       "    .dataframe tbody tr th {\n",
       "        vertical-align: top;\n",
       "    }\n",
       "\n",
       "    .dataframe thead th {\n",
       "        text-align: right;\n",
       "    }\n",
       "</style>\n",
       "<table border=\"1\" class=\"dataframe\">\n",
       "  <thead>\n",
       "    <tr style=\"text-align: right;\">\n",
       "      <th></th>\n",
       "      <th>Fresh</th>\n",
       "      <th>Milk</th>\n",
       "      <th>Grocery</th>\n",
       "      <th>Frozen</th>\n",
       "      <th>Detergents_Paper</th>\n",
       "      <th>Delicassen</th>\n",
       "    </tr>\n",
       "  </thead>\n",
       "  <tbody>\n",
       "    <tr>\n",
       "      <th>count</th>\n",
       "      <td>398.000000</td>\n",
       "      <td>398.000000</td>\n",
       "      <td>398.000000</td>\n",
       "      <td>398.000000</td>\n",
       "      <td>398.000000</td>\n",
       "      <td>398.000000</td>\n",
       "    </tr>\n",
       "    <tr>\n",
       "      <th>mean</th>\n",
       "      <td>10996.231156</td>\n",
       "      <td>5144.090452</td>\n",
       "      <td>7091.711055</td>\n",
       "      <td>2639.721106</td>\n",
       "      <td>2562.974874</td>\n",
       "      <td>1278.736181</td>\n",
       "    </tr>\n",
       "    <tr>\n",
       "      <th>std</th>\n",
       "      <td>9933.042596</td>\n",
       "      <td>5057.406574</td>\n",
       "      <td>6923.019293</td>\n",
       "      <td>2974.246906</td>\n",
       "      <td>3608.176776</td>\n",
       "      <td>1220.745297</td>\n",
       "    </tr>\n",
       "    <tr>\n",
       "      <th>min</th>\n",
       "      <td>37.000000</td>\n",
       "      <td>258.000000</td>\n",
       "      <td>314.000000</td>\n",
       "      <td>47.000000</td>\n",
       "      <td>10.000000</td>\n",
       "      <td>11.000000</td>\n",
       "    </tr>\n",
       "    <tr>\n",
       "      <th>25%</th>\n",
       "      <td>3324.500000</td>\n",
       "      <td>1571.250000</td>\n",
       "      <td>2155.500000</td>\n",
       "      <td>749.750000</td>\n",
       "      <td>273.250000</td>\n",
       "      <td>409.500000</td>\n",
       "    </tr>\n",
       "    <tr>\n",
       "      <th>50%</th>\n",
       "      <td>8257.500000</td>\n",
       "      <td>3607.500000</td>\n",
       "      <td>4573.000000</td>\n",
       "      <td>1526.000000</td>\n",
       "      <td>812.000000</td>\n",
       "      <td>946.500000</td>\n",
       "    </tr>\n",
       "    <tr>\n",
       "      <th>75%</th>\n",
       "      <td>15828.500000</td>\n",
       "      <td>6953.250000</td>\n",
       "      <td>9922.250000</td>\n",
       "      <td>3370.250000</td>\n",
       "      <td>3841.500000</td>\n",
       "      <td>1752.250000</td>\n",
       "    </tr>\n",
       "    <tr>\n",
       "      <th>max</th>\n",
       "      <td>53205.000000</td>\n",
       "      <td>29892.000000</td>\n",
       "      <td>39694.000000</td>\n",
       "      <td>17866.000000</td>\n",
       "      <td>19410.000000</td>\n",
       "      <td>7844.000000</td>\n",
       "    </tr>\n",
       "  </tbody>\n",
       "</table>\n",
       "</div>"
      ],
      "text/plain": [
       "              Fresh          Milk       Grocery        Frozen  \\\n",
       "count    398.000000    398.000000    398.000000    398.000000   \n",
       "mean   10996.231156   5144.090452   7091.711055   2639.721106   \n",
       "std     9933.042596   5057.406574   6923.019293   2974.246906   \n",
       "min       37.000000    258.000000    314.000000     47.000000   \n",
       "25%     3324.500000   1571.250000   2155.500000    749.750000   \n",
       "50%     8257.500000   3607.500000   4573.000000   1526.000000   \n",
       "75%    15828.500000   6953.250000   9922.250000   3370.250000   \n",
       "max    53205.000000  29892.000000  39694.000000  17866.000000   \n",
       "\n",
       "       Detergents_Paper   Delicassen  \n",
       "count        398.000000   398.000000  \n",
       "mean        2562.974874  1278.736181  \n",
       "std         3608.176776  1220.745297  \n",
       "min           10.000000    11.000000  \n",
       "25%          273.250000   409.500000  \n",
       "50%          812.000000   946.500000  \n",
       "75%         3841.500000  1752.250000  \n",
       "max        19410.000000  7844.000000  "
      ]
     },
     "execution_count": 11,
     "metadata": {},
     "output_type": "execute_result"
    }
   ],
   "source": [
    "print (f\"Dropping {len(drop)} Outliers...\")\n",
    "wsc.drop(inplace=True, labels=drop.keys(), axis=0)\n",
    "\n",
    "wsc.describe()"
   ]
  },
  {
   "cell_type": "code",
   "execution_count": 12,
   "metadata": {},
   "outputs": [
    {
     "data": {
      "image/png": "[encoded data removed]",
      "text/plain": [
       "<Figure size 432x288 with 1 Axes>"
      ]
     },
     "metadata": {
      "needs_background": "light"
     },
     "output_type": "display_data"
    }
   ],
   "source": [
    "wsc.Grocery.plot.hist();"
   ]
  },
  {
   "cell_type": "markdown",
   "metadata": {},
   "source": [
    "## Data normalisation \n",
    "What are you interested in?\n",
    "  \n",
    "Depending on what you're interested in, you might take a different approach to normalizing/standardizing the data.\n",
    "   \n",
    "You should note that all columns left in the dataset are of the same unit.  \n",
    "You might ask yourself, do I even need to normalize / standardize the data?  \n",
    "The answer depends on what you're trying to accomplish. For instance, although all the units are the same (generic money unit), the price per item in your store isn't. There may be some cheap items and some expensive one. If your goal is to find out what items people buy tend to buy together but you didn't unitize properly before running kMeans, the contribution of the lesser priced item would be dwarfed by the more expensive item.\n",
    "  \n",
    "Suffice to say, at the end of the day, you're going to have to know what question you want answered and what data you have available in order to select the best method for your purpose. Luckily, SKLearn's interfaces are easy to switch out so in the mean time, you can experiment with all of them and see how they alter your results.\n",
    "  \n",
    "  \n",
    "5-sec summary:\n",
    "  \n",
    "- NORMALIZATION: Let's say your user spend a LOT. Normalization divides each item by the average overall amount of spending. Stated differently, your new feature is = the contribution of overall spending going into that particular item: money spent on feature / money overall spent by sample.\n",
    " \n",
    "- MINMAX: What % in the overall range of money spent by all users on THIS particular feature is the current sample's feature at? When you're dealing with all the same units, this will produce a near face-value amount. Be careful though: if you have even a single outlier, it can cause all your data to get squashed up in lower percentages.  \n",
    "Imagine your buyers usually spend 100 dollars on wholesale milk, but today only spent 20 dollars. This is the relationship you're trying to capture with MinMax.   \n",
    "NOTE: MinMax doesn't standardize (std. dev.); it only normalizes / unitizes your feature, in the mathematical sense.   \n",
    "MinMax can be used as an alternative to zero mean, unit variance scaling.\n",
    "               ((sampleFeatureValue-min) / (max-min)) * (max-min) + min\n",
    "Where min and max are for the overall feature values for all samples."
   ]
  },
  {
   "cell_type": "code",
   "execution_count": 13,
   "metadata": {},
   "outputs": [],
   "source": [
    "T = wsc # No Change, no normalisation\n",
    "#\n",
    "# : Un-comment just ***ONE*** of lines at a time and see how alters the results\n",
    "# Pay attention to the direction of the arrows, as well as their LENGTHS\n",
    "#T = preprocessing.StandardScaler().fit_transform(wsc)\n",
    "#T = preprocessing.MinMaxScaler().fit_transform(wsc)\n",
    "#T = preprocessing.MaxAbsScaler().fit_transform(wsc)\n",
    "#T = preprocessing.Normalizer().fit_transform(wsc)"
   ]
  },
  {
   "cell_type": "markdown",
   "metadata": {},
   "source": [
    "Sometimes people perform PCA before doing KMeans, so that KMeans only operates on the most meaningful features.  \n",
    "In our case, there are so few features that doing PCA ahead of time isn't really necessary and you can do KMeans in the feature space.  \n",
    "But keep in mind you have the option to transform your data to bring down its dimensionality. If you take that route, then your Clusters will already be in PCA-transformed feature space and you won't have to project them again for visualization.\n",
    "  \n",
    "## Apply K-means"
   ]
  },
  {
   "cell_type": "code",
   "execution_count": 14,
   "metadata": {},
   "outputs": [],
   "source": [
    "from sklearn.cluster import KMeans"
   ]
  },
  {
   "cell_type": "code",
   "execution_count": 15,
   "metadata": {},
   "outputs": [
    {
     "data": {
      "text/plain": [
       "KMeans(algorithm='auto', copy_x=True, init='random', max_iter=300, n_clusters=3,\n",
       "       n_init=10, n_jobs=None, precompute_distances='auto', random_state=None,\n",
       "       tol=0.0001, verbose=0)"
      ]
     },
     "execution_count": 15,
     "metadata": {},
     "output_type": "execute_result"
    }
   ],
   "source": [
    "model = KMeans(n_clusters= 3, n_init=10, init='random')\n",
    "model.fit(T)"
   ]
  },
  {
   "cell_type": "code",
   "execution_count": 16,
   "metadata": {},
   "outputs": [],
   "source": [
    "labels = model.labels_\n",
    "centroids = model.cluster_centers_"
   ]
  },
  {
   "cell_type": "markdown",
   "metadata": {},
   "source": [
    "Print out the centroids.  \n",
    "They're currently in feature-space, which is good. We print them out before we transform them into PCA space for viewing.  \n",
    "The K-means algorithm aims to choose centroids that minimise the inertia, or within-cluster sum-of-squares criterion.  \n",
    "Inertia is the sum of squared distances of samples to their closest cluster center."
   ]
  },
  {
   "cell_type": "code",
   "execution_count": 17,
   "metadata": {},
   "outputs": [],
   "source": [
    "def clusterInfo(model):\n",
    "  print (\"Cluster Analysis Inertia: \", model.inertia_)\n",
    "  print ('------------------------------------------')\n",
    "  for i in range(len(model.cluster_centers_)):\n",
    "    print (\"\\n  Cluster \", i)\n",
    "    print (\"    Centroid \", centroids[i])\n",
    "    print (\"    #Samples \", (labels==i).sum())\n"
   ]
  },
  {
   "cell_type": "code",
   "execution_count": 18,
   "metadata": {},
   "outputs": [
    {
     "name": "stdout",
     "output_type": "stream",
     "text": [
      "Cluster Analysis Inertia:  30657505690.91754\n",
      "------------------------------------------\n",
      "\n",
      "  Cluster  0\n",
      "    Centroid  [25299.57731959  4047.03092784  5243.56701031  3771.40206186\n",
      "  1160.03092784  1598.89690722]\n",
      "    #Samples  97\n",
      "\n",
      "  Cluster  1\n",
      "    Centroid  [6948.28318584 3287.80530973 4056.01769912 2470.87168142 1203.67256637\n",
      " 1034.49115044]\n",
      "    #Samples  226\n",
      "\n",
      "  Cluster  2\n",
      "    Centroid  [ 4695.05333333 12156.56       18629.53333333  1684.88\n",
      "  8473.48        1600.65333333]\n",
      "    #Samples  75\n"
     ]
    }
   ],
   "source": [
    "clusterInfo(model)"
   ]
  },
  {
   "cell_type": "code",
   "execution_count": 19,
   "metadata": {},
   "outputs": [],
   "source": [
    "def doPCA(data, dimensions=2):\n",
    "  from sklearn.decomposition import PCA\n",
    "  model = PCA(n_components=dimensions, svd_solver='randomized', random_state=7)\n",
    "  model.fit(data)\n",
    "  return model"
   ]
  },
  {
   "cell_type": "markdown",
   "metadata": {},
   "source": [
    "Do PCA *after* to visualize the results.  \n",
    "Project the centroids as well as the samples into the new 2D feature space for visualization purposes."
   ]
  },
  {
   "cell_type": "code",
   "execution_count": 20,
   "metadata": {},
   "outputs": [],
   "source": [
    "display_pca = doPCA(T)\n",
    "T = display_pca.transform(T)\n",
    "CC = display_pca.transform(centroids)"
   ]
  },
  {
   "cell_type": "code",
   "execution_count": 21,
   "metadata": {},
   "outputs": [],
   "source": [
    "import matplotlib.pyplot as plt"
   ]
  },
  {
   "cell_type": "code",
   "execution_count": 22,
   "metadata": {},
   "outputs": [],
   "source": [
    "#\n",
    "# Parameters to play around with\n",
    "PLOT_TYPE_TEXT = False    # If you'd like to see indices\n",
    "PLOT_VECTORS = True       # If you'd like to see your original features in P.C.-Space\n",
    "\n",
    "c = ['red', 'green', 'blue', 'orange', 'yellow', 'brown'] # up to six centroids\n"
   ]
  },
  {
   "cell_type": "code",
   "execution_count": 23,
   "metadata": {},
   "outputs": [
    {
     "name": "stdout",
     "output_type": "stream",
     "text": [
      "Projected Features by importance:\n",
      " [(37457.23794544911, 'Fresh'), (29687.70548951625, 'Grocery'), (19639.84967882863, 'Milk'), (14205.581947278788, 'Detergents_Paper'), (2827.8620116629518, 'Frozen'), (2050.9699496233347, 'Delicassen')]\n"
     ]
    },
    {
     "data": {
      "image/png": "[encoded data removed]",
      "text/plain": [
       "<Figure size 432x288 with 1 Axes>"
      ]
     },
     "metadata": {
      "needs_background": "light"
     },
     "output_type": "display_data"
    }
   ],
   "source": [
    "# Visualize all the samples. Give them the color of their cluster label\n",
    "fig = plt.figure()\n",
    "ax = fig.add_subplot(111)\n",
    "\n",
    "if PLOT_TYPE_TEXT:\n",
    "  # Plot the index of the sample, so you can further investigate it in your dset\n",
    "  for i in range(len(T)): ax.text(T[i,0], T[i,1], wsc.index[i], color=c[labels[i]], alpha=0.75, zorder=600000)\n",
    "  ax.set_xlim(min(T[:,0])*1.2, max(T[:,0])*1.2)\n",
    "  ax.set_ylim(min(T[:,1])*1.2, max(T[:,1])*1.2)\n",
    "else:\n",
    "  # Plot a regular scatter plot\n",
    "  sample_colors = [ c[labels[i]] for i in range(len(T)) ]\n",
    "  ax.scatter(T[:, 0], T[:, 1], c=sample_colors, marker='o', alpha=0.2)\n",
    "\n",
    "\n",
    "# Plot the Centroids as X's, and label them\n",
    "ax.scatter(CC[:, 0], CC[:, 1], marker='x', s=169, linewidths=3, zorder=1000, c = c[:3])\n",
    "\n",
    "\n",
    "for i in range(len(centroids)): ax.text(CC[i, 0], CC[i, 1], str(i), zorder=500010, fontsize=18, color=c[i])\n",
    "\n",
    "\n",
    "# Display feature vectors for investigation:\n",
    "if PLOT_VECTORS: \n",
    "    #drawVectors(T, display_pca.components_, wsc.columns, plt)\n",
    "\n",
    "#def drawVectors(transformed_features, components_, columns, plt):\n",
    "    num_columns = len(wsc.columns)\n",
    "\n",
    "  # This function will project your *original* feature (columns)\n",
    "  # onto your principal component feature-space, so that you can\n",
    "  # visualize how \"important\" each one was in the\n",
    "  # multi-dimensional scaling\n",
    "  \n",
    "  # Scale the principal components by the max value in\n",
    "  # the transformed set belonging to that component\n",
    "    xvector = display_pca.components_[0] * max(T[:,0])\n",
    "    yvector = display_pca.components_[1] * max(T[:,1])\n",
    "\n",
    "  ## Visualize projections\n",
    "\n",
    "  # Sort each column by its length. These are your *original*\n",
    "  # columns, not the principal components.\n",
    "    import math\n",
    "    important_features = { wsc.columns[i] : math.sqrt(xvector[i]**2 + yvector[i]**2) for i in range(num_columns) }\n",
    "    important_features = sorted(zip(important_features.values(), important_features.keys()), reverse=True)\n",
    "    print (\"Projected Features by importance:\\n\", important_features)\n",
    "\n",
    "    #ax = plt.axes()\n",
    "\n",
    "    for i in range(num_columns):\n",
    "    # Use an arrow to project each original feature as a\n",
    "    # labeled vector on your principal component axes\n",
    "        plt.arrow(0, 0, xvector[i], yvector[i], color='b', width=0.0005, head_width=0.02, alpha=0.75, zorder=600000)\n",
    "        plt.text(xvector[i]*1.2, yvector[i]*1.2, list(wsc.columns)[i], color='b', alpha=0.75, zorder=600000)\n",
    " # return ax\n",
    "\n",
    "plt.show()\n"
   ]
  },
  {
   "cell_type": "markdown",
   "metadata": {},
   "source": [
    "Seems that the 3 clusters group the customers into the one loving more the Fresh products, the fans of the Frozen food and the rest :)"
   ]
  },
  {
   "cell_type": "code",
   "execution_count": 24,
   "metadata": {},
   "outputs": [
    {
     "data": {
      "text/html": [
       "<div>\n",
       "<style scoped>\n",
       "    .dataframe tbody tr th:only-of-type {\n",
       "        vertical-align: middle;\n",
       "    }\n",
       "\n",
       "    .dataframe tbody tr th {\n",
       "        vertical-align: top;\n",
       "    }\n",
       "\n",
       "    .dataframe thead th {\n",
       "        text-align: right;\n",
       "    }\n",
       "</style>\n",
       "<table border=\"1\" class=\"dataframe\">\n",
       "  <thead>\n",
       "    <tr style=\"text-align: right;\">\n",
       "      <th></th>\n",
       "      <th>Fresh</th>\n",
       "      <th>Milk</th>\n",
       "      <th>Grocery</th>\n",
       "      <th>Frozen</th>\n",
       "      <th>Detergents_Paper</th>\n",
       "      <th>Delicassen</th>\n",
       "      <th>label</th>\n",
       "    </tr>\n",
       "  </thead>\n",
       "  <tbody>\n",
       "    <tr>\n",
       "      <th>0</th>\n",
       "      <td>12669</td>\n",
       "      <td>9656</td>\n",
       "      <td>7561</td>\n",
       "      <td>214</td>\n",
       "      <td>2674</td>\n",
       "      <td>1338</td>\n",
       "      <td>1</td>\n",
       "    </tr>\n",
       "    <tr>\n",
       "      <th>1</th>\n",
       "      <td>7057</td>\n",
       "      <td>9810</td>\n",
       "      <td>9568</td>\n",
       "      <td>1762</td>\n",
       "      <td>3293</td>\n",
       "      <td>1776</td>\n",
       "      <td>1</td>\n",
       "    </tr>\n",
       "    <tr>\n",
       "      <th>2</th>\n",
       "      <td>6353</td>\n",
       "      <td>8808</td>\n",
       "      <td>7684</td>\n",
       "      <td>2405</td>\n",
       "      <td>3516</td>\n",
       "      <td>7844</td>\n",
       "      <td>1</td>\n",
       "    </tr>\n",
       "    <tr>\n",
       "      <th>3</th>\n",
       "      <td>13265</td>\n",
       "      <td>1196</td>\n",
       "      <td>4221</td>\n",
       "      <td>6404</td>\n",
       "      <td>507</td>\n",
       "      <td>1788</td>\n",
       "      <td>1</td>\n",
       "    </tr>\n",
       "    <tr>\n",
       "      <th>4</th>\n",
       "      <td>22615</td>\n",
       "      <td>5410</td>\n",
       "      <td>7198</td>\n",
       "      <td>3915</td>\n",
       "      <td>1777</td>\n",
       "      <td>5185</td>\n",
       "      <td>0</td>\n",
       "    </tr>\n",
       "  </tbody>\n",
       "</table>\n",
       "</div>"
      ],
      "text/plain": [
       "   Fresh  Milk  Grocery  Frozen  Detergents_Paper  Delicassen  label\n",
       "0  12669  9656     7561     214              2674        1338      1\n",
       "1   7057  9810     9568    1762              3293        1776      1\n",
       "2   6353  8808     7684    2405              3516        7844      1\n",
       "3  13265  1196     4221    6404               507        1788      1\n",
       "4  22615  5410     7198    3915              1777        5185      0"
      ]
     },
     "execution_count": 24,
     "metadata": {},
     "output_type": "execute_result"
    }
   ],
   "source": [
    "# Add the cluster label back into the dataframe and display it:\n",
    "wsc['label'] = pd.Series(labels, index=wsc.index)\n",
    "wsc.head()"
   ]
  },
  {
   "cell_type": "markdown",
   "metadata": {},
   "source": [
    "# De-anonymize telephone metadata\n",
    "After the September 11 attacks, a series of secret regulations, laws, and processes were enacted, perhaps to better protect the citizens of the United States. These processes continued through president Bush's term and were renewed and and strengthened during the Obama administration.  \n",
    "On May 24, 2006, the United States Foreign Intelligence Surveillance Court (FISC) made a fundamental shift in its approach to Section 215 of the Patriot Act, permitting the FBI to compel production of \"business records\" relevant to terrorism investigations, which are shared with the NSA.  \n",
    "The court now defined as business records the entirety of a telephone company's call database, also known as **Call Detail Records (CDR or metadata)**.  \n",
    "News of this came to public light after an ex-NSA contractor leaked the information and a few more questions were raised when it was further discovered that not just the call records of suspected terrorists were being collected in bulk... but perhaps the entirety of Americans as a whole.  \n",
    "After all, if you know someone who knows someone who knows someone, your private records are relevant to a terrorism investigation.  \n",
    "The white house quickly reassured the public in a press release that \"Nobody is listening to your telephone calls,\" since, \"that's not what this program is about.\" The public was greatly relieved.  \n",
    "  \n",
    "The questions explored here: exactly how useful is telephone metadata?  \n",
    "It must have some use, otherwise the government wouldn't have invested however many millions they did into it secretly collecting it from phone carriers.  \n",
    "Also what kind of intelligence can you extract from CDR metadata besides its face value?  \n",
    "  \n",
    "We use a sample CDR dataset generated for 10 people living in the Dallas, Texas metroplex area.  \n",
    "It attempts to do what many researchers have already successfully done - **partly de-anonymize the CDR data**.  \n",
    "People generally behave in predictable manners, moving from home to work with a few errands in between. With enough call data, given a few K-locations of interest, K-Means should be able to isolate rather easily the geolocations where a person spends the most of their time.  \n",
    "CDRs are at least supposed to be protected by privacy laws, and are the basis for proprietary revenue calculations. In reality, there are quite a few public CDRs out there. Much information can be discerned from them such as social networks, criminal acts, and believe it or not, even the spread of deseases as was demonstrated by Flowminder Foundation paper on Ebola. "
   ]
  },
  {
   "cell_type": "markdown",
   "metadata": {},
   "source": [
    "## Read the data\n",
    "\n",
    "Load up the dataset and take a peek at its head.  \n",
    "Convert the date using pd.to_datetime, and the time using pd.to_timedelta"
   ]
  },
  {
   "cell_type": "code",
   "execution_count": 25,
   "metadata": {},
   "outputs": [
    {
     "data": {
      "text/plain": [
       "In                     int64\n",
       "Out                    int64\n",
       "Direction             object\n",
       "CallDate      datetime64[ns]\n",
       "CallTime     timedelta64[ns]\n",
       "DOW                   object\n",
       "Duration              object\n",
       "TowerID               object\n",
       "TowerLat             float64\n",
       "TowerLon             float64\n",
       "dtype: object"
      ]
     },
     "execution_count": 25,
     "metadata": {},
     "output_type": "execute_result"
    }
   ],
   "source": [
    "cdr = pd.read_csv(\"../Datasets/CDR.csv\")\n",
    "cdr.CallDate = pd.to_datetime(cdr.CallDate, errors='coerce')\n",
    "cdr.CallTime = pd.to_timedelta(cdr.CallTime, errors='coerce')\n",
    "\n",
    "cdr.dtypes"
   ]
  },
  {
   "cell_type": "code",
   "execution_count": 26,
   "metadata": {},
   "outputs": [
    {
     "data": {
      "text/html": [
       "<div>\n",
       "<style scoped>\n",
       "    .dataframe tbody tr th:only-of-type {\n",
       "        vertical-align: middle;\n",
       "    }\n",
       "\n",
       "    .dataframe tbody tr th {\n",
       "        vertical-align: top;\n",
       "    }\n",
       "\n",
       "    .dataframe thead th {\n",
       "        text-align: right;\n",
       "    }\n",
       "</style>\n",
       "<table border=\"1\" class=\"dataframe\">\n",
       "  <thead>\n",
       "    <tr style=\"text-align: right;\">\n",
       "      <th></th>\n",
       "      <th>In</th>\n",
       "      <th>Out</th>\n",
       "      <th>Direction</th>\n",
       "      <th>CallDate</th>\n",
       "      <th>CallTime</th>\n",
       "      <th>DOW</th>\n",
       "      <th>Duration</th>\n",
       "      <th>TowerID</th>\n",
       "      <th>TowerLat</th>\n",
       "      <th>TowerLon</th>\n",
       "    </tr>\n",
       "  </thead>\n",
       "  <tbody>\n",
       "    <tr>\n",
       "      <th>0</th>\n",
       "      <td>4638472273</td>\n",
       "      <td>2666307251</td>\n",
       "      <td>Incoming</td>\n",
       "      <td>2010-12-25</td>\n",
       "      <td>07:16:24.736813</td>\n",
       "      <td>Sat</td>\n",
       "      <td>0:02:41.741499</td>\n",
       "      <td>0db53dd3-eb9c-4344-abc5-c2d74ebc3eec</td>\n",
       "      <td>32.731611</td>\n",
       "      <td>-96.709417</td>\n",
       "    </tr>\n",
       "    <tr>\n",
       "      <th>1</th>\n",
       "      <td>4638472273</td>\n",
       "      <td>1755442610</td>\n",
       "      <td>Incoming</td>\n",
       "      <td>2010-12-25</td>\n",
       "      <td>21:18:30.053710</td>\n",
       "      <td>Sat</td>\n",
       "      <td>0:02:47.108750</td>\n",
       "      <td>aeaf8b43-8034-44fe-833d-31854a75acbf</td>\n",
       "      <td>32.731722</td>\n",
       "      <td>-96.709500</td>\n",
       "    </tr>\n",
       "    <tr>\n",
       "      <th>2</th>\n",
       "      <td>4638472273</td>\n",
       "      <td>5481755331</td>\n",
       "      <td>Incoming</td>\n",
       "      <td>2010-12-25</td>\n",
       "      <td>14:52:42.878016</td>\n",
       "      <td>Sat</td>\n",
       "      <td>0:04:35.356341</td>\n",
       "      <td>fadaa83f-6001-45fd-aa4a-17d6c6b7ec00</td>\n",
       "      <td>32.899944</td>\n",
       "      <td>-96.910389</td>\n",
       "    </tr>\n",
       "  </tbody>\n",
       "</table>\n",
       "</div>"
      ],
      "text/plain": [
       "           In         Out Direction   CallDate        CallTime  DOW  \\\n",
       "0  4638472273  2666307251  Incoming 2010-12-25 07:16:24.736813  Sat   \n",
       "1  4638472273  1755442610  Incoming 2010-12-25 21:18:30.053710  Sat   \n",
       "2  4638472273  5481755331  Incoming 2010-12-25 14:52:42.878016  Sat   \n",
       "\n",
       "         Duration                               TowerID   TowerLat   TowerLon  \n",
       "0  0:02:41.741499  0db53dd3-eb9c-4344-abc5-c2d74ebc3eec  32.731611 -96.709417  \n",
       "1  0:02:47.108750  aeaf8b43-8034-44fe-833d-31854a75acbf  32.731722 -96.709500  \n",
       "2  0:04:35.356341  fadaa83f-6001-45fd-aa4a-17d6c6b7ec00  32.899944 -96.910389  "
      ]
     },
     "execution_count": 26,
     "metadata": {},
     "output_type": "execute_result"
    }
   ],
   "source": [
    "cdr.head(3)"
   ]
  },
  {
   "cell_type": "markdown",
   "metadata": {},
   "source": [
    "The metadata:  \n",
    "- In and Out are the receiver's and the caller's phone numbers.\n",
    "- Direction says also if the call was \"missed\".\n",
    "- CallDate and CallTime are the exact time of the call. DOW is the Day of the Week.  \n",
    "- Then we have Duration: how long the call lasted.\n",
    "- and the telecommunication tower details (unique number and location).  \n",
    "  \n",
    "Now we want to filter only the phone calls received by one specific user (the first in the list).  \n",
    "We get a distinct list of \"In\" phone numbers and store the values in a regular python list.  \n",
    "Then we create a slice that filters to only include dataset records where the \"In\" feature (user phone number) is equal to the first number on our unique list above;\n",
    "that is, the very first number in the dataset: User Number One."
   ]
  },
  {
   "cell_type": "code",
   "execution_count": 27,
   "metadata": {},
   "outputs": [
    {
     "data": {
      "text/html": [
       "<div>\n",
       "<style scoped>\n",
       "    .dataframe tbody tr th:only-of-type {\n",
       "        vertical-align: middle;\n",
       "    }\n",
       "\n",
       "    .dataframe tbody tr th {\n",
       "        vertical-align: top;\n",
       "    }\n",
       "\n",
       "    .dataframe thead th {\n",
       "        text-align: right;\n",
       "    }\n",
       "</style>\n",
       "<table border=\"1\" class=\"dataframe\">\n",
       "  <thead>\n",
       "    <tr style=\"text-align: right;\">\n",
       "      <th></th>\n",
       "      <th>In</th>\n",
       "      <th>Out</th>\n",
       "      <th>Direction</th>\n",
       "      <th>CallDate</th>\n",
       "      <th>CallTime</th>\n",
       "      <th>DOW</th>\n",
       "      <th>Duration</th>\n",
       "      <th>TowerID</th>\n",
       "      <th>TowerLat</th>\n",
       "      <th>TowerLon</th>\n",
       "    </tr>\n",
       "  </thead>\n",
       "  <tbody>\n",
       "    <tr>\n",
       "      <th>0</th>\n",
       "      <td>4638472273</td>\n",
       "      <td>2666307251</td>\n",
       "      <td>Incoming</td>\n",
       "      <td>2010-12-25</td>\n",
       "      <td>07:16:24.736813</td>\n",
       "      <td>Sat</td>\n",
       "      <td>0:02:41.741499</td>\n",
       "      <td>0db53dd3-eb9c-4344-abc5-c2d74ebc3eec</td>\n",
       "      <td>32.731611</td>\n",
       "      <td>-96.709417</td>\n",
       "    </tr>\n",
       "    <tr>\n",
       "      <th>1</th>\n",
       "      <td>4638472273</td>\n",
       "      <td>1755442610</td>\n",
       "      <td>Incoming</td>\n",
       "      <td>2010-12-25</td>\n",
       "      <td>21:18:30.053710</td>\n",
       "      <td>Sat</td>\n",
       "      <td>0:02:47.108750</td>\n",
       "      <td>aeaf8b43-8034-44fe-833d-31854a75acbf</td>\n",
       "      <td>32.731722</td>\n",
       "      <td>-96.709500</td>\n",
       "    </tr>\n",
       "    <tr>\n",
       "      <th>2</th>\n",
       "      <td>4638472273</td>\n",
       "      <td>5481755331</td>\n",
       "      <td>Incoming</td>\n",
       "      <td>2010-12-25</td>\n",
       "      <td>14:52:42.878016</td>\n",
       "      <td>Sat</td>\n",
       "      <td>0:04:35.356341</td>\n",
       "      <td>fadaa83f-6001-45fd-aa4a-17d6c6b7ec00</td>\n",
       "      <td>32.899944</td>\n",
       "      <td>-96.910389</td>\n",
       "    </tr>\n",
       "    <tr>\n",
       "      <th>3</th>\n",
       "      <td>4638472273</td>\n",
       "      <td>1755442610</td>\n",
       "      <td>Incoming</td>\n",
       "      <td>2010-12-25</td>\n",
       "      <td>16:02:09.001913</td>\n",
       "      <td>Sat</td>\n",
       "      <td>0:02:23.498499</td>\n",
       "      <td>fadaa83f-6001-45fd-aa4a-17d6c6b7ec00</td>\n",
       "      <td>32.899944</td>\n",
       "      <td>-96.910389</td>\n",
       "    </tr>\n",
       "    <tr>\n",
       "      <th>4</th>\n",
       "      <td>4638472273</td>\n",
       "      <td>2145623768</td>\n",
       "      <td>Incoming</td>\n",
       "      <td>2010-12-25</td>\n",
       "      <td>15:28:35.028554</td>\n",
       "      <td>Sat</td>\n",
       "      <td>0:03:54.692497</td>\n",
       "      <td>95d7920d-c3cd-4d20-a568-9a55800dc807</td>\n",
       "      <td>32.899944</td>\n",
       "      <td>-96.910389</td>\n",
       "    </tr>\n",
       "    <tr>\n",
       "      <th>...</th>\n",
       "      <td>...</td>\n",
       "      <td>...</td>\n",
       "      <td>...</td>\n",
       "      <td>...</td>\n",
       "      <td>...</td>\n",
       "      <td>...</td>\n",
       "      <td>...</td>\n",
       "      <td>...</td>\n",
       "      <td>...</td>\n",
       "      <td>...</td>\n",
       "    </tr>\n",
       "    <tr>\n",
       "      <th>53140</th>\n",
       "      <td>4638472273</td>\n",
       "      <td>2666307251</td>\n",
       "      <td>Missed</td>\n",
       "      <td>2013-02-26</td>\n",
       "      <td>11:26:01.888502</td>\n",
       "      <td>Tue</td>\n",
       "      <td>0:03:08.177065</td>\n",
       "      <td>0296279d-18c3-4709-853e-3e20496ce444</td>\n",
       "      <td>32.899944</td>\n",
       "      <td>-96.910389</td>\n",
       "    </tr>\n",
       "    <tr>\n",
       "      <th>53141</th>\n",
       "      <td>4638472273</td>\n",
       "      <td>2145623768</td>\n",
       "      <td>Missed</td>\n",
       "      <td>2013-02-26</td>\n",
       "      <td>17:32:18.776276</td>\n",
       "      <td>Tue</td>\n",
       "      <td>0:02:30.823459</td>\n",
       "      <td>78512965-e30b-4734-ae92-47b910fe3d7f</td>\n",
       "      <td>32.899944</td>\n",
       "      <td>-96.910389</td>\n",
       "    </tr>\n",
       "    <tr>\n",
       "      <th>53142</th>\n",
       "      <td>4638472273</td>\n",
       "      <td>4551601645</td>\n",
       "      <td>Incoming</td>\n",
       "      <td>2013-02-26</td>\n",
       "      <td>19:12:44.730636</td>\n",
       "      <td>Tue</td>\n",
       "      <td>0:03:42.954201</td>\n",
       "      <td>8fb02570-fb3f-4381-be74-3e1accf87ec5</td>\n",
       "      <td>32.750556</td>\n",
       "      <td>-96.694722</td>\n",
       "    </tr>\n",
       "    <tr>\n",
       "      <th>53143</th>\n",
       "      <td>4638472273</td>\n",
       "      <td>7721472178</td>\n",
       "      <td>Incoming</td>\n",
       "      <td>2013-02-26</td>\n",
       "      <td>07:50:41.435642</td>\n",
       "      <td>Tue</td>\n",
       "      <td>0:04:04.460385</td>\n",
       "      <td>e78826ad-45b0-45d4-90ec-4776d73f1d8e</td>\n",
       "      <td>32.864167</td>\n",
       "      <td>-96.836944</td>\n",
       "    </tr>\n",
       "    <tr>\n",
       "      <th>53144</th>\n",
       "      <td>4638472273</td>\n",
       "      <td>6150928001</td>\n",
       "      <td>Incoming</td>\n",
       "      <td>2013-02-26</td>\n",
       "      <td>07:49:56.273334</td>\n",
       "      <td>Tue</td>\n",
       "      <td>0:01:35.016406</td>\n",
       "      <td>b0320962-e409-487a-a435-e33ba8123768</td>\n",
       "      <td>32.881111</td>\n",
       "      <td>-96.856389</td>\n",
       "    </tr>\n",
       "  </tbody>\n",
       "</table>\n",
       "<p>3648 rows × 10 columns</p>\n",
       "</div>"
      ],
      "text/plain": [
       "               In         Out Direction   CallDate        CallTime  DOW  \\\n",
       "0      4638472273  2666307251  Incoming 2010-12-25 07:16:24.736813  Sat   \n",
       "1      4638472273  1755442610  Incoming 2010-12-25 21:18:30.053710  Sat   \n",
       "2      4638472273  5481755331  Incoming 2010-12-25 14:52:42.878016  Sat   \n",
       "3      4638472273  1755442610  Incoming 2010-12-25 16:02:09.001913  Sat   \n",
       "4      4638472273  2145623768  Incoming 2010-12-25 15:28:35.028554  Sat   \n",
       "...           ...         ...       ...        ...             ...  ...   \n",
       "53140  4638472273  2666307251    Missed 2013-02-26 11:26:01.888502  Tue   \n",
       "53141  4638472273  2145623768    Missed 2013-02-26 17:32:18.776276  Tue   \n",
       "53142  4638472273  4551601645  Incoming 2013-02-26 19:12:44.730636  Tue   \n",
       "53143  4638472273  7721472178  Incoming 2013-02-26 07:50:41.435642  Tue   \n",
       "53144  4638472273  6150928001  Incoming 2013-02-26 07:49:56.273334  Tue   \n",
       "\n",
       "             Duration                               TowerID   TowerLat  \\\n",
       "0      0:02:41.741499  0db53dd3-eb9c-4344-abc5-c2d74ebc3eec  32.731611   \n",
       "1      0:02:47.108750  aeaf8b43-8034-44fe-833d-31854a75acbf  32.731722   \n",
       "2      0:04:35.356341  fadaa83f-6001-45fd-aa4a-17d6c6b7ec00  32.899944   \n",
       "3      0:02:23.498499  fadaa83f-6001-45fd-aa4a-17d6c6b7ec00  32.899944   \n",
       "4      0:03:54.692497  95d7920d-c3cd-4d20-a568-9a55800dc807  32.899944   \n",
       "...               ...                                   ...        ...   \n",
       "53140  0:03:08.177065  0296279d-18c3-4709-853e-3e20496ce444  32.899944   \n",
       "53141  0:02:30.823459  78512965-e30b-4734-ae92-47b910fe3d7f  32.899944   \n",
       "53142  0:03:42.954201  8fb02570-fb3f-4381-be74-3e1accf87ec5  32.750556   \n",
       "53143  0:04:04.460385  e78826ad-45b0-45d4-90ec-4776d73f1d8e  32.864167   \n",
       "53144  0:01:35.016406  b0320962-e409-487a-a435-e33ba8123768  32.881111   \n",
       "\n",
       "        TowerLon  \n",
       "0     -96.709417  \n",
       "1     -96.709500  \n",
       "2     -96.910389  \n",
       "3     -96.910389  \n",
       "4     -96.910389  \n",
       "...          ...  \n",
       "53140 -96.910389  \n",
       "53141 -96.910389  \n",
       "53142 -96.694722  \n",
       "53143 -96.836944  \n",
       "53144 -96.856389  \n",
       "\n",
       "[3648 rows x 10 columns]"
      ]
     },
     "execution_count": 27,
     "metadata": {},
     "output_type": "execute_result"
    }
   ],
   "source": [
    "usersIn = cdr.In.tolist()\n",
    "\n",
    "user1 = cdr[cdr.In == usersIn[0]]\n",
    "\n",
    "user1"
   ]
  },
  {
   "cell_type": "markdown",
   "metadata": {},
   "source": [
    "As you can see, the *In* column is always the same and is the phone number of User Number One.  \n",
    "There are in total 3648 calls recorded.  \n",
    "  \n",
    "## Plot all the call locations\n",
    "We use the [Tower's Latitude and Longitude](https://en.wikipedia.org/wiki/Geographic_coordinate_system#Geographic_latitude_and_longitude) to see where the call have been received.  \n",
    "The X-Coordinate should be the Longitude, and the Y-coordinate should be the tower Latitude.  \n",
    "This is a mobile phone, so it can happen in different locations."
   ]
  },
  {
   "cell_type": "code",
   "execution_count": 28,
   "metadata": {},
   "outputs": [
    {
     "data": {
      "image/png": "[encoded data removed]",
      "text/plain": [
       "<Figure size 432x288 with 1 Axes>"
      ]
     },
     "metadata": {
      "needs_background": "light"
     },
     "output_type": "display_data"
    }
   ],
   "source": [
    "user1.plot.scatter(x='TowerLon', y='TowerLat', c='gray', alpha=0.1, title='Call Locations');"
   ]
  },
  {
   "cell_type": "markdown",
   "metadata": {},
   "source": [
    "The locations map above is too \"busy\" to really wrap head around. This is where domain expertise comes into play. The intuition tells us that people are likely to behave differently on weekends:\n",
    "  \n",
    "On Weekends:\n",
    "   1. People probably don't go into work\n",
    "   2. They probably sleep in late on Saturday\n",
    "   3. They probably run a bunch of random errands, since they couldn't during the week\n",
    "   4. They should be home, at least during the very late hours, e.g. 1-4 AM\n",
    "  \n",
    "On Weekdays:\n",
    "   1. People probably are at work during normal working hours\n",
    "   2. They probably are at home in the early morning and during the late night\n",
    "   3. They probably spend time commuting between work and home everyday"
   ]
  },
  {
   "cell_type": "markdown",
   "metadata": {},
   "source": [
    "Let's examine only the records that came in on weekends (sat/sun)."
   ]
  },
  {
   "cell_type": "code",
   "execution_count": 29,
   "metadata": {},
   "outputs": [],
   "source": [
    "#\n",
    "# Add more filters to the user1 slice we created. Add bitwise logic for the weekend\n",
    "user1 = user1[(user1.DOW == \"Sat\") | (user1.DOW == \"Sun\")]"
   ]
  },
  {
   "cell_type": "markdown",
   "metadata": {},
   "source": [
    "Further filter it down for calls that came in either before 6AM OR after 10pm (22:00:00).  \n",
    "We can use < and > to compare the string times, just make sure that we code them as 24h [time strings](https://en.wikipedia.org/wiki/24-hour_clock), eg: \"06:00:00\", \"22:00:00\""
   ]
  },
  {
   "cell_type": "code",
   "execution_count": 30,
   "metadata": {},
   "outputs": [],
   "source": [
    "user1 = user1[(user1.CallTime < \"06:00:00\") | (user1.CallTime > \"22:00:00\")]"
   ]
  },
  {
   "cell_type": "code",
   "execution_count": 31,
   "metadata": {},
   "outputs": [
    {
     "data": {
      "text/plain": [
       "28"
      ]
     },
     "execution_count": 31,
     "metadata": {},
     "output_type": "execute_result"
    }
   ],
   "source": [
    "len(user1)"
   ]
  },
  {
   "cell_type": "markdown",
   "metadata": {},
   "source": [
    "They have been greatly reduced.  \n",
    "Now we visualise the dataframe with a scatter plot as a sanity check. \n",
    "  \n",
    "At this point, we still don't yet know exactly where the user is located just based off the cell phone tower position data; but considering the below are for calls that arrived in the twilight hours of weekends, it's likely that wherever they are bunched up is probably near where is the caller's residence:"
   ]
  },
  {
   "cell_type": "code",
   "execution_count": 32,
   "metadata": {},
   "outputs": [
    {
     "data": {
      "image/png": "[encoded data removed]",
      "text/plain": [
       "<Figure size 432x288 with 1 Axes>"
      ]
     },
     "metadata": {
      "needs_background": "light"
     },
     "output_type": "display_data"
    }
   ],
   "source": [
    "fig = plt.figure()\n",
    "ax = fig.add_subplot(111)\n",
    "ax.scatter(user1.TowerLon,user1.TowerLat, c='g', marker='o', alpha=0.2)\n",
    "ax.set_title('Weekend Calls (<6am or >10p)');"
   ]
  },
  {
   "cell_type": "markdown",
   "metadata": {},
   "source": [
    "## Clustering\n",
    "We run the K-Means algorithm with a K=1. There really should only be one single area of concentration.  \n",
    "If you notice multiple areas that are \"hot\" (multiple areas the user spends a lot of time at that are FAR apart from one another), then increase K=2, with the goal being that one of the centroids will sweep up the annoying outliers; and the other will zero in on the user's approximate home location.\n",
    "Or rather the location of the cell tower closest to their home.....\n",
    "  \n",
    "We nloy feed in Lat and Lon coordinates to the KMeans algorithm, since none of the other data is suitable for your purposes. Since both Lat and Lon are (approximately) on the same scale, no feature scaling is required. finally we print out the centroid locations and add them onto the previous scatter plot using a distinguishable marker and color."
   ]
  },
  {
   "cell_type": "code",
   "execution_count": 33,
   "metadata": {},
   "outputs": [
    {
     "data": {
      "text/plain": [
       "KMeans(algorithm='auto', copy_x=True, init='random', max_iter=300, n_clusters=1,\n",
       "       n_init=10, n_jobs=None, precompute_distances='auto', random_state=None,\n",
       "       tol=0.0001, verbose=0)"
      ]
     },
     "execution_count": 33,
     "metadata": {},
     "output_type": "execute_result"
    }
   ],
   "source": [
    "sliceK = user1[['TowerLon', 'TowerLat']]\n",
    "\n",
    "model = KMeans(n_clusters=1, n_init=10, init='random')\n",
    "model.fit(sliceK)"
   ]
  },
  {
   "cell_type": "code",
   "execution_count": 34,
   "metadata": {},
   "outputs": [
    {
     "data": {
      "text/plain": [
       "array([[-96.70839404,  32.73299989]])"
      ]
     },
     "execution_count": 34,
     "metadata": {},
     "output_type": "execute_result"
    }
   ],
   "source": [
    "centroids = model.cluster_centers_\n",
    "\n",
    "centroids"
   ]
  },
  {
   "cell_type": "code",
   "execution_count": 35,
   "metadata": {},
   "outputs": [
    {
     "data": {
      "image/png": "[encoded data removed]",
      "text/plain": [
       "<Figure size 432x288 with 1 Axes>"
      ]
     },
     "metadata": {
      "needs_background": "light"
     },
     "output_type": "display_data"
    }
   ],
   "source": [
    "  #\n",
    "  # Print and plot the centroids...\n",
    "\n",
    "fig = plt.figure()\n",
    "ax = fig.add_subplot(111)\n",
    "  # calls location\n",
    "ax.scatter(user1.TowerLon,user1.TowerLat, c='g', marker='o', alpha=0.2)\n",
    "  # centroid\n",
    "ax.scatter(centroids[:,0], centroids[:,1], marker='x', c='red', alpha=0.5,\n",
    "             linewidths=3, s=169);\n",
    "\n",
    "ax.set_title('Weekend Calls with Centroid');"
   ]
  },
  {
   "cell_type": "markdown",
   "metadata": {},
   "source": [
    "### Repeat for other users\n",
    "We can repeat the above steps for all 10 individuals to see their approximate locations and this time we look at the work location. \n",
    "\n",
    "We create a unique list of the phone-number values (users) stored in the \"In\" column of the dataset, and save it to a variable called `unique_numbers`.  \n",
    "Then we manually check through unique_numbers to ensure the order the numbers appear is the same order they appear (uniquely) in the dataset: since the order matters, we cannot use sets ...."
   ]
  },
  {
   "cell_type": "code",
   "execution_count": 36,
   "metadata": {},
   "outputs": [],
   "source": [
    "unique_numbers = []\n",
    "for row in cdr.In:\n",
    "    if row not in unique_numbers:\n",
    "        unique_numbers.append(row)\n",
    "        "
   ]
  },
  {
   "cell_type": "code",
   "execution_count": 37,
   "metadata": {},
   "outputs": [],
   "source": [
    "def doKMeans(data, clusters=0):\n",
    "\n",
    "  sliceK = data[['TowerLat', 'TowerLon']]\n",
    "\n",
    "  model = KMeans(n_clusters= clusters, n_init=10, init='random')\n",
    "  model.fit(sliceK)\n",
    "  \n",
    "  return model\n"
   ]
  },
  {
   "cell_type": "code",
   "execution_count": 38,
   "metadata": {},
   "outputs": [],
   "source": [
    "  # Find the cluster with the most number of attached nodes\n",
    "def clusterWithMostSamples(model):\n",
    "      # Ensure there's at least on cluster...\n",
    "    \n",
    "    minSamples = 0\n",
    "    maxCluster = 0\n",
    "    for i in range(len(model.cluster_centers_)):\n",
    "        if (model.labels_==i).sum() > minSamples:\n",
    "          maxCluster = i\n",
    "          minSamples = (model.labels_==i).sum()\n",
    "    print (\"\\n  Cluster With Most Samples: Number \", maxCluster)\n",
    "    print (\"\\n  Centroid: : \", model.cluster_centers_[maxCluster])\n",
    "    return (model.labels_ == maxCluster)\n"
   ]
  },
  {
   "cell_type": "code",
   "execution_count": 39,
   "metadata": {},
   "outputs": [
    {
     "name": "stdout",
     "output_type": "stream",
     "text": [
      "\n",
      "\n",
      "Examining person:  4638472273\n",
      "\n",
      "  Cluster With Most Samples: Number  1\n",
      "\n",
      "  Centroid: :  [ 32.9000009  -96.90951639]\n",
      "\n",
      "\n",
      "Examining person:  1559410755\n",
      "\n",
      "  Cluster With Most Samples: Number  1\n",
      "\n",
      "  Centroid: :  [ 32.69557708 -96.93522725]\n",
      "\n",
      "\n",
      "Examining person:  4931532174\n",
      "\n",
      "  Cluster With Most Samples: Number  0\n",
      "\n",
      "  Centroid: :  [ 32.77992299 -96.89338791]\n",
      "\n",
      "\n",
      "Examining person:  2419930464\n",
      "\n",
      "  Cluster With Most Samples: Number  0\n",
      "\n",
      "  Centroid: :  [ 32.85371225 -96.8472893 ]\n",
      "\n",
      "\n",
      "Examining person:  1884182865\n",
      "\n",
      "  Cluster With Most Samples: Number  2\n",
      "\n",
      "  Centroid: :  [ 32.92195886 -96.75768121]\n",
      "\n",
      "\n",
      "Examining person:  3688089071\n",
      "\n",
      "  Cluster With Most Samples: Number  0\n",
      "\n",
      "  Centroid: :  [ 32.81198486 -96.87034706]\n",
      "\n",
      "\n",
      "Examining person:  4555003213\n",
      "\n",
      "  Cluster With Most Samples: Number  1\n",
      "\n",
      "  Centroid: :  [ 32.75203793 -96.74437494]\n",
      "\n",
      "\n",
      "Examining person:  2068627935\n",
      "\n",
      "  Cluster With Most Samples: Number  0\n",
      "\n",
      "  Centroid: :  [ 32.72097347 -96.83039184]\n",
      "\n",
      "\n",
      "Examining person:  2894365987\n",
      "\n",
      "  Cluster With Most Samples: Number  0\n",
      "\n",
      "  Centroid: :  [ 32.72145328 -96.89115458]\n",
      "\n",
      "\n",
      "Examining person:  8549533077\n",
      "\n",
      "  Cluster With Most Samples: Number  1\n",
      "\n",
      "  Centroid: :  [ 32.98500948 -96.80262338]\n"
     ]
    }
   ],
   "source": [
    "for user in unique_numbers:\n",
    "  print (\"\\n\\nExamining person: \", user)\n",
    "    \n",
    "  userData = cdr[cdr.In == user]\n",
    "#\n",
    "# Alter the slice so that it includes only Weekday (Mon-Fri) values.\n",
    "#\n",
    "  userData = userData[(userData.DOW != \"Sat\") & (userData.DOW != \"Sun\")]\n",
    "\n",
    "\n",
    "#\n",
    "# The idea is that the call was placed before 5pm. From Midnight-07:30, the user is\n",
    "# probably sleeping and won't call / wake up to take a call. There should be a brief time\n",
    "# in the morning during their commute to work, then they'll spend the entire day at work.\n",
    "# So the assumption is that most of the time is spent either at work, or in 2nd, at home.\n",
    "#\n",
    "  userData = userData[(userData.CallTime < \"17:00:00\")]\n",
    "\n",
    "\n",
    "#\n",
    "# Run K-Means with K=3 or K=4. There really should only be a two areas of concentration. If you\n",
    "# notice multiple areas that are \"hot\" (multiple areas the usr spends a lot of time at that are FAR\n",
    "# apart from one another), then increase K=5, with the goal being that all centroids except two will\n",
    "# sweep up the annoying outliers and not-home, not-work travel occasions. the other two will zero in\n",
    "# on the user's approximate home location and work locations. Or rather the location of the cell\n",
    "# tower closest to them.....\n",
    "  model = doKMeans(userData, 3)\n",
    "\n",
    "  midWayClusterIndices = clusterWithMostSamples(model)\n",
    "  "
   ]
  },
  {
   "cell_type": "markdown",
   "metadata": {},
   "source": [
    "# Fighting crime\n",
    "We now explore the City of Chicago's Crime data set, which is part of their Open Data initiative.  \n",
    "This dataset reflects reported incidents of crime (with the exception of murders where data exists for each victim) that occurred in the City of Chicago from 2001 to present."
   ]
  },
  {
   "cell_type": "markdown",
   "metadata": {},
   "source": [
    "You can find the dataset on the [Chicago Data Portal](https://data.cityofchicago.org/Public-Safety/Crimes-2001-to-present/ijzp-q8t2)\n",
    "where you can also see several visualisations and export it (download as CSV).  \n",
    "The dataset analysed here is filtered to the cases where the *Primary Type* (the Illinois Crime Code) is equal to 'GAMBLING'.  \n",
    "Feel free to try other codes.    \n",
    "  \n",
    "## Load and process the data"
   ]
  },
  {
   "cell_type": "code",
   "execution_count": 40,
   "metadata": {},
   "outputs": [],
   "source": [
    "# Load the dataset\n",
    "#\n",
    "cc = pd.read_csv(\"../Datasets/Crimes_-_2001_to_present.csv\", index_col=\"ID\")\n"
   ]
  },
  {
   "cell_type": "code",
   "execution_count": 41,
   "metadata": {},
   "outputs": [
    {
     "data": {
      "text/html": [
       "<div>\n",
       "<style scoped>\n",
       "    .dataframe tbody tr th:only-of-type {\n",
       "        vertical-align: middle;\n",
       "    }\n",
       "\n",
       "    .dataframe tbody tr th {\n",
       "        vertical-align: top;\n",
       "    }\n",
       "\n",
       "    .dataframe thead th {\n",
       "        text-align: right;\n",
       "    }\n",
       "</style>\n",
       "<table border=\"1\" class=\"dataframe\">\n",
       "  <thead>\n",
       "    <tr style=\"text-align: right;\">\n",
       "      <th></th>\n",
       "      <th>IUCR</th>\n",
       "      <th>Beat</th>\n",
       "      <th>District</th>\n",
       "      <th>Ward</th>\n",
       "      <th>Community Area</th>\n",
       "      <th>FBI Code</th>\n",
       "      <th>X Coordinate</th>\n",
       "      <th>Y Coordinate</th>\n",
       "      <th>Year</th>\n",
       "      <th>Latitude</th>\n",
       "      <th>Longitude</th>\n",
       "    </tr>\n",
       "  </thead>\n",
       "  <tbody>\n",
       "    <tr>\n",
       "      <th>count</th>\n",
       "      <td>12830.000000</td>\n",
       "      <td>12830.000000</td>\n",
       "      <td>12830.000000</td>\n",
       "      <td>12830.000000</td>\n",
       "      <td>12830.000000</td>\n",
       "      <td>12830.0</td>\n",
       "      <td>1.283000e+04</td>\n",
       "      <td>1.283000e+04</td>\n",
       "      <td>12830.000000</td>\n",
       "      <td>12830.000000</td>\n",
       "      <td>12830.000000</td>\n",
       "    </tr>\n",
       "    <tr>\n",
       "      <th>mean</th>\n",
       "      <td>1660.422058</td>\n",
       "      <td>1083.257132</td>\n",
       "      <td>10.302416</td>\n",
       "      <td>21.253079</td>\n",
       "      <td>40.183866</td>\n",
       "      <td>19.0</td>\n",
       "      <td>1.162338e+06</td>\n",
       "      <td>1.881345e+06</td>\n",
       "      <td>2007.625409</td>\n",
       "      <td>41.830055</td>\n",
       "      <td>-87.679929</td>\n",
       "    </tr>\n",
       "    <tr>\n",
       "      <th>std</th>\n",
       "      <td>8.620933</td>\n",
       "      <td>608.198385</td>\n",
       "      <td>5.956533</td>\n",
       "      <td>11.195696</td>\n",
       "      <td>19.459785</td>\n",
       "      <td>0.0</td>\n",
       "      <td>1.598157e+04</td>\n",
       "      <td>2.696251e+04</td>\n",
       "      <td>3.610334</td>\n",
       "      <td>0.074222</td>\n",
       "      <td>0.058109</td>\n",
       "    </tr>\n",
       "    <tr>\n",
       "      <th>min</th>\n",
       "      <td>1610.000000</td>\n",
       "      <td>111.000000</td>\n",
       "      <td>1.000000</td>\n",
       "      <td>1.000000</td>\n",
       "      <td>1.000000</td>\n",
       "      <td>19.0</td>\n",
       "      <td>1.100658e+06</td>\n",
       "      <td>1.815111e+06</td>\n",
       "      <td>2001.000000</td>\n",
       "      <td>41.647924</td>\n",
       "      <td>-87.905227</td>\n",
       "    </tr>\n",
       "    <tr>\n",
       "      <th>25%</th>\n",
       "      <td>1661.000000</td>\n",
       "      <td>624.000000</td>\n",
       "      <td>6.000000</td>\n",
       "      <td>15.000000</td>\n",
       "      <td>25.000000</td>\n",
       "      <td>19.0</td>\n",
       "      <td>1.149715e+06</td>\n",
       "      <td>1.859745e+06</td>\n",
       "      <td>2005.000000</td>\n",
       "      <td>41.770517</td>\n",
       "      <td>-87.725704</td>\n",
       "    </tr>\n",
       "    <tr>\n",
       "      <th>50%</th>\n",
       "      <td>1661.000000</td>\n",
       "      <td>1014.000000</td>\n",
       "      <td>10.000000</td>\n",
       "      <td>22.000000</td>\n",
       "      <td>35.000000</td>\n",
       "      <td>19.0</td>\n",
       "      <td>1.163364e+06</td>\n",
       "      <td>1.888615e+06</td>\n",
       "      <td>2007.000000</td>\n",
       "      <td>41.849746</td>\n",
       "      <td>-87.676321</td>\n",
       "    </tr>\n",
       "    <tr>\n",
       "      <th>75%</th>\n",
       "      <td>1661.000000</td>\n",
       "      <td>1522.750000</td>\n",
       "      <td>15.000000</td>\n",
       "      <td>28.000000</td>\n",
       "      <td>61.000000</td>\n",
       "      <td>19.0</td>\n",
       "      <td>1.174961e+06</td>\n",
       "      <td>1.901925e+06</td>\n",
       "      <td>2010.000000</td>\n",
       "      <td>41.886807</td>\n",
       "      <td>-87.634259</td>\n",
       "    </tr>\n",
       "    <tr>\n",
       "      <th>max</th>\n",
       "      <td>1697.000000</td>\n",
       "      <td>2535.000000</td>\n",
       "      <td>25.000000</td>\n",
       "      <td>50.000000</td>\n",
       "      <td>77.000000</td>\n",
       "      <td>19.0</td>\n",
       "      <td>1.202460e+06</td>\n",
       "      <td>1.951492e+06</td>\n",
       "      <td>2017.000000</td>\n",
       "      <td>42.022527</td>\n",
       "      <td>-87.534076</td>\n",
       "    </tr>\n",
       "  </tbody>\n",
       "</table>\n",
       "</div>"
      ],
      "text/plain": [
       "               IUCR          Beat      District          Ward  Community Area  \\\n",
       "count  12830.000000  12830.000000  12830.000000  12830.000000    12830.000000   \n",
       "mean    1660.422058   1083.257132     10.302416     21.253079       40.183866   \n",
       "std        8.620933    608.198385      5.956533     11.195696       19.459785   \n",
       "min     1610.000000    111.000000      1.000000      1.000000        1.000000   \n",
       "25%     1661.000000    624.000000      6.000000     15.000000       25.000000   \n",
       "50%     1661.000000   1014.000000     10.000000     22.000000       35.000000   \n",
       "75%     1661.000000   1522.750000     15.000000     28.000000       61.000000   \n",
       "max     1697.000000   2535.000000     25.000000     50.000000       77.000000   \n",
       "\n",
       "       FBI Code  X Coordinate  Y Coordinate          Year      Latitude  \\\n",
       "count   12830.0  1.283000e+04  1.283000e+04  12830.000000  12830.000000   \n",
       "mean       19.0  1.162338e+06  1.881345e+06   2007.625409     41.830055   \n",
       "std         0.0  1.598157e+04  2.696251e+04      3.610334      0.074222   \n",
       "min        19.0  1.100658e+06  1.815111e+06   2001.000000     41.647924   \n",
       "25%        19.0  1.149715e+06  1.859745e+06   2005.000000     41.770517   \n",
       "50%        19.0  1.163364e+06  1.888615e+06   2007.000000     41.849746   \n",
       "75%        19.0  1.174961e+06  1.901925e+06   2010.000000     41.886807   \n",
       "max        19.0  1.202460e+06  1.951492e+06   2017.000000     42.022527   \n",
       "\n",
       "          Longitude  \n",
       "count  12830.000000  \n",
       "mean     -87.679929  \n",
       "std        0.058109  \n",
       "min      -87.905227  \n",
       "25%      -87.725704  \n",
       "50%      -87.676321  \n",
       "75%      -87.634259  \n",
       "max      -87.534076  "
      ]
     },
     "execution_count": 41,
     "metadata": {},
     "output_type": "execute_result"
    }
   ],
   "source": [
    "#\n",
    "# Drop any ROWs with nans in them\n",
    "#\n",
    "cc.dropna(inplace=True) \n",
    "\n",
    "#\n",
    "# Print out the dtypes of your dset\n",
    "#\n",
    "cc.describe()"
   ]
  },
  {
   "cell_type": "code",
   "execution_count": 42,
   "metadata": {},
   "outputs": [
    {
     "data": {
      "text/html": [
       "<div>\n",
       "<style scoped>\n",
       "    .dataframe tbody tr th:only-of-type {\n",
       "        vertical-align: middle;\n",
       "    }\n",
       "\n",
       "    .dataframe tbody tr th {\n",
       "        vertical-align: top;\n",
       "    }\n",
       "\n",
       "    .dataframe thead th {\n",
       "        text-align: right;\n",
       "    }\n",
       "</style>\n",
       "<table border=\"1\" class=\"dataframe\">\n",
       "  <thead>\n",
       "    <tr style=\"text-align: right;\">\n",
       "      <th></th>\n",
       "      <th>Case Number</th>\n",
       "      <th>Date</th>\n",
       "      <th>Block</th>\n",
       "      <th>IUCR</th>\n",
       "      <th>Primary Type</th>\n",
       "      <th>Description</th>\n",
       "      <th>Location Description</th>\n",
       "      <th>Arrest</th>\n",
       "      <th>Domestic</th>\n",
       "      <th>Beat</th>\n",
       "      <th>...</th>\n",
       "      <th>Ward</th>\n",
       "      <th>Community Area</th>\n",
       "      <th>FBI Code</th>\n",
       "      <th>X Coordinate</th>\n",
       "      <th>Y Coordinate</th>\n",
       "      <th>Year</th>\n",
       "      <th>Updated On</th>\n",
       "      <th>Latitude</th>\n",
       "      <th>Longitude</th>\n",
       "      <th>Location</th>\n",
       "    </tr>\n",
       "    <tr>\n",
       "      <th>ID</th>\n",
       "      <th></th>\n",
       "      <th></th>\n",
       "      <th></th>\n",
       "      <th></th>\n",
       "      <th></th>\n",
       "      <th></th>\n",
       "      <th></th>\n",
       "      <th></th>\n",
       "      <th></th>\n",
       "      <th></th>\n",
       "      <th></th>\n",
       "      <th></th>\n",
       "      <th></th>\n",
       "      <th></th>\n",
       "      <th></th>\n",
       "      <th></th>\n",
       "      <th></th>\n",
       "      <th></th>\n",
       "      <th></th>\n",
       "      <th></th>\n",
       "      <th></th>\n",
       "    </tr>\n",
       "  </thead>\n",
       "  <tbody>\n",
       "    <tr>\n",
       "      <th>4647776</th>\n",
       "      <td>HM172874</td>\n",
       "      <td>02/09/2006 10:29:07 PM</td>\n",
       "      <td>075XX S COLFAX AVE</td>\n",
       "      <td>1661</td>\n",
       "      <td>GAMBLING</td>\n",
       "      <td>GAME/DICE</td>\n",
       "      <td>SIDEWALK</td>\n",
       "      <td>True</td>\n",
       "      <td>False</td>\n",
       "      <td>421</td>\n",
       "      <td>...</td>\n",
       "      <td>7.0</td>\n",
       "      <td>43.0</td>\n",
       "      <td>19</td>\n",
       "      <td>1194833.0</td>\n",
       "      <td>1855572.0</td>\n",
       "      <td>2006</td>\n",
       "      <td>04/15/2016 08:55:02 AM</td>\n",
       "      <td>41.758607</td>\n",
       "      <td>-87.561511</td>\n",
       "      <td>(41.758607126, -87.561510616)</td>\n",
       "    </tr>\n",
       "    <tr>\n",
       "      <th>4649196</th>\n",
       "      <td>HM157167</td>\n",
       "      <td>02/01/2006 12:30:27 PM</td>\n",
       "      <td>038XX W FERDINAND ST</td>\n",
       "      <td>1661</td>\n",
       "      <td>GAMBLING</td>\n",
       "      <td>GAME/DICE</td>\n",
       "      <td>SIDEWALK</td>\n",
       "      <td>True</td>\n",
       "      <td>False</td>\n",
       "      <td>1122</td>\n",
       "      <td>...</td>\n",
       "      <td>27.0</td>\n",
       "      <td>23.0</td>\n",
       "      <td>19</td>\n",
       "      <td>1150871.0</td>\n",
       "      <td>1903067.0</td>\n",
       "      <td>2006</td>\n",
       "      <td>04/15/2016 08:55:02 AM</td>\n",
       "      <td>41.889909</td>\n",
       "      <td>-87.721389</td>\n",
       "      <td>(41.889909247, -87.721389051)</td>\n",
       "    </tr>\n",
       "    <tr>\n",
       "      <th>4649661</th>\n",
       "      <td>HM159623</td>\n",
       "      <td>02/02/2006 07:02:12 PM</td>\n",
       "      <td>050XX W SUPERIOR ST</td>\n",
       "      <td>1661</td>\n",
       "      <td>GAMBLING</td>\n",
       "      <td>GAME/DICE</td>\n",
       "      <td>SIDEWALK</td>\n",
       "      <td>True</td>\n",
       "      <td>False</td>\n",
       "      <td>1531</td>\n",
       "      <td>...</td>\n",
       "      <td>28.0</td>\n",
       "      <td>25.0</td>\n",
       "      <td>19</td>\n",
       "      <td>1142605.0</td>\n",
       "      <td>1904502.0</td>\n",
       "      <td>2006</td>\n",
       "      <td>04/15/2016 08:55:02 AM</td>\n",
       "      <td>41.894005</td>\n",
       "      <td>-87.751710</td>\n",
       "      <td>(41.89400481, -87.751710086)</td>\n",
       "    </tr>\n",
       "    <tr>\n",
       "      <th>4650448</th>\n",
       "      <td>HM158020</td>\n",
       "      <td>02/01/2006 08:13:00 PM</td>\n",
       "      <td>056XX W WASHINGTON BLVD</td>\n",
       "      <td>1661</td>\n",
       "      <td>GAMBLING</td>\n",
       "      <td>GAME/DICE</td>\n",
       "      <td>RESIDENCE PORCH/HALLWAY</td>\n",
       "      <td>True</td>\n",
       "      <td>False</td>\n",
       "      <td>1512</td>\n",
       "      <td>...</td>\n",
       "      <td>29.0</td>\n",
       "      <td>25.0</td>\n",
       "      <td>19</td>\n",
       "      <td>1138430.0</td>\n",
       "      <td>1900175.0</td>\n",
       "      <td>2006</td>\n",
       "      <td>04/15/2016 08:55:02 AM</td>\n",
       "      <td>41.882208</td>\n",
       "      <td>-87.767149</td>\n",
       "      <td>(41.882207608, -87.767148598)</td>\n",
       "    </tr>\n",
       "    <tr>\n",
       "      <th>4650940</th>\n",
       "      <td>HM156984</td>\n",
       "      <td>02/01/2006 10:10:00 AM</td>\n",
       "      <td>015XX W 72ND ST</td>\n",
       "      <td>1661</td>\n",
       "      <td>GAMBLING</td>\n",
       "      <td>GAME/DICE</td>\n",
       "      <td>SIDEWALK</td>\n",
       "      <td>True</td>\n",
       "      <td>False</td>\n",
       "      <td>734</td>\n",
       "      <td>...</td>\n",
       "      <td>17.0</td>\n",
       "      <td>67.0</td>\n",
       "      <td>19</td>\n",
       "      <td>1167231.0</td>\n",
       "      <td>1856980.0</td>\n",
       "      <td>2006</td>\n",
       "      <td>04/15/2016 08:55:02 AM</td>\n",
       "      <td>41.763106</td>\n",
       "      <td>-87.662629</td>\n",
       "      <td>(41.763105901, -87.66262925)</td>\n",
       "    </tr>\n",
       "  </tbody>\n",
       "</table>\n",
       "<p>5 rows × 21 columns</p>\n",
       "</div>"
      ],
      "text/plain": [
       "        Case Number                    Date                    Block  IUCR  \\\n",
       "ID                                                                           \n",
       "4647776    HM172874  02/09/2006 10:29:07 PM       075XX S COLFAX AVE  1661   \n",
       "4649196    HM157167  02/01/2006 12:30:27 PM     038XX W FERDINAND ST  1661   \n",
       "4649661    HM159623  02/02/2006 07:02:12 PM      050XX W SUPERIOR ST  1661   \n",
       "4650448    HM158020  02/01/2006 08:13:00 PM  056XX W WASHINGTON BLVD  1661   \n",
       "4650940    HM156984  02/01/2006 10:10:00 AM          015XX W 72ND ST  1661   \n",
       "\n",
       "        Primary Type Description     Location Description  Arrest  Domestic  \\\n",
       "ID                                                                            \n",
       "4647776     GAMBLING   GAME/DICE                 SIDEWALK    True     False   \n",
       "4649196     GAMBLING   GAME/DICE                 SIDEWALK    True     False   \n",
       "4649661     GAMBLING   GAME/DICE                 SIDEWALK    True     False   \n",
       "4650448     GAMBLING   GAME/DICE  RESIDENCE PORCH/HALLWAY    True     False   \n",
       "4650940     GAMBLING   GAME/DICE                 SIDEWALK    True     False   \n",
       "\n",
       "         Beat  ...  Ward  Community Area  FBI Code  X Coordinate  \\\n",
       "ID             ...                                                 \n",
       "4647776   421  ...   7.0            43.0        19     1194833.0   \n",
       "4649196  1122  ...  27.0            23.0        19     1150871.0   \n",
       "4649661  1531  ...  28.0            25.0        19     1142605.0   \n",
       "4650448  1512  ...  29.0            25.0        19     1138430.0   \n",
       "4650940   734  ...  17.0            67.0        19     1167231.0   \n",
       "\n",
       "         Y Coordinate  Year              Updated On   Latitude  Longitude  \\\n",
       "ID                                                                          \n",
       "4647776     1855572.0  2006  04/15/2016 08:55:02 AM  41.758607 -87.561511   \n",
       "4649196     1903067.0  2006  04/15/2016 08:55:02 AM  41.889909 -87.721389   \n",
       "4649661     1904502.0  2006  04/15/2016 08:55:02 AM  41.894005 -87.751710   \n",
       "4650448     1900175.0  2006  04/15/2016 08:55:02 AM  41.882208 -87.767149   \n",
       "4650940     1856980.0  2006  04/15/2016 08:55:02 AM  41.763106 -87.662629   \n",
       "\n",
       "                              Location  \n",
       "ID                                      \n",
       "4647776  (41.758607126, -87.561510616)  \n",
       "4649196  (41.889909247, -87.721389051)  \n",
       "4649661   (41.89400481, -87.751710086)  \n",
       "4650448  (41.882207608, -87.767148598)  \n",
       "4650940   (41.763105901, -87.66262925)  \n",
       "\n",
       "[5 rows x 21 columns]"
      ]
     },
     "execution_count": 42,
     "metadata": {},
     "output_type": "execute_result"
    }
   ],
   "source": [
    "cc.head()"
   ]
  },
  {
   "cell_type": "markdown",
   "metadata": {},
   "source": [
    "Here are the main features' descriptions:\n",
    "- ID: the Unique Identifier of the case record\n",
    "- Case Number: the Chicago PD unique number for each case\n",
    "- Date: when the incident occured, sometimes an extimation.\n",
    "- Block: the address where the incident occured\n",
    "- IUCR: the Crime Code. All data items have 1661= Gambling\n",
    "- Desciption: the subcategory of the IUCR code\n",
    "- Domestic: if the incident was domestic-related\n",
    "- Beat: where the incident precisely occured. A beat is the smallest police area.\n",
    "- Ward: the City district"
   ]
  },
  {
   "cell_type": "code",
   "execution_count": 43,
   "metadata": {},
   "outputs": [
    {
     "data": {
      "text/plain": [
       "Case Number              object\n",
       "Date                     object\n",
       "Block                    object\n",
       "IUCR                      int64\n",
       "Primary Type             object\n",
       "Description              object\n",
       "Location Description     object\n",
       "Arrest                     bool\n",
       "Domestic                   bool\n",
       "Beat                      int64\n",
       "District                  int64\n",
       "Ward                    float64\n",
       "Community Area          float64\n",
       "FBI Code                  int64\n",
       "X Coordinate            float64\n",
       "Y Coordinate            float64\n",
       "Year                      int64\n",
       "Updated On               object\n",
       "Latitude                float64\n",
       "Longitude               float64\n",
       "Location                 object\n",
       "dtype: object"
      ]
     },
     "execution_count": 43,
     "metadata": {},
     "output_type": "execute_result"
    }
   ],
   "source": [
    "cc.dtypes"
   ]
  },
  {
   "cell_type": "markdown",
   "metadata": {},
   "source": [
    "The Date feature is a string object so we coerce it into real date and confirm by re-printing the dtypes.  \n",
    "NOTE: This is a slow process..."
   ]
  },
  {
   "cell_type": "code",
   "execution_count": 44,
   "metadata": {},
   "outputs": [
    {
     "data": {
      "text/plain": [
       "Case Number                     object\n",
       "Date                    datetime64[ns]\n",
       "Block                           object\n",
       "IUCR                             int64\n",
       "Primary Type                    object\n",
       "Description                     object\n",
       "Location Description            object\n",
       "Arrest                            bool\n",
       "Domestic                          bool\n",
       "Beat                             int64\n",
       "District                         int64\n",
       "Ward                           float64\n",
       "Community Area                 float64\n",
       "FBI Code                         int64\n",
       "X Coordinate                   float64\n",
       "Y Coordinate                   float64\n",
       "Year                             int64\n",
       "Updated On                      object\n",
       "Latitude                       float64\n",
       "Longitude                      float64\n",
       "Location                        object\n",
       "dtype: object"
      ]
     },
     "execution_count": 44,
     "metadata": {},
     "output_type": "execute_result"
    }
   ],
   "source": [
    "cc.Date = pd.to_datetime(cc.Date, errors='coerce')\n",
    "\n",
    "cc.dtypes"
   ]
  },
  {
   "cell_type": "markdown",
   "metadata": {},
   "source": [
    "Now we filter the dataframe so that we are only looking at Longitude and Latitude, since the remaining columns aren't really applicable for this purpose."
   ]
  },
  {
   "cell_type": "code",
   "execution_count": 45,
   "metadata": {},
   "outputs": [],
   "source": [
    "sliceK = cc[['Longitude', 'Latitude']]"
   ]
  },
  {
   "cell_type": "markdown",
   "metadata": {},
   "source": [
    "## K-Means\n",
    "And we use K-Means to try and find seven (an arbitrary number) cluster centers in this dataset:"
   ]
  },
  {
   "cell_type": "code",
   "execution_count": 46,
   "metadata": {},
   "outputs": [
    {
     "data": {
      "text/plain": [
       "KMeans(algorithm='auto', copy_x=True, init='random', max_iter=300, n_clusters=7,\n",
       "       n_init=10, n_jobs=None, precompute_distances='auto', random_state=None,\n",
       "       tol=0.0001, verbose=0)"
      ]
     },
     "execution_count": 46,
     "metadata": {},
     "output_type": "execute_result"
    }
   ],
   "source": [
    "model = KMeans(n_clusters=7, n_init=10, init='random')\n",
    "model.fit(sliceK)"
   ]
  },
  {
   "cell_type": "markdown",
   "metadata": {},
   "source": [
    "## Print & Plot the data\n",
    "\n",
    "we plot data with a '.' marker, with 0.3 alpha at the Longitude and Latitude locations in the dataset. Longitude = x, Latitude = y"
   ]
  },
  {
   "cell_type": "code",
   "execution_count": 47,
   "metadata": {},
   "outputs": [
    {
     "data": {
      "image/png": "[encoded data removed]",
      "text/plain": [
       "<Figure size 432x288 with 1 Axes>"
      ]
     },
     "metadata": {
      "needs_background": "light"
     },
     "output_type": "display_data"
    }
   ],
   "source": [
    "fig = plt.figure()\n",
    "ax = fig.add_subplot(111)\n",
    "ax.scatter(cc.Longitude, cc.Latitude, marker='.', alpha=0.3)\n",
    "\n",
    "  # Print and plot the centroids...\n",
    "centroids = model.cluster_centers_\n",
    "\n",
    "ax.scatter(centroids[:,0], centroids[:,1], marker='x', c='red', alpha=0.5,\n",
    "             linewidths=3, s=169);"
   ]
  },
  {
   "cell_type": "code",
   "execution_count": 48,
   "metadata": {},
   "outputs": [
    {
     "data": {
      "text/plain": [
       "array([[-87.68494997,  41.98181682],\n",
       "       [-87.5825976 ,  41.75264622],\n",
       "       [-87.66467376,  41.77284531],\n",
       "       [-87.61949733,  41.80348972],\n",
       "       [-87.75689624,  41.89345733],\n",
       "       [-87.70950912,  41.87812815],\n",
       "       [-87.63118325,  41.69665341]])"
      ]
     },
     "execution_count": 48,
     "metadata": {},
     "output_type": "execute_result"
    }
   ],
   "source": [
    "centroids"
   ]
  },
  {
   "cell_type": "markdown",
   "metadata": {},
   "source": [
    "Filter out the data so that it only contains samples that have a Date > '2011-01-01', using indexing. Then, in a new figure, plot the crime incidents, as well as a new K-Means run's centroids."
   ]
  },
  {
   "cell_type": "code",
   "execution_count": 49,
   "metadata": {},
   "outputs": [],
   "source": [
    "cc2011 = cc[cc.Date > '2011-01-01']\n"
   ]
  },
  {
   "cell_type": "code",
   "execution_count": 50,
   "metadata": {},
   "outputs": [
    {
     "data": {
      "text/plain": [
       "KMeans(algorithm='auto', copy_x=True, init='random', max_iter=300, n_clusters=7,\n",
       "       n_init=10, n_jobs=None, precompute_distances='auto', random_state=None,\n",
       "       tol=0.0001, verbose=0)"
      ]
     },
     "execution_count": 50,
     "metadata": {},
     "output_type": "execute_result"
    }
   ],
   "source": [
    "  # Filter dataframe so that we're only looking at Longitude and Latitude\n",
    "  #\n",
    "sliceK = cc2011[['Longitude', 'Latitude']]\n",
    "\n",
    "\n",
    "  #\n",
    "  # Use K-Means to try and find seven cluster centers in this df.\n",
    "  #\n",
    "\n",
    "model = KMeans(n_clusters=7, n_init=10, init='random')\n",
    "model.fit(sliceK)"
   ]
  },
  {
   "cell_type": "code",
   "execution_count": 51,
   "metadata": {},
   "outputs": [
    {
     "data": {
      "image/png": "[encoded data removed]",
      "text/plain": [
       "<Figure size 432x288 with 1 Axes>"
      ]
     },
     "metadata": {
      "needs_background": "light"
     },
     "output_type": "display_data"
    }
   ],
   "source": [
    "  # Plot data with a '.' marker, with 0.3 alpha at the Longitude,\n",
    "  # and Latitude locations in your dataset. Longitude = x, Latitude = y\n",
    "fig = plt.figure()\n",
    "ax = fig.add_subplot(111)\n",
    "ax.scatter(cc2011.Longitude, cc2011.Latitude, marker='.', alpha=0.3)\n",
    "\n",
    "  #\n",
    "  # Print and plot the centroids...\n",
    "centroids = model.cluster_centers_\n",
    "\n",
    "ax.scatter(centroids[:,0], centroids[:,1], marker='x', c='red', alpha=0.5,\n",
    "             linewidths=3, s=169);"
   ]
  },
  {
   "cell_type": "code",
   "execution_count": 52,
   "metadata": {},
   "outputs": [
    {
     "data": {
      "text/plain": [
       "array([[-87.67743147,  41.96953954],\n",
       "       [-87.66411799,  41.77626655],\n",
       "       [-87.61792341,  41.79287838],\n",
       "       [-87.71218464,  41.87450871],\n",
       "       [-87.63498732,  41.70529706],\n",
       "       [-87.580749  ,  41.75078115],\n",
       "       [-87.75519682,  41.89024792]])"
      ]
     },
     "execution_count": 52,
     "metadata": {},
     "output_type": "execute_result"
    }
   ],
   "source": [
    "centroids"
   ]
  },
  {
   "cell_type": "markdown",
   "metadata": {},
   "source": [
    "# Conclusions\n",
    "Unsupervised learning is important for understanding the variation and grouping structure of a set of unlabeled data, and can be a useful pre-processor for supervised learning.  \n",
    "\n",
    "It is intrinsically more difficult than supervised learning because there is no gold standard (like an outcome variable) and no single objective (like test set accuracy).  \n",
    "It is an active field of research, with many recently developed tools such as self-organizing maps, independent components analysis and spectral clustering.  \n",
    "A good overview is the book *Elements of Statistical Learning*, chapter 14."
   ]
  },
  {
   "cell_type": "markdown",
   "metadata": {},
   "source": [
    "## Practical issues\n",
    "- Scaling of the variables matters!  \n",
    "Should the observations or features first be standardized in some way? For instance, maybe the variables should be centered to have mean zero and scaled to have standard deviation one. you can try the differences when scaling or not via the second example.  \n",
    "- How many clusters to choose? (K number).  \n",
    "This is a difficult problem and there is no agreed-upon method. Much is left to domain-expertise and own judgement.  \n",
    "Sometimes you are running K-means to get clusters to use for some later / downstream purpose. In this case, you evaluate K-means based on a metric for how well it performs for that later purpose.  \n",
    "A good method is the *Elbow method*:  \n",
    "you measure the cost function for an increasing number of cluster, starting from K=1.  \n",
    "Plotting the results you can see that the cost function is maximum for K=1, then it decreases for each higher K but it slows down, until for a certain K the decrease is very minimal. This is the *elbow* point and could be considered a good compromise for the number of clusters: it minimises the cost function without having too many clusters.  \n",
    "A similar problem is which features to use to drive the clustering?  \n",
    "See Elements of Statistical Learning, chapter 13 for more details."
   ]
  }
 ],
 "metadata": {
  "kernelspec": {
   "display_name": "Python [conda env:DataScience]",
   "language": "python",
   "name": "conda-env-DataScience-py"
  },
  "language_info": {
   "codemirror_mode": {
    "name": "ipython",
    "version": 3
   },
   "file_extension": ".py",
   "mimetype": "text/x-python",
   "name": "python",
   "nbconvert_exporter": "python",
   "pygments_lexer": "ipython3",
   "version": "3.7.7"
  }
 },
 "nbformat": 4,
 "nbformat_minor": 2
}
